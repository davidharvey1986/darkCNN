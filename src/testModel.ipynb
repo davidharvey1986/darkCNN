{
 "cells": [
  {
   "cell_type": "code",
   "execution_count": 1,
   "metadata": {},
   "outputs": [],
   "source": [
    "%load_ext autoreload\n",
    "%autoreload 2"
   ]
  },
  {
   "cell_type": "code",
   "execution_count": 2,
   "metadata": {},
   "outputs": [],
   "source": [
    "from globalVariables import *"
   ]
  },
  {
   "cell_type": "code",
   "execution_count": 11,
   "metadata": {},
   "outputs": [],
   "source": [
    "from augmentData import augmentData"
   ]
  },
  {
   "cell_type": "code",
   "execution_count": 15,
   "metadata": {},
   "outputs": [],
   "source": [
    "from mainModel import mainModel\n",
    "import yaml, h5py"
   ]
  },
  {
   "cell_type": "code",
   "execution_count": 25,
   "metadata": {},
   "outputs": [
    {
     "name": "stdout",
     "output_type": "stream",
     "text": [
      "1200\n",
      "nTests is 180\n",
      "1200\n",
      "nTests is 180\n",
      "1200\n",
      "nTests is 180\n",
      "1200\n",
      "nTests is 180\n"
     ]
    }
   ],
   "source": [
    "    iMonte=0\n",
    "    testTrainSplit=0.15\n",
    "    \n",
    "    (train_images, att_train, train_labels), testSets = getData( binning=20, testTrainSplit=testTrainSplit,  \\\n",
    "                           indexFileRoot='pickles/testIndexes_%i' % (iMonte))\n",
    "\n",
    "    test_labels, test_images = None, None\n",
    "    for i in testSets.keys():\n",
    "        if test_labels is None:\n",
    "            test_images = testSets[i]['images']\n",
    "            test_labels = testSets[i]['labels']\n",
    "        else:\n",
    "            test_labels = np.vstack((test_labels, testSets[i]['labels']))\n",
    "            test_images = np.vstack((test_images, testSets[i]['images']))"
   ]
  },
  {
   "cell_type": "code",
   "execution_count": 22,
   "metadata": {},
   "outputs": [],
   "source": [
    "train, labels = augmentData( train_images, train_labels)"
   ]
  },
  {
   "cell_type": "code",
   "execution_count": 23,
   "metadata": {},
   "outputs": [
    {
     "data": {
      "text/plain": [
       "(61200, 100, 100, 2)"
      ]
     },
     "execution_count": 23,
     "metadata": {},
     "output_type": "execute_result"
    }
   ],
   "source": [
    "train.shape"
   ]
  },
  {
   "cell_type": "code",
   "execution_count": 13,
   "metadata": {},
   "outputs": [
    {
     "name": "stdout",
     "output_type": "stream",
     "text": [
      "23/23 [==============================] - 49s 2s/step - loss: 1.0231 - accuracy: 0.5491\n"
     ]
    },
    {
     "data": {
      "text/plain": [
       "[1.0230653285980225, 0.5491009950637817]"
      ]
     },
     "execution_count": 13,
     "metadata": {},
     "output_type": "execute_result"
    }
   ],
   "source": [
    "mertensModel.evaluate( test_images, test_labels)"
   ]
  },
  {
   "cell_type": "code",
   "execution_count": 18,
   "metadata": {},
   "outputs": [
    {
     "data": {
      "text/plain": [
       "array([0, 1, 1, 1, 2, 0, 1, 0, 2, 1, 0, 0, 0, 0, 0, 1, 2, 2, 0, 0, 1, 1,\n",
       "       0, 0, 0, 0, 1, 1, 0, 1, 0, 1, 0, 1, 0, 0, 2, 0, 1, 0, 0, 0, 1, 1,\n",
       "       0, 1, 1, 0, 0, 0, 0, 0, 0, 3, 0, 1, 0, 1, 0, 1, 0, 0, 1, 1, 1, 0,\n",
       "       0, 1, 0, 0, 0, 0, 0, 0, 0, 0, 0, 0, 1, 1, 0, 0, 0, 1, 1, 0, 1, 1,\n",
       "       1, 1, 0, 0, 0, 1, 0, 1, 0, 1, 0, 0, 0, 1, 1, 1, 1, 0, 1, 0, 0, 0,\n",
       "       0, 0, 0, 0, 0, 0, 0, 0, 0, 0, 0, 1, 1, 1, 0, 0, 0, 1, 0, 1, 1, 0,\n",
       "       1, 0, 0, 1, 1, 1, 2, 1, 1, 0, 0, 1, 0, 1, 0, 0, 0, 1, 0, 1, 2, 1,\n",
       "       0, 0, 0, 0, 0, 0, 1, 1, 0, 0, 0, 0, 0, 1, 0, 1, 0, 0, 1, 0, 0, 1,\n",
       "       1])"
      ]
     },
     "execution_count": 18,
     "metadata": {},
     "output_type": "execute_result"
    }
   ],
   "source": [
    "prediction[test_labels[:,0]==i]"
   ]
  },
  {
   "cell_type": "code",
   "execution_count": 6,
   "metadata": {},
   "outputs": [
    {
     "name": "stdout",
     "output_type": "stream",
     "text": [
      "1200\n",
      "nTests is 180\n",
      "1200\n",
      "nTests is 180\n",
      "1200\n",
      "nTests is 180\n",
      "1200\n",
      "nTests is 180\n",
      "1200\n",
      "nTests is 180\n",
      "1200\n",
      "nTests is 180\n"
     ]
    },
    {
     "data": {
      "image/png": "[encoded data removed]",
      "text/plain": [
       "<Figure size 1800x360 with 20 Axes>"
      ]
     },
     "metadata": {
      "needs_background": "light"
     },
     "output_type": "display_data"
    }
   ],
   "source": [
    "fig, ax = plt.subplots(4,5, figsize=(25,5))\n",
    "\n",
    "for iMonte in range(2):\n",
    "    \n",
    "    testTrainSplit=0.15\n",
    "    \n",
    "    (train_images, att_train, train_labels), testSets = getData( binning=20, testTrainSplit=testTrainSplit,  \\\n",
    "                           indexFileRoot='pickles/testIndexes_%i' % (iMonte), nChannels=iMonte+1,\\\n",
    "                                                                models=['CDM','SIDM0.1','SIDM0.3'])\n",
    "\n",
    "    test_labels, test_images = None, None\n",
    "    for i in testSets.keys():\n",
    "        if test_labels is None:\n",
    "            test_images = testSets[i]['images']\n",
    "            test_labels = testSets[i]['labels']\n",
    "        else:\n",
    "            test_labels = np.vstack((test_labels, testSets[i]['labels']))\n",
    "            test_images = np.vstack((test_images, testSets[i]['images']))\n",
    "\n",
    "        \n",
    "    mertensModel = models.load_model(\"pickles/augmentedTrain_%i_channel_noAtt_dropout_0.2_testSplit_0.150_0.h5\" % (iMonte+1))\n",
    "\n",
    "    prediction = np.argmax(mertensModel.predict(test_images),axis=1)\n",
    "\n",
    "    for axis, i in enumerate(np.unique(test_labels)):\n",
    "        ax[axis, iMonte].hist(prediction[test_labels[:,0]==i], bins=np.linspace(-0.5,3.5,8), density=True)\n",
    "        ax[axis, iMonte].set_xlim(-1,4)\n",
    "        acc = np.where(prediction[test_labels[:,0]==i]==i)[0].shape[0]/prediction[test_labels[:,0]==i].shape[0]\n",
    "        ax[axis, iMonte].text(0.6, 0.8, \"Class %i=%0.2f\" % (i,acc), transform=ax[axis,iMonte].transAxes, fontsize=15)\n",
    "        if i != len(ax)-1:\n",
    "            ax[axis, iMonte].set_xticklabels([])\n",
    "            ax[axis, iMonte].set_yticklabels([])\n",
    "    \n",
    "fig.subplots_adjust(hspace=0)"
   ]
  },
  {
   "cell_type": "code",
   "execution_count": null,
   "metadata": {},
   "outputs": [],
   "source": [
    "epoch, accuracy, loss, val_accuracy, val_loss = \\\n",
    "    np.loadtxt( \"pickles/mertensModel_dropout_0.2_testSplit_0.1_1.csv\", delimiter=',',skiprows=1,unpack=True)"
   ]
  },
  {
   "cell_type": "code",
   "execution_count": null,
   "metadata": {},
   "outputs": [],
   "source": [
    "plt.plot(epoch,loss)\n",
    "plt.plot(epoch,val_loss)\n",
    "plt.plot(epoch,accuracy)\n",
    "plt.plot(epoch,val_accuracy)\n",
    "plt.ylim(0,1)"
   ]
  },
  {
   "cell_type": "code",
   "execution_count": null,
   "metadata": {},
   "outputs": [],
   "source": [
    "prediction = mertensModel.predict(test_images)"
   ]
  },
  {
   "cell_type": "code",
   "execution_count": null,
   "metadata": {},
   "outputs": [],
   "source": [
    "allPrediction  = np.argmax( prediction, axis=1)"
   ]
  },
  {
   "cell_type": "code",
   "execution_count": null,
   "metadata": {},
   "outputs": [],
   "source": [
    "fig, ax = plt.subplots(4,1)\n",
    "cross = np.array([0., 0.1, 0.3, 1.0])\n",
    "labels = np.arange(4)+1\n",
    "for axis, i in enumerate(cross):\n",
    "    \n",
    "    \n",
    "    ax[axis].hist(allPrediction[test_labels[:,0]==axis], bins=np.linspace(-0.5,3.5,5))\n",
    "    ax[axis].set_xlim(-1,5.)\n",
    "    print(len(allPrediction[test_labels[:,0]==axis][allPrediction[test_labels[:,0]==axis] == axis]))"
   ]
  },
  {
   "cell_type": "code",
   "execution_count": null,
   "metadata": {},
   "outputs": [],
   "source": [
    "#Add a dense layer for regression to the model\n",
    "inputLayerFromCNN = Input(shape=mertensModel.output.shape)\n",
    "regressorLayer = layers.BatchNormalization()(inputLayerFromCNN)\n",
    "regressorLayer = layers.Dense(128)(regressorLayer)\n",
    "regressorLayer = layers.BatchNormalization()(regressorLayer)\n",
    "regressorLayer = layers.Dense(1)(regressorLayer)\n",
    "finalModel = Model(inputLayerFromCNN, regressorLayer, name='regressorLayer')\n",
    "finalModel.compile(optimizer=tf.keras.optimizers.RMSprop(learning_rate=0.00001, centered=True),\n",
    "              loss=['mean_squared_error'])"
   ]
  },
  {
   "cell_type": "code",
   "execution_count": null,
   "metadata": {},
   "outputs": [],
   "source": [
    "trainPredictions = mertensModel.predict(train_images)"
   ]
  },
  {
   "cell_type": "code",
   "execution_count": null,
   "metadata": {},
   "outputs": [],
   "source": [
    "shiftedPredictions = trainPredictions - np.min(trainPredictions, axis=1)[:,np.newaxis]\n",
    "normedTrainPredictions = shiftedPredictions / np.sum(shiftedPredictions, axis=1)[:,np.newaxis]"
   ]
  },
  {
   "cell_type": "code",
   "execution_count": null,
   "metadata": {},
   "outputs": [],
   "source": [
    "train_labels[ train_labels==0] = 0\n",
    "train_labels[ train_labels==1] = 0.1\n",
    "train_labels[ train_labels==2] = 0.3\n",
    "train_labels[ train_labels==3] = 1.\n"
   ]
  },
  {
   "cell_type": "code",
   "execution_count": null,
   "metadata": {},
   "outputs": [],
   "source": [
    "test_labels[ test_labels==0] = 0\n",
    "test_labels[ test_labels==1] = 0.1\n",
    "test_labels[ test_labels==2] = 0.3\n",
    "test_labels[ test_labels==3] = 1."
   ]
  },
  {
   "cell_type": "code",
   "execution_count": null,
   "metadata": {},
   "outputs": [],
   "source": [
    "inceptionHistory = finalModel.fit(trainPredictions[:,np.newaxis,:], \n",
    "          train_labels,  \n",
    "          epochs=100, validation_data=(prediction[:,np.newaxis,:], test_labels ))"
   ]
  },
  {
   "cell_type": "code",
   "execution_count": null,
   "metadata": {},
   "outputs": [],
   "source": [
    "plt.plot(inceptionHistory.history['loss'])\n",
    "plt.plot(inceptionHistory.history['val_loss'])"
   ]
  },
  {
   "cell_type": "code",
   "execution_count": null,
   "metadata": {},
   "outputs": [],
   "source": [
    "regression = finalModel.predict(prediction[:,np.newaxis,:] )"
   ]
  },
  {
   "cell_type": "code",
   "execution_count": null,
   "metadata": {},
   "outputs": [],
   "source": [
    "fig, ax = plt.subplots(4,1)\n",
    "cross = np.array([0., 0.1, 0.3, 1.0])\n",
    "labels = np.arange(4)+1\n",
    "for axis, i in enumerate(cross):\n",
    "    y, x = np.histogram(regression[test_labels[:,0]==i,0,0], bins=np.linspace(-1.5,5.5,100), density=True)\n",
    "    xc = (x[1:] + x[:-1])/2.\n",
    "    ax[axis].plot( xc, y)\n",
    "    ax[axis].plot( [i,i],[0,1])\n",
    "    ax[axis].set_xlim(-1,2.)\n"
   ]
  },
  {
   "cell_type": "code",
   "execution_count": 12,
   "metadata": {},
   "outputs": [
    {
     "data": {
      "text/plain": [
       "<matplotlib.legend.Legend at 0x7fe8fde63dd0>"
      ]
     },
     "execution_count": 12,
     "metadata": {},
     "output_type": "execute_result"
    },
    {
     "data": {
      "image/png": "[encoded data removed]",
      "text/plain": [
       "<Figure size 360x720 with 2 Axes>"
      ]
     },
     "metadata": {
      "needs_background": "light"
     },
     "output_type": "display_data"
    }
   ],
   "source": [
    "color = ['r','b','g','c','orange']\n",
    "fig, axarr = plt.subplots( 2,1, figsize=(5,10))\n",
    "for i in range(3):\n",
    "    csvLogger = \"pickles/augmentedTrain_%i_channel_noAtt_dropout_0.2_testSplit_0.150_0.csv\" % (i+1)\n",
    "    csvFile = np.loadtxt( csvLogger, delimiter=',', \n",
    "                    dtype=[('epoch', object), ('accuracy', float), \n",
    "                    ('loss', float), ('val_accuracy',float),('val_loss', float)], skiprows=1)\n",
    "    \n",
    "   # plt.plot(csvFile['epoch'], csvFile['val_loss'], color=color[i])\n",
    "    axarr[0].plot(csvFile['epoch'], csvFile['val_accuracy'], color=color[i], label=i)\n",
    "    axarr[0].plot(csvFile['epoch'], csvFile['accuracy'], color=color[i])\n",
    "    axarr[1].plot(csvFile['epoch'], csvFile['val_loss'], color=color[i])\n",
    "    axarr[1].plot(csvFile['epoch'], csvFile['loss'], color=color[i])\n",
    "axarr[0].legend()\n"
   ]
  },
  {
   "cell_type": "code",
   "execution_count": null,
   "metadata": {},
   "outputs": [],
   "source": []
  }
 ],
 "metadata": {
  "kernelspec": {
   "display_name": "tensorflow",
   "language": "python",
   "name": "tensorflow"
  },
  "language_info": {
   "codemirror_mode": {
    "name": "ipython",
    "version": 3
   },
   "file_extension": ".py",
   "mimetype": "text/x-python",
   "name": "python",
   "nbconvert_exporter": "python",
   "pygments_lexer": "ipython3",
   "version": "3.7.11"
  }
 },
 "nbformat": 4,
 "nbformat_minor": 4
}
