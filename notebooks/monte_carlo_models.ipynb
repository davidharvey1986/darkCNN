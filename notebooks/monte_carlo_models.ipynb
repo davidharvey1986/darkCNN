{
 "cells": [
  {
   "cell_type": "markdown",
   "id": "233bc49e-7e60-478f-9152-dcd2838a258f",
   "metadata": {},
   "source": [
    "## Monte carlo the models"
   ]
  },
  {
   "cell_type": "code",
   "execution_count": 189,
   "id": "bcea93be-93fa-4409-8fb6-08f38a2ba63f",
   "metadata": {
    "tags": []
   },
   "outputs": [
    {
     "name": "stdout",
     "output_type": "stream",
     "text": [
      "The autoreload extension is already loaded. To reload it, use:\n",
      "  %reload_ext autoreload\n"
     ]
    }
   ],
   "source": [
    "%load_ext autoreload\n",
    "%autoreload 2"
   ]
  },
  {
   "cell_type": "code",
   "execution_count": 190,
   "id": "0e7427f1-f7a9-4003-9664-6a07a3d9fb37",
   "metadata": {
    "tags": []
   },
   "outputs": [],
   "source": [
    "from globalVariables import *\n",
    "import simpleCNNwithInception as inceptionCNN\n",
    "import simpleCNN as simpleCNN\n",
    "import simpleCNNwithInceptionRegression as regressor\n",
    "from keras.callbacks import CSVLogger\n",
    "from scipy.ndimage import rotate\n",
    "from tools import plot_confusion_matrix\n",
    "from getSIDMdata_generator_meta import get_tf_DataSet as getGenerators\n",
    "from tqdm import tqdm\n",
    "import pickle as pkl\n",
    "from scipy.stats import norm\n",
    "import sys\n",
    "import mertens_models as mertens\n",
    "from matplotlib.gridspec import GridSpec\n",
    "import scienceplots\n",
    "from tools import get_best_model,get_predictions_per_subset\n",
    "plt.style.use([\"science\", \"grid\"])"
   ]
  },
  {
   "cell_type": "code",
   "execution_count": 194,
   "id": "fbb77a21-547a-40bb-ac19-beb92cb4a8c0",
   "metadata": {
    "tags": []
   },
   "outputs": [],
   "source": [
    "#Numbers that define how long this script takes -\n",
    "epochs = 80 # Epochs for each model to train\n",
    "monte_carlo = 20 # Number of shuffles of the training / test set and retrains"
   ]
  },
  {
   "cell_type": "code",
   "execution_count": 215,
   "id": "22b500dd-25f7-4785-9207-0ce08ec5a72d",
   "metadata": {
    "tags": []
   },
   "outputs": [],
   "source": [
    "nDM_Models = 5 #Number of classifications in the model\n",
    "if os.path.isfile(\"pickles/final_model.pkl\"):\n",
    "    all_probs, prob_sidm0_3, monte_carlo_histories = pkl.load(open(\"pickles/final_model.pkl\",\"rb\"))\n",
    " "
   ]
  },
  {
   "cell_type": "markdown",
   "id": "4b6c0afb-0dad-411f-a21b-d858ed7d1140",
   "metadata": {},
   "source": [
    "#### Train many models with differeing random states to get variance in model."
   ]
  },
  {
   "cell_type": "code",
   "execution_count": 222,
   "id": "daede092-29a7-47ff-846a-11d334ea9c72",
   "metadata": {
    "tags": []
   },
   "outputs": [],
   "source": [
    "all_probs, prob_sidm0_3, monte_carlo_histories = pkl.load(open(\"pickles/final_inception_model.pkl\",\"rb\"))"
   ]
  },
  {
   "cell_type": "code",
   "execution_count": null,
   "id": "03a26086-7b47-4c63-9882-689b923a71c4",
   "metadata": {
    "tags": []
   },
   "outputs": [],
   "source": [
    "model_name = 'inception'\n",
    "monte_carlo_tests = [] #A record of the test sets used\n",
    "monte_carlo_histories = [] #A record of the histories of the modelling\n",
    "all_probs = [] #A record of the probabilities predicted for the test set\n",
    "prob_sidm0_3 = [] # A record of the probabilities predicted for SIDM 0.3 test set\n",
    "simulationNames = ['CDM','SIDM0.1','SIDM1']\n",
    "nDM_Models = len(simulationNames)\n",
    "\n",
    "for i in tqdm(range(monte_carlo)):\n",
    "    train, test = getGenerators(augment_data=True, simulationNames=simulationNames, \n",
    "                                                      channels=['total','stellar','xray'], \n",
    "                                                      allDataFile='pickles/binned_data_20.pkl', random_state=i)\n",
    "   \n",
    "    checkpoint_filepath = 'models/%s/%i' % (model_name, i)\n",
    "  \n",
    "    model = get_best_model( train, test, model_name=model_name, checkpoint_filepath=checkpoint_filepath, epochs=epochs)\n",
    "    \n",
    "    monte_carlo_tests.append( test )\n",
    "    monte_carlo_histories.append( model.history.history )\n",
    "    \n",
    "    iDM_model_probs = [] \n",
    "    for iDM_model in range(nDM_Models):\n",
    "        this_dm_model_test_feat = test[0][ test[1] == iDM_model ]\n",
    "        this_dm_model_test_labels = test[1][ test[1] == iDM_model ]\n",
    "\n",
    "        \n",
    "        iDM_model_probs.append(model.predict( this_dm_model_test_feat, verbose=0 ))\n",
    "    all_probs.append(iDM_model_probs)\n",
    "    \n",
    "    train, test = getGenerators(augment_data=True, simulationNames=['SIDM0.3'], train_split=0.01, \n",
    "                                                      channels=['total','stellar','xray'], \n",
    "                                                      allDataFile='pickles/binned_data_20.pkl', random_state=i)\n",
    "    \n",
    "    prob_sidm0_3.append(model.predict( test[0], verbose=0 ))\n",
    "    \n",
    "all_probs = np.array(all_probs)\n",
    "prob_sidm0_3 = np.array(prob_sidm0_3)\n",
    "\n",
    "pkl.dump([all_probs, prob_sidm0_3, monte_carlo_histories], open(\"pickles/final_model_%s.pkl\" % model_name,\"wb\"))"
   ]
  },
  {
   "cell_type": "code",
   "execution_count": 197,
   "id": "ffb84d7e-133b-425f-9bb2-cecb3f9d5831",
   "metadata": {
    "tags": []
   },
   "outputs": [],
   "source": [
    "#all_probs = np.array(all_probs)\n",
    "#prob_sidm0_3 = np.array(prob_sidm0_3)\n",
    "\n",
    "pkl.dump([all_probs, prob_sidm0_3, monte_carlo_histories], open(\"pickles/final_model_%s_again.pkl\" % model_name,\"wb\"))"
   ]
  },
  {
   "cell_type": "markdown",
   "id": "0bc29d94-5362-4c92-a039-d82ff7856adc",
   "metadata": {},
   "source": [
    "#### Now see the distribution of probabilities for cluster for each model - not really fair since i trian on these and they are far apart."
   ]
  },
  {
   "cell_type": "code",
   "execution_count": 83,
   "id": "ad5e955d-45f2-4e90-b2cd-b59785ce5604",
   "metadata": {
    "tags": []
   },
   "outputs": [
    {
     "name": "stdout",
     "output_type": "stream",
     "text": [
      "0.0004646449683090516 0.0019426901519714506\n",
      "0.09354155663171616 0.004816142992836955\n",
      "0.9999999999974882 4.168007983389203e-07\n"
     ]
    },
    {
     "data": {
      "image/png": "[encoded data removed]",
      "text/plain": [
       "<Figure size 350x262.5 with 1 Axes>"
      ]
     },
     "metadata": {},
     "output_type": "display_data"
    }
   ],
   "source": [
    "c = ['r','b','g','c','purple']\n",
    "\n",
    "nDM_Models = all_probs.shape[1]\n",
    "  \n",
    "n_samples_per_subset = 10  \n",
    "ax = plt.gca()\n",
    "\n",
    "stds = []\n",
    "for iDM_model in range(nDM_Models):\n",
    "       \n",
    "    these_probs = np.exp(all_probs[:,iDM_model,:,:])\n",
    "    these_probs = these_probs/np.sum(these_probs,axis=-1)[:,:,np.newaxis]  \n",
    "\n",
    "    prediction = get_predictions_per_subset( these_probs, n_samples_per_subset,  cross_sections=[0.0,0.1,1.0])\n",
    "\n",
    "    #ax.hist(prediction, color=c[iTelescope], alpha=0.5, density=True, bins=np.linspace(0.,0.5,10))\n",
    "    \n",
    "    mean = np.median(prediction)\n",
    "    std = np.std(prediction)\n",
    "    print(mean,std)\n",
    "    stds.append(std)\n",
    "    x = np.logspace(-5,0.5,1000)\n",
    "    pdf = norm.pdf(x, mean, std)\n",
    "    ax.plot(x, pdf, color=c[iDM_model])\n",
    "    \n",
    "\n",
    "    #ax.plot([mean-std,mean-std],[0,ylims[1]*1.1],'--', color=c[iTelescope])\n",
    "    #ax.plot([mean,mean],[0,ylims[1]*1.1],'--', color=c[iTelescope])\n",
    "    #ax.plot([mean+std,mean+std],[0,ylims[1]*1.1],'--', color=c[iTelescope])\n",
    "    ax.fill_between( x[ (x > mean-std) & (x < mean+std) ], \n",
    "                    np.zeros(len(x[ (x > mean-std) & (x < mean+std) ])),\n",
    "                    pdf[ (x > mean-std) & (x < mean+std) ], color=c[iDM_model], alpha=0.1)\n",
    "    ax.plot( [mean-std,mean-std],[0,norm.pdf(mean-std, mean, std)], '-',color=c[iDM_model], label='Sample Size: %i' % n_samples_per_subset )\n",
    "    ax.plot( [mean+std,mean+std],[0,norm.pdf(mean+std, mean, std)], '-',color=c[iDM_model])\n",
    "\n",
    "ax.set_xlim(-0.1,1.5)\n",
    "#ax.set_xticks(np.linspace(0,0.5,6))\n",
    "#ax.set_xscale('log')\n",
    "ax.plot([0.3,0.3],[0,12],'k-',label='Blind Truth')\n",
    "ax.legend(loc=2)\n",
    "plt.savefig(\"../plots/dm_models_blind_test.pdf\")"
   ]
  },
  {
   "cell_type": "markdown",
   "id": "69b49956-22d8-49d8-967c-8848bead2642",
   "metadata": {
    "tags": []
   },
   "source": [
    "#### Now look at how well it does at guessing SIDM0.3!"
   ]
  },
  {
   "cell_type": "code",
   "execution_count": 217,
   "id": "c6309e58-c2f2-4dc4-ae89-f89019db3031",
   "metadata": {
    "tags": []
   },
   "outputs": [
    {
     "data": {
      "text/plain": [
       "(20, 1188, 5)"
      ]
     },
     "execution_count": 217,
     "metadata": {},
     "output_type": "execute_result"
    }
   ],
   "source": [
    "these_probs.shape"
   ]
  },
  {
   "cell_type": "code",
   "execution_count": 230,
   "id": "666242dc-0b33-4781-b259-13d341174957",
   "metadata": {
    "tags": []
   },
   "outputs": [
    {
     "name": "stdout",
     "output_type": "stream",
     "text": [
      "PDFCROP 1.40, 2020/06/06 - Copyright (c) 2002-2020 by Heiko Oberdiek, Oberdiek Package Support Group.\n",
      "==> 1 page written on `../plots/sidm_0p3_blind_test.pdf'.\n"
     ]
    },
    {
     "data": {
      "text/plain": [
       "0"
      ]
     },
     "execution_count": 230,
     "metadata": {},
     "output_type": "execute_result"
    },
    {
     "data": {
      "image/png": "[encoded data removed]",
      "text/plain": [
       "<Figure size 500x500 with 2 Axes>"
      ]
     },
     "metadata": {},
     "output_type": "display_data"
    }
   ],
   "source": [
    "plt.figure(figsize=(5,5))\n",
    "gs = GridSpec(20,1)\n",
    "\n",
    "ax = plt.subplot(gs[:14,0])\n",
    "c = ['r','b','g','c']\n",
    "stds = []\n",
    "cross_sections = np.array([0.,0.1,1.0])\n",
    "for iTelescope, n_samples_per_subset in enumerate([ 10, 100, 1000]):\n",
    "   \n",
    "    these_probs = np.exp(prob_sidm0_3)\n",
    "    these_probs = these_probs/np.sum(these_probs,axis=-1)[:,:,np.newaxis]\n",
    "\n",
    "\n",
    "    prediction,err = get_predictions_per_subset( these_probs, n_samples_per_subset,  \n",
    "                                                cross_sections=cross_sections)\n",
    "\n",
    "    #ax.hist(prediction, color=c[iTelescope], alpha=0.5, density=True, bins=np.linspace(0.,0.5,10))\n",
    "    \n",
    "    mean = np.nanmedian(prediction)\n",
    "    std =  np.nanmean(err) #np.std(prediction)/np.sqrt(n_samples_per_subset)\n",
    "    stds.append(std)\n",
    "\n",
    "    x = np.linspace(0.,0.7,1000)\n",
    "    pdf = norm.pdf(x, mean, std)\n",
    "    ax.plot(x, pdf, color=c[iTelescope])\n",
    "    \n",
    "    if iTelescope == 0:\n",
    "        ylims = ax.get_ylim()\n",
    "    #ax.plot([mean-std,mean-std],[0,ylims[1]*1.1],'--', color=c[iTelescope])\n",
    "    #ax.plot([mean,mean],[0,ylims[1]*1.1],'--', color=c[iTelescope])\n",
    "    #ax.plot([mean+std,mean+std],[0,ylims[1]*1.1],'--', color=c[iTelescope])\n",
    "    ax.fill_between( x[ (x > mean-std) & (x < mean+std) ], \n",
    "                   np.zeros(len(x[ (x > mean-std) & (x < mean+std) ])),\n",
    "                    pdf[ (x > mean-std) & (x < mean+std) ], color=c[iTelescope], alpha=0.1)\n",
    "    ax.plot( [mean-std,mean-std],[0,norm.pdf(mean-std, mean, std)], '-',color=c[iTelescope], label='Sample Size: %i' % n_samples_per_subset )\n",
    "    ax.plot( [mean+std,mean+std],[0,norm.pdf(mean+std, mean, std)], '-',color=c[iTelescope])\n",
    "subsets = np.logspace(1,2.5,20)\n",
    "stds = [ np.nanmean(  get_predictions_per_subset( these_probs, int(i),  cross_sections=cross_sections)[1]) for i in subsets ]\n",
    "ax1 = plt.subplot(gs[16:,0])\n",
    "ax1.set_yscale('log')\n",
    "\n",
    "ax1.plot(subsets, stds)\n",
    "\n",
    "ax1.set_xlabel('Sample Size',fontsize=12)\n",
    "ax1.set_ylabel('Error in $\\sigma_{\\\\rm DM}$',fontsize=12)\n",
    "ax1.set_xscale('log')\n",
    "\n",
    "\n",
    "ax.set_ylim(0,ax.get_ylim()[1])\n",
    "ax.set_xlim(0.1,0.7)\n",
    "\n",
    "#ax.set_xticks(np.linspace(0,0.5,6))\n",
    "#ax.set_xscale('log')\n",
    "#ax.plot([0.3,0.3],[0,12],'k-',label='Blind Truth')\n",
    "ax.legend(loc=1)\n",
    "ax.set_ylim(0,ax.get_ylim()[1])\n",
    "ax.set_xlabel(r'$\\sigma_{\\rm DM}/m$ [cm$^2$/g]',fontsize=12)\n",
    "ax.set_ylabel(r'$p(\\sigma_{\\rm DM}/m)$',fontsize=12)\n",
    "filename = \"../plots/sidm_0p3_blind_test.pdf\"\n",
    "plt.savefig(filename)\n",
    "os.system(\"pdfcrop %s %s\" % (filename, filename))"
   ]
  },
  {
   "cell_type": "markdown",
   "id": "f9429f20-3426-4827-86ef-ae52e628882a",
   "metadata": {
    "tags": []
   },
   "source": [
    "### Now I am doing the same but asking what happens if i dont train on CDM_hi and it is CDM_hi"
   ]
  },
  {
   "cell_type": "code",
   "execution_count": 160,
   "id": "be9c394f-1360-49b9-ab4c-554c6255ff4c",
   "metadata": {
    "tags": []
   },
   "outputs": [],
   "source": [
    "all_probs, prob_test, monte_carlo_histories = pkl.load( open(\"pickles/final_inception_model_wrong_baryons.pkl\",\"rb\"))"
   ]
  },
  {
   "cell_type": "code",
   "execution_count": null,
   "id": "7d62c47a-8ab0-4afd-9b6a-2f0686973c86",
   "metadata": {
    "jupyter": {
     "source_hidden": true
    },
    "tags": []
   },
   "outputs": [],
   "source": [
    "model_name = 'inception'\n",
    "monte_carlo_tests = [] #A record of the test sets used\n",
    "monte_carlo_histories = [] #A record of the histories of the modelling\n",
    "all_probs = [] #A record of the probabilities predicted for the test set\n",
    "prob_test = [] # A record of the probabilities predicted for SIDM 0.3 test set\n",
    "simulationNames = ['CDM_low','CDM','SIDM0.1','SIDM1']\n",
    "test_name = 'CDM_hi'\n",
    "nDM_Models = len(simulationNames)\n",
    "\n",
    "for i in tqdm(range(monte_carlo)):\n",
    "    train, test = getGenerators(augment_data=True, simulationNames=simulationNames, \n",
    "                                                      channels=['total','stellar','xray'], \n",
    "                                                      allDataFile='pickles/binned_data_20.pkl', random_state=i)\n",
    "   \n",
    "    checkpoint_filepath = 'models/%s_wrong_baryons/%i' % (model_name, i)\n",
    "  \n",
    "    model = get_best_model( train, test, model_name=model_name, checkpoint_filepath=checkpoint_filepath)\n",
    "    \n",
    "    monte_carlo_tests.append( test )\n",
    "    monte_carlo_histories.append( model.history.history )\n",
    "    \n",
    "    iDM_model_probs = [] \n",
    "    for iDM_model in range(nDM_Models):\n",
    "        this_dm_model_test_feat = test[0][ test[1] == iDM_model ]\n",
    "        this_dm_model_test_labels = test[1][ test[1] == iDM_model ]\n",
    "\n",
    "        \n",
    "        iDM_model_probs.append(model.predict( this_dm_model_test_feat, verbose=0 ))\n",
    "        \n",
    "    all_probs.append(iDM_model_probs)\n",
    "    \n",
    "    train, test = getGenerators(augment_data=True, simulationNames=[test_name], train_split=0.01, \n",
    "                                                      channels=['total','stellar','xray'], \n",
    "                                                      allDataFile='pickles/binned_data_20.pkl', random_state=i)\n",
    "    \n",
    "    prob_test.append(model.predict( test[0], verbose=0 ))\n",
    "    \n",
    "all_probs = np.array(all_probs)\n",
    "prob_test = np.array(prob_test)\n",
    "\n",
    "pkl.dump([all_probs, prob_test, monte_carlo_histories], open(\"pickles/final_inception_model_wrong_baryons.pkl\",\"wb\"))"
   ]
  },
  {
   "cell_type": "code",
   "execution_count": 238,
   "id": "e17aebb4-a626-438c-95c3-1a95ca1a02ec",
   "metadata": {
    "tags": []
   },
   "outputs": [
    {
     "name": "stdout",
     "output_type": "stream",
     "text": [
      "PDFCROP 1.40, 2020/06/06 - Copyright (c) 2002-2020 by Heiko Oberdiek, Oberdiek Package Support Group.\n",
      "==> 1 page written on `../plots/dm_models_dm_wrong.pdf'.\n"
     ]
    },
    {
     "data": {
      "text/plain": [
       "0"
      ]
     },
     "execution_count": 238,
     "metadata": {},
     "output_type": "execute_result"
    },
    {
     "data": {
      "image/png": "[encoded data removed]",
      "text/plain": [
       "<Figure size 400x300 with 1 Axes>"
      ]
     },
     "metadata": {},
     "output_type": "display_data"
    }
   ],
   "source": [
    "c = ['r','b','g','c','purple']\n",
    "plt.figure(figsize=(4,3))\n",
    "ax = plt.gca()\n",
    "\n",
    "for i, iSubSample in enumerate(np.logspace(1,2.5,3)[::-1]):\n",
    "    \n",
    "    these_probs = np.exp(prob_test)\n",
    "    these_probs = these_probs/np.sum(these_probs,axis=-1)[:,:,np.newaxis]\n",
    "\n",
    "    prediction, err = get_predictions_per_subset( these_probs, int(iSubSample), cross_sections=[0,0.,0.1,1.0], return_weights=False)\n",
    "\n",
    "    \n",
    "    mean = np.nanmedian(prediction)\n",
    "    std = np.nanmean(err)#/np.sqrt(len(prediction))\n",
    "    x = np.linspace(-0.1,0.5,10000)\n",
    "    pdf = norm.pdf(x, mean, std)\n",
    "    ax.plot(x, pdf, color=c[i])\n",
    "    if i == 0:\n",
    "        ylims = ax.get_ylim()\n",
    "    #ax.plot([mean-std,mean-std],[0,ylims[1]*1.1],'--', color=c[i])\n",
    "    #ax.plot([mean,mean],[0,ylims[1]*1.1],'--', color=c[i])\n",
    "    #ax.plot([mean+std,mean+std],[0,ylims[1]*1.1],'--', color=c[i])\n",
    "    ax.fill_between( x[ (x > mean-std) & (x < mean+std) ], \n",
    "                    np.zeros(len(x[ (x > mean-std) & (x < mean+std) ])),\n",
    "                    pdf[ (x > mean-std) & (x < mean+std) ], color=c[i], alpha=0.1)\n",
    "    ax.plot( [mean-std,mean-std],[0,norm.pdf(mean-std, mean, std)], '-',color=c[i], label=\"N Clusters: %i\" % iSubSample )\n",
    "    ax.plot( [mean+std,mean+std],[0,norm.pdf(mean+std, mean, std)], '-',color=c[i])\n",
    "\n",
    "#ax.set_ylim(0,12)\n",
    "ax.set_xlim(-0.02,0.1)\n",
    "#ax.set_xscale('log')\n",
    "ylim = ax.get_ylim()\n",
    "#ax.plot([0.1,0.1],[0,ylim[1]*1.1],'k-',label='Blind Truth')\n",
    "#ax.plot([1,1],[0,ylim[1]*1.1],'k-',label='Blind Truth')\n",
    "ax.set_ylim(0,250)\n",
    "ax.legend(loc=1)\n",
    "ax.set_xlabel(r'$\\sigma_{\\rm DM}/m$ [cm$^2$/g]')\n",
    "ax.set_ylabel(r'$p(\\sigma_{\\rm DM}/m)$')\n",
    "filename=\"../plots/dm_models_dm_wrong.pdf\"\n",
    "plt.savefig(filename)\n",
    "os.system(\"pdfcrop %s %s\" % (filename, filename))"
   ]
  },
  {
   "cell_type": "markdown",
   "id": "e99b0fea-717e-456d-a368-717cb4547597",
   "metadata": {
    "tags": []
   },
   "source": [
    "### Variance in the accuracy"
   ]
  },
  {
   "cell_type": "code",
   "execution_count": null,
   "id": "3128b438-81f1-4d18-8a2e-ca281130b895",
   "metadata": {
    "tags": []
   },
   "outputs": [],
   "source": [
    "simulationNames = ['CDM','SIDM0.1','SIDM1']\n"
   ]
  },
  {
   "cell_type": "code",
   "execution_count": null,
   "id": "62f9fda6-399d-45e8-b5ec-ac8ca6ce0510",
   "metadata": {
    "tags": []
   },
   "outputs": [],
   "source": [
    "all_probs.shape"
   ]
  },
  {
   "cell_type": "code",
   "execution_count": null,
   "id": "68caffd6-1a78-499f-aa01-ff0515af911d",
   "metadata": {},
   "outputs": [],
   "source": [
    "preds = [] \n",
    "m = tf.keras.metrics.Accuracy()\n",
    "m.result().numpy()\n",
    "nDM_Models = all_probs.shape[1]\n",
    "for iM in range(all_probs.shape[0]):\n",
    "    train, test = getGenerators(augment_data=True, simulationNames=simulationNames, \n",
    "                                                      channels=['total','stellar','xray'], \n",
    "                                                      allDataFile='pickles/binned_data_20.pkl', random_state=iM)\n",
    "    iPreds = np.array([])\n",
    "    \n",
    "    for iDM_model in range(nDM_Models):\n",
    "        this_dm_model_test_feat = test[0][ test[1] == iDM_model ]\n",
    "        this_dm_model_test_labels = test[1][ test[1] == iDM_model ]\n",
    "\n",
    "\n",
    "        predictions = np.argmax( all_probs[iM, iDM_model,:,:], axis=1)\n",
    "        m.update_state( predictions, this_dm_model_test_labels )\n",
    "    \n",
    "        iPreds = np.append(iPreds, m.result().numpy())\n",
    "    \n",
    "    preds.append( iPreds)\n",
    "\n",
    "                "
   ]
  },
  {
   "cell_type": "code",
   "execution_count": null,
   "id": "ab986592-f47e-4e06-8b68-891d276ffb49",
   "metadata": {},
   "outputs": [],
   "source": [
    "m"
   ]
  },
  {
   "cell_type": "code",
   "execution_count": null,
   "id": "50f066ad-0cd0-4c95-ab1d-b1442e5b3e03",
   "metadata": {},
   "outputs": [],
   "source": []
  }
 ],
 "metadata": {
  "kernelspec": {
   "display_name": "Python 3 (ipykernel)",
   "language": "python",
   "name": "python3"
  },
  "language_info": {
   "codemirror_mode": {
    "name": "ipython",
    "version": 3
   },
   "file_extension": ".py",
   "mimetype": "text/x-python",
   "name": "python",
   "nbconvert_exporter": "python",
   "pygments_lexer": "ipython3",
   "version": "3.10.9"
  }
 },
 "nbformat": 4,
 "nbformat_minor": 5
}
