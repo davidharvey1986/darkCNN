{
 "cells": [
  {
   "cell_type": "code",
   "execution_count": 1,
   "metadata": {
    "tags": []
   },
   "outputs": [],
   "source": [
    "%load_ext autoreload\n",
    "%autoreload 2"
   ]
  },
  {
   "cell_type": "code",
   "execution_count": 34,
   "metadata": {
    "tags": []
   },
   "outputs": [],
   "source": [
    "from globalVariables import *\n",
    "import simpleCNNwithInception as inceptionCNN\n",
    "import simpleCNN as simpleCNN\n",
    "import simpleCNNwithInceptionRegression as regressor\n",
    "from keras.callbacks import CSVLogger\n",
    "from scipy.ndimage import rotate\n",
    "from tools import plot_confusion_matrix\n",
    "from getSIDMdata_generator_meta import get_tf_DataSet as getGenerators\n",
    "import scienceplots\n",
    "from glob import glob\n",
    "from tools import get_best_model,get_predictions_per_subset,mertens\n",
    "import os\n",
    "from scipy.stats import norm\n",
    "plt.style.use([\"science\"])\n",
    "from copy import deepcopy as cp\n",
    "from tqdm import tqdm"
   ]
  },
  {
   "cell_type": "markdown",
   "metadata": {
    "tags": []
   },
   "source": [
    "# Referee 1 wanted to see what would happen in the vd sidm\n",
    "So to do this I will get the predictions of the standard model for different mass halos and plots against true."
   ]
  },
  {
   "cell_type": "code",
   "execution_count": 78,
   "metadata": {
    "tags": []
   },
   "outputs": [],
   "source": [
    "model_name = 'inception'\n",
    "simulationNames = ['vdSIDM']\n",
    "channels=['total','stellar','xray']\n",
    "random_state=0\n",
    "epochs=10"
   ]
  },
  {
   "cell_type": "code",
   "execution_count": 80,
   "metadata": {
    "tags": []
   },
   "outputs": [],
   "source": [
    "train, test, allparams = getGenerators(augment_data=True, simulationNames=simulationNames, \n",
    "                                                      channels=channels, train_split=0.01,\n",
    "                                                      allDataFile='pickles/binned_data_20_vdsidm.pkl', \n",
    "                                                      random_state=random_state, return_test_params=True,\n",
    "                                      galaxy_member_lim=1)  \n",
    "\n",
    "test_this = test[0][ allparams['sim'] == '%s+baryons' % simulationNames[0] ]\n",
    "this_params = {}\n",
    "for ik in allparams.keys():\n",
    "    this_params[ ik ] = allparams[ ik ][ allparams['sim'] =='%s+baryons' % simulationNames[0] ]"
   ]
  },
  {
   "cell_type": "code",
   "execution_count": null,
   "metadata": {
    "tags": []
   },
   "outputs": [],
   "source": [
    "nBins=10\n",
    "\n",
    "mass_bins = np.linspace(np.min(this_params['mass']),np.max(this_params['mass']),nBins+1)\n",
    "bin_centres = 0.5*(mass_bins[1:]+mass_bins[:-1])\n",
    "nImages = this_params['mass'].shape[0]\n",
    "nperbin = np.floor(nImages/nBins)\n",
    "ntrainhalos = []\n",
    "predictions = np.zeros((2, nBins))\n",
    "monteCarloModels = glob(\"models/%s/*\" % model_name )\n",
    "allProbs = []\n",
    "\n",
    "for iBin in tqdm(range(nBins)):\n",
    "    inbin = ( this_params['mass'] >= mass_bins[iBin] ) & \\\n",
    "        (this_params['mass'] <= mass_bins[iBin+1])\n",
    "        \n",
    "    ntrainhalos.append(this_params['mass'][bin_idxs].shape)\n",
    "\n",
    "    probability = []\n",
    "    for iMonteCarlo in monteCarloModels:\n",
    "        model = get_best_model( train, test,  model_name='Inception', \n",
    "                   checkpoint_filepath=iMonteCarlo, epochs=epochs) \n",
    "        probability.append(model.predict( test_this[ inbin ], verbose=0 ))\n",
    "        \n",
    "    probability = np.array(probability)\n",
    "    \n",
    "    allProbs.append(probability)\n",
    "    \n",
    "pkl.dump([predictions, allProbs], open(\"pickles/vdsidm_ideal.pkl\",\"wb\"))"
   ]
  },
  {
   "cell_type": "code",
   "execution_count": 216,
   "metadata": {
    "tags": []
   },
   "outputs": [
    {
     "name": "stdout",
     "output_type": "stream",
     "text": [
      "76\n",
      "48\n",
      "26\n",
      "15\n",
      "7\n",
      "2\n",
      "1\n",
      "1\n",
      "1\n"
     ]
    }
   ],
   "source": [
    "nBins=10\n",
    "\n",
    "mass_bins = np.linspace(np.min(this_params['mass']),np.max(this_params['mass']),nBins+1)\n",
    "bin_centres = 0.5*(mass_bins[1:]+mass_bins[:-1])\n",
    "nImages = this_params['mass'].shape[0]\n",
    "nperbin = np.floor(nImages/nBins)\n",
    "ntrainhalos = []\n",
    "monteCarloModels = glob(\"models/%s/*\" % model_name )\n",
    "predictions, allProbs = pkl.load(open(\"pickles/vdsidm_ideal.pkl\",\"rb\"))\n",
    "\n",
    "#collate bins\n",
    "last_bin = -2\n",
    "lastBins = np.hstack( [ i for i in allProbs[last_bin:]])\n",
    "rebin_allprobs = allProbs[:last_bin] + [lastBins]\n",
    "nBins = len(rebin_allprobs)\n",
    "\n",
    "\n",
    "\n",
    "predictions = np.zeros((2, nBins))\n",
    "bin_centres = np.append( bin_centres[:last_bin], np.mean(bin_centres[last_bin:]))\n",
    "for iBin in range(nBins):\n",
    "        \n",
    "\n",
    "    these_probs = np.exp(np.array(rebin_allprobs[iBin]))\n",
    "    these_probs = these_probs/np.sum(these_probs,axis=-1)[:,:,np.newaxis]   \n",
    "    \n",
    "    sample = np.max([1, these_probs.shape[1]//10])\n",
    "    print(sample)\n",
    "    iPred, iErr = \\\n",
    "        get_predictions_per_subset( these_probs, sample, cross_sections = [0.,0.1,1.0])\n",
    "   \n",
    "    predictions[ 0, iBin ] = np.mean(iPred)\n",
    "    predictions[ 1, iBin ] = np.std(iPred)\n"
   ]
  },
  {
   "cell_type": "code",
   "execution_count": 222,
   "metadata": {
    "tags": []
   },
   "outputs": [
    {
     "name": "stdout",
     "output_type": "stream",
     "text": [
      "PDFCROP 1.40, 2020/06/06 - Copyright (c) 2002-2020 by Heiko Oberdiek, Oberdiek Package Support Group.\n",
      "==> 1 page written on `../plots/vdsidm.pdf'.\n"
     ]
    },
    {
     "data": {
      "text/plain": [
       "0"
      ]
     },
     "execution_count": 222,
     "metadata": {},
     "output_type": "execute_result"
    },
    {
     "data": {
      "image/png": "[encoded data removed]",
      "text/plain": [
       "<Figure size 400x300 with 1 Axes>"
      ]
     },
     "metadata": {},
     "output_type": "display_data"
    }
   ],
   "source": [
    "from astropy.modeling.physical_models import NFW\n",
    "from astropy.units.core import Unit\n",
    "\n",
    "#Theoretical distribution\n",
    "m = np.logspace(14, 16, 100)\n",
    "nfws = [ NFW( mass=i*Unit('solMass'), massfactor='virial') for i in m ]\n",
    "v = np.array([i.circular_velocity(i.r_virial.to(Unit('kpc'))).to_value() for i in nfws ])\n",
    "w = 560.\n",
    "sigma_0 = 3.04\n",
    "sigma_vd = sigma_0 / (1+v**2/w**2)\n",
    "####\n",
    "\n",
    "mass_bin_centres = 10**bin_centres\n",
    "\n",
    "fig = plt.figure(figsize=(4,3))\n",
    "plt.plot(np.log10(m), sigma_vd, 'k--', label='Theory')\n",
    "\n",
    "plt.errorbar(np.log10(mass_bin_centres), predictions[0], yerr=predictions[1], fmt='ko', label='Measurements')\n",
    "#plt.xscale('log')\n",
    "plt.xlim(14., 15.5)\n",
    "plt.xlabel(r'log $M_{\\rm vir}$ / $M_\\odot$')\n",
    "plt.ylabel(r'$\\sigma_{\\rm DM}/m$ [ cm$^2$/g ]')\n",
    "plt.legend()\n",
    "filename = '../plots/vdsidm.pdf'\n",
    "plt.savefig(filename)\n",
    "os.system('pdfcrop %s %s' % (filename, filename))"
   ]
  },
  {
   "cell_type": "code",
   "execution_count": null,
   "metadata": {},
   "outputs": [],
   "source": []
  }
 ],
 "metadata": {
  "kernelspec": {
   "display_name": "Python 3 (ipykernel)",
   "language": "python",
   "name": "python3"
  },
  "language_info": {
   "codemirror_mode": {
    "name": "ipython",
    "version": 3
   },
   "file_extension": ".py",
   "mimetype": "text/x-python",
   "name": "python",
   "nbconvert_exporter": "python",
   "pygments_lexer": "ipython3",
   "version": "3.10.9"
  }
 },
 "nbformat": 4,
 "nbformat_minor": 4
}
