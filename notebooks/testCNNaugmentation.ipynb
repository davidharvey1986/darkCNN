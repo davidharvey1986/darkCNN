{
 "cells": [
  {
   "cell_type": "code",
   "execution_count": 5,
   "metadata": {
    "tags": []
   },
   "outputs": [],
   "source": [
    "%load_ext autoreload\n",
    "%autoreload 2"
   ]
  },
  {
   "cell_type": "code",
   "execution_count": 6,
   "metadata": {
    "tags": []
   },
   "outputs": [],
   "source": [
    "from globalVariables import *\n",
    "import simpleCNNwithInception as inceptionCNN\n",
    "import simpleCNN as simpleCNN\n",
    "import simpleCNNwithInceptionRegression as regressor\n",
    "from keras.callbacks import CSVLogger\n",
    "from scipy.ndimage import rotate\n",
    "from getSIDMdata_generator import get_tf_DataSet as getGenerators\n",
    "import scienceplots\n",
    "plt.style.use([\"science\", \"grid\"])"
   ]
  },
  {
   "cell_type": "markdown",
   "metadata": {},
   "source": [
    "Objectives\n",
    "----------\n",
    "- To see whether augmentation of the data helps the CNN\n",
    "- In this module I test\n",
    "    - Rotation & Flipping\n",
    "    - Cropping\n",
    "    - Zooming\n",
    "    - Shuffling\n",
    "    - Contrast\n",
    "\n",
    "Conclusions\n",
    "-----------\n",
    "- It seems that just rotation and flipping is the only thing that improves."
   ]
  },
  {
   "cell_type": "code",
   "execution_count": 10,
   "metadata": {
    "tags": []
   },
   "outputs": [],
   "source": [
    "epochs=80"
   ]
  },
  {
   "cell_type": "markdown",
   "metadata": {
    "tags": []
   },
   "source": [
    "#### Fiducial Model"
   ]
  },
  {
   "cell_type": "code",
   "execution_count": null,
   "metadata": {
    "tags": []
   },
   "outputs": [],
   "source": [
    "train, test = getGenerators(augment_data=False, simulationNames=['CDM','SIDM0.1','SIDM1'], \n",
    "                                                      channels=['total','stellar','xray'], \n",
    "                                                      allDataFile='pickles/binned_data_20.pkl')\n",
    "\n",
    "fiducial = simpleCNN.getModel_ds(3)\n",
    "history = fiducial.fit(\n",
    "  x=train,\n",
    "  validation_data=test,\n",
    "  epochs=epochs\n",
    ")"
   ]
  },
  {
   "cell_type": "markdown",
   "metadata": {
    "tags": []
   },
   "source": [
    "#### Rotation and Flipping"
   ]
  },
  {
   "cell_type": "code",
   "execution_count": null,
   "metadata": {
    "tags": []
   },
   "outputs": [],
   "source": [
    "train, test = getGenerators(augment_data=True, simulationNames=['CDM','SIDM0.1','SIDM1'], \n",
    "                                                      channels=['total','stellar','xray'], \n",
    "                                                      allDataFile='pickles/binned_data_20.pkl')\n",
    "\n",
    "augmented_model = simpleCNN.getModel_ds(3)\n",
    "augmented_history = augmented_model.fit(\n",
    "  x=train,\n",
    "  validation_data=test,\n",
    "  epochs=epochs\n",
    ")"
   ]
  },
  {
   "cell_type": "markdown",
   "metadata": {
    "jp-MarkdownHeadingCollapsed": true,
    "tags": []
   },
   "source": [
    "####  Shuffling"
   ]
  },
  {
   "cell_type": "code",
   "execution_count": null,
   "metadata": {},
   "outputs": [],
   "source": [
    "augmented_shuffled_train_ds, augmented_shuffled_test_ds  = get_tf_DataSet(augment_data=False, shuffle_data=True)\n",
    "augmented_shuffled = simpleCNN.getModel_ds(augmented_shuffled_train_ds.num_classes)\n",
    "\n",
    "epochs=20\n",
    "au_history = augmented_shuffled.fit(\n",
    "  x=augmented_shuffled_train_ds,\n",
    "  validation_data=augmented_shuffled_test_ds,\n",
    "  epochs=epochs\n",
    ")"
   ]
  },
  {
   "cell_type": "markdown",
   "metadata": {
    "jp-MarkdownHeadingCollapsed": true,
    "tags": []
   },
   "source": [
    "####  Cropping"
   ]
  },
  {
   "cell_type": "code",
   "execution_count": null,
   "metadata": {},
   "outputs": [],
   "source": [
    "augmented_cropped_train_ds, augmented_cropped_test_ds  = get_tf_DataSet(crop_data=True)\n",
    "augmented_cropped = simpleCNN.getModel_ds(augmented_cropped_train_ds.num_classes)\n",
    "\n",
    "epochs=20\n",
    "au_history = augmented_cropped.fit(\n",
    "  x=augmented_cropped_train_ds,\n",
    "    validation_data=augmented_cropped_test_ds,\n",
    "  epochs=epochs\n",
    ")"
   ]
  },
  {
   "cell_type": "markdown",
   "metadata": {
    "jp-MarkdownHeadingCollapsed": true,
    "tags": []
   },
   "source": [
    "#### Zooming"
   ]
  },
  {
   "cell_type": "code",
   "execution_count": null,
   "metadata": {},
   "outputs": [],
   "source": [
    "augmented_zoom_train_ds, augmented_zoom_test_ds  = get_tf_DataSet( zoom=True)\n",
    "augmented_zoom = simpleCNN.getModel_ds(augmented_zoom_train_ds.num_classes)\n",
    "epochs=20\n",
    "au_history = augmented_zoom.fit(\n",
    "  x=augmented_zoom_train_ds,\n",
    "    validation_data=augmented_zoom_test_ds,\n",
    "  epochs=epochs\n",
    ")"
   ]
  },
  {
   "cell_type": "markdown",
   "metadata": {
    "jp-MarkdownHeadingCollapsed": true,
    "tags": []
   },
   "source": [
    "#### Contrasting "
   ]
  },
  {
   "cell_type": "code",
   "execution_count": null,
   "metadata": {},
   "outputs": [],
   "source": [
    "augmented_contrast_train_ds, augmented_contrast_test_ds  = get_tf_DataSet( contrast=True)\n",
    "augmented_contrast = simpleCNN.getModel_ds(augmented_contrast_train_ds.num_classes)\n",
    "epochs=20\n",
    "au_history = augmented_contrast.fit(\n",
    "  x=augmented_contrast_train_ds,\n",
    "    validation_data=augmented_contrast_test_ds,\n",
    "  epochs=epochs\n",
    ")"
   ]
  },
  {
   "cell_type": "markdown",
   "metadata": {
    "jp-MarkdownHeadingCollapsed": true,
    "tags": []
   },
   "source": [
    "#### Rotation and Flipping and Cropping"
   ]
  },
  {
   "cell_type": "code",
   "execution_count": null,
   "metadata": {},
   "outputs": [],
   "source": [
    "rot_flip_crop_train_ds, rot_flip_crop_test_ds  = get_tf_DataSet( augment_data=True, crop_data=True)\n",
    "rot_flip_crop = simpleCNN.getModel_ds(rot_flip_crop_train_ds.num_classes)\n",
    "epochs=20\n",
    "au_history = rot_flip_crop.fit(\n",
    "  x=rot_flip_crop_train_ds,\n",
    "    validation_data=rot_flip_crop_test_ds,\n",
    "  epochs=epochs\n",
    ")"
   ]
  },
  {
   "cell_type": "markdown",
   "metadata": {},
   "source": [
    "### Results"
   ]
  },
  {
   "cell_type": "code",
   "execution_count": 19,
   "metadata": {
    "tags": []
   },
   "outputs": [],
   "source": [
    "models = [ fiducial,  augmented_model] \n",
    "savethese = [ i.history.history for i in models ]\n",
    "pkl.dump(savethese, open(\"pickles/augment_test.pkl\",\"wb\"))"
   ]
  },
  {
   "cell_type": "code",
   "execution_count": 23,
   "metadata": {
    "tags": []
   },
   "outputs": [
    {
     "data": {
      "image/png": "[encoded data removed]",
      "text/plain": [
       "<Figure size 500x300 with 1 Axes>"
      ]
     },
     "metadata": {},
     "output_type": "display_data"
    }
   ],
   "source": [
    "plt.figure(figsize=(5,3))\n",
    "plt.xlabel('Epoch')\n",
    "plt.ylabel('Validation Acccuracy')\n",
    "\n",
    "models = pkl.load( open(\"pickles/augment_test.pkl\",\"rb\"))\n",
    "names = ['Fiducial','Augmented','shuffle','cropped','zoom', 'contrast', 'RFC']\n",
    "c = ['r','b','g','c','y','k','orange']\n",
    "for i, iModel in enumerate(models):\n",
    "    plt.plot(np.arange(len(iModel['val_accuracy'])), iModel['val_accuracy'], label=\"%s (validation)\" % (names[i]), c=c[i])\n",
    "\n",
    "plt.legend(loc=4)\n",
    "plt.savefig(\"../plots/augment_test.pdf\")"
   ]
  },
  {
   "cell_type": "markdown",
   "metadata": {
    "jp-MarkdownHeadingCollapsed": true,
    "tags": []
   },
   "source": [
    "## Old Stuff"
   ]
  },
  {
   "cell_type": "code",
   "execution_count": null,
   "metadata": {},
   "outputs": [],
   "source": [
    "(train_images, att_train, train_labels), testSets = getData(  indexFileRoot='pickles/testIndexesRot', testTrainSplit=0.15)\n",
    "test_labels, test_images, test_ids = None, None, None\n",
    "for i in testSets.keys():\n",
    "    if test_labels is None:\n",
    "        test_images = testSets[i]['images']\n",
    "        test_labels = testSets[i]['labels']\n",
    "        test_ids = testSets[i]['clusterID']\n",
    "    else:\n",
    "        test_labels = np.vstack((test_labels, testSets[i]['labels']))\n",
    "        test_images = np.vstack((test_images, testSets[i]['images']))\n",
    "        test_ids = np.vstack((test_ids, testSets[i]['clusterID']))\n",
    "nClasses = len(np.unique(train_labels))\n",
    "inputShape = train_images.shape[1:]"
   ]
  },
  {
   "cell_type": "markdown",
   "metadata": {},
   "source": [
    "Test Rotations"
   ]
  },
  {
   "cell_type": "code",
   "execution_count": null,
   "metadata": {
    "jupyter": {
     "source_hidden": true
    }
   },
   "outputs": [],
   "source": [
    "\n",
    "color=['r','g','b','c','y','o']\n",
    "fig, [ax1, ax2]  = plt.subplots( 1, 2, figsize=(10,5))\n",
    "#Test the dropout on reliability\n",
    "for i, nRotations in enumerate([1, 5, 10, 20]):\n",
    "    allRotatedImages = []\n",
    "    allRotatedLabels = []\n",
    "    \n",
    "    imageSize = train_images[0,:,:,0].shape[0]\n",
    "    \n",
    "\n",
    "    csv_file = 'pickles/testRotations_%0.2f_finalLayer_2048_dropout_0.3.csv' % nRotations\n",
    "    \n",
    "    csv_logger = CSVLogger(csv_file, append=True)\n",
    "    model_file =  'pickles/testRotations_%0.2f_finalLayer_2048_dropout_0.3.h5' % nRotations\n",
    "    \n",
    "    if os.path.isfile( csv_file ):\n",
    "        previousEpochs = np.loadtxt( csv_file, delimiter=',',skiprows=1 )\n",
    "        initial_epoch = previousEpochs.shape[0]\n",
    "    else:\n",
    "        initial_epoch = 0\n",
    "        \n",
    "    if os.path.isfile(model_file):\n",
    "        print(\"FOUND PREVIOUS MODEL, LOADING...\")\n",
    "        model = models.load_model(model_file)\n",
    "    else:\n",
    "        for iImage in range(train_images.shape[0]):\n",
    "            for iAngle in range(nRotations):\n",
    "                rotAngle = np.random.uniform(0, 360)\n",
    "                rotatedImage = rotate(train_images[iImage, :,:, 0], rotAngle)\n",
    "                centralPix = rotatedImage.shape[0]//2\n",
    "                croppedImage = rotatedImage[centralPix-imageSize//2:centralPix+imageSize//2,centralPix-imageSize//2:centralPix+imageSize//2 ]\n",
    "                allRotatedImages.append(croppedImage )\n",
    "                allRotatedLabels.append( train_labels[iImage,0])\n",
    "        allRotatedImages = np.array(allRotatedImages)\n",
    "        newImages = allRotatedImages[:,:,:,np.newaxis]\n",
    "        allRotatedLabels = np.array(allRotatedLabels)\n",
    "        newLabels = allRotatedLabels[:,np.newaxis]\n",
    "\n",
    "\n",
    "        model = simpleCNN.getModel( inputShape, nClasses, dropout=0.2, finalLayer=2048, learning_rate=3e-6)\n",
    "        \n",
    "        \n",
    "        history = model.fit(newImages, newLabels, epochs=10, \n",
    "                    initial_epoch=initial_epoch,\n",
    "                    validation_data=(test_images, test_labels),\n",
    "                       callbacks=csv_logger)\n",
    "        model.save(model_file)\n",
    "\n",
    "    trainHistory = np.loadtxt( csv_file, delimiter=',', \n",
    "                    dtype=[('epoch', object), ('accuracy', float), \n",
    "                    ('loss', float), ('val_accuracy',float),('val_loss', float)], skiprows=1)\n",
    "    \n",
    "    ax1.plot(trainHistory['loss'], label='%i' % nRotations, color=color[i])\n",
    "    ax1.plot(trainHistory['val_loss'], label='%i' % nRotations, linestyle='--', color=color[i])\n",
    "    \n",
    "    ax2.plot(trainHistory['accuracy'], label = '%i' % nRotations, linestyle='-', color=color[i]) \n",
    "    ax2.plot(trainHistory['val_accuracy'], label = '%i' % nRotations, linestyle='--', color=color[i]) \n",
    "ax1.legend()   \n",
    "ax2.legend()"
   ]
  },
  {
   "cell_type": "markdown",
   "metadata": {},
   "source": [
    "Test Translations"
   ]
  },
  {
   "cell_type": "code",
   "execution_count": null,
   "metadata": {
    "jupyter": {
     "source_hidden": true
    }
   },
   "outputs": [],
   "source": [
    "\n",
    "color=['r','g','b','c','y','o']\n",
    "fig, [ax1, ax2]  = plt.subplots( 1, 2, figsize=(10,5))\n",
    "#Test the dropout on reliability\n",
    "for i, nTranslations in enumerate([1, 5, 10]):\n",
    "    allRotatedImages = []\n",
    "    allRotatedLabels = []\n",
    "    \n",
    "    imageSize = train_images[0,:,:,0].shape[0]\n",
    "    \n",
    "\n",
    "    csv_file = 'pickles/testTranslate_%0.2f_finalLayer_2048_dropout_0.3.csv' % nTranslations\n",
    "    \n",
    "    csv_logger = CSVLogger(csv_file, append=True)\n",
    "    model_file =  'pickles/testTranslate_%0.2f_finalLayer_2048_dropout_0.3.h5' % nTranslations\n",
    "    \n",
    "    if os.path.isfile( csv_file ):\n",
    "        previousEpochs = np.loadtxt( csv_file, delimiter=',',skiprows=1 )\n",
    "        initial_epoch = previousEpochs.shape[0]\n",
    "    else:\n",
    "        initial_epoch = 0\n",
    "        \n",
    "    if os.path.isfile(model_file):\n",
    "        print(\"FOUND PREVIOUS MODEL, LOADING...\")\n",
    "        model = models.load_model(model_file)\n",
    "    else:\n",
    "        for iImage in range(train_images.shape[0]):\n",
    "            for iAngle in range(nTranslations):\n",
    "                xTranslation = np.random.randint(-4, 4)\n",
    "                yTranslation = np.random.randint(-4, 4)\n",
    "                \n",
    "                translatedX = np.roll( train_images[iImage, :,:, 0], xTranslation, axis=0)\n",
    "                translatedXY = np.roll( translatedX, yTranslation, axis=1)\n",
    "\n",
    "                allRotatedImages.append(translatedXY )\n",
    "                allRotatedLabels.append( train_labels[iImage,0])\n",
    "                \n",
    "        allRotatedImages = np.array(allRotatedImages)\n",
    "        newImages = allRotatedImages[:,:,:,np.newaxis]\n",
    "        allRotatedLabels = np.array(allRotatedLabels)\n",
    "        newLabels = allRotatedLabels[:,np.newaxis]\n",
    "\n",
    "\n",
    "        model = simpleCNN.getModel( inputShape, nClasses, dropout=0.2, finalLayer=2048, learning_rate=3e-6)\n",
    "        \n",
    "        \n",
    "        history = model.fit(newImages, newLabels, epochs=10, \n",
    "                    initial_epoch=initial_epoch,\n",
    "                    validation_data=(test_images, test_labels),\n",
    "                       callbacks=csv_logger)\n",
    "        model.save(model_file)\n",
    "\n",
    "    trainHistory = np.loadtxt( csv_file, delimiter=',', \n",
    "                    dtype=[('epoch', object), ('accuracy', float), \n",
    "                    ('loss', float), ('val_accuracy',float),('val_loss', float)], skiprows=1)\n",
    "    \n",
    "    ax1.plot(trainHistory['loss'], label='%i' % nTranslations, color=color[i])\n",
    "    ax1.plot(trainHistory['val_loss'], label='%i' % nTranslations, linestyle='--', color=color[i])\n",
    "    \n",
    "    ax2.plot(trainHistory['accuracy'], label = '%i' % nTranslations, linestyle='-', color=color[i]) \n",
    "    ax2.plot(trainHistory['val_accuracy'], label = '%i' % nTranslations, linestyle='--', color=color[i]) \n",
    "ax1.legend()   \n",
    "ax2.legend()"
   ]
  },
  {
   "cell_type": "markdown",
   "metadata": {},
   "source": [
    "Test Rescale"
   ]
  },
  {
   "cell_type": "code",
   "execution_count": null,
   "metadata": {
    "jupyter": {
     "source_hidden": true
    }
   },
   "outputs": [],
   "source": [
    "from scipy.interpolate import interp2d\n",
    "\n",
    "color=['r','g','b','c','y','o']\n",
    "fig, [ax1, ax2]  = plt.subplots( 1, 2, figsize=(10,5))\n",
    "#Test the dropout on reliability\n",
    "imageSize = train_images[0,:,:,0].shape\n",
    "centrePix = imageSize[0] // 2\n",
    "\n",
    "xVector = np.arange(imageSize[0])-centrePix\n",
    "\n",
    "\n",
    "\n",
    "for i, nRescale in enumerate([1, 5, 10, 20]):\n",
    "    allRotatedImages = []\n",
    "    allRotatedLabels = []\n",
    "    \n",
    "    \n",
    "\n",
    "    csv_file = 'pickles/testRescale_%0.2f_finalLayer_2048_dropout_0.3.csv' % nRescale\n",
    "    \n",
    "    csv_logger = CSVLogger(csv_file, append=True)\n",
    "    model_file =  'pickles/testRescale_%0.2f_finalLayer_2048_dropout_0.3.h5' % nRescale\n",
    "    \n",
    "    if os.path.isfile( csv_file ):\n",
    "        previousEpochs = np.loadtxt( csv_file, delimiter=',',skiprows=1 )\n",
    "        initial_epoch = previousEpochs.shape[0]\n",
    "    else:\n",
    "        initial_epoch = 0\n",
    "        \n",
    "    if os.path.isfile(model_file):\n",
    "        print(\"FOUND PREVIOUS MODEL, LOADING...\")\n",
    "        model = models.load_model(model_file)\n",
    "    else:\n",
    "        for iImage in range(train_images.shape[0]):\n",
    "            for iAngle in range(nRescale):\n",
    "                rescale = 10**np.random.uniform(np.log10(0.13), np.log10(1.3))\n",
    "                \n",
    "                newSize = np.int(rescale*imageSize[0])\n",
    "                \n",
    "\n",
    "                newXVector = (np.arange(imageSize[0])-centrePix)*rescale\n",
    "\n",
    "                \n",
    "                interpFunc = interp2d( xVector, xVector, train_images[iImage, :,:, 0].reshape( np.prod(imageSize)))\n",
    "                \n",
    "                newImage = interpFunc( newXVector, newXVector)\n",
    "                \n",
    "                \n",
    "      \n",
    "                allRotatedImages.append(newImage )\n",
    "                allRotatedLabels.append( train_labels[iImage,0])\n",
    "        allRotatedImages = np.array(allRotatedImages)\n",
    "        newImages = allRotatedImages[:,:,:,np.newaxis]\n",
    "        allRotatedLabels = np.array(allRotatedLabels)\n",
    "        newLabels = allRotatedLabels[:,np.newaxis]\n",
    "\n",
    "\n",
    "        model = simpleCNN.getModel( inputShape, nClasses, dropout=0.2, finalLayer=2048, learning_rate=3e-6)\n",
    "        \n",
    "        \n",
    "        history = model.fit(newImages, newLabels, epochs=10, \n",
    "                    initial_epoch=initial_epoch,\n",
    "                    validation_data=(test_images, test_labels),\n",
    "                       callbacks=csv_logger)\n",
    "        model.save(model_file)\n",
    "\n",
    "    trainHistory = np.loadtxt( csv_file, delimiter=',', \n",
    "                    dtype=[('epoch', object), ('accuracy', float), \n",
    "                    ('loss', float), ('val_accuracy',float),('val_loss', float)], skiprows=1)\n",
    "    \n",
    "    ax1.plot(trainHistory['loss'], label='%i' % nRescale, color=color[i])\n",
    "    ax1.plot(trainHistory['val_loss'], label='%i' % nRescale, linestyle='--', color=color[i])\n",
    "    \n",
    "    ax2.plot(trainHistory['accuracy'], label = '%i' % nRescale, linestyle='-', color=color[i]) \n",
    "    ax2.plot(trainHistory['val_accuracy'], label = '%i' % nRescale, linestyle='--', color=color[i]) \n",
    "ax1.legend()   \n",
    "ax2.legend()"
   ]
  },
  {
   "cell_type": "markdown",
   "metadata": {},
   "source": [
    "Test Flipping"
   ]
  },
  {
   "cell_type": "code",
   "execution_count": null,
   "metadata": {
    "jupyter": {
     "source_hidden": true
    }
   },
   "outputs": [],
   "source": [
    "\n",
    "color=['r','g','b','c','y','o']\n",
    "fig, [ax1, ax2]  = plt.subplots( 1, 2, figsize=(10,5))\n",
    "for i, nFlip in enumerate([1, 2, 3]):\n",
    "    allRotatedImages = []\n",
    "    allRotatedLabels = []\n",
    "    \n",
    "    \n",
    "\n",
    "    csv_file = 'pickles/testFlip_%0.2f_finalLayer_2048_dropout_0.3.csv' % nFlip\n",
    "    \n",
    "    csv_logger = CSVLogger(csv_file, append=True)\n",
    "    model_file =  'pickles/testFlip_%0.2f_finalLayer_2048_dropout_0.3.h5' % nFlip\n",
    "    \n",
    "    if os.path.isfile( csv_file ):\n",
    "        previousEpochs = np.loadtxt( csv_file, delimiter=',',skiprows=1 )\n",
    "        initial_epoch = previousEpochs.shape[0]\n",
    "    else:\n",
    "        initial_epoch = 0\n",
    "        \n",
    "    if os.path.isfile(model_file):\n",
    "        print(\"FOUND PREVIOUS MODEL, LOADING...\")\n",
    "        model = models.load_model(model_file)\n",
    "    else:\n",
    "        for iImage in range(train_images.shape[0]):\n",
    "            for iFlip in range(nFlip):\n",
    "                if iFlip == 0:\n",
    "                    flippedImage = train_images[iImage, :,:, 0]\n",
    "                elif iFlip == 1:\n",
    "                    flippedImage = train_images[iImage, ::-1,:, 0]\n",
    "                elif iFlip == 2:\n",
    "                    flippedImage = train_images[iImage, :,::-1, 0]\n",
    "\n",
    "   \n",
    "                allRotatedImages.append( flippedImage )\n",
    "                allRotatedLabels.append( train_labels[iImage,0])\n",
    "        \n",
    "        allRotatedImages = np.array(allRotatedImages)\n",
    "        newImages = allRotatedImages[:,:,:,np.newaxis]\n",
    "        allRotatedLabels = np.array(allRotatedLabels)\n",
    "        newLabels = allRotatedLabels[:,np.newaxis]\n",
    "\n",
    "        model = simpleCNN.getModel( inputShape, nClasses, dropout=0.2, finalLayer=2048, learning_rate=3e-6)\n",
    "        \n",
    "        \n",
    "        history = model.fit(newImages, newLabels, epochs=10, \n",
    "                    initial_epoch=initial_epoch,\n",
    "                    validation_data=(test_images, test_labels),\n",
    "                       callbacks=csv_logger)\n",
    "        model.save(model_file)\n",
    "\n",
    "    trainHistory = np.loadtxt( csv_file, delimiter=',', \n",
    "                    dtype=[('epoch', object), ('accuracy', float), \n",
    "                    ('loss', float), ('val_accuracy',float),('val_loss', float)], skiprows=1)\n",
    "    \n",
    "    ax1.plot(trainHistory['loss'], label='%i' % nFlip, color=color[i])\n",
    "    ax1.plot(trainHistory['val_loss'], label='%i' % nFlip, linestyle='--', color=color[i])\n",
    "    \n",
    "    ax2.plot(trainHistory['accuracy'], label = '%i' % nFlip, linestyle='-', color=color[i]) \n",
    "    ax2.plot(trainHistory['val_accuracy'], label = '%i' % nFlip, linestyle='--', color=color[i]) \n",
    "ax1.legend()   \n",
    "ax2.legend()"
   ]
  },
  {
   "cell_type": "markdown",
   "metadata": {},
   "source": [
    "Test augmentations individually"
   ]
  },
  {
   "cell_type": "code",
   "execution_count": null,
   "metadata": {},
   "outputs": [],
   "source": [
    "\n",
    "color=['r','g','b','c','y','o']\n",
    "fig, [ax1, ax2]  = plt.subplots( 1, 2, figsize=(10,5))\n",
    "\n",
    "#Flipping\n",
    "nFlip = 2\n",
    "nRotations = 10\n",
    "imageSize = train_images[0,:,:,0].shape[0]\n",
    "\n",
    "allRotatedImages = []\n",
    "allRotatedLabels = []\n",
    "    \n",
    "\n",
    "csv_file = 'pickles/testAug_finalLayer_2048_dropout_0.3.csv' \n",
    "    \n",
    "csv_logger = CSVLogger(csv_file, append=True)\n",
    "model_file =  'pickles/testAug_finalLayer_2048_dropout_0.3.h5' \n",
    "    \n",
    "if os.path.isfile( csv_file ):\n",
    "    previousEpochs = np.loadtxt( csv_file, delimiter=',',skiprows=1 )\n",
    "    initial_epoch = previousEpochs.shape[0]\n",
    "else:\n",
    "    initial_epoch = 0\n",
    "        \n",
    "if os.path.isfile(model_file):\n",
    "    print(\"FOUND PREVIOUS MODEL, LOADING...\")\n",
    "    model = models.load_model(model_file)\n",
    "else:\n",
    "    for iImage in range(train_images.shape[0]):\n",
    "        for iFlip in range(nFlip):\n",
    "            if iFlip == 0:\n",
    "                flippedImage = train_images[iImage, :,:, 0]\n",
    "            elif iFlip == 1:\n",
    "                flippedImage = train_images[iImage, ::-1,:, 0]\n",
    "\n",
    "           \n",
    "            allRotatedImages.append( flippedImage )\n",
    "            allRotatedLabels.append( train_labels[iImage,0])\n",
    "        \n",
    "        for iRotation in range(nRotations):\n",
    "            rotAngle = np.random.uniform(0, 360)\n",
    "            rotatedImage = rotate(train_images[iImage, :,:, 0], rotAngle)\n",
    "            centralPix = rotatedImage.shape[0]//2\n",
    "            croppedImage = rotatedImage[centralPix-imageSize//2:centralPix+imageSize//2,centralPix-imageSize//2:centralPix+imageSize//2 ]\n",
    "            allRotatedImages.append(croppedImage )\n",
    "            allRotatedLabels.append( train_labels[iImage,0])  \n",
    "            \n",
    "            \n",
    "            \n",
    "    allRotatedImages = np.array(allRotatedImages)\n",
    "    newImages = allRotatedImages[:,:,:,np.newaxis]\n",
    "    allRotatedLabels = np.array(allRotatedLabels)\n",
    "    newLabels = allRotatedLabels[:,np.newaxis]\n",
    "    print(\"Training size is %i\" % newImages.shape[0])\n",
    "    model = simpleCNN.getModel( inputShape, nClasses, dropout=0.2, finalLayer=2048, learning_rate=3e-6)\n",
    "        \n",
    "        \n",
    "    history = model.fit(newImages, newLabels, epochs=10, \n",
    "                    initial_epoch=initial_epoch,\n",
    "                    validation_data=(test_images, test_labels),\n",
    "                       callbacks=csv_logger)\n",
    "    model.save(model_file)\n",
    "\n",
    "trainHistory = np.loadtxt( csv_file, delimiter=',', \n",
    "                    dtype=[('epoch', object), ('accuracy', float), \n",
    "                    ('loss', float), ('val_accuracy',float),('val_loss', float)], skiprows=1)\n",
    "    \n",
    "ax1.plot(trainHistory['loss'], label='Aug', color=color[0])\n",
    "ax1.plot(trainHistory['val_loss'], label='Aug', linestyle='--', color=color[0])\n",
    "    \n",
    "ax2.plot(trainHistory['accuracy'], label = 'Aug', linestyle='-', color=color[0]) \n",
    "ax2.plot(trainHistory['val_accuracy'], label = 'Aug', linestyle='--', color=color[0]) \n",
    "\n",
    "neurons = 2048\n",
    "csv_file =  'pickles/testFinalLayerDensity_%i.csv' % neurons\n",
    "trainHistory = np.loadtxt( csv_file, delimiter=',', \n",
    "                    dtype=[('epoch', object), ('accuracy', float), \n",
    "                    ('loss', float), ('val_accuracy',float),('val_loss', float)], skiprows=1)\n",
    "    \n",
    "ax1.plot(trainHistory['loss'], label='No Aug', color=color[1])\n",
    "ax1.plot(trainHistory['val_loss'], label='No Aug', linestyle='--', color=color[1])\n",
    "    \n",
    "ax2.plot(trainHistory['accuracy'], label = 'No Aug', linestyle='-', color=color[1]) \n",
    "ax2.plot(trainHistory['val_accuracy'], label = 'No Aug', linestyle='--', color=color[1]) \n",
    "\n",
    "\n",
    "ax1.legend()   \n",
    "ax2.legend()"
   ]
  },
  {
   "cell_type": "code",
   "execution_count": null,
   "metadata": {},
   "outputs": [],
   "source": [
    "color=['r','g','b','c','y','o']\n",
    "fig, [ax1, ax2]  = plt.subplots( 1, 2, figsize=(10,5))\n",
    "\n",
    "csv_file = 'pickles/testAugComb_finalLayer_2048_dropout_0.3.csv'\n",
    "\n",
    "trainHistory = np.loadtxt( csv_file, delimiter=',', \n",
    "                    dtype=[('epoch', object), ('accuracy', float), \n",
    "                    ('loss', float), ('val_accuracy',float),('val_loss', float)], skiprows=1)\n",
    "    \n",
    "#ax1.plot(trainHistory['loss'], label='Aug Indiv', color=color[0])\n",
    "ax1.plot(trainHistory['val_loss'], label='Aug Indiv', linestyle='--', color=color[0])\n",
    "    \n",
    "#ax2.plot(trainHistory['accuracy'], label = 'Aug Comb', linestyle='-', color=color[0]) \n",
    "ax2.plot(trainHistory['val_accuracy'], label = 'Aug Comb', linestyle='--', color=color[0]) \n",
    "\n",
    "\n",
    "ax1.legend()   \n",
    "ax2.legend()\n",
    "\n",
    "\n",
    "csv_file = 'pickles/testAug_finalLayer_2048_dropout_0.3.csv' \n",
    "\n",
    "trainHistory = np.loadtxt( csv_file, delimiter=',', \n",
    "                    dtype=[('epoch', object), ('accuracy', float), \n",
    "                    ('loss', float), ('val_accuracy',float),('val_loss', float)], skiprows=1)\n",
    "    \n",
    "#ax1.plot(trainHistory['loss'], label='Aug Indiv', color=color[1])\n",
    "ax1.plot(trainHistory['val_loss'], label='Aug Indiv', linestyle='--', color=color[1])\n",
    "    \n",
    "#ax2.plot(trainHistory['accuracy'], label = 'Aug Indiv', linestyle='-', color=color[1]) \n",
    "ax2.plot(trainHistory['val_accuracy'], label = 'Aug Indiv', linestyle='--', color=color[1]) \n",
    "\n",
    "\n",
    "ax1.legend()   \n",
    "ax2.legend()\n",
    "\n",
    "\n",
    "neurons = 2048\n",
    "csv_file =  'pickles/testFinalLayerDensity_%i.csv' % neurons\n",
    "trainHistory = np.loadtxt( csv_file, delimiter=',', \n",
    "                    dtype=[('epoch', object), ('accuracy', float), \n",
    "                    ('loss', float), ('val_accuracy',float),('val_loss', float)], skiprows=1)\n",
    "    \n",
    "#ax1.plot(trainHistory['loss'], label='No Aug', color=color[1])\n",
    "ax1.plot(trainHistory['val_loss'], label='No Aug', linestyle='--', color=color[2])\n",
    "    \n",
    "#ax2.plot(trainHistory['accuracy'], label = 'No Aug', linestyle='-', color=color[2]) \n",
    "ax2.plot(trainHistory['val_accuracy'], label = 'No Aug', linestyle='--', color=color[2]) \n",
    "\n",
    "\n",
    "csv_file =  'pickles/testAugCombAllChannel_finalLayer_64_dropout_0.3.csv'\n",
    "\n",
    "trainHistory = np.loadtxt( csv_file, delimiter=',', \n",
    "                    dtype=[('epoch', object), ('accuracy', float), \n",
    "                    ('loss', float), ('val_accuracy',float),('val_loss', float)], skiprows=1)\n",
    "    \n",
    "#ax1.plot(trainHistory['loss'], label='No Aug', color=color[1])\n",
    "ax1.plot(trainHistory['val_loss'], label='Multi-Channel Aug', linestyle='--', color=color[3])\n",
    "    \n",
    "#ax2.plot(trainHistory['accuracy'], label = 'No Aug', linestyle='-', color=color[2]) \n",
    "ax2.plot(trainHistory['val_accuracy'], label = 'Multi-Channel Aug', linestyle='--', color=color[3]) \n",
    "\n",
    "csv_file =  'pickles/testAugCombAllChannel_finalLayer_512_dropout_0.3.csv'\n",
    "\n",
    "trainHistory = np.loadtxt( csv_file, delimiter=',', \n",
    "                    dtype=[('epoch', object), ('accuracy', float), \n",
    "                    ('loss', float), ('val_accuracy',float),('val_loss', float)], skiprows=1)\n",
    "    \n",
    "#ax1.plot(trainHistory['loss'], label='No Aug', color=color[1])\n",
    "ax1.plot(trainHistory['val_loss'], label='Multi-Channel Aug 512', linestyle='--', color=color[4])\n",
    "    \n",
    "#ax2.plot(trainHistory['accuracy'], label = 'No Aug', linestyle='-', color=color[2]) \n",
    "ax2.plot(trainHistory['val_accuracy'], label = 'Multi-Channel Aug 512', linestyle='--', color=color[4]) \n",
    "\n",
    "\n",
    "\n",
    "ax1.legend()   \n",
    "ax2.legend()\n",
    "\n"
   ]
  },
  {
   "cell_type": "code",
   "execution_count": null,
   "metadata": {},
   "outputs": [],
   "source": [
    "    (train_images, att_train, train_labels), testSets = \\\n",
    "        getData(  indexFileRoot='pickles/testIndexesRot', testTrainSplit=0.15, nChannels=2)\n",
    "    \n",
    "    test_labels, test_images, test_ids = None, None, None\n",
    "    for i in testSets.keys():\n",
    "        if test_labels is None:\n",
    "            test_images = testSets[i]['images']\n",
    "            test_labels = testSets[i]['labels']\n",
    "            test_ids = testSets[i]['clusterID']\n",
    "        else:\n",
    "            test_labels = np.vstack((test_labels, testSets[i]['labels']))\n",
    "            test_images = np.vstack((test_images, testSets[i]['images']))\n",
    "            test_ids = np.vstack((test_ids, testSets[i]['clusterID']))\n",
    "    nClasses = len(np.unique(train_labels))\n",
    "    \n",
    "\n",
    "    #Flipping\n",
    "    nFlip = 2\n",
    "    nRotations = 10\n",
    "\n",
    "\n",
    "    allRotatedImages = []\n",
    "    allRotatedLabels = []\n",
    "    \n",
    "    imageSize = train_images[0, :,:, 0].shape[0]//2\n",
    "    csv_file = 'pickles/testAugCombAllChannel_finalLayer_2048_dropout_0.3.csv' \n",
    "    \n",
    "    csv_logger = CSVLogger(csv_file, append=True)\n",
    "    model_file =  'pickles/testAugCombAllChannel_finalLayer_2048_dropout_0.3.h5' \n",
    "    \n",
    "    #if os.path.isfile( csv_file ):\n",
    "    #    previousEpochs = np.loadtxt( csv_file, delimiter=',',skiprows=1 )\n",
    "    #    initial_epoch = previousEpochs.shape[0]\n",
    "    #else:\n",
    "    #    initial_epoch = 0\n",
    "        \n",
    "    if os.path.isfile(model_file):\n",
    "        print(\"FOUND PREVIOUS MODEL, LOADING...\")\n",
    "        model = models.load_model(model_file)\n",
    "    else:\n",
    "        for iImage in range(train_images.shape[0]):\n",
    "            \n",
    "            for iRotation in range(nRotations):\n",
    "                rotAngle = np.random.uniform(0, 360)\n",
    "                for iFlip in range(nFlip):\n",
    "                    if iFlip == 0:\n",
    "                        flippedImage = train_images[iImage, :,:, :]\n",
    "                    elif iFlip == 1:\n",
    "                        flippedImage = train_images[iImage, ::-1,:, :]\n",
    "\n",
    "                    \n",
    "                    for iChannel in range(flippedImage.shape[-1]):\n",
    "                        \n",
    "                        rotatedImage = rotate(flippedImage[:,:,iChannel], rotAngle)\n",
    "                        centralPix = rotatedImage.shape[0]//2\n",
    "                        croppedImage = rotatedImage[centralPix-imageSize//2:centralPix+imageSize//2,\\\n",
    "                                                centralPix-imageSize//2:centralPix+imageSize//2 ]\n",
    "                        if iChannel == 0:\n",
    "                            finalImage = croppedImage\n",
    "                        else:\n",
    "                            finalImage = np.dstack( (finalImage, croppedImage))\n",
    "                        \n",
    "                    allRotatedImages.append( finalImage )\n",
    "                    allRotatedLabels.append( train_labels[iImage,0])  \n",
    "            \n",
    "            \n",
    "            \n",
    "        allRotatedImages = np.array(allRotatedImages)\n",
    "        newImages = allRotatedImages[:,:,:,np.newaxis]\n",
    "        allRotatedLabels = np.array(allRotatedLabels)\n",
    "        newLabels = allRotatedLabels[:,np.newaxis]\n",
    "        print(\"Training size is %i\" % newImages.shape[0])\n",
    "        inputShape = allRotatedImages.shape[1:]    \n"
   ]
  },
  {
   "cell_type": "code",
   "execution_count": null,
   "metadata": {},
   "outputs": [],
   "source": [
    "newImages.shape"
   ]
  },
  {
   "cell_type": "code",
   "execution_count": null,
   "metadata": {},
   "outputs": [],
   "source": [
    "        #Need to reshape the testimages\n",
    "        croppedTestImages = []\n",
    "        \n",
    "        for iImage in range(test_images.shape[0]):\n",
    "            croppedImage = test_images[iImage, centralPix-imageSize//2:centralPix+imageSize//2,\\\n",
    "                                                centralPix-imageSize//2:centralPix+imageSize//2, :]\n",
    "            croppedTestImages.append(croppedImage)\n",
    "            \n",
    "        croppedTestImages = np.array(croppedTestImages)"
   ]
  },
  {
   "cell_type": "code",
   "execution_count": null,
   "metadata": {},
   "outputs": [],
   "source": [
    "model = simpleCNN.getModel( inputShape, nClasses, nAttributes=0, dropout=0.2, finalLayer=2048, learning_rate=3e-6)\n"
   ]
  },
  {
   "cell_type": "code",
   "execution_count": null,
   "metadata": {},
   "outputs": [],
   "source": [
    "model.summary()"
   ]
  },
  {
   "cell_type": "code",
   "execution_count": null,
   "metadata": {},
   "outputs": [],
   "source": [
    "        \n",
    "history = model.fit(allRotatedImages, newLabels, epochs=10, \n",
    "                    initial_epoch=initial_epoch,\n",
    "                    validation_data=(test_images, test_labels),\n",
    "                       callbacks=csv_logger)"
   ]
  },
  {
   "cell_type": "code",
   "execution_count": null,
   "metadata": {},
   "outputs": [],
   "source": []
  }
 ],
 "metadata": {
  "kernelspec": {
   "display_name": "Python 3 (ipykernel)",
   "language": "python",
   "name": "python3"
  },
  "language_info": {
   "codemirror_mode": {
    "name": "ipython",
    "version": 3
   },
   "file_extension": ".py",
   "mimetype": "text/x-python",
   "name": "python",
   "nbconvert_exporter": "python",
   "pygments_lexer": "ipython3",
   "version": "3.10.9"
  }
 },
 "nbformat": 4,
 "nbformat_minor": 4
}
