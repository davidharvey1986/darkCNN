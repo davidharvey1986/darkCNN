{
 "cells": [
  {
   "cell_type": "code",
   "execution_count": 11,
   "metadata": {
    "tags": []
   },
   "outputs": [],
   "source": [
    "%load_ext autoreload\n",
    "%autoreload 2"
   ]
  },
  {
   "cell_type": "code",
   "execution_count": 1,
   "metadata": {
    "tags": []
   },
   "outputs": [],
   "source": [
    "from globalVariables import *\n",
    "import simpleCNNwithInception as inceptionCNN\n",
    "import simpleCNN as simpleCNN\n",
    "import simpleCNNwithInceptionRegression as regressor\n",
    "from keras.callbacks import CSVLogger\n",
    "from scipy.ndimage import rotate\n",
    "from getSIDMdata_generator import get_tf_DataSet as getGenerators\n",
    "import scienceplots\n",
    "plt.style.use([\"science\", \"grid\"])"
   ]
  },
  {
   "cell_type": "markdown",
   "metadata": {},
   "source": [
    "Objectives\n",
    "----------\n",
    "1. To see if adding channels increases the accuracy of the model\n",
    "2. To see if adding correlation functions between models increases the accuracy of the model\n",
    "\n",
    "Conclusions\n",
    "-----------\n",
    "\n"
   ]
  },
  {
   "cell_type": "code",
   "execution_count": 13,
   "metadata": {
    "tags": []
   },
   "outputs": [],
   "source": [
    "simulationNames = ['CDM','SIDM0.1','SIDM1']\n",
    "nClasses = len(simulationNames)\n",
    "epochs=80"
   ]
  },
  {
   "cell_type": "markdown",
   "metadata": {
    "tags": []
   },
   "source": [
    "#### 1. Get the fiducial (total only)"
   ]
  },
  {
   "cell_type": "code",
   "execution_count": null,
   "metadata": {
    "tags": []
   },
   "outputs": [],
   "source": [
    "fiducial_train_ds, fiducial_test_ds  = getGenerators(augment_data=True, simulationNames=simulationNames, channels=['total'], \n",
    "                                                      allDataFile='pickles/binned_data_20.pkl')\n",
    "total_only = simpleCNN.getModel_ds(nClasses)\n",
    "history = total_only.fit(\n",
    "  x=fiducial_train_ds,\n",
    "  validation_data=fiducial_test_ds,\n",
    "  epochs=epochs\n",
    ")"
   ]
  },
  {
   "cell_type": "markdown",
   "metadata": {
    "tags": []
   },
   "source": [
    "#### 2. Add stellar channel and see what that does."
   ]
  },
  {
   "cell_type": "code",
   "execution_count": null,
   "metadata": {
    "tags": []
   },
   "outputs": [],
   "source": [
    "fiducial_train_ds, fiducial_test_ds  = getGenerators(augment_data=True, simulationNames=simulationNames, channels=['total','stellar'], \n",
    "                                                      allDataFile='pickles/binned_data_20.pkl')\n",
    "tot_stellar = simpleCNN.getModel_ds(nClasses)\n",
    "history = tot_stellar.fit(\n",
    "  x=fiducial_train_ds,\n",
    "  validation_data=fiducial_test_ds,\n",
    "  epochs=epochs\n",
    ")"
   ]
  },
  {
   "cell_type": "markdown",
   "metadata": {
    "tags": []
   },
   "source": [
    "#### 3. Add xray channel and see what that does."
   ]
  },
  {
   "cell_type": "code",
   "execution_count": null,
   "metadata": {
    "tags": []
   },
   "outputs": [],
   "source": [
    "fiducial_train_ds, fiducial_test_ds  = getGenerators(augment_data=True, simulationNames=simulationNames, channels=['total','xray'], \n",
    "                                                      allDataFile='pickles/binned_data_20.pkl')\n",
    "tot_xray = simpleCNN.getModel_ds(nClasses)\n",
    "history = tot_xray.fit(\n",
    "  x=fiducial_train_ds,\n",
    "  validation_data=fiducial_test_ds,\n",
    "  epochs=epochs\n",
    ")"
   ]
  },
  {
   "cell_type": "markdown",
   "metadata": {},
   "source": [
    "#### 4. xray and stellar channel and see what that does."
   ]
  },
  {
   "cell_type": "code",
   "execution_count": null,
   "metadata": {
    "tags": []
   },
   "outputs": [],
   "source": [
    "fiducial_train_ds, fiducial_test_ds  = getGenerators(augment_data=True, simulationNames=simulationNames, channels=['stellar','xray'], \n",
    "                                                      allDataFile='pickles/binned_data_20.pkl')\n",
    "stel_xr = simpleCNN.getModel_ds(nClasses)\n",
    "history = stel_xr.fit(\n",
    "  x=fiducial_train_ds,\n",
    "  validation_data=fiducial_test_ds,\n",
    "  epochs=epochs\n",
    ")"
   ]
  },
  {
   "cell_type": "markdown",
   "metadata": {
    "tags": []
   },
   "source": [
    "#### 5. Add all"
   ]
  },
  {
   "cell_type": "code",
   "execution_count": null,
   "metadata": {
    "tags": []
   },
   "outputs": [],
   "source": [
    "fiducial_train_ds, fiducial_test_ds  = getGenerators(augment_data=True, simulationNames=simulationNames, channels=['total','stellar','xray'], \n",
    "                                                      allDataFile='pickles/binned_data_20.pkl')\n",
    "all_channels = simpleCNN.getModel_ds(nClasses)\n",
    "history = all_channels.fit(\n",
    "  x=fiducial_train_ds,\n",
    "  validation_data=fiducial_test_ds,\n",
    "  epochs=epochs\n",
    ")"
   ]
  },
  {
   "cell_type": "markdown",
   "metadata": {
    "jp-MarkdownHeadingCollapsed": true,
    "tags": []
   },
   "source": [
    "#### 5. Add correlation functions"
   ]
  },
  {
   "cell_type": "code",
   "execution_count": null,
   "metadata": {
    "tags": []
   },
   "outputs": [],
   "source": [
    "train_ds, test_ds = get_tf_DataSet( augment_data=True, correlations=[['total','stellar']], \n",
    "                                  simulationNames=['CDM','SIDM1'])"
   ]
  },
  {
   "cell_type": "code",
   "execution_count": null,
   "metadata": {
    "tags": []
   },
   "outputs": [],
   "source": [
    "epochs=20\n",
    "correlation_model = simpleCNN.getModel_ds(train_ds.num_classes)\n",
    "\n",
    "cor_history = correlation_model.fit(\n",
    "  x=train_ds,\n",
    "    validation_data=test_ds,\n",
    "  epochs=epochs\n",
    ")\n"
   ]
  },
  {
   "cell_type": "markdown",
   "metadata": {
    "jp-MarkdownHeadingCollapsed": true,
    "tags": []
   },
   "source": [
    "#### 6. Add correlation functions and stellar"
   ]
  },
  {
   "cell_type": "code",
   "execution_count": null,
   "metadata": {
    "tags": []
   },
   "outputs": [],
   "source": [
    "train_ds, test_ds = get_tf_DataSet( augment_data=True, channels=['total','stellar'], \n",
    "                                   correlations=[['total','stellar']],simulationNames=['CDM','SIDM1'])"
   ]
  },
  {
   "cell_type": "code",
   "execution_count": null,
   "metadata": {
    "tags": []
   },
   "outputs": [],
   "source": [
    "epochs=20\n",
    "correlation_model_w_stellar = simpleCNN.getModel_ds(train_ds.num_classes)\n",
    "\n",
    "cor_w_stel_history = correlation_model_w_stellar.fit(\n",
    "  x=train_ds,\n",
    "    validation_data=test_ds,\n",
    "  epochs=epochs\n",
    ")"
   ]
  },
  {
   "cell_type": "markdown",
   "metadata": {},
   "source": [
    "#### Results"
   ]
  },
  {
   "cell_type": "code",
   "execution_count": null,
   "metadata": {
    "tags": []
   },
   "outputs": [],
   "source": [
    "models =[total_only, tot_stellar, tot_xray, all_channels ]\n",
    "savethese = [ i.history.history for i in models ]\n",
    "pkl.dump(savethese, open(\"pickles/add_channel_test.pkl\",\"wb\"))"
   ]
  },
  {
   "cell_type": "code",
   "execution_count": 3,
   "metadata": {
    "tags": []
   },
   "outputs": [
    {
     "data": {
      "image/png": "[encoded data removed]",
      "text/plain": [
       "<Figure size 500x300 with 1 Axes>"
      ]
     },
     "metadata": {},
     "output_type": "display_data"
    }
   ],
   "source": [
    "plt.figure(figsize=(5,3))\n",
    "plt.xlabel('Epoch')\n",
    "plt.ylabel('Validation Acccuracy')\n",
    "models = pkl.load(open(\"pickles/add_channel_test.pkl\",\"rb\"))\n",
    "\n",
    "c = ['r','b','g','c','y','k']\n",
    "names = ['Total Only','Total + Optical','Total + X-Ray','Optical + X-Ray','corr','corr+stellar']\n",
    "for i, iModel in enumerate(models):\n",
    "    plt.plot(np.arange(len(iModel['val_accuracy'])), iModel['val_accuracy'], label=names[i], c=c[i])\n",
    "    #plt.plot(iModel.history.epoch, [np.max(iModel.history.history['val_accuracy'])]*len(iModel.history.epoch), c=c[i])\n",
    "    #print(np.max(iModel.history.history['val_accuracy']))\n",
    "\n",
    "plt.legend()\n",
    "plt.savefig(\"../plots/input_channels.pdf\")"
   ]
  },
  {
   "cell_type": "markdown",
   "metadata": {
    "jp-MarkdownHeadingCollapsed": true,
    "tags": []
   },
   "source": [
    "### The old way i did it\n",
    "Add channels simply with a multi layered input, however the memory blows up when augmented"
   ]
  },
  {
   "cell_type": "markdown",
   "metadata": {},
   "source": [
    "So trying adding channels simply with a model per channel"
   ]
  },
  {
   "cell_type": "code",
   "execution_count": null,
   "metadata": {},
   "outputs": [],
   "source": [
    "(train_images, train_att, train_labels), testSets = \\\n",
    "        getData(  indexFileRoot='pickles/testIndexes', testTrainSplit=0.15, nChannels=2)\n",
    "\n",
    "test_labels, test_images, test_att = None, None, None\n",
    "for i in testSets.keys():\n",
    "    if test_labels is None:\n",
    "        test_images = testSets[i]['images']\n",
    "        test_labels = testSets[i]['labels']\n",
    "    else:\n",
    "        test_labels = np.vstack((test_labels, testSets[i]['labels']))\n",
    "        test_images = np.vstack((test_images, testSets[i]['images']))\n",
    "        \n",
    "nClasses = len(np.unique(train_labels))\n",
    "inputShape = train_images.shape[1:]\n",
    "nAttributes = train_att.shape[1]\n",
    "\n",
    "color=['r','g','b','c']\n",
    "\n",
    "#Test the momentum on reliability\n",
    "\n",
    "csv_file = 'pickles/addAttributesAddChannelWithModel_SGD.csv'\n",
    "csv_logger = CSVLogger(csv_file, append=True)\n",
    "model_file =  'pickles/addAttributesAddChannelWithModel_SGD.h5'\n",
    "    \n",
    "if os.path.isfile( csv_file ):\n",
    "    previousEpochs = np.loadtxt( csv_file, delimiter=',',skiprows=1 )\n",
    "    initial_epoch = previousEpochs.shape[0]\n",
    "else:\n",
    "    initial_epoch = 0\n",
    "        \n",
    "if os.path.isfile(model_file):\n",
    "    print(\"FOUND PREVIOUS MODEL, LOADING...\")\n",
    "    model = models.load_model(model_file)\n",
    "else:\n",
    "    model = simpleCNN.getModelSeparateChannels( inputShape, nClasses, nAttributes=0, \\\n",
    "                               momentum=0.9, finalLayer=256, learning_rate=1e-4)\n",
    "    \n",
    "nChannels = train_images.shape[-1]\n",
    "inputLayer = [ train_images[:,:,:,i][:,:,:,np.newaxis] for i in range(nChannels)]\n",
    "testInputLayer = [ test_images[:,:,:,i][:,:,:,np.newaxis] for i in range(nChannels)]\n",
    "\n",
    "\n",
    "history = model.fit(inputLayer, train_labels, epochs=40, \n",
    "                    initial_epoch=0,\n",
    "                    validation_data=(testInputLayer, test_labels),\n",
    "                       callbacks=csv_logger)\n",
    "model.save(model_file)\n",
    "\n"
   ]
  },
  {
   "cell_type": "code",
   "execution_count": null,
   "metadata": {},
   "outputs": [],
   "source": []
  },
  {
   "cell_type": "code",
   "execution_count": null,
   "metadata": {},
   "outputs": [],
   "source": [
    "train_images.shape"
   ]
  },
  {
   "cell_type": "code",
   "execution_count": null,
   "metadata": {},
   "outputs": [],
   "source": [
    "(train_images, train_att, train_labels), testSets = \\\n",
    "        getData(  indexFileRoot='pickles/testIndexes', testTrainSplit=0.15, nChannels=2)\n",
    "\n",
    "test_labels, test_images, test_att = None, None, None\n",
    "for i in testSets.keys():\n",
    "    if test_labels is None:\n",
    "        test_images = testSets[i]['images']\n",
    "        test_labels = testSets[i]['labels']\n",
    "    else:\n",
    "        test_labels = np.vstack((test_labels, testSets[i]['labels']))\n",
    "        test_images = np.vstack((test_images, testSets[i]['images']))\n",
    "        \n",
    "nClasses = len(np.unique(train_labels))\n",
    "inputShape = train_images.shape[1:]\n",
    "nAttributes = train_att.shape[1]\n",
    "\n",
    "\n",
    "color=['r','g','b','c']\n",
    "\n",
    "#Test the momentum on reliability\n",
    "\n",
    "csv_file = 'pickles/addAttributesAddChannel_SGD.csv'\n",
    "csv_logger = CSVLogger(csv_file, append=True)\n",
    "model_file =  'pickles/addAttributesAddChannel_SGD.h5'\n",
    "    \n",
    "if os.path.isfile( csv_file ):\n",
    "    previousEpochs = np.loadtxt( csv_file, delimiter=',',skiprows=1 )\n",
    "    initial_epoch = previousEpochs.shape[0]\n",
    "else:\n",
    "    initial_epoch = 0\n",
    "        \n",
    "if os.path.isfile(model_file):\n",
    "    print(\"FOUND PREVIOUS MODEL, LOADING...\")\n",
    "    model = models.load_model(model_file)\n",
    "else:\n",
    "    model = simpleCNN.getModel( inputShape, nClasses, nAttributes=0, \\\n",
    "                               momentum=0.9, finalLayer=256, learning_rate=1e-4)\n",
    "    \n",
    "nChannels = train_images.shape[-1]\n",
    "\n",
    "\n",
    "history = model.fit(train_images, train_labels, epochs=40, \n",
    "                    initial_epoch=0,\n",
    "                    validation_data=(test_images, test_labels),\n",
    "                       callbacks=csv_logger)\n",
    "model.save(model_file)\n",
    "\n"
   ]
  },
  {
   "cell_type": "code",
   "execution_count": null,
   "metadata": {},
   "outputs": [],
   "source": [
    "(train_images, train_att, train_labels), testSets = \\\n",
    "        getData(  indexFileRoot='pickles/testIndexes', testTrainSplit=0.15, nChannels=3)\n",
    "\n",
    "test_labels, test_images, test_att = None, None, None\n",
    "for i in testSets.keys():\n",
    "    if test_labels is None:\n",
    "        test_images = testSets[i]['images']\n",
    "        test_labels = testSets[i]['labels']\n",
    "    else:\n",
    "        test_labels = np.vstack((test_labels, testSets[i]['labels']))\n",
    "        test_images = np.vstack((test_images, testSets[i]['images']))\n",
    "        \n",
    "\n",
    "\n",
    "color=['r','g','b','c']\n",
    "\n",
    "train_images[:, :, :, 1] =  train_images[:,:,:,2]\n",
    "train_images = train_images[:, :, :, :2]\n",
    "\n",
    "\n",
    "test_images[:, :, :, 1] =  test_images[:,:,:,2]\n",
    "test_images = test_images[:, :, :, :2]\n",
    "\n",
    "nClasses = len(np.unique(train_labels))\n",
    "inputShape = train_images.shape[1:]\n",
    "nAttributes = train_att.shape[1]\n",
    "\n",
    "#Test the momentum on reliability\n",
    "\n",
    "csv_file = 'pickles/addAttributesAddChannelStellar_SGD.csv'\n",
    "csv_logger = CSVLogger(csv_file, append=True)\n",
    "model_file =  'pickles/addAttributesAddChannelStellar_SGD.h5'\n",
    "    \n",
    "if os.path.isfile( csv_file ):\n",
    "    previousEpochs = np.loadtxt( csv_file, delimiter=',',skiprows=1 )\n",
    "    initial_epoch = previousEpochs.shape[0]\n",
    "else:\n",
    "    initial_epoch = 0\n",
    "        \n",
    "if os.path.isfile(model_file):\n",
    "    print(\"FOUND PREVIOUS MODEL, LOADING...\")\n",
    "    model = models.load_model(model_file)\n",
    "else:\n",
    "    model = simpleCNN.getModel( inputShape, nClasses, nAttributes=0, \\\n",
    "                               momentum=0.9, finalLayer=256, learning_rate=1e-4)\n",
    "    \n",
    "nChannels = train_images.shape[-1]\n",
    "\n",
    "\n",
    "history = model.fit(train_images, train_labels, epochs=40, \n",
    "                    initial_epoch=0,\n",
    "                    validation_data=(test_images, test_labels),\n",
    "                       callbacks=csv_logger)\n",
    "model.save(model_file)\n",
    "\n"
   ]
  },
  {
   "cell_type": "code",
   "execution_count": null,
   "metadata": {},
   "outputs": [],
   "source": [
    "(train_images, train_att, train_labels), testSets = \\\n",
    "        getData(  indexFileRoot='pickles/testIndexes', testTrainSplit=0.15, nChannels=3)\n",
    "\n",
    "test_labels, test_images, test_att = None, None, None\n",
    "for i in testSets.keys():\n",
    "    if test_labels is None:\n",
    "        test_images = testSets[i]['images']\n",
    "        test_labels = testSets[i]['labels']\n",
    "    else:\n",
    "        test_labels = np.vstack((test_labels, testSets[i]['labels']))\n",
    "        test_images = np.vstack((test_images, testSets[i]['images']))\n",
    "        \n",
    "\n",
    "\n",
    "color=['r','g','b','c']\n",
    "\n",
    "nClasses = len(np.unique(train_labels))\n",
    "inputShape = train_images.shape[1:]\n",
    "nAttributes = train_att.shape[1]\n",
    "\n",
    "#Test the momentum on reliability\n",
    "\n",
    "csv_file = 'pickles/addAttributesAddChannelAll_SGD.csv'\n",
    "csv_logger = CSVLogger(csv_file, append=True)\n",
    "model_file =  'pickles/addAttributesAddChannelAll_SGD.h5'\n",
    "    \n",
    "if os.path.isfile( csv_file ):\n",
    "    previousEpochs = np.loadtxt( csv_file, delimiter=',',skiprows=1 )\n",
    "    initial_epoch = previousEpochs.shape[0]\n",
    "else:\n",
    "    initial_epoch = 0\n",
    "        \n",
    "if os.path.isfile(model_file):\n",
    "    print(\"FOUND PREVIOUS MODEL, LOADING...\")\n",
    "    model = models.load_model(model_file)\n",
    "else:\n",
    "    model = simpleCNN.getModel( inputShape, nClasses, nAttributes=0, \\\n",
    "                               momentum=0.9, finalLayer=256, learning_rate=1e-4)\n",
    "    \n",
    "nChannels = train_images.shape[-1]\n",
    "\n",
    "\n",
    "history = model.fit(train_images, train_labels, epochs=40, \n",
    "                    initial_epoch=0,\n",
    "                    validation_data=(test_images, test_labels),\n",
    "                       callbacks=csv_logger)\n",
    "model.save(model_file)\n",
    "\n"
   ]
  },
  {
   "cell_type": "code",
   "execution_count": null,
   "metadata": {},
   "outputs": [],
   "source": [
    "(train_images, train_att, train_labels), testSets = \\\n",
    "        getData(  indexFileRoot='pickles/testIndexes', testTrainSplit=0.15, nChannels=2)\n",
    "\n",
    "test_labels, test_images, test_att = None, None, None\n",
    "for i in testSets.keys():\n",
    "    if test_labels is None:\n",
    "        test_images = testSets[i]['images']\n",
    "        test_labels = testSets[i]['labels']\n",
    "    else:\n",
    "        test_labels = np.vstack((test_labels, testSets[i]['labels']))\n",
    "        test_images = np.vstack((test_images, testSets[i]['images']))\n",
    "        \n",
    "\n",
    "\n",
    "color=['r','g','b','c']\n",
    "\n",
    "nClasses = len(np.unique(train_labels))\n",
    "inputShape = train_images.shape[1:]\n",
    "nAttributes = train_att.shape[1]\n",
    "\n",
    "#Test the momentum on reliability\n",
    "\n",
    "csv_file = 'pickles/addAttributesAddChannelDepthWise_2_SGD.csv'\n",
    "csv_logger = CSVLogger(csv_file, append=True)\n",
    "model_file =  'pickles/addAttributesAddChannelDepthWise_2_SGD.h5'\n",
    "    \n",
    "if os.path.isfile( csv_file ):\n",
    "    previousEpochs = np.loadtxt( csv_file, delimiter=',',skiprows=1 )\n",
    "    initial_epoch = previousEpochs.shape[0]\n",
    "else:\n",
    "    initial_epoch = 0\n",
    "        \n",
    "if os.path.isfile(model_file):\n",
    "    print(\"FOUND PREVIOUS MODEL, LOADING...\")\n",
    "    model = models.load_model(model_file)\n",
    "else:\n",
    "    model = simpleCNN.getDepthWiseConvolution( inputShape, nClasses, nAttributes=0, \\\n",
    "                              momentum=0.9, finalLayer=256, learning_rate=1e-4)\n",
    "model.summary()\n",
    "\n",
    "nChannels = train_images.shape[-1]\n",
    "\n",
    "\n",
    "history = model.fit(train_images, train_labels, epochs=40, \n",
    "                    initial_epoch=0,\n",
    "                    validation_data=(test_images, test_labels),\n",
    "                       callbacks=csv_logger)\n",
    "model.save(model_file)\n",
    "\n"
   ]
  }
 ],
 "metadata": {
  "kernelspec": {
   "display_name": "Python 3 (ipykernel)",
   "language": "python",
   "name": "python3"
  },
  "language_info": {
   "codemirror_mode": {
    "name": "ipython",
    "version": 3
   },
   "file_extension": ".py",
   "mimetype": "text/x-python",
   "name": "python",
   "nbconvert_exporter": "python",
   "pygments_lexer": "ipython3",
   "version": "3.10.9"
  }
 },
 "nbformat": 4,
 "nbformat_minor": 4
}
