{
 "cells": [
  {
   "cell_type": "code",
   "execution_count": 1,
   "metadata": {},
   "outputs": [],
   "source": [
    "%load_ext autoreload\n",
    "%autoreload 2"
   ]
  },
  {
   "cell_type": "code",
   "execution_count": 2,
   "metadata": {},
   "outputs": [],
   "source": [
    "from globalVariables import *\n",
    "import simpleCNNwithInception as inceptionCNN\n",
    "import simpleCNN as simpleCNN\n",
    "import simpleCNNwithInceptionRegression as regressor\n",
    "from keras.callbacks import CSVLogger\n",
    "from scipy.ndimage import rotate\n",
    "from tools import plot_confusion_matrix"
   ]
  },
  {
   "cell_type": "markdown",
   "metadata": {},
   "source": [
    "#### 1. Fiducial, all four models"
   ]
  },
  {
   "cell_type": "code",
   "execution_count": 5,
   "metadata": {},
   "outputs": [
    {
     "name": "stdout",
     "output_type": "stream",
     "text": [
      "WARNING:tensorflow:Using a while_loop for converting RngReadAndSkip cause there is no registered converter for this op.\n"
     ]
    },
    {
     "name": "stderr",
     "output_type": "stream",
     "text": [
      "WARNING:tensorflow:Using a while_loop for converting RngReadAndSkip cause there is no registered converter for this op.\n"
     ]
    },
    {
     "name": "stdout",
     "output_type": "stream",
     "text": [
      "WARNING:tensorflow:Using a while_loop for converting Bitcast cause there is no registered converter for this op.\n"
     ]
    },
    {
     "name": "stderr",
     "output_type": "stream",
     "text": [
      "WARNING:tensorflow:Using a while_loop for converting Bitcast cause there is no registered converter for this op.\n"
     ]
    },
    {
     "name": "stdout",
     "output_type": "stream",
     "text": [
      "WARNING:tensorflow:Using a while_loop for converting Bitcast cause there is no registered converter for this op.\n"
     ]
    },
    {
     "name": "stderr",
     "output_type": "stream",
     "text": [
      "WARNING:tensorflow:Using a while_loop for converting Bitcast cause there is no registered converter for this op.\n"
     ]
    },
    {
     "name": "stdout",
     "output_type": "stream",
     "text": [
      "WARNING:tensorflow:Using a while_loop for converting StatelessRandomUniformV2 cause there is no registered converter for this op.\n"
     ]
    },
    {
     "name": "stderr",
     "output_type": "stream",
     "text": [
      "WARNING:tensorflow:Using a while_loop for converting StatelessRandomUniformV2 cause there is no registered converter for this op.\n"
     ]
    },
    {
     "name": "stdout",
     "output_type": "stream",
     "text": [
      "WARNING:tensorflow:Using a while_loop for converting ImageProjectiveTransformV3 cause there is no registered converter for this op.\n"
     ]
    },
    {
     "name": "stderr",
     "output_type": "stream",
     "text": [
      "WARNING:tensorflow:Using a while_loop for converting ImageProjectiveTransformV3 cause there is no registered converter for this op.\n"
     ]
    },
    {
     "name": "stdout",
     "output_type": "stream",
     "text": [
      "WARNING:tensorflow:Using a while_loop for converting RngReadAndSkip cause there is no registered converter for this op.\n"
     ]
    },
    {
     "name": "stderr",
     "output_type": "stream",
     "text": [
      "WARNING:tensorflow:Using a while_loop for converting RngReadAndSkip cause there is no registered converter for this op.\n"
     ]
    },
    {
     "name": "stdout",
     "output_type": "stream",
     "text": [
      "WARNING:tensorflow:Using a while_loop for converting Bitcast cause there is no registered converter for this op.\n"
     ]
    },
    {
     "name": "stderr",
     "output_type": "stream",
     "text": [
      "WARNING:tensorflow:Using a while_loop for converting Bitcast cause there is no registered converter for this op.\n"
     ]
    },
    {
     "name": "stdout",
     "output_type": "stream",
     "text": [
      "WARNING:tensorflow:Using a while_loop for converting Bitcast cause there is no registered converter for this op.\n"
     ]
    },
    {
     "name": "stderr",
     "output_type": "stream",
     "text": [
      "WARNING:tensorflow:Using a while_loop for converting Bitcast cause there is no registered converter for this op.\n"
     ]
    },
    {
     "name": "stdout",
     "output_type": "stream",
     "text": [
      "WARNING:tensorflow:Using a while_loop for converting StatelessRandomUniformV2 cause there is no registered converter for this op.\n"
     ]
    },
    {
     "name": "stderr",
     "output_type": "stream",
     "text": [
      "WARNING:tensorflow:Using a while_loop for converting StatelessRandomUniformV2 cause there is no registered converter for this op.\n"
     ]
    },
    {
     "name": "stdout",
     "output_type": "stream",
     "text": [
      "WARNING:tensorflow:Using a while_loop for converting ImageProjectiveTransformV3 cause there is no registered converter for this op.\n"
     ]
    },
    {
     "name": "stderr",
     "output_type": "stream",
     "text": [
      "WARNING:tensorflow:Using a while_loop for converting ImageProjectiveTransformV3 cause there is no registered converter for this op.\n"
     ]
    },
    {
     "name": "stdout",
     "output_type": "stream",
     "text": [
      "Epoch 1/20\n",
      "60/60 [==============================] - 5s 78ms/step - loss: 0.6857 - accuracy: 0.5500 - val_loss: 0.7017 - val_accuracy: 0.5219\n",
      "Epoch 2/20\n",
      "60/60 [==============================] - 4s 74ms/step - loss: 0.6593 - accuracy: 0.6141 - val_loss: 0.6735 - val_accuracy: 0.6159\n",
      "Epoch 3/20\n",
      "60/60 [==============================] - 4s 74ms/step - loss: 0.6277 - accuracy: 0.6562 - val_loss: 0.6313 - val_accuracy: 0.6618\n",
      "Epoch 4/20\n",
      "60/60 [==============================] - 4s 74ms/step - loss: 0.6068 - accuracy: 0.6724 - val_loss: 0.6067 - val_accuracy: 0.6973\n",
      "Epoch 5/20\n",
      "60/60 [==============================] - 4s 74ms/step - loss: 0.5896 - accuracy: 0.6917 - val_loss: 0.5882 - val_accuracy: 0.6952\n",
      "Epoch 6/20\n",
      "60/60 [==============================] - 4s 74ms/step - loss: 0.5823 - accuracy: 0.6984 - val_loss: 0.5693 - val_accuracy: 0.7161\n",
      "Epoch 7/20\n",
      "60/60 [==============================] - 5s 75ms/step - loss: 0.5694 - accuracy: 0.7089 - val_loss: 0.5739 - val_accuracy: 0.7035\n",
      "Epoch 8/20\n",
      "60/60 [==============================] - 5s 75ms/step - loss: 0.5674 - accuracy: 0.7193 - val_loss: 0.5852 - val_accuracy: 0.6973\n",
      "Epoch 9/20\n",
      "60/60 [==============================] - 5s 75ms/step - loss: 0.5716 - accuracy: 0.7141 - val_loss: 0.5933 - val_accuracy: 0.6889\n",
      "Epoch 10/20\n",
      "60/60 [==============================] - 5s 75ms/step - loss: 0.5609 - accuracy: 0.7167 - val_loss: 0.5666 - val_accuracy: 0.7056\n",
      "Epoch 11/20\n",
      "60/60 [==============================] - 5s 75ms/step - loss: 0.5627 - accuracy: 0.7167 - val_loss: 0.5703 - val_accuracy: 0.7056\n",
      "Epoch 12/20\n",
      "60/60 [==============================] - 5s 75ms/step - loss: 0.5476 - accuracy: 0.7281 - val_loss: 0.5744 - val_accuracy: 0.6994\n",
      "Epoch 13/20\n",
      "60/60 [==============================] - 5s 76ms/step - loss: 0.5511 - accuracy: 0.7271 - val_loss: 0.5703 - val_accuracy: 0.6994\n",
      "Epoch 14/20\n",
      "60/60 [==============================] - 5s 76ms/step - loss: 0.5431 - accuracy: 0.7391 - val_loss: 0.5478 - val_accuracy: 0.7328\n",
      "Epoch 15/20\n",
      "60/60 [==============================] - 5s 76ms/step - loss: 0.5425 - accuracy: 0.7354 - val_loss: 0.5603 - val_accuracy: 0.6952\n",
      "Epoch 16/20\n",
      "60/60 [==============================] - 5s 76ms/step - loss: 0.5458 - accuracy: 0.7276 - val_loss: 0.5725 - val_accuracy: 0.6806\n",
      "Epoch 17/20\n",
      "60/60 [==============================] - 5s 75ms/step - loss: 0.5421 - accuracy: 0.7359 - val_loss: 0.5706 - val_accuracy: 0.6931\n",
      "Epoch 18/20\n",
      "60/60 [==============================] - 5s 76ms/step - loss: 0.5381 - accuracy: 0.7307 - val_loss: 0.5666 - val_accuracy: 0.6952\n",
      "Epoch 19/20\n",
      "60/60 [==============================] - 5s 76ms/step - loss: 0.5431 - accuracy: 0.7328 - val_loss: 0.5686 - val_accuracy: 0.6952\n",
      "Epoch 20/20\n",
      "60/60 [==============================] - 5s 76ms/step - loss: 0.5388 - accuracy: 0.7312 - val_loss: 0.5448 - val_accuracy: 0.7203\n"
     ]
    }
   ],
   "source": [
    "train_a, test_a = get_tf_DataSet(augment_data=True, channels=['total','stellar'], \\\n",
    "                             simulationNames=['CDM','SIDM0.1'])\n",
    "dataset_to_numpy = list(train.as_numpy_iterator())\n",
    "inputShape = dataset_to_numpy[0][0].shape[1:]\n",
    "model_a = simpleCNN.getModel(inputShape, train_a.num_classes, nAttributes=0)\n",
    "epochs=20\n",
    "au_history = model_a.fit(\n",
    "  x=train_a,\n",
    "    validation_data=test_a,\n",
    "  epochs=epochs\n",
    ")"
   ]
  },
  {
   "cell_type": "code",
   "execution_count": 6,
   "metadata": {},
   "outputs": [
    {
     "name": "stdout",
     "output_type": "stream",
     "text": [
      "WARNING:tensorflow:Using a while_loop for converting RngReadAndSkip cause there is no registered converter for this op.\n"
     ]
    },
    {
     "name": "stderr",
     "output_type": "stream",
     "text": [
      "WARNING:tensorflow:Using a while_loop for converting RngReadAndSkip cause there is no registered converter for this op.\n"
     ]
    },
    {
     "name": "stdout",
     "output_type": "stream",
     "text": [
      "WARNING:tensorflow:Using a while_loop for converting Bitcast cause there is no registered converter for this op.\n"
     ]
    },
    {
     "name": "stderr",
     "output_type": "stream",
     "text": [
      "WARNING:tensorflow:Using a while_loop for converting Bitcast cause there is no registered converter for this op.\n"
     ]
    },
    {
     "name": "stdout",
     "output_type": "stream",
     "text": [
      "WARNING:tensorflow:Using a while_loop for converting Bitcast cause there is no registered converter for this op.\n"
     ]
    },
    {
     "name": "stderr",
     "output_type": "stream",
     "text": [
      "WARNING:tensorflow:Using a while_loop for converting Bitcast cause there is no registered converter for this op.\n"
     ]
    },
    {
     "name": "stdout",
     "output_type": "stream",
     "text": [
      "WARNING:tensorflow:Using a while_loop for converting StatelessRandomUniformV2 cause there is no registered converter for this op.\n"
     ]
    },
    {
     "name": "stderr",
     "output_type": "stream",
     "text": [
      "WARNING:tensorflow:Using a while_loop for converting StatelessRandomUniformV2 cause there is no registered converter for this op.\n"
     ]
    },
    {
     "name": "stdout",
     "output_type": "stream",
     "text": [
      "WARNING:tensorflow:Using a while_loop for converting ImageProjectiveTransformV3 cause there is no registered converter for this op.\n"
     ]
    },
    {
     "name": "stderr",
     "output_type": "stream",
     "text": [
      "WARNING:tensorflow:Using a while_loop for converting ImageProjectiveTransformV3 cause there is no registered converter for this op.\n"
     ]
    },
    {
     "name": "stdout",
     "output_type": "stream",
     "text": [
      "WARNING:tensorflow:Using a while_loop for converting RngReadAndSkip cause there is no registered converter for this op.\n"
     ]
    },
    {
     "name": "stderr",
     "output_type": "stream",
     "text": [
      "WARNING:tensorflow:Using a while_loop for converting RngReadAndSkip cause there is no registered converter for this op.\n"
     ]
    },
    {
     "name": "stdout",
     "output_type": "stream",
     "text": [
      "WARNING:tensorflow:Using a while_loop for converting Bitcast cause there is no registered converter for this op.\n"
     ]
    },
    {
     "name": "stderr",
     "output_type": "stream",
     "text": [
      "WARNING:tensorflow:Using a while_loop for converting Bitcast cause there is no registered converter for this op.\n"
     ]
    },
    {
     "name": "stdout",
     "output_type": "stream",
     "text": [
      "WARNING:tensorflow:Using a while_loop for converting Bitcast cause there is no registered converter for this op.\n"
     ]
    },
    {
     "name": "stderr",
     "output_type": "stream",
     "text": [
      "WARNING:tensorflow:Using a while_loop for converting Bitcast cause there is no registered converter for this op.\n"
     ]
    },
    {
     "name": "stdout",
     "output_type": "stream",
     "text": [
      "WARNING:tensorflow:Using a while_loop for converting StatelessRandomUniformV2 cause there is no registered converter for this op.\n"
     ]
    },
    {
     "name": "stderr",
     "output_type": "stream",
     "text": [
      "WARNING:tensorflow:Using a while_loop for converting StatelessRandomUniformV2 cause there is no registered converter for this op.\n"
     ]
    },
    {
     "name": "stdout",
     "output_type": "stream",
     "text": [
      "WARNING:tensorflow:Using a while_loop for converting ImageProjectiveTransformV3 cause there is no registered converter for this op.\n"
     ]
    },
    {
     "name": "stderr",
     "output_type": "stream",
     "text": [
      "WARNING:tensorflow:Using a while_loop for converting ImageProjectiveTransformV3 cause there is no registered converter for this op.\n"
     ]
    },
    {
     "name": "stdout",
     "output_type": "stream",
     "text": [
      "Epoch 1/20\n",
      "60/60 [==============================] - 5s 79ms/step - loss: 0.6906 - accuracy: 0.5281 - val_loss: 0.6817 - val_accuracy: 0.5846\n",
      "Epoch 2/20\n",
      "60/60 [==============================] - 5s 75ms/step - loss: 0.6826 - accuracy: 0.5682 - val_loss: 0.6778 - val_accuracy: 0.5658\n",
      "Epoch 3/20\n",
      "60/60 [==============================] - 5s 75ms/step - loss: 0.6731 - accuracy: 0.5844 - val_loss: 0.6716 - val_accuracy: 0.5825\n",
      "Epoch 4/20\n",
      "60/60 [==============================] - 5s 75ms/step - loss: 0.6659 - accuracy: 0.5969 - val_loss: 0.6681 - val_accuracy: 0.6054\n",
      "Epoch 5/20\n",
      "60/60 [==============================] - 5s 75ms/step - loss: 0.6594 - accuracy: 0.6099 - val_loss: 0.6598 - val_accuracy: 0.6138\n",
      "Epoch 6/20\n",
      "60/60 [==============================] - 5s 75ms/step - loss: 0.6541 - accuracy: 0.6193 - val_loss: 0.6623 - val_accuracy: 0.6013\n",
      "Epoch 7/20\n",
      "60/60 [==============================] - 5s 75ms/step - loss: 0.6493 - accuracy: 0.6240 - val_loss: 0.6630 - val_accuracy: 0.6096\n",
      "Epoch 8/20\n",
      "60/60 [==============================] - 5s 75ms/step - loss: 0.6402 - accuracy: 0.6344 - val_loss: 0.6681 - val_accuracy: 0.5908\n",
      "Epoch 9/20\n",
      "60/60 [==============================] - 5s 75ms/step - loss: 0.6260 - accuracy: 0.6495 - val_loss: 0.6645 - val_accuracy: 0.5908\n",
      "Epoch 10/20\n",
      "60/60 [==============================] - 5s 75ms/step - loss: 0.6167 - accuracy: 0.6641 - val_loss: 0.6611 - val_accuracy: 0.5950\n",
      "Epoch 11/20\n",
      "60/60 [==============================] - 5s 75ms/step - loss: 0.6170 - accuracy: 0.6745 - val_loss: 0.6327 - val_accuracy: 0.6305\n",
      "Epoch 12/20\n",
      "60/60 [==============================] - 5s 75ms/step - loss: 0.6038 - accuracy: 0.6833 - val_loss: 0.6583 - val_accuracy: 0.5908\n",
      "Epoch 13/20\n",
      "60/60 [==============================] - 4s 74ms/step - loss: 0.5980 - accuracy: 0.6833 - val_loss: 0.6309 - val_accuracy: 0.6472\n",
      "Epoch 14/20\n",
      "60/60 [==============================] - 5s 75ms/step - loss: 0.5913 - accuracy: 0.6891 - val_loss: 0.6304 - val_accuracy: 0.6263\n",
      "Epoch 15/20\n",
      "60/60 [==============================] - 5s 74ms/step - loss: 0.5913 - accuracy: 0.6979 - val_loss: 0.6081 - val_accuracy: 0.6514\n",
      "Epoch 16/20\n",
      "60/60 [==============================] - 5s 75ms/step - loss: 0.5871 - accuracy: 0.6984 - val_loss: 0.6026 - val_accuracy: 0.6743\n",
      "Epoch 17/20\n",
      "60/60 [==============================] - 5s 75ms/step - loss: 0.5856 - accuracy: 0.7021 - val_loss: 0.6000 - val_accuracy: 0.6639\n",
      "Epoch 18/20\n",
      "60/60 [==============================] - 5s 74ms/step - loss: 0.5746 - accuracy: 0.7052 - val_loss: 0.6307 - val_accuracy: 0.6409\n",
      "Epoch 19/20\n",
      "60/60 [==============================] - 5s 75ms/step - loss: 0.5815 - accuracy: 0.6979 - val_loss: 0.5968 - val_accuracy: 0.6722\n",
      "Epoch 20/20\n",
      "60/60 [==============================] - 5s 75ms/step - loss: 0.5771 - accuracy: 0.7063 - val_loss: 0.6144 - val_accuracy: 0.6367\n"
     ]
    }
   ],
   "source": [
    "train_b, test_b = get_tf_DataSet(augment_data=True, channels=['total','stellar'], \\\n",
    "                             simulationNames=['SIDM0.1','SIDM0.3'])\n",
    "dataset_to_numpy = list(train_b.as_numpy_iterator())\n",
    "inputShape = dataset_to_numpy[0][0].shape[1:]\n",
    "model_b = simpleCNN.getModel(inputShape, train_b.num_classes, nAttributes=0)\n",
    "epochs=20\n",
    "au_history = model_b.fit(\n",
    "  x=train_b,\n",
    "    validation_data=test_b,\n",
    "  epochs=epochs\n",
    ")"
   ]
  },
  {
   "cell_type": "code",
   "execution_count": 7,
   "metadata": {},
   "outputs": [
    {
     "name": "stdout",
     "output_type": "stream",
     "text": [
      "WARNING:tensorflow:Using a while_loop for converting RngReadAndSkip cause there is no registered converter for this op.\n"
     ]
    },
    {
     "name": "stderr",
     "output_type": "stream",
     "text": [
      "WARNING:tensorflow:Using a while_loop for converting RngReadAndSkip cause there is no registered converter for this op.\n"
     ]
    },
    {
     "name": "stdout",
     "output_type": "stream",
     "text": [
      "WARNING:tensorflow:Using a while_loop for converting Bitcast cause there is no registered converter for this op.\n"
     ]
    },
    {
     "name": "stderr",
     "output_type": "stream",
     "text": [
      "WARNING:tensorflow:Using a while_loop for converting Bitcast cause there is no registered converter for this op.\n"
     ]
    },
    {
     "name": "stdout",
     "output_type": "stream",
     "text": [
      "WARNING:tensorflow:Using a while_loop for converting Bitcast cause there is no registered converter for this op.\n"
     ]
    },
    {
     "name": "stderr",
     "output_type": "stream",
     "text": [
      "WARNING:tensorflow:Using a while_loop for converting Bitcast cause there is no registered converter for this op.\n"
     ]
    },
    {
     "name": "stdout",
     "output_type": "stream",
     "text": [
      "WARNING:tensorflow:Using a while_loop for converting StatelessRandomUniformV2 cause there is no registered converter for this op.\n"
     ]
    },
    {
     "name": "stderr",
     "output_type": "stream",
     "text": [
      "WARNING:tensorflow:Using a while_loop for converting StatelessRandomUniformV2 cause there is no registered converter for this op.\n"
     ]
    },
    {
     "name": "stdout",
     "output_type": "stream",
     "text": [
      "WARNING:tensorflow:Using a while_loop for converting ImageProjectiveTransformV3 cause there is no registered converter for this op.\n"
     ]
    },
    {
     "name": "stderr",
     "output_type": "stream",
     "text": [
      "WARNING:tensorflow:Using a while_loop for converting ImageProjectiveTransformV3 cause there is no registered converter for this op.\n"
     ]
    },
    {
     "name": "stdout",
     "output_type": "stream",
     "text": [
      "WARNING:tensorflow:Using a while_loop for converting RngReadAndSkip cause there is no registered converter for this op.\n"
     ]
    },
    {
     "name": "stderr",
     "output_type": "stream",
     "text": [
      "WARNING:tensorflow:Using a while_loop for converting RngReadAndSkip cause there is no registered converter for this op.\n"
     ]
    },
    {
     "name": "stdout",
     "output_type": "stream",
     "text": [
      "WARNING:tensorflow:Using a while_loop for converting Bitcast cause there is no registered converter for this op.\n"
     ]
    },
    {
     "name": "stderr",
     "output_type": "stream",
     "text": [
      "WARNING:tensorflow:Using a while_loop for converting Bitcast cause there is no registered converter for this op.\n"
     ]
    },
    {
     "name": "stdout",
     "output_type": "stream",
     "text": [
      "WARNING:tensorflow:Using a while_loop for converting Bitcast cause there is no registered converter for this op.\n"
     ]
    },
    {
     "name": "stderr",
     "output_type": "stream",
     "text": [
      "WARNING:tensorflow:Using a while_loop for converting Bitcast cause there is no registered converter for this op.\n"
     ]
    },
    {
     "name": "stdout",
     "output_type": "stream",
     "text": [
      "WARNING:tensorflow:Using a while_loop for converting StatelessRandomUniformV2 cause there is no registered converter for this op.\n"
     ]
    },
    {
     "name": "stderr",
     "output_type": "stream",
     "text": [
      "WARNING:tensorflow:Using a while_loop for converting StatelessRandomUniformV2 cause there is no registered converter for this op.\n"
     ]
    },
    {
     "name": "stdout",
     "output_type": "stream",
     "text": [
      "WARNING:tensorflow:Using a while_loop for converting ImageProjectiveTransformV3 cause there is no registered converter for this op.\n"
     ]
    },
    {
     "name": "stderr",
     "output_type": "stream",
     "text": [
      "WARNING:tensorflow:Using a while_loop for converting ImageProjectiveTransformV3 cause there is no registered converter for this op.\n"
     ]
    },
    {
     "name": "stdout",
     "output_type": "stream",
     "text": [
      "Epoch 1/20\n",
      "60/60 [==============================] - 5s 78ms/step - loss: 0.6658 - accuracy: 0.6141 - val_loss: 0.7179 - val_accuracy: 0.6013\n",
      "Epoch 2/20\n",
      "60/60 [==============================] - 5s 75ms/step - loss: 0.6071 - accuracy: 0.6677 - val_loss: 0.6311 - val_accuracy: 0.6764\n",
      "Epoch 3/20\n",
      "60/60 [==============================] - 5s 75ms/step - loss: 0.5686 - accuracy: 0.7167 - val_loss: 0.6211 - val_accuracy: 0.6889\n",
      "Epoch 4/20\n",
      "60/60 [==============================] - 5s 75ms/step - loss: 0.5571 - accuracy: 0.7177 - val_loss: 0.5587 - val_accuracy: 0.7119\n",
      "Epoch 5/20\n",
      "60/60 [==============================] - 5s 76ms/step - loss: 0.5448 - accuracy: 0.7255 - val_loss: 0.5508 - val_accuracy: 0.7286\n",
      "Epoch 6/20\n",
      "60/60 [==============================] - 5s 76ms/step - loss: 0.5379 - accuracy: 0.7302 - val_loss: 0.5440 - val_accuracy: 0.7265\n",
      "Epoch 7/20\n",
      "60/60 [==============================] - 5s 76ms/step - loss: 0.5179 - accuracy: 0.7542 - val_loss: 0.5811 - val_accuracy: 0.7223\n",
      "Epoch 8/20\n",
      "60/60 [==============================] - 5s 76ms/step - loss: 0.5179 - accuracy: 0.7578 - val_loss: 0.5377 - val_accuracy: 0.7370\n",
      "Epoch 9/20\n",
      "60/60 [==============================] - 5s 75ms/step - loss: 0.5105 - accuracy: 0.7495 - val_loss: 0.5798 - val_accuracy: 0.7119\n",
      "Epoch 10/20\n",
      "60/60 [==============================] - 5s 76ms/step - loss: 0.5118 - accuracy: 0.7557 - val_loss: 0.5630 - val_accuracy: 0.7265\n",
      "Epoch 11/20\n",
      "60/60 [==============================] - 5s 76ms/step - loss: 0.5099 - accuracy: 0.7609 - val_loss: 0.5399 - val_accuracy: 0.7349\n",
      "Epoch 12/20\n",
      "60/60 [==============================] - 5s 76ms/step - loss: 0.4986 - accuracy: 0.7667 - val_loss: 0.5276 - val_accuracy: 0.7453\n",
      "Epoch 13/20\n",
      "60/60 [==============================] - 5s 76ms/step - loss: 0.4871 - accuracy: 0.7698 - val_loss: 0.5452 - val_accuracy: 0.7307\n",
      "Epoch 14/20\n",
      "60/60 [==============================] - 5s 76ms/step - loss: 0.4935 - accuracy: 0.7651 - val_loss: 0.5564 - val_accuracy: 0.7140\n",
      "Epoch 15/20\n",
      "60/60 [==============================] - 5s 76ms/step - loss: 0.4856 - accuracy: 0.7776 - val_loss: 0.5317 - val_accuracy: 0.7286\n",
      "Epoch 16/20\n",
      "60/60 [==============================] - 5s 76ms/step - loss: 0.4788 - accuracy: 0.7729 - val_loss: 0.5802 - val_accuracy: 0.7056\n",
      "Epoch 17/20\n",
      "60/60 [==============================] - 5s 76ms/step - loss: 0.4779 - accuracy: 0.7724 - val_loss: 0.5276 - val_accuracy: 0.7328\n",
      "Epoch 18/20\n",
      "60/60 [==============================] - 5s 76ms/step - loss: 0.4792 - accuracy: 0.7677 - val_loss: 0.5152 - val_accuracy: 0.7328\n",
      "Epoch 19/20\n",
      "60/60 [==============================] - 5s 76ms/step - loss: 0.4687 - accuracy: 0.7760 - val_loss: 0.5309 - val_accuracy: 0.7453\n",
      "Epoch 20/20\n",
      "60/60 [==============================] - 5s 76ms/step - loss: 0.4703 - accuracy: 0.7776 - val_loss: 0.5037 - val_accuracy: 0.7599\n"
     ]
    }
   ],
   "source": [
    "train_c, test_c = get_tf_DataSet(augment_data=True, channels=['total','stellar'], \\\n",
    "                             simulationNames=['SIDM0.3','SIDM1'])\n",
    "dataset_to_numpy = list(train_c.as_numpy_iterator())\n",
    "inputShape = dataset_to_numpy[0][0].shape[1:]\n",
    "model_c = simpleCNN.getModel(inputShape, train_c.num_classes, nAttributes=0)\n",
    "epochs=20\n",
    "au_history = fiducial.fit(\n",
    "  x=train_c,\n",
    "    validation_data=test_c,\n",
    "  epochs=epochs\n",
    ")"
   ]
  },
  {
   "cell_type": "code",
   "execution_count": 8,
   "metadata": {},
   "outputs": [],
   "source": [
    "combined_test = test_a.concatenate(test_b)\n",
    "combined_test = combined_test.concatenate(test_c)"
   ]
  },
  {
   "cell_type": "code",
   "execution_count": 12,
   "metadata": {},
   "outputs": [],
   "source": [
    "list_of_models = [model_a, model_b, model_c]"
   ]
  },
  {
   "cell_type": "code",
   "execution_count": 19,
   "metadata": {},
   "outputs": [],
   "source": [
    "def predict( test_set, list_of_models ):\n",
    "    \n",
    "    predictions = None\n",
    "    for iL, iModel in enumerate(list_of_models):\n",
    "        \n",
    "        if predictions is None:\n",
    "            predictions = np.argmax(iModel.predict( test_set ), axis=-1)\n",
    "        else:\n",
    "            new_predict = np.argmax(iModel.predict( test_set ), axis=-1)\n",
    "            predictions[ predictions == iL ] += new_predict[ predictions == iL]\n",
    "    return predictions"
   ]
  },
  {
   "cell_type": "code",
   "execution_count": 38,
   "metadata": {},
   "outputs": [],
   "source": [
    "y_true = []\n",
    "for iY, y_test in enumerate([test_a, test_b, test_c]):\n",
    "    y_true += [ y.numpy()+iY for xb, yb in y_test for y in yb]\n",
    "    \n",
    "    "
   ]
  },
  {
   "cell_type": "code",
   "execution_count": 41,
   "metadata": {},
   "outputs": [
    {
     "name": "stderr",
     "output_type": "stream",
     "text": [
      "/data2/harvey/tensorflow/examples/tools.py:22: UserWarning: FixedFormatter should only be used together with FixedLocator\n",
      "  ax.set_xticklabels([''] + labels, size = 15)\n",
      "/data2/harvey/tensorflow/examples/tools.py:23: UserWarning: FixedFormatter should only be used together with FixedLocator\n",
      "  ax.set_yticklabels([''] + labels, size = 15)\n"
     ]
    },
    {
     "data": {
      "image/png": "[encoded data removed]",
      "text/plain": [
       "<Figure size 576x432 with 2 Axes>"
      ]
     },
     "metadata": {
      "needs_background": "light"
     },
     "output_type": "display_data"
    }
   ],
   "source": [
    "plot_confusion_matrix( y_true, y_pred)"
   ]
  },
  {
   "cell_type": "code",
   "execution_count": 20,
   "metadata": {},
   "outputs": [
    {
     "name": "stdout",
     "output_type": "stream",
     "text": [
      "45/45 [==============================] - 1s 17ms/step\n",
      "45/45 [==============================] - 1s 17ms/step\n",
      "45/45 [==============================] - 1s 17ms/step\n"
     ]
    }
   ],
   "source": [
    "y_pred = predict( combined_test, list_of_models)"
   ]
  },
  {
   "cell_type": "code",
   "execution_count": 21,
   "metadata": {},
   "outputs": [
    {
     "data": {
      "text/plain": [
       "array([2, 3, 0, ..., 3, 2, 2])"
      ]
     },
     "execution_count": 21,
     "metadata": {},
     "output_type": "execute_result"
    }
   ],
   "source": [
    "y_pred"
   ]
  },
  {
   "cell_type": "code",
   "execution_count": 22,
   "metadata": {},
   "outputs": [
    {
     "data": {
      "text/plain": [
       "(array([469.,   0.,   0., 138.,   0.,   0., 665.,   0.,   0., 165.]),\n",
       " array([0. , 0.3, 0.6, 0.9, 1.2, 1.5, 1.8, 2.1, 2.4, 2.7, 3. ]),\n",
       " <BarContainer object of 10 artists>)"
      ]
     },
     "execution_count": 22,
     "metadata": {},
     "output_type": "execute_result"
    },
    {
     "data": {
      "image/png": "[encoded data removed]",
      "text/plain": [
       "<Figure size 432x288 with 1 Axes>"
      ]
     },
     "metadata": {
      "needs_background": "light"
     },
     "output_type": "display_data"
    }
   ],
   "source": [
    "plt.hist(y_pred)"
   ]
  },
  {
   "cell_type": "code",
   "execution_count": null,
   "metadata": {},
   "outputs": [],
   "source": []
  }
 ],
 "metadata": {
  "kernelspec": {
   "display_name": "local-venv",
   "language": "python",
   "name": "local-venv"
  },
  "language_info": {
   "codemirror_mode": {
    "name": "ipython",
    "version": 3
   },
   "file_extension": ".py",
   "mimetype": "text/x-python",
   "name": "python",
   "nbconvert_exporter": "python",
   "pygments_lexer": "ipython3",
   "version": "3.10.9"
  }
 },
 "nbformat": 4,
 "nbformat_minor": 4
}
