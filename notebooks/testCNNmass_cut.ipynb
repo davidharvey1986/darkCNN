{
 "cells": [
  {
   "cell_type": "code",
   "execution_count": 2,
   "metadata": {
    "tags": []
   },
   "outputs": [],
   "source": [
    "%load_ext autoreload\n",
    "%autoreload 2"
   ]
  },
  {
   "cell_type": "code",
   "execution_count": 3,
   "metadata": {
    "tags": []
   },
   "outputs": [],
   "source": [
    "from globalVariables import *\n",
    "import simpleCNNwithInception as inceptionCNN\n",
    "import simpleCNN as simpleCNN\n",
    "import simpleCNNwithInceptionRegression as regressor\n",
    "from keras.callbacks import CSVLogger\n",
    "from scipy.ndimage import rotate\n",
    "from tools import plot_confusion_matrix"
   ]
  },
  {
   "cell_type": "markdown",
   "metadata": {},
   "source": [
    "#### 1. Fiducial, all four models"
   ]
  },
  {
   "cell_type": "code",
   "execution_count": 4,
   "metadata": {
    "tags": []
   },
   "outputs": [
    {
     "name": "stdout",
     "output_type": "stream",
     "text": [
      "WARNING:tensorflow:From /Users/davidharvey/Work/darkCNN/lib/python3.10/site-packages/tensorflow/python/autograph/pyct/static_analysis/liveness.py:83: Analyzer.lamba_check (from tensorflow.python.autograph.pyct.static_analysis.liveness) is deprecated and will be removed after 2023-09-23.\n",
      "Instructions for updating:\n",
      "Lambda fuctions will be no more assumed to be used in the statement where they are used, or at least in the same block. https://github.com/tensorflow/tensorflow/issues/56089\n",
      "WARNING:tensorflow:Using a while_loop for converting RngReadAndSkip cause there is no registered converter for this op.\n",
      "WARNING:tensorflow:Using a while_loop for converting Bitcast cause there is no registered converter for this op.\n",
      "WARNING:tensorflow:Using a while_loop for converting Bitcast cause there is no registered converter for this op.\n",
      "WARNING:tensorflow:Using a while_loop for converting StatelessRandomUniformV2 cause there is no registered converter for this op.\n",
      "WARNING:tensorflow:Using a while_loop for converting ImageProjectiveTransformV3 cause there is no registered converter for this op.\n",
      "WARNING:tensorflow:Using a while_loop for converting RngReadAndSkip cause there is no registered converter for this op.\n",
      "WARNING:tensorflow:Using a while_loop for converting Bitcast cause there is no registered converter for this op.\n",
      "WARNING:tensorflow:Using a while_loop for converting Bitcast cause there is no registered converter for this op.\n",
      "WARNING:tensorflow:Using a while_loop for converting StatelessRandomUniformV2 cause there is no registered converter for this op.\n",
      "WARNING:tensorflow:Using a while_loop for converting ImageProjectiveTransformV3 cause there is no registered converter for this op.\n"
     ]
    },
    {
     "name": "stderr",
     "output_type": "stream",
     "text": [
      "2023-02-27 16:32:54.918984: W tensorflow/tsl/platform/profile_utils/cpu_utils.cc:128] Failed to get CPU frequency: 0 Hz\n"
     ]
    },
    {
     "name": "stdout",
     "output_type": "stream",
     "text": [
      "Epoch 1/20\n",
      "120/120 [==============================] - 7s 56ms/step - loss: 1.2818 - accuracy: 0.3760 - val_loss: 1.2047 - val_accuracy: 0.4453\n",
      "Epoch 2/20\n",
      "120/120 [==============================] - 7s 60ms/step - loss: 1.1383 - accuracy: 0.4599 - val_loss: 1.1585 - val_accuracy: 0.4578\n",
      "Epoch 3/20\n",
      "120/120 [==============================] - 7s 58ms/step - loss: 1.0346 - accuracy: 0.5122 - val_loss: 0.9880 - val_accuracy: 0.5527\n",
      "Epoch 4/20\n",
      "120/120 [==============================] - 7s 59ms/step - loss: 0.9824 - accuracy: 0.5435 - val_loss: 0.9571 - val_accuracy: 0.5568\n",
      "Epoch 5/20\n",
      "120/120 [==============================] - 7s 55ms/step - loss: 0.9535 - accuracy: 0.5620 - val_loss: 0.9351 - val_accuracy: 0.5652\n",
      "Epoch 6/20\n",
      "120/120 [==============================] - 7s 59ms/step - loss: 0.9281 - accuracy: 0.5714 - val_loss: 0.9165 - val_accuracy: 0.5860\n",
      "Epoch 7/20\n",
      "120/120 [==============================] - 7s 55ms/step - loss: 0.9144 - accuracy: 0.5839 - val_loss: 0.9210 - val_accuracy: 0.5766\n",
      "Epoch 8/20\n",
      "120/120 [==============================] - 7s 59ms/step - loss: 0.9120 - accuracy: 0.5878 - val_loss: 0.9195 - val_accuracy: 0.5673\n",
      "Epoch 9/20\n",
      "120/120 [==============================] - 7s 55ms/step - loss: 0.8960 - accuracy: 0.5951 - val_loss: 0.9036 - val_accuracy: 0.5954\n",
      "Epoch 10/20\n",
      "120/120 [==============================] - 7s 56ms/step - loss: 0.8929 - accuracy: 0.5911 - val_loss: 0.9162 - val_accuracy: 0.5892\n",
      "Epoch 11/20\n",
      "120/120 [==============================] - 7s 55ms/step - loss: 0.8842 - accuracy: 0.5956 - val_loss: 0.8977 - val_accuracy: 0.6038\n",
      "Epoch 12/20\n",
      "120/120 [==============================] - 7s 55ms/step - loss: 0.8792 - accuracy: 0.6021 - val_loss: 0.8791 - val_accuracy: 0.6079\n",
      "Epoch 13/20\n",
      "120/120 [==============================] - 7s 56ms/step - loss: 0.8715 - accuracy: 0.6055 - val_loss: 0.9098 - val_accuracy: 0.5819\n",
      "Epoch 14/20\n",
      "120/120 [==============================] - 7s 56ms/step - loss: 0.8701 - accuracy: 0.6065 - val_loss: 0.9024 - val_accuracy: 0.5996\n",
      "Epoch 15/20\n",
      "120/120 [==============================] - 7s 55ms/step - loss: 0.8597 - accuracy: 0.6070 - val_loss: 0.9021 - val_accuracy: 0.5881\n",
      "Epoch 16/20\n",
      "120/120 [==============================] - 7s 56ms/step - loss: 0.8485 - accuracy: 0.6169 - val_loss: 0.9121 - val_accuracy: 0.5798\n",
      "Epoch 17/20\n",
      "120/120 [==============================] - 4s 37ms/step - loss: 0.8521 - accuracy: 0.6143 - val_loss: 0.8931 - val_accuracy: 0.5923\n",
      "Epoch 18/20\n",
      "120/120 [==============================] - 4s 36ms/step - loss: 0.8521 - accuracy: 0.6107 - val_loss: 0.9103 - val_accuracy: 0.5923\n",
      "Epoch 19/20\n",
      "120/120 [==============================] - 4s 35ms/step - loss: 0.8412 - accuracy: 0.6247 - val_loss: 0.8940 - val_accuracy: 0.5996\n",
      "Epoch 20/20\n",
      "120/120 [==============================] - 4s 36ms/step - loss: 0.8295 - accuracy: 0.6211 - val_loss: 0.8810 - val_accuracy: 0.6006\n"
     ]
    }
   ],
   "source": [
    "train_a, test_a = get_tf_DataSet(augment_data=True, channels=['total','stellar'])\n",
    "dataset_to_numpy = list(train_a.as_numpy_iterator())\n",
    "inputShape = dataset_to_numpy[0][0].shape[1:]\n",
    "model_a = simpleCNN.getModel(inputShape, train_a.num_classes, nAttributes=0)\n",
    "epochs=20\n",
    "au_history = model_a.fit(\n",
    "      x=train_a,\n",
    "        validation_data=test_a,\n",
    "      epochs=epochs, verbose=1 )"
   ]
  },
  {
   "cell_type": "code",
   "execution_count": 23,
   "metadata": {
    "tags": []
   },
   "outputs": [
    {
     "name": "stdout",
     "output_type": "stream",
     "text": [
      "0.3076923076923077\n",
      "1/1 [==============================] - 0s 17ms/step - loss: 1.1847 - accuracy: 0.4706\n",
      "0.43548387096774194\n",
      "3/3 [==============================] - 0s 10ms/step - loss: 1.2328 - accuracy: 0.5056\n",
      "0.36627906976744184\n",
      "8/8 [==============================] - 0s 11ms/step - loss: 0.9497 - accuracy: 0.5489\n",
      "0.31153846153846154\n",
      "11/11 [==============================] - 0s 11ms/step - loss: 0.8677 - accuracy: 0.5836\n",
      "0.3333333333333333\n",
      "5/5 [==============================] - 0s 11ms/step - loss: 0.7444 - accuracy: 0.6812\n",
      "0.34545454545454546\n",
      "3/3 [==============================] - 0s 10ms/step - loss: 0.6773 - accuracy: 0.7162\n",
      "0.75\n",
      "1/1 [==============================] - 0s 18ms/step - loss: 0.6356 - accuracy: 0.7619\n",
      "1.5\n",
      "1/1 [==============================] - 0s 19ms/step - loss: 0.3425 - accuracy: 1.0000\n",
      "0.14285714285714285\n",
      "1/1 [==============================] - 0s 17ms/step - loss: 0.9472 - accuracy: 0.5000\n",
      "1.0\n",
      "1/1 [==============================] - 0s 13ms/step - loss: 0.7665 - accuracy: 0.5000\n"
     ]
    }
   ],
   "source": [
    "train_a, test_a = get_tf_DataSet(augment_data=False, channels=['total','stellar'], attributes=['mass'])\n",
    "nBins = 10\n",
    "allMasses = [ i for xb, yb in test_a for i in xb[1]]\n",
    "massBins = np.linspace(14, max(allMasses), nBins+1)\n",
    "for iBin in range(nBins):\n",
    "    X_test, y_test = [], []\n",
    "    for xb, yb in test_a:\n",
    "        inBin = (xb[1] > massBins[iBin]) & (xb[1] < massBins[iBin+1])\n",
    "        X_test.append(xb[0][ inBin[:,0] ].numpy())\n",
    "        y_test.append(yb[ inBin[:,0] ].numpy())\n",
    "    y_test = np.concatenate(y_test) \n",
    "    print( len( y_test[ y_test == 0])/ len(y_test[ y_test != 0]))\n",
    "    model_a.evaluate( np.concatenate(X_test), y_test) "
   ]
  },
  {
   "cell_type": "code",
   "execution_count": 20,
   "metadata": {
    "tags": []
   },
   "outputs": [
    {
     "ename": "TypeError",
     "evalue": "object of type 'numpy.float64' has no len()",
     "output_type": "error",
     "traceback": [
      "\u001b[0;31m---------------------------------------------------------------------------\u001b[0m",
      "\u001b[0;31mTypeError\u001b[0m                                 Traceback (most recent call last)",
      "Cell \u001b[0;32mIn[20], line 1\u001b[0m\n\u001b[0;32m----> 1\u001b[0m \u001b[38;5;28;43mlen\u001b[39;49m\u001b[43m(\u001b[49m\u001b[43my_test\u001b[49m\u001b[43m[\u001b[49m\u001b[38;5;241;43m1\u001b[39;49m\u001b[43m]\u001b[49m\u001b[43m)\u001b[49m\n",
      "\u001b[0;31mTypeError\u001b[0m: object of type 'numpy.float64' has no len()"
     ]
    }
   ],
   "source": [
    "len(y_test[1])"
   ]
  },
  {
   "cell_type": "code",
   "execution_count": null,
   "metadata": {},
   "outputs": [],
   "source": []
  }
 ],
 "metadata": {
  "kernelspec": {
   "display_name": "Python 3 (ipykernel)",
   "language": "python",
   "name": "python3"
  },
  "language_info": {
   "codemirror_mode": {
    "name": "ipython",
    "version": 3
   },
   "file_extension": ".py",
   "mimetype": "text/x-python",
   "name": "python",
   "nbconvert_exporter": "python",
   "pygments_lexer": "ipython3",
   "version": "3.10.9"
  }
 },
 "nbformat": 4,
 "nbformat_minor": 4
}
