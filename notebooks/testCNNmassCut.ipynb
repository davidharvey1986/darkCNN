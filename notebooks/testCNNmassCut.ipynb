{
 "cells": [
  {
   "cell_type": "code",
   "execution_count": 1,
   "metadata": {
    "tags": []
   },
   "outputs": [],
   "source": [
    "%load_ext autoreload\n",
    "%autoreload 2"
   ]
  },
  {
   "cell_type": "code",
   "execution_count": 2,
   "metadata": {
    "tags": []
   },
   "outputs": [],
   "source": [
    "from globalVariables import *\n",
    "import simpleCNNwithInception as inceptionCNN\n",
    "import simpleCNN as simpleCNN\n",
    "import simpleCNNwithInceptionRegression as regressor\n",
    "from keras.callbacks import CSVLogger\n",
    "from scipy.ndimage import rotate\n",
    "from tools import plot_confusion_matrix\n",
    "from getSIDMdata_generator_meta import get_tf_DataSet as getGenerators\n",
    "import scienceplots\n",
    "from glob import glob\n",
    "from tools import get_best_model,get_predictions_per_subset,mertens\n",
    "import os\n",
    "from scipy.stats import norm\n",
    "plt.style.use([\"science\"])\n",
    "from copy import deepcopy as cp"
   ]
  },
  {
   "cell_type": "markdown",
   "metadata": {
    "tags": []
   },
   "source": [
    "### Referee 1 wanted to see where the info was coming from so lets permutate the test set"
   ]
  },
  {
   "cell_type": "code",
   "execution_count": 3,
   "metadata": {
    "tags": []
   },
   "outputs": [],
   "source": [
    "model_name = 'simple'\n",
    "simulationNames = ['CDM','SIDM1','SIDM0.1']\n",
    "channels=['total','stellar','xray']\n",
    "random_state=0\n",
    "epochs=10"
   ]
  },
  {
   "cell_type": "code",
   "execution_count": 8,
   "metadata": {
    "tags": []
   },
   "outputs": [
    {
     "name": "stdout",
     "output_type": "stream",
     "text": [
      "Found Model\n"
     ]
    }
   ],
   "source": [
    "\n",
    "    \n",
    "_,_,allparams =      getGenerators(augment_data=True, simulationNames=simulationNames, \n",
    "                                                      channels=channels, \n",
    "                                                      allDataFile='pickles/binned_data_20.pkl', \n",
    "                                                      random_state=random_state, return_test_params=True, train_split=0.01)\n",
    "    \n",
    "train, test, params = getGenerators(augment_data=True, simulationNames=['CDM'], \n",
    "                                                      channels=channels, \n",
    "                                                      allDataFile='pickles/binned_data_20_newseed.pkl', \n",
    "                                                      random_state=random_state, return_test_params=True, train_split=0.01)   \n",
    "checkpoint_filepath = 'models/%s/%i' % (model_name, random_state)\n",
    "  \n",
    "model = get_best_model( train, test, base_cnn_input_shape=test[0][0].shape, model_name=model_name, \n",
    "                               checkpoint_filepath=checkpoint_filepath, epochs=epochs)"
   ]
  },
  {
   "cell_type": "code",
   "execution_count": 31,
   "metadata": {
    "tags": []
   },
   "outputs": [
    {
     "name": "stdout",
     "output_type": "stream",
     "text": [
      "(30,)\n",
      "15/15 [==============================] - 0s 9ms/step - loss: 670.5687 - accuracy: 0.6891\n",
      "(30,)\n",
      "15/15 [==============================] - 0s 9ms/step - loss: 765.1416 - accuracy: 0.6913\n",
      "(30,)\n",
      "15/15 [==============================] - 0s 9ms/step - loss: 736.4305 - accuracy: 0.6826\n",
      "(30,)\n",
      "15/15 [==============================] - 0s 9ms/step - loss: 817.3351 - accuracy: 0.6870\n",
      "(30,)\n",
      "15/15 [==============================] - 0s 9ms/step - loss: 700.7772 - accuracy: 0.6848\n",
      "(30,)\n",
      "15/15 [==============================] - 0s 9ms/step - loss: 615.9091 - accuracy: 0.6913\n",
      "(30,)\n",
      "15/15 [==============================] - 0s 10ms/step - loss: 731.1368 - accuracy: 0.6957\n",
      "(30,)\n",
      "15/15 [==============================] - 0s 9ms/step - loss: 836.4416 - accuracy: 0.6957\n",
      "(30,)\n",
      "15/15 [==============================] - 0s 9ms/step - loss: 734.9482 - accuracy: 0.6935\n",
      "(30,)\n",
      "15/15 [==============================] - 0s 9ms/step - loss: 776.9028 - accuracy: 0.6826\n",
      "(30,)\n",
      "15/15 [==============================] - 0s 9ms/step - loss: 726.5164 - accuracy: 0.6783\n",
      "(30,)\n",
      "15/15 [==============================] - 0s 10ms/step - loss: 735.2313 - accuracy: 0.6978\n",
      "(30,)\n",
      "15/15 [==============================] - 0s 13ms/step - loss: 770.3442 - accuracy: 0.6870\n",
      "(30,)\n",
      "15/15 [==============================] - 0s 10ms/step - loss: 808.3700 - accuracy: 0.6870\n",
      "(30,)\n",
      "15/15 [==============================] - 0s 10ms/step - loss: 769.7096 - accuracy: 0.6826\n"
     ]
    }
   ],
   "source": [
    "nBins=15\n",
    "this_accuracy = []\n",
    "mass_bins = np.linspace(14,15.5,nBins+1)\n",
    "bin_centres = 0.5*(mass_bins[1:]+mass_bins[:-1])\n",
    "nImages = params['mass'].shape[0]\n",
    "nperbin = np.floor(nImages/nBins)\n",
    "ntrainhalos = []\n",
    "for iBin in range(nBins):\n",
    "    \n",
    "    start = int(iBin*nperbin)\n",
    "    end = int(np.min([(iBin+1)*nperbin, nImages]))\n",
    "    \n",
    "    bin_idxs = np.argsort( params['mass'] )[start:end]\n",
    "    \n",
    "    bin_centres[iBin] = np.mean(params['mass'][bin_idxs])\n",
    "    \n",
    "    inBin = (allparams['mass'] > np.min(params['mass'][bin_idxs])) & (allparams['mass'] < np.max(params['mass'][bin_idxs]))\n",
    "   \n",
    "    ntrainhalos.append(allparams['mass'][inBin].shape)\n",
    "    \n",
    "    #bin_idxs = np.arange(nImages)[ inBin ]\n",
    "    print(bin_idxs.shape)\n",
    "    these_images = cp( test[0] )\n",
    "    for idx in bin_idxs:\n",
    "        these_images[idx] = np.random.uniform(these_images[idx].shape)\n",
    "    this_accuracy.append(model.evaluate( these_images, test[1])[1])\n",
    "    \n",
    "this_accuracy = np.array(this_accuracy)\n",
    "this_accuracy /= np.mean(this_accuracy)\n",
    "ntrainhalos = np.array(ntrainhalos)"
   ]
  },
  {
   "cell_type": "code",
   "execution_count": 32,
   "metadata": {
    "tags": []
   },
   "outputs": [
    {
     "name": "stdout",
     "output_type": "stream",
     "text": [
      "PDFCROP 1.40, 2020/06/06 - Copyright (c) 2002-2020 by Heiko Oberdiek, Oberdiek Package Support Group.\n",
      "==> 1 page written on `../plots/mass_importance.pdf'.\n"
     ]
    },
    {
     "data": {
      "text/plain": [
       "0"
      ]
     },
     "execution_count": 32,
     "metadata": {},
     "output_type": "execute_result"
    },
    {
     "data": {
      "image/png": "[encoded data removed]",
      "text/plain": [
       "<Figure size 400x300 with 1 Axes>"
      ]
     },
     "metadata": {},
     "output_type": "display_data"
    }
   ],
   "source": [
    "\n",
    "fig = plt.figure(figsize=(4,3))\n",
    "ax = plt.gca()\n",
    "#ax2 = ax.twinx()\n",
    "lns1 = ax.plot(bin_centres,this_accuracy,'o', ls='--', c='b',label='Importance')\n",
    "#lns2 = ax2.plot(bin_centres,ntrainhalos/np.sum(ntrainhalos),'o', ls='--',c='g', label='Represenatation')\n",
    "ax.set_xlabel(r\"Halo Mass [ $M_{200} / M_\\odot$ ]\")\n",
    "ax.set_ylabel(\"Relative Importance\")\n",
    "#ax2.set_ylabel(\"Relative Representation\")\n",
    "ax.grid(False)\n",
    "#ax2.grid(False)\n",
    "\n",
    "lns = lns1#+lns2\n",
    "labs = [l.get_label() for l in lns]\n",
    "ax.legend(lns, labs, loc=0)\n",
    "\n",
    "savefile = '../plots/mass_importance.pdf'\n",
    "plt.savefig(savefile)\n",
    "os.system(\"pdfcrop %s %s\" % (savefile,savefile))"
   ]
  },
  {
   "cell_type": "code",
   "execution_count": 26,
   "metadata": {
    "tags": []
   },
   "outputs": [
    {
     "name": "stdout",
     "output_type": "stream",
     "text": [
      "PDFCROP 1.40, 2020/06/06 - Copyright (c) 2002-2020 by Heiko Oberdiek, Oberdiek Package Support Group.\n",
      "==> 1 page written on `../plots/mass_importance_corr.pdf'.\n"
     ]
    },
    {
     "data": {
      "text/plain": [
       "0"
      ]
     },
     "execution_count": 26,
     "metadata": {},
     "output_type": "execute_result"
    },
    {
     "data": {
      "image/png": "[encoded data removed]",
      "text/plain": [
       "<Figure size 400x300 with 1 Axes>"
      ]
     },
     "metadata": {},
     "output_type": "display_data"
    }
   ],
   "source": [
    "\n",
    "fig = plt.figure(figsize=(4,3))\n",
    "ax = plt.gca()\n",
    "lns1 = ax.plot(ntrainhalos/np.sum(ntrainhalos),this_accuracy,'o', c='b',label='Importance')\n",
    "ax.set_ylabel(\"Relative Importance\")\n",
    "ax.set_xlabel(\"Relative Representation\")\n",
    "ax.grid(False)\n",
    "ax2.grid(False)\n",
    "\n",
    "savefile = '../plots/mass_importance_corr.pdf'\n",
    "plt.savefig(savefile)\n",
    "os.system(\"pdfcrop %s %s\" % (savefile,savefile))"
   ]
  },
  {
   "cell_type": "code",
   "execution_count": null,
   "metadata": {},
   "outputs": [],
   "source": []
  },
  {
   "cell_type": "code",
   "execution_count": null,
   "metadata": {},
   "outputs": [],
   "source": []
  },
  {
   "cell_type": "markdown",
   "metadata": {},
   "source": [
    "### This is old stuff and not needed for the paper"
   ]
  },
  {
   "cell_type": "code",
   "execution_count": 4,
   "metadata": {},
   "outputs": [
    {
     "name": "stdout",
     "output_type": "stream",
     "text": [
      "593\n",
      "nTests is 88\n",
      "599\n",
      "nTests is 89\n",
      "487\n",
      "nTests is 73\n",
      "514\n",
      "nTests is 77\n"
     ]
    }
   ],
   "source": [
    "attributes = ['redshift']\n",
    "(train_images, train_att, train_labels), testSets = \\\n",
    "        getData(  indexFileRoot='pickles/testIndexesMass', testTrainSplit=0.15, attributes=attributes, massCut=14.5)\n",
    "test_labels, test_images, test_att = None, None, None\n",
    "for i in testSets.keys():\n",
    "    #iAtt = np.array([ testSets[i][j] for j in attributes]).T\n",
    "    iAtt =  testSets[i]['redshift']\n",
    "    if test_labels is None:\n",
    "        test_images = testSets[i]['images']\n",
    "        test_labels = testSets[i]['labels']\n",
    "        test_att = iAtt\n",
    "    else:\n",
    "        test_labels = np.vstack((test_labels, testSets[i]['labels']))\n",
    "        test_images = np.vstack((test_images, testSets[i]['images']))\n",
    "        test_att = np.append(test_att, iAtt)"
   ]
  },
  {
   "cell_type": "code",
   "execution_count": 6,
   "metadata": {},
   "outputs": [
    {
     "name": "stdout",
     "output_type": "stream",
     "text": [
      "593\n",
      "nTests is 88\n",
      "599\n",
      "nTests is 89\n",
      "487\n",
      "nTests is 73\n",
      "514\n",
      "nTests is 77\n",
      "LABELS ARE  [0. 1. 2. 3.]\n",
      "Learning Rate 0.00100\n",
      "Epoch 1/15\n",
      "59/59 [==============================] - 16s 230ms/step - loss: 2.3644 - accuracy: 0.3385 - val_loss: 1.1587 - val_accuracy: 0.4373\n",
      "Epoch 2/15\n",
      "59/59 [==============================] - 12s 211ms/step - loss: 0.8996 - accuracy: 0.6085 - val_loss: 1.3366 - val_accuracy: 0.4006\n",
      "Epoch 3/15\n",
      "59/59 [==============================] - 12s 210ms/step - loss: 0.5520 - accuracy: 0.7866 - val_loss: 1.3488 - val_accuracy: 0.5352\n",
      "Epoch 4/15\n",
      "59/59 [==============================] - 12s 212ms/step - loss: 0.2398 - accuracy: 0.9242 - val_loss: 2.0710 - val_accuracy: 0.4343\n",
      "Epoch 5/15\n",
      "59/59 [==============================] - 12s 211ms/step - loss: 0.1154 - accuracy: 0.9629 - val_loss: 2.2103 - val_accuracy: 0.4587\n",
      "Epoch 6/15\n",
      "59/59 [==============================] - 13s 213ms/step - loss: 0.0641 - accuracy: 0.9833 - val_loss: 2.4744 - val_accuracy: 0.4709\n",
      "Epoch 7/15\n",
      "59/59 [==============================] - 13s 214ms/step - loss: 0.0286 - accuracy: 0.9923 - val_loss: 2.3229 - val_accuracy: 0.4862\n",
      "Epoch 8/15\n",
      "59/59 [==============================] - 13s 213ms/step - loss: 0.0092 - accuracy: 0.9970 - val_loss: 2.3900 - val_accuracy: 0.4801\n",
      "Epoch 9/15\n",
      "59/59 [==============================] - 13s 214ms/step - loss: 0.0019 - accuracy: 1.0000 - val_loss: 2.5139 - val_accuracy: 0.4954\n",
      "Epoch 10/15\n",
      "59/59 [==============================] - 13s 214ms/step - loss: 0.0014 - accuracy: 1.0000 - val_loss: 2.5480 - val_accuracy: 0.4924\n",
      "Epoch 11/15\n",
      "59/59 [==============================] - 13s 213ms/step - loss: 6.3879e-04 - accuracy: 1.0000 - val_loss: 2.5994 - val_accuracy: 0.4924\n",
      "Epoch 12/15\n",
      "59/59 [==============================] - 13s 214ms/step - loss: 3.6439e-04 - accuracy: 1.0000 - val_loss: 2.6903 - val_accuracy: 0.4985\n",
      "Epoch 13/15\n",
      "59/59 [==============================] - 13s 214ms/step - loss: 2.8148e-04 - accuracy: 1.0000 - val_loss: 2.6839 - val_accuracy: 0.4924\n",
      "Epoch 14/15\n",
      "59/59 [==============================] - 13s 214ms/step - loss: 2.5102e-04 - accuracy: 1.0000 - val_loss: 2.6911 - val_accuracy: 0.4954\n",
      "Epoch 15/15\n",
      "59/59 [==============================] - 13s 216ms/step - loss: 2.1819e-04 - accuracy: 1.0000 - val_loss: 2.7560 - val_accuracy: 0.4924\n"
     ]
    },
    {
     "data": {
      "text/plain": [
       "<matplotlib.legend.Legend at 0x7f4c88aa7d10>"
      ]
     },
     "execution_count": 6,
     "metadata": {},
     "output_type": "execute_result"
    },
    {
     "data": {
      "image/png": "[encoded data removed]",
      "text/plain": [
       "<Figure size 432x288 with 1 Axes>"
      ]
     },
     "metadata": {
      "needs_background": "light"
     },
     "output_type": "display_data"
    }
   ],
   "source": [
    "attributes = ['redshift']\n",
    "(train_images, train_att, train_labels), testSets = \\\n",
    "        getData(  indexFileRoot='pickles/testIndexesMass', testTrainSplit=0.15, attributes=attributes, massCut=14.5)\n",
    "test_labels, test_images, test_att = None, None, None\n",
    "for i in testSets.keys():\n",
    "    iAtt = np.array([ testSets[i][j] for j in attributes]).T\n",
    "    #iAtt =  testSets[i]['redshift']\n",
    "    if test_labels is None:\n",
    "        test_images = testSets[i]['images']\n",
    "        test_labels = testSets[i]['labels']\n",
    "        test_att = iAtt\n",
    "    else:\n",
    "        test_labels = np.vstack((test_labels, testSets[i]['labels']))\n",
    "        test_images = np.vstack((test_images, testSets[i]['images']))\n",
    "        test_att = np.vstack((test_att, iAtt))\n",
    "        \n",
    "nClasses = len(np.unique(train_labels))\n",
    "inputShape = train_images.shape[1:]\n",
    "nAttributes = train_att.shape[1]\n",
    "\n",
    "color=['r','g','b','c']\n",
    "\n",
    "#Test the momentum on reliability\n",
    "csv_file = 'pickles/massCut_14.5.csv'\n",
    "csv_logger = CSVLogger(csv_file, append=True)\n",
    "model_file =  'pickles/massCut_14.5.h5'\n",
    "\n",
    "if os.path.isfile( csv_file ):\n",
    "    previousEpochs = np.loadtxt( csv_file, delimiter=',',skiprows=1 )\n",
    "    initial_epoch = previousEpochs.shape[0]\n",
    "else:\n",
    "    initial_epoch = 0\n",
    "        \n",
    "if os.path.isfile(model_file):\n",
    "    print(\"FOUND PREVIOUS MODEL, LOADING...\")\n",
    "    model = models.load_model(model_file)\n",
    "else:\n",
    "    model = simpleCNN.getModel( inputShape, nClasses, nAttributes=nAttributes, \\\n",
    "                               momentum=0.9, finalLayer=256)\n",
    "    \n",
    "history = model.fit([train_images, train_att], train_labels, epochs=15, \n",
    "                    initial_epoch=initial_epoch,\n",
    "                    validation_data=([test_images, test_att], test_labels),\n",
    "                       callbacks=csv_logger)\n",
    "    \n",
    "model.save(model_file)\n",
    "trainHistory = np.loadtxt( csv_file, delimiter=',', \n",
    "                    dtype=[('epoch', object), ('accuracy', float), \n",
    "                    ('loss', float), ('val_accuracy',float),('val_loss', float)], skiprows=1)\n",
    "     \n",
    "plt.plot(trainHistory['accuracy'], label='accuracy', color=color[0])\n",
    "plt.plot(trainHistory['val_accuracy'], label = 'GlobalAvPool', linestyle='--', color=color[0]) \n",
    "    \n",
    "    \n",
    "\n",
    "csv_file =  'pickles/testDropOut_0.00_finalLayer_256.csv'\n",
    "trainHistory = np.loadtxt( csv_file, delimiter=',', \n",
    "                    dtype=[('epoch', object), ('accuracy', float), \n",
    "                    ('loss', float), ('val_accuracy',float),('val_loss', float)], skiprows=1)\n",
    "     \n",
    "plt.plot(trainHistory['accuracy'], label='accuracy', color=color[1])\n",
    "plt.plot(trainHistory['val_accuracy'], label = 'MaxPool', linestyle='--', color=color[1]) \n",
    "\n",
    "plt.legend()\n"
   ]
  },
  {
   "cell_type": "code",
   "execution_count": 12,
   "metadata": {},
   "outputs": [
    {
     "name": "stdout",
     "output_type": "stream",
     "text": [
      "593\n",
      "nTests is 148\n",
      "599\n",
      "nTests is 149\n",
      "487\n",
      "nTests is 121\n",
      "514\n",
      "nTests is 128\n",
      "Learning Rate 0.00100\n",
      "Epoch 8/15\n",
      "52/52 [==============================] - 12s 221ms/step - loss: 3.0425 - accuracy: 0.3459 - val_loss: 1.2119 - val_accuracy: 0.3864\n",
      "Epoch 9/15\n",
      "52/52 [==============================] - 11s 220ms/step - loss: 1.0418 - accuracy: 0.5512 - val_loss: 1.1348 - val_accuracy: 0.5256\n",
      "Epoch 10/15\n",
      "52/52 [==============================] - 11s 220ms/step - loss: 0.6973 - accuracy: 0.7115 - val_loss: 1.3573 - val_accuracy: 0.4634\n",
      "Epoch 11/15\n",
      "52/52 [==============================] - 11s 221ms/step - loss: 0.4048 - accuracy: 0.8377 - val_loss: 1.4198 - val_accuracy: 0.5220\n",
      "Epoch 12/15\n",
      "52/52 [==============================] - 11s 220ms/step - loss: 0.1632 - accuracy: 0.9454 - val_loss: 2.5270 - val_accuracy: 0.3846\n",
      "Epoch 13/15\n",
      "52/52 [==============================] - 11s 221ms/step - loss: 0.1190 - accuracy: 0.9588 - val_loss: 1.8448 - val_accuracy: 0.4560\n",
      "Epoch 14/15\n",
      "52/52 [==============================] - 12s 222ms/step - loss: 0.0346 - accuracy: 0.9929 - val_loss: 2.0491 - val_accuracy: 0.4762\n",
      "Epoch 15/15\n",
      "52/52 [==============================] - 12s 222ms/step - loss: 0.0118 - accuracy: 0.9992 - val_loss: 2.1190 - val_accuracy: 0.4689\n"
     ]
    },
    {
     "data": {
      "text/plain": [
       "<matplotlib.legend.Legend at 0x7f4c833c6b90>"
      ]
     },
     "execution_count": 12,
     "metadata": {},
     "output_type": "execute_result"
    },
    {
     "data": {
      "image/png": "[encoded data removed]",
      "text/plain": [
       "<Figure size 432x288 with 1 Axes>"
      ]
     },
     "metadata": {
      "needs_background": "light"
     },
     "output_type": "display_data"
    }
   ],
   "source": [
    "attributes = []\n",
    "(train_images, train_att, train_labels), testSets = \\\n",
    "        getData(  indexFileRoot='pickles/testIndexesMass', testTrainSplit=0.25, attributes=attributes, massCut=14.5)\n",
    "test_labels, test_images, test_att = None, None, None\n",
    "for i in testSets.keys():\n",
    "    iAtt = np.array([ testSets[i][j] for j in attributes]).T\n",
    "    #iAtt =  testSets[i]['redshift']\n",
    "    if test_labels is None:\n",
    "        test_images = testSets[i]['images']\n",
    "        test_labels = testSets[i]['labels']\n",
    "        test_att = iAtt\n",
    "    else:\n",
    "        test_labels = np.vstack((test_labels, testSets[i]['labels']))\n",
    "        test_images = np.vstack((test_images, testSets[i]['images']))\n",
    "        test_att = np.vstack((test_att, iAtt))\n",
    "        \n",
    "nClasses = len(np.unique(train_labels))\n",
    "inputShape = train_images.shape[1:]\n",
    "nAttributes = 0#train_att.shape[1]\n",
    "\n",
    "color=['r','g','b','c']\n",
    "\n",
    "#Test the momentum on reliability\n",
    "csv_file = 'pickles/massCut_14.5_noAtt.csv'\n",
    "csv_logger = CSVLogger(csv_file, append=True)\n",
    "model_file =  'pickles/massCut_14.5_noAtt.h5'\n",
    "\n",
    "if os.path.isfile( csv_file ):\n",
    "    previousEpochs = np.loadtxt( csv_file, delimiter=',',skiprows=1 )\n",
    "    initial_epoch = previousEpochs.shape[0]\n",
    "else:\n",
    "    initial_epoch = 0\n",
    "        \n",
    "if os.path.isfile(model_file):\n",
    "    print(\"FOUND PREVIOUS MODEL, LOADING...\")\n",
    "    model = models.load_model(model_file)\n",
    "else:\n",
    "    model = simpleCNN.getModel( inputShape, nClasses, nAttributes=nAttributes, \\\n",
    "                               momentum=0.9, finalLayer=256)\n",
    "    \n",
    "history = model.fit(train_images, train_labels, epochs=15, \n",
    "                    initial_epoch=initial_epoch,\n",
    "                    validation_data=(test_images, test_labels),\n",
    "                       callbacks=csv_logger)\n",
    "    \n",
    "model.save(model_file)\n",
    "trainHistory = np.loadtxt( csv_file, delimiter=',', \n",
    "                    dtype=[('epoch', object), ('accuracy', float), \n",
    "                    ('loss', float), ('val_accuracy',float),('val_loss', float)], skiprows=1)\n",
    "     \n",
    "plt.plot(trainHistory['accuracy'], label='accuracy', color=color[0])\n",
    "plt.plot(trainHistory['val_accuracy'], label = 'GlobalAvPool', linestyle='--', color=color[0]) \n",
    "    \n",
    "    \n",
    "\n",
    "csv_file =  'pickles/testDropOut_0.00_finalLayer_256.csv'\n",
    "trainHistory = np.loadtxt( csv_file, delimiter=',', \n",
    "                    dtype=[('epoch', object), ('accuracy', float), \n",
    "                    ('loss', float), ('val_accuracy',float),('val_loss', float)], skiprows=1)\n",
    "     \n",
    "plt.plot(trainHistory['accuracy'], label='accuracy', color=color[1])\n",
    "plt.plot(trainHistory['val_accuracy'], label = 'MaxPool', linestyle='--', color=color[1]) \n",
    "\n",
    "plt.legend()\n"
   ]
  },
  {
   "cell_type": "code",
   "execution_count": null,
   "metadata": {},
   "outputs": [],
   "source": []
  }
 ],
 "metadata": {
  "kernelspec": {
   "display_name": "Python 3 (ipykernel)",
   "language": "python",
   "name": "python3"
  },
  "language_info": {
   "codemirror_mode": {
    "name": "ipython",
    "version": 3
   },
   "file_extension": ".py",
   "mimetype": "text/x-python",
   "name": "python",
   "nbconvert_exporter": "python",
   "pygments_lexer": "ipython3",
   "version": "3.10.9"
  }
 },
 "nbformat": 4,
 "nbformat_minor": 4
}
