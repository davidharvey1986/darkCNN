{
 "cells": [
  {
   "cell_type": "code",
   "execution_count": 2,
   "metadata": {},
   "outputs": [],
   "source": [
    "%load_ext autoreload\n",
    "%autoreload 2"
   ]
  },
  {
   "cell_type": "code",
   "execution_count": 6,
   "metadata": {},
   "outputs": [],
   "source": [
    "from globalVariables import *\n",
    "import simpleCNNwithInception as inceptionCNN\n",
    "import simpleCNN as simpleCNN\n",
    "import simpleCNNwithInceptionRegression as regressor\n",
    "from keras.callbacks import CSVLogger\n",
    "from scipy.ndimage import rotate\n",
    "from tools import plot_confusion_matrix"
   ]
  },
  {
   "cell_type": "markdown",
   "metadata": {},
   "source": [
    "#### 1. Fiducial, all four models"
   ]
  },
  {
   "cell_type": "code",
   "execution_count": null,
   "metadata": {},
   "outputs": [],
   "source": [
    "train, test = get_tf_DataSet(augment_data=True, channels=['total','stellar'])\n",
    "dataset_to_numpy = list(train.as_numpy_iterator())\n",
    "inputShape = dataset_to_numpy[0][0].shape[1:]\n",
    "fiducial = simpleCNN.getModel(inputShape, train.num_classes, nAttributes=0)\n",
    "epochs=40\n",
    "au_history = fiducial.fit(\n",
    "  x=train,\n",
    "    validation_data=test,\n",
    "  epochs=epochs\n",
    ")"
   ]
  },
  {
   "cell_type": "code",
   "execution_count": null,
   "metadata": {},
   "outputs": [],
   "source": [
    "train, test = get_tf_DataSet( augment_data=True, channels=['total','stellar','xray'], \n",
    "                             correlations=[['total','stellar'],['total','xray'],['xray','stellar']],\n",
    "                            attributes=['redshift','mass'])\n"
   ]
  },
  {
   "cell_type": "code",
   "execution_count": 5,
   "metadata": {},
   "outputs": [
    {
     "name": "stdout",
     "output_type": "stream",
     "text": [
      "Epoch 1/20\n",
      "120/120 [==============================] - 13s 102ms/step - loss: 1.2820 - accuracy: 0.3711 - val_loss: 1.1576 - val_accuracy: 0.4546\n",
      "Epoch 2/20\n",
      "120/120 [==============================] - 11s 94ms/step - loss: 1.1456 - accuracy: 0.4682 - val_loss: 1.1071 - val_accuracy: 0.4776\n",
      "Epoch 3/20\n",
      "120/120 [==============================] - 11s 94ms/step - loss: 1.0917 - accuracy: 0.4883 - val_loss: 1.1133 - val_accuracy: 0.4828\n",
      "Epoch 4/20\n",
      "120/120 [==============================] - 11s 94ms/step - loss: 1.0344 - accuracy: 0.5138 - val_loss: 1.0798 - val_accuracy: 0.4974\n",
      "Epoch 5/20\n",
      "120/120 [==============================] - 11s 94ms/step - loss: 0.9911 - accuracy: 0.5393 - val_loss: 0.9736 - val_accuracy: 0.5506\n",
      "Epoch 6/20\n",
      "120/120 [==============================] - 11s 94ms/step - loss: 0.9584 - accuracy: 0.5602 - val_loss: 0.9463 - val_accuracy: 0.5433\n",
      "Epoch 7/20\n",
      "120/120 [==============================] - 11s 94ms/step - loss: 0.9247 - accuracy: 0.5680 - val_loss: 0.9308 - val_accuracy: 0.5735\n",
      "Epoch 8/20\n",
      "120/120 [==============================] - 11s 94ms/step - loss: 0.9260 - accuracy: 0.5729 - val_loss: 0.9428 - val_accuracy: 0.5568\n",
      "Epoch 9/20\n",
      "120/120 [==============================] - 11s 94ms/step - loss: 0.9026 - accuracy: 0.5849 - val_loss: 0.9538 - val_accuracy: 0.5433\n",
      "Epoch 10/20\n",
      "120/120 [==============================] - 11s 94ms/step - loss: 0.8969 - accuracy: 0.5919 - val_loss: 0.9025 - val_accuracy: 0.5808\n",
      "Epoch 11/20\n",
      "120/120 [==============================] - 11s 95ms/step - loss: 0.8829 - accuracy: 0.5938 - val_loss: 0.9240 - val_accuracy: 0.5777\n",
      "Epoch 12/20\n",
      "120/120 [==============================] - 11s 94ms/step - loss: 0.8799 - accuracy: 0.5977 - val_loss: 0.9033 - val_accuracy: 0.5808\n",
      "Epoch 13/20\n",
      "120/120 [==============================] - 11s 95ms/step - loss: 0.8697 - accuracy: 0.6130 - val_loss: 0.8957 - val_accuracy: 0.5944\n",
      "Epoch 14/20\n",
      "120/120 [==============================] - 11s 94ms/step - loss: 0.8552 - accuracy: 0.6151 - val_loss: 0.8806 - val_accuracy: 0.6131\n",
      "Epoch 15/20\n",
      "120/120 [==============================] - 11s 94ms/step - loss: 0.8557 - accuracy: 0.6117 - val_loss: 0.8754 - val_accuracy: 0.6090\n",
      "Epoch 16/20\n",
      "120/120 [==============================] - 11s 94ms/step - loss: 0.8426 - accuracy: 0.6135 - val_loss: 0.8806 - val_accuracy: 0.6058\n",
      "Epoch 17/20\n",
      "120/120 [==============================] - 11s 95ms/step - loss: 0.8460 - accuracy: 0.6169 - val_loss: 0.8806 - val_accuracy: 0.6090\n",
      "Epoch 18/20\n",
      "120/120 [==============================] - 11s 94ms/step - loss: 0.8326 - accuracy: 0.6242 - val_loss: 0.8838 - val_accuracy: 0.6069\n",
      "Epoch 19/20\n",
      "120/120 [==============================] - 11s 95ms/step - loss: 0.8202 - accuracy: 0.6315 - val_loss: 0.8776 - val_accuracy: 0.6048\n",
      "Epoch 20/20\n",
      "120/120 [==============================] - 12s 95ms/step - loss: 0.8148 - accuracy: 0.6289 - val_loss: 0.8703 - val_accuracy: 0.6163\n"
     ]
    }
   ],
   "source": [
    "dataset_to_numpy = list(train.as_numpy_iterator())\n",
    "inputShape = dataset_to_numpy[0][0][0].shape[1:]\n",
    "add_all = simpleCNN.getModel(inputShape, train.num_classes, nAttributes=2)\n",
    "epochs=20\n",
    "au_history = add_all.fit(\n",
    "  x=train,\n",
    "    validation_data=test,\n",
    "  epochs=epochs\n",
    ")"
   ]
  },
  {
   "cell_type": "code",
   "execution_count": null,
   "metadata": {},
   "outputs": [
    {
     "name": "stdout",
     "output_type": "stream",
     "text": [
      "Epoch 21/40\n",
      "120/120 [==============================] - 11s 92ms/step - loss: 0.8061 - accuracy: 0.6398 - val_loss: 0.8748 - val_accuracy: 0.6038\n",
      "Epoch 22/40\n",
      "120/120 [==============================] - 11s 92ms/step - loss: 0.8112 - accuracy: 0.6313 - val_loss: 0.8681 - val_accuracy: 0.6184\n",
      "Epoch 23/40\n",
      "120/120 [==============================] - 11s 92ms/step - loss: 0.7953 - accuracy: 0.6435 - val_loss: 0.8631 - val_accuracy: 0.6038\n",
      "Epoch 24/40\n",
      "120/120 [==============================] - 11s 92ms/step - loss: 0.8057 - accuracy: 0.6422 - val_loss: 0.8643 - val_accuracy: 0.6038\n",
      "Epoch 25/40\n",
      "120/120 [==============================] - 11s 93ms/step - loss: 0.7994 - accuracy: 0.6417 - val_loss: 0.8688 - val_accuracy: 0.6069\n",
      "Epoch 26/40\n",
      "120/120 [==============================] - 11s 93ms/step - loss: 0.7965 - accuracy: 0.6443 - val_loss: 0.8711 - val_accuracy: 0.6131\n",
      "Epoch 27/40\n",
      "120/120 [==============================] - 11s 93ms/step - loss: 0.7849 - accuracy: 0.6484 - val_loss: 0.8552 - val_accuracy: 0.6090\n",
      "Epoch 28/40\n",
      "120/120 [==============================] - 11s 93ms/step - loss: 0.7848 - accuracy: 0.6461 - val_loss: 0.8812 - val_accuracy: 0.6038\n",
      "Epoch 29/40\n",
      "120/120 [==============================] - 11s 94ms/step - loss: 0.7808 - accuracy: 0.6479 - val_loss: 0.8796 - val_accuracy: 0.5839\n",
      "Epoch 30/40\n",
      "120/120 [==============================] - 11s 94ms/step - loss: 0.7747 - accuracy: 0.6510 - val_loss: 0.8523 - val_accuracy: 0.6090\n",
      "Epoch 31/40\n",
      "120/120 [==============================] - 11s 94ms/step - loss: 0.7730 - accuracy: 0.6544 - val_loss: 0.8919 - val_accuracy: 0.5902\n",
      "Epoch 32/40\n",
      "120/120 [==============================] - 11s 94ms/step - loss: 0.7755 - accuracy: 0.6508 - val_loss: 0.8828 - val_accuracy: 0.5996\n",
      "Epoch 33/40\n",
      "120/120 [==============================] - 11s 94ms/step - loss: 0.7662 - accuracy: 0.6560 - val_loss: 0.8819 - val_accuracy: 0.6069\n",
      "Epoch 34/40\n",
      "120/120 [==============================] - 11s 94ms/step - loss: 0.7710 - accuracy: 0.6534 - val_loss: 0.8834 - val_accuracy: 0.5965\n",
      "Epoch 35/40\n",
      "120/120 [==============================] - 11s 94ms/step - loss: 0.7611 - accuracy: 0.6648 - val_loss: 0.8538 - val_accuracy: 0.6163\n",
      "Epoch 36/40\n",
      "120/120 [==============================] - 11s 94ms/step - loss: 0.7551 - accuracy: 0.6633 - val_loss: 0.8836 - val_accuracy: 0.5892\n"
     ]
    }
   ],
   "source": [
    "epochs=40\n",
    "au_history = add_all.fit(\n",
    "  x=train,\n",
    "    validation_data=test,\n",
    "  epochs=epochs, initial_epoch=20\n",
    ")"
   ]
  },
  {
   "cell_type": "code",
   "execution_count": 8,
   "metadata": {},
   "outputs": [],
   "source": [
    "from tools import plot_confusion_matrix"
   ]
  },
  {
   "cell_type": "code",
   "execution_count": 14,
   "metadata": {},
   "outputs": [
    {
     "name": "stdout",
     "output_type": "stream",
     "text": [
      "30/30 [==============================] - 1s 17ms/step\n"
     ]
    },
    {
     "name": "stderr",
     "output_type": "stream",
     "text": [
      "/data2/harvey/tensorflow/examples/tools.py:22: UserWarning: FixedFormatter should only be used together with FixedLocator\n",
      "  ax.set_xticklabels([''] + labels, size = 15)\n",
      "/data2/harvey/tensorflow/examples/tools.py:23: UserWarning: FixedFormatter should only be used together with FixedLocator\n",
      "  ax.set_yticklabels([''] + labels, size = 15)\n"
     ]
    },
    {
     "data": {
      "image/png": "[encoded data removed]",
      "text/plain": [
       "<Figure size 576x432 with 2 Axes>"
      ]
     },
     "metadata": {
      "needs_background": "light"
     },
     "output_type": "display_data"
    }
   ],
   "source": [
    "plot_confusion_matrix( np.array([ y for x_b, y_b in test for y in y_b ]), np.argmax(fiducial.predict( test ), axis=-1))"
   ]
  },
  {
   "cell_type": "markdown",
   "metadata": {},
   "source": [
    "#### 2.Just CDM and SIDM 1."
   ]
  },
  {
   "cell_type": "code",
   "execution_count": null,
   "metadata": {},
   "outputs": [],
   "source": [
    "train, test = get_tf_DataSet(augment_data=True, channels=['total','stellar'],simulationNames=['CDM','SIDM1'])\n",
    "dataset_to_numpy = list(train.as_numpy_iterator())\n",
    "inputShape = dataset_to_numpy[0][0].shape[1:]\n",
    "fiducial = simpleCNN.getModel(inputShape, train.num_classes, nAttributes=0)\n",
    "epochs=40\n",
    "au_history = fiducial.fit(\n",
    "  x=train,\n",
    "    validation_data=test,\n",
    "  epochs=epochs\n",
    ")"
   ]
  },
  {
   "cell_type": "markdown",
   "metadata": {},
   "source": [
    "#### 3. Just CDM and SIDM0.1 "
   ]
  },
  {
   "cell_type": "code",
   "execution_count": 1,
   "metadata": {},
   "outputs": [
    {
     "ename": "NameError",
     "evalue": "name 'get_tf_DataSet' is not defined",
     "output_type": "error",
     "traceback": [
      "\u001b[0;31m---------------------------------------------------------------------------\u001b[0m",
      "\u001b[0;31mNameError\u001b[0m                                 Traceback (most recent call last)",
      "\u001b[0;32m<ipython-input-1-ee73f70b5238>\u001b[0m in \u001b[0;36m<module>\u001b[0;34m\u001b[0m\n\u001b[0;32m----> 1\u001b[0;31m \u001b[0mtrain\u001b[0m\u001b[0;34m,\u001b[0m \u001b[0mtest\u001b[0m \u001b[0;34m=\u001b[0m \u001b[0mget_tf_DataSet\u001b[0m\u001b[0;34m(\u001b[0m\u001b[0maugment_data\u001b[0m\u001b[0;34m=\u001b[0m\u001b[0;32mTrue\u001b[0m\u001b[0;34m,\u001b[0m \u001b[0mchannels\u001b[0m\u001b[0;34m=\u001b[0m\u001b[0;34m[\u001b[0m\u001b[0;34m'total'\u001b[0m\u001b[0;34m,\u001b[0m\u001b[0;34m'stellar'\u001b[0m\u001b[0;34m]\u001b[0m\u001b[0;34m,\u001b[0m\u001b[0msimulationNames\u001b[0m\u001b[0;34m=\u001b[0m\u001b[0;34m[\u001b[0m\u001b[0;34m'CDM'\u001b[0m\u001b[0;34m,\u001b[0m\u001b[0;34m'SIDM0.1'\u001b[0m\u001b[0;34m]\u001b[0m\u001b[0;34m)\u001b[0m\u001b[0;34m\u001b[0m\u001b[0;34m\u001b[0m\u001b[0m\n\u001b[0m\u001b[1;32m      2\u001b[0m \u001b[0mdataset_to_numpy\u001b[0m \u001b[0;34m=\u001b[0m \u001b[0mlist\u001b[0m\u001b[0;34m(\u001b[0m\u001b[0mtrain\u001b[0m\u001b[0;34m.\u001b[0m\u001b[0mas_numpy_iterator\u001b[0m\u001b[0;34m(\u001b[0m\u001b[0;34m)\u001b[0m\u001b[0;34m)\u001b[0m\u001b[0;34m\u001b[0m\u001b[0;34m\u001b[0m\u001b[0m\n\u001b[1;32m      3\u001b[0m \u001b[0minputShape\u001b[0m \u001b[0;34m=\u001b[0m \u001b[0mdataset_to_numpy\u001b[0m\u001b[0;34m[\u001b[0m\u001b[0;36m0\u001b[0m\u001b[0;34m]\u001b[0m\u001b[0;34m[\u001b[0m\u001b[0;36m0\u001b[0m\u001b[0;34m]\u001b[0m\u001b[0;34m.\u001b[0m\u001b[0mshape\u001b[0m\u001b[0;34m[\u001b[0m\u001b[0;36m1\u001b[0m\u001b[0;34m:\u001b[0m\u001b[0;34m]\u001b[0m\u001b[0;34m\u001b[0m\u001b[0;34m\u001b[0m\u001b[0m\n\u001b[1;32m      4\u001b[0m \u001b[0mfiducial\u001b[0m \u001b[0;34m=\u001b[0m \u001b[0msimpleCNN\u001b[0m\u001b[0;34m.\u001b[0m\u001b[0mgetModel\u001b[0m\u001b[0;34m(\u001b[0m\u001b[0minputShape\u001b[0m\u001b[0;34m,\u001b[0m \u001b[0mtrain\u001b[0m\u001b[0;34m.\u001b[0m\u001b[0mnum_classes\u001b[0m\u001b[0;34m,\u001b[0m \u001b[0mnAttributes\u001b[0m\u001b[0;34m=\u001b[0m\u001b[0;36m0\u001b[0m\u001b[0;34m)\u001b[0m\u001b[0;34m\u001b[0m\u001b[0;34m\u001b[0m\u001b[0m\n\u001b[1;32m      5\u001b[0m \u001b[0mepochs\u001b[0m\u001b[0;34m=\u001b[0m\u001b[0;36m20\u001b[0m\u001b[0;34m\u001b[0m\u001b[0;34m\u001b[0m\u001b[0m\n",
      "\u001b[0;31mNameError\u001b[0m: name 'get_tf_DataSet' is not defined"
     ]
    }
   ],
   "source": [
    "train, test = get_tf_DataSet(augment_data=True, channels=['total','stellar'],simulationNames=['CDM','SIDM0.1'])\n",
    "dataset_to_numpy = list(train.as_numpy_iterator())\n",
    "inputShape = dataset_to_numpy[0][0].shape[1:]\n",
    "fiducial = simpleCNN.getModel(inputShape, train.num_classes, nAttributes=0)\n",
    "epochs=20\n",
    "au_history = fiducial.fit(\n",
    "  x=train,\n",
    "    validation_data=test,\n",
    "  epochs=epochs\n",
    ")"
   ]
  },
  {
   "cell_type": "code",
   "execution_count": 4,
   "metadata": {},
   "outputs": [
    {
     "name": "stderr",
     "output_type": "stream",
     "text": [
      "100%|██████████████████████████████████████| 2400/2400 [07:50<00:00,  5.11it/s]\n",
      "100%|██████████████████████████████████████| 2400/2400 [07:56<00:00,  5.03it/s]\n",
      "100%|██████████████████████████████████████| 2400/2400 [07:59<00:00,  5.01it/s]\n"
     ]
    },
    {
     "name": "stdout",
     "output_type": "stream",
     "text": [
      "WARNING:tensorflow:Using a while_loop for converting RngReadAndSkip cause there is no registered converter for this op.\n",
      "WARNING:tensorflow:Using a while_loop for converting Bitcast cause there is no registered converter for this op.\n",
      "WARNING:tensorflow:Using a while_loop for converting Bitcast cause there is no registered converter for this op.\n",
      "WARNING:tensorflow:Using a while_loop for converting StatelessRandomUniformV2 cause there is no registered converter for this op.\n",
      "WARNING:tensorflow:Using a while_loop for converting ImageProjectiveTransformV3 cause there is no registered converter for this op.\n",
      "WARNING:tensorflow:Using a while_loop for converting RngReadAndSkip cause there is no registered converter for this op.\n",
      "WARNING:tensorflow:Using a while_loop for converting Bitcast cause there is no registered converter for this op.\n",
      "WARNING:tensorflow:Using a while_loop for converting Bitcast cause there is no registered converter for this op.\n",
      "WARNING:tensorflow:Using a while_loop for converting StatelessRandomUniformV2 cause there is no registered converter for this op.\n",
      "WARNING:tensorflow:Using a while_loop for converting ImageProjectiveTransformV3 cause there is no registered converter for this op.\n",
      "Epoch 1/20\n",
      "60/60 [==============================] - 8s 103ms/step - loss: 0.6966 - accuracy: 0.5286 - val_loss: 0.6727 - val_accuracy: 0.6075\n",
      "Epoch 2/20\n",
      "60/60 [==============================] - 6s 93ms/step - loss: 0.6651 - accuracy: 0.6078 - val_loss: 0.6849 - val_accuracy: 0.5511\n",
      "Epoch 3/20\n",
      "60/60 [==============================] - 6s 93ms/step - loss: 0.6506 - accuracy: 0.6292 - val_loss: 0.6592 - val_accuracy: 0.6138\n",
      "Epoch 4/20\n",
      "60/60 [==============================] - 6s 93ms/step - loss: 0.6381 - accuracy: 0.6495 - val_loss: 0.6274 - val_accuracy: 0.6555\n",
      "Epoch 5/20\n",
      "60/60 [==============================] - 6s 93ms/step - loss: 0.6224 - accuracy: 0.6521 - val_loss: 0.6079 - val_accuracy: 0.6743\n",
      "Epoch 6/20\n",
      "60/60 [==============================] - 6s 93ms/step - loss: 0.6071 - accuracy: 0.6651 - val_loss: 0.5954 - val_accuracy: 0.6952\n",
      "Epoch 7/20\n",
      "60/60 [==============================] - 6s 94ms/step - loss: 0.6053 - accuracy: 0.6682 - val_loss: 0.5915 - val_accuracy: 0.6994\n",
      "Epoch 8/20\n",
      "60/60 [==============================] - 6s 94ms/step - loss: 0.5915 - accuracy: 0.6797 - val_loss: 0.5855 - val_accuracy: 0.6848\n",
      "Epoch 9/20\n",
      "60/60 [==============================] - 6s 94ms/step - loss: 0.5828 - accuracy: 0.6964 - val_loss: 0.5712 - val_accuracy: 0.7056\n",
      "Epoch 10/20\n",
      "60/60 [==============================] - 6s 94ms/step - loss: 0.5703 - accuracy: 0.7042 - val_loss: 0.5831 - val_accuracy: 0.7140\n",
      "Epoch 11/20\n",
      "60/60 [==============================] - 6s 94ms/step - loss: 0.5770 - accuracy: 0.6974 - val_loss: 0.5613 - val_accuracy: 0.7119\n",
      "Epoch 12/20\n",
      "60/60 [==============================] - 6s 94ms/step - loss: 0.5671 - accuracy: 0.7078 - val_loss: 0.5599 - val_accuracy: 0.7140\n",
      "Epoch 13/20\n",
      "60/60 [==============================] - 6s 94ms/step - loss: 0.5701 - accuracy: 0.7078 - val_loss: 0.5592 - val_accuracy: 0.7182\n",
      "Epoch 14/20\n",
      "60/60 [==============================] - 6s 94ms/step - loss: 0.5668 - accuracy: 0.7161 - val_loss: 0.5572 - val_accuracy: 0.7328\n",
      "Epoch 15/20\n",
      "60/60 [==============================] - 6s 94ms/step - loss: 0.5580 - accuracy: 0.7167 - val_loss: 0.5489 - val_accuracy: 0.7432\n",
      "Epoch 16/20\n",
      "60/60 [==============================] - 6s 95ms/step - loss: 0.5513 - accuracy: 0.7198 - val_loss: 0.5463 - val_accuracy: 0.7328\n",
      "Epoch 17/20\n",
      "60/60 [==============================] - 6s 94ms/step - loss: 0.5356 - accuracy: 0.7318 - val_loss: 0.5428 - val_accuracy: 0.7328\n",
      "Epoch 18/20\n",
      "60/60 [==============================] - 6s 94ms/step - loss: 0.5469 - accuracy: 0.7219 - val_loss: 0.5531 - val_accuracy: 0.7244\n",
      "Epoch 19/20\n",
      "60/60 [==============================] - 6s 95ms/step - loss: 0.5415 - accuracy: 0.7302 - val_loss: 0.5420 - val_accuracy: 0.7390\n",
      "Epoch 20/20\n",
      "60/60 [==============================] - 6s 94ms/step - loss: 0.5433 - accuracy: 0.7255 - val_loss: 0.5404 - val_accuracy: 0.7328\n"
     ]
    }
   ],
   "source": [
    "train, test = get_tf_DataSet( augment_data=True, channels=['total','stellar','xray'], \n",
    "                             correlations=[['total','stellar'],['total','xray'],['xray','stellar']],\n",
    "                            attributes=['redshift','mass'],simulationNames=['CDM','SIDM0.1'])\n",
    "dataset_to_numpy = list(train.as_numpy_iterator())\n",
    "inputShape = dataset_to_numpy[0][0][0].shape[1:]\n",
    "add_all = simpleCNN.getModel(inputShape, train.num_classes, nAttributes=2)\n",
    "epochs=20\n",
    "au_history = add_all.fit(\n",
    "  x=train,\n",
    "    validation_data=test,\n",
    "  epochs=epochs\n",
    ")"
   ]
  },
  {
   "cell_type": "code",
   "execution_count": 8,
   "metadata": {},
   "outputs": [
    {
     "name": "stdout",
     "output_type": "stream",
     "text": [
      "15/15 [==============================] - 0s 22ms/step\n"
     ]
    },
    {
     "name": "stderr",
     "output_type": "stream",
     "text": [
      "/data2/harvey/tensorflow/examples/tools.py:22: UserWarning: FixedFormatter should only be used together with FixedLocator\n",
      "  ax.set_xticklabels([''] + labels, size = 15)\n",
      "/data2/harvey/tensorflow/examples/tools.py:23: UserWarning: FixedFormatter should only be used together with FixedLocator\n",
      "  ax.set_yticklabels([''] + labels, size = 15)\n"
     ]
    },
    {
     "data": {
      "image/png": "[encoded data removed]",
      "text/plain": [
       "<Figure size 576x432 with 2 Axes>"
      ]
     },
     "metadata": {
      "needs_background": "light"
     },
     "output_type": "display_data"
    }
   ],
   "source": [
    "plot_confusion_matrix( np.array([ y for x_b, y_b in test for y in y_b ]), np.argmax(add_all.predict( test ), axis=-1))"
   ]
  },
  {
   "cell_type": "markdown",
   "metadata": {},
   "source": [
    "#### Results"
   ]
  },
  {
   "cell_type": "code",
   "execution_count": 24,
   "metadata": {},
   "outputs": [
    {
     "data": {
      "text/plain": [
       "<matplotlib.legend.Legend at 0x7f752d8b8c50>"
      ]
     },
     "execution_count": 24,
     "metadata": {},
     "output_type": "execute_result"
    },
    {
     "data": {
      "image/png": "[encoded data removed]",
      "text/plain": [
       "<Figure size 504x504 with 1 Axes>"
      ]
     },
     "metadata": {
      "needs_background": "light"
     },
     "output_type": "display_data"
    }
   ],
   "source": [
    "plt.figure(figsize=(7,7))\n",
    "\n",
    "models = [ fiducial,  add_redshift, add_redshift_mass,add_all]\n",
    "names = ['fid','+redshift','+redshift+mass','add_all']\n",
    "c = ['r','b','g','c','y','k']\n",
    "for i, iModel in enumerate(models):\n",
    "    plt.plot(iModel.history.epoch, iModel.history.history['val_accuracy'], label=names[i], c=c[i])\n",
    "    plt.plot(iModel.history.epoch, [np.max(iModel.history.history['val_accuracy'])]*len(iModel.history.epoch), c=c[i])\n",
    "\n",
    "plt.legend()"
   ]
  },
  {
   "cell_type": "markdown",
   "metadata": {
    "jp-MarkdownHeadingCollapsed": true,
    "tags": []
   },
   "source": [
    "### The old way that i did itattributes="
   ]
  },
  {
   "cell_type": "code",
   "execution_count": null,
   "metadata": {
    "tags": []
   },
   "outputs": [],
   "source": [
    "color=['r','g','b','c']\n",
    "\n",
    "#Test the momentum on reliability\n",
    "\n",
    "csv_file = 'pickles/addRedshift.csv'\n",
    "model_file =  'pickles/addRedshift.h5'\n",
    "    \n",
    "\n",
    "previousEpochs = np.loadtxt( csv_file, delimiter=',',skiprows=1 )\n",
    "model = models.load_model(model_file)\n",
    "\n",
    "trainHistory = np.loadtxt( csv_file, delimiter=',', \n",
    "                    dtype=[('epoch', object), ('accuracy', float), \n",
    "                    ('loss', float), ('val_accuracy',float),('val_loss', float)], skiprows=1)\n",
    "     \n",
    "plt.plot(trainHistory['accuracy'], label='accuracy', color=color[0])\n",
    "plt.plot(trainHistory['val_accuracy'], label = 'Redshift', linestyle='--', color=color[0]) \n",
    "    \n",
    "    \n",
    "\n",
    "csv_file =  'pickles/globalAvPool.csv'\n",
    "trainHistory = np.loadtxt( csv_file, delimiter=',', \n",
    "                    dtype=[('epoch', object), ('accuracy', float), \n",
    "                    ('loss', float), ('val_accuracy',float),('val_loss', float)], skiprows=1)\n",
    "     \n",
    "plt.plot(trainHistory['accuracy'], label='accuracy', color=color[1])\n",
    "plt.plot(trainHistory['val_accuracy'], label = 'MaxPool', linestyle='--', color=color[1]) \n",
    "\n",
    "plt.legend()\n",
    "\n",
    "\n",
    "\n"
   ]
  },
  {
   "cell_type": "code",
   "execution_count": null,
   "metadata": {},
   "outputs": [],
   "source": [
    "attributes = []\n",
    "(train_images, train_att, train_labels), testSets = \\\n",
    "        getData(  indexFileRoot='pickles/testIndexesAttNone', testTrainSplit=0.15, attributes=attributes)\n",
    "test_labels, test_images, test_att = None, None, None\n",
    "for i in testSets.keys():\n",
    "    iAtt = np.array([ testSets[i][j] for j in attributes]).T\n",
    "    #iAtt =  testSets[i]['redshift']\n",
    "    if test_labels is None:\n",
    "        test_images = testSets[i]['images']\n",
    "        test_labels = testSets[i]['labels']\n",
    "        test_att = iAtt\n",
    "    else:\n",
    "        test_labels = np.vstack((test_labels, testSets[i]['labels']))\n",
    "        test_images = np.vstack((test_images, testSets[i]['images']))\n",
    "        test_att = np.vstack((test_att, iAtt))\n",
    "        \n",
    "nClasses = len(np.unique(train_labels))\n",
    "inputShape = train_images.shape[1:]\n",
    "nAttributes = 0 #train_att.shape[1]\n",
    "\n",
    "color=['r','g','b','c']\n",
    "\n",
    "#Test the momentum on reliability\n",
    "print(\"LABELS ARE \",np.unique(test_labels))\n",
    "csv_file = 'pickles/addAttributesNone.csv'\n",
    "csv_logger = CSVLogger(csv_file, append=True)\n",
    "model_file =  'pickles/addAttributesNone.h5'\n",
    "\n",
    "if os.path.isfile( csv_file ):\n",
    "    previousEpochs = np.loadtxt( csv_file, delimiter=',',skiprows=1 )\n",
    "    initial_epoch = previousEpochs.shape[0]\n",
    "else:\n",
    "    initial_epoch = 0\n",
    "        \n",
    "if os.path.isfile(model_file):\n",
    "    print(\"FOUND PREVIOUS MODEL, LOADING...\")\n",
    "    model = models.load_model(model_file)\n",
    "else:\n",
    "    model = simpleCNN.getModel( inputShape, nClasses, nAttributes=nAttributes, \\\n",
    "                               momentum=0.9, finalLayer=256)\n",
    "    \n",
    "history = model.fit(train_images, train_labels, epochs=15, \n",
    "                    initial_epoch=initial_epoch,\n",
    "                    validation_data=(test_images, test_labels),\n",
    "                       callbacks=csv_logger)\n",
    "    \n",
    "model.save(model_file)\n",
    "trainHistory = np.loadtxt( csv_file, delimiter=',', \n",
    "                    dtype=[('epoch', object), ('accuracy', float), \n",
    "                    ('loss', float), ('val_accuracy',float),('val_loss', float)], skiprows=1)\n",
    "     \n",
    "plt.plot(trainHistory['accuracy'], label='Accuracy', color=color[0])\n",
    "plt.plot(trainHistory['val_accuracy'], label = 'Fiducial Validation', linestyle='--', color=color[0]) \n",
    "    \n",
    "    \n",
    "plt.legend()\n"
   ]
  },
  {
   "cell_type": "code",
   "execution_count": null,
   "metadata": {},
   "outputs": [],
   "source": [
    "trainingSet, testSet = \\\n",
    "        getData(testTrainSplit=0.15,  \\\n",
    "                indexFileRoot='pickles/testIndexes', \\\n",
    "                    nChannels=1)\n",
    "                   \n",
    "#augmentedTrain = augmentData( trainingSet )   \n",
    "nClasses = len(np.unique(trainingSet['label']))\n",
    "inputShape = trainingSet['images'].shape[1:]\n",
    "color=['r','g','b','c']\n"
   ]
  },
  {
   "cell_type": "code",
   "execution_count": null,
   "metadata": {},
   "outputs": [],
   "source": [
    "trainingSet.keys()"
   ]
  },
  {
   "cell_type": "code",
   "execution_count": null,
   "metadata": {},
   "outputs": [],
   "source": [
    "inputShape = trainingSet['images'].shape[1:]"
   ]
  },
  {
   "cell_type": "code",
   "execution_count": null,
   "metadata": {},
   "outputs": [],
   "source": [
    "inputShape"
   ]
  },
  {
   "cell_type": "code",
   "execution_count": null,
   "metadata": {},
   "outputs": [],
   "source": [
    "plt.hist(augmentedTrain['label'])"
   ]
  },
  {
   "cell_type": "code",
   "execution_count": null,
   "metadata": {},
   "outputs": [],
   "source": [
    "attributes = []\n",
    "nAttributes = len(attributes) #train_att.shape[1]\n",
    "\n",
    "csv_file = 'pickles/addAttributesNoneSGD_aug.csv'\n",
    "csv_logger = CSVLogger(csv_file, append=True)\n",
    "model_file =  'pickles/addAttributesNoneSGD_aug.h5'\n",
    "\n",
    "if os.path.isfile( csv_file ):\n",
    "    previousEpochs = np.loadtxt( csv_file, delimiter=',',skiprows=1 )\n",
    "    initial_epoch = previousEpochs.shape[0]\n",
    "else:\n",
    "    initial_epoch = 0\n",
    "        \n",
    "if os.path.isfile(model_file):\n",
    "    print(\"FOUND PREVIOUS MODEL, LOADING...\")\n",
    "    model = models.load_model(model_file)\n",
    "else:\n",
    "    model = simpleCNN.getModel( inputShape, nClasses, nAttributes=nAttributes, \\\n",
    "                               momentum=0.9, finalLayer=256, learning_rate=1e-4)\n",
    "model.summary()  \n",
    "\n",
    "\n",
    "inputLayerAtts = np.array([  augmentedTrain[iKey] for iKey in attributes ]).T\n",
    "testLayerAtts = np.array([ testSet[iKey] for iKey in attributes ])\n",
    "\n",
    "history = model.fit( augmentedTrain['images'], augmentedTrain['label'], epochs=40, \n",
    "                    initial_epoch=initial_epoch,\n",
    "                    validation_data=(testSet['images'], testSet['label']),\n",
    "                       callbacks=csv_logger)\n",
    "    \n",
    "    \n",
    "model.save(model_file)\n",
    "\n",
    "\n",
    "color=['r','g','b','c']\n",
    "\n",
    "trainHistory = np.loadtxt( csv_file, delimiter=',', \n",
    "                    dtype=[('epoch', object), ('accuracy', float), \n",
    "                    ('loss', float), ('val_accuracy',float),('val_loss', float)], skiprows=1)\n",
    "     \n",
    "plt.plot(trainHistory['accuracy'], label='accuracy', color=color[0])\n",
    "plt.plot(trainHistory['val_accuracy'], label = 'Redshift attribute with Max Pool', linestyle='--', color=color[0]) \n",
    "    \n",
    "    \n",
    "\n",
    "csv_file = 'pickles/addAttributesNoneSGD.csv'\n",
    "trainHistory = np.loadtxt( csv_file, delimiter=',', \n",
    "                    dtype=[('epoch', object), ('accuracy', float), \n",
    "                    ('loss', float), ('val_accuracy',float),('val_loss', float)], skiprows=1)\n",
    "     \n",
    "plt.plot(trainHistory['accuracy'], label='accuracy', color=color[1])\n",
    "plt.plot(trainHistory['val_accuracy'], label = 'Fiducial', linestyle='--', color=color[1]) \n",
    "\n",
    "plt.legend()\n"
   ]
  },
  {
   "cell_type": "code",
   "execution_count": null,
   "metadata": {},
   "outputs": [],
   "source": [
    "attributes = ['mass']\n",
    "nAttributes = len(attribute) #train_att.shape[1]\n",
    "\n",
    "\n",
    "#Test the momentum on reliability\n",
    "print(\"LABELS ARE \",np.unique(test_labels))\n",
    "\n",
    "attributes = []\n",
    "nAttributes = len(attributes)\n",
    "\n",
    "\n",
    "csv_file = 'pickles/addAttributesMassSGD.csv'\n",
    "csv_logger = CSVLogger(csv_file, append=True)\n",
    "model_file =  'pickles/addAttributesMassSGD.h5'\n",
    "\n",
    "if os.path.isfile( csv_file ):\n",
    "    previousEpochs = np.loadtxt( csv_file, delimiter=',',skiprows=1 )\n",
    "    initial_epoch = previousEpochs.shape[0]\n",
    "else:\n",
    "    initial_epoch = 0\n",
    "        \n",
    "if os.path.isfile(model_file):\n",
    "    print(\"FOUND PREVIOUS MODEL, LOADING...\")\n",
    "    model = models.load_model(model_file)\n",
    "else:\n",
    "    model = simpleCNN.getModel( inputShape, nClasses, nAttributes=nAttributes, \\\n",
    "                               momentum=0.9, finalLayer=256, learning_rate=1e-4)\n",
    "model.summary()  \n",
    "\n",
    "\n",
    "inputLayerAtts = np.array([  augmentedTrain[iKey] for iKey in attributes ]).T\n",
    "testLayerAtts = np.array([ testSet[iKey] for iKey in attributes ])\n",
    "\n",
    "history = model.fit( [augmentedTrain['images'], inputLayerAtts], augmentedTrain['label'], epochs=40, \n",
    "                    initial_epoch=initial_epoch,\n",
    "                    validation_data=([testSet['images'], testLayerAtts], testSet['label']),\n",
    "                       callbacks=csv_logger)\n",
    "    \n",
    "    \n",
    "model.save(model_file)\n",
    "\n",
    "\n",
    "color=['r','g','b','c']\n",
    "\n",
    "trainHistory = np.loadtxt( csv_file, delimiter=',', \n",
    "                    dtype=[('epoch', object), ('accuracy', float), \n",
    "                    ('loss', float), ('val_accuracy',float),('val_loss', float)], skiprows=1)\n",
    "     \n",
    "plt.plot(trainHistory['accuracy'], label='accuracy', color=color[0])\n",
    "plt.plot(trainHistory['val_accuracy'], label = 'Redshift attribute with Max Pool', linestyle='--', color=color[0]) \n",
    "    \n",
    "    \n",
    "\n",
    "csv_file = 'pickles/addAttributesNoneSGD.csv'\n",
    "trainHistory = np.loadtxt( csv_file, delimiter=',', \n",
    "                    dtype=[('epoch', object), ('accuracy', float), \n",
    "                    ('loss', float), ('val_accuracy',float),('val_loss', float)], skiprows=1)\n",
    "     \n",
    "plt.plot(trainHistory['accuracy'], label='accuracy', color=color[1])\n",
    "plt.plot(trainHistory['val_accuracy'], label = 'Fiducial', linestyle='--', color=color[1]) \n",
    "\n",
    "plt.legend()\n"
   ]
  },
  {
   "cell_type": "code",
   "execution_count": null,
   "metadata": {},
   "outputs": [],
   "source": [
    "attributes = ['mass','redshift']\n",
    "nAttributes = len(attribute) #train_att.shape[1]\n",
    "\n",
    "\n",
    "#Test the momentum on reliability\n",
    "print(\"LABELS ARE \",np.unique(test_labels))\n",
    "\n",
    "attributes = []\n",
    "nAttributes = len(attributes)\n",
    "\n",
    "\n",
    "csv_file = 'pickles/addAttributesMassRedshiftSGD.csv'\n",
    "csv_logger = CSVLogger(csv_file, append=True)\n",
    "model_file =  'pickles/addAttributesMassRedshiftSGD.h5'\n",
    "\n",
    "if os.path.isfile( csv_file ):\n",
    "    previousEpochs = np.loadtxt( csv_file, delimiter=',',skiprows=1 )\n",
    "    initial_epoch = previousEpochs.shape[0]\n",
    "else:\n",
    "    initial_epoch = 0\n",
    "        \n",
    "if os.path.isfile(model_file):\n",
    "    print(\"FOUND PREVIOUS MODEL, LOADING...\")\n",
    "    model = models.load_model(model_file)\n",
    "else:\n",
    "    model = simpleCNN.getModel( inputShape, nClasses, nAttributes=nAttributes, \\\n",
    "                               momentum=0.9, finalLayer=256, learning_rate=1e-4)\n",
    "model.summary()  \n",
    "\n",
    "\n",
    "inputLayerAtts = np.array([  augmentedTrain[iKey] for iKey in attributes ]).T\n",
    "testLayerAtts = np.array([ testSet[iKey] for iKey in attributes ])\n",
    "\n",
    "history = model.fit( [augmentedTrain['images'], inputLayerAtts], augmentedTrain['label'], epochs=40, \n",
    "                    initial_epoch=initial_epoch,\n",
    "                    validation_data=([testSet['images'], testLayerAtts], testSet['label']),\n",
    "                       callbacks=csv_logger)\n",
    "    \n",
    "    \n",
    "model.save(model_file)\n",
    "\n",
    "\n",
    "color=['r','g','b','c']\n",
    "\n",
    "trainHistory = np.loadtxt( csv_file, delimiter=',', \n",
    "                    dtype=[('epoch', object), ('accuracy', float), \n",
    "                    ('loss', float), ('val_accuracy',float),('val_loss', float)], skiprows=1)\n",
    "     \n",
    "plt.plot(trainHistory['accuracy'], label='accuracy', color=color[0])\n",
    "plt.plot(trainHistory['val_accuracy'], label = 'Redshift attribute with Max Pool', linestyle='--', color=color[0]) \n",
    "    \n",
    "    \n",
    "\n",
    "csv_file = 'pickles/addAttributesNoneSGD.csv'\n",
    "trainHistory = np.loadtxt( csv_file, delimiter=',', \n",
    "                    dtype=[('epoch', object), ('accuracy', float), \n",
    "                    ('loss', float), ('val_accuracy',float),('val_loss', float)], skiprows=1)\n",
    "     \n",
    "plt.plot(trainHistory['accuracy'], label='accuracy', color=color[1])\n",
    "plt.plot(trainHistory['val_accuracy'], label = 'Fiducial', linestyle='--', color=color[1]) \n",
    "\n",
    "plt.legend()\n"
   ]
  },
  {
   "cell_type": "code",
   "execution_count": null,
   "metadata": {},
   "outputs": [],
   "source": [
    "plt.imshow(tf.math.confusion_matrix(prediction,test_labels ))"
   ]
  },
  {
   "cell_type": "code",
   "execution_count": null,
   "metadata": {},
   "outputs": [],
   "source": [
    "attributes = ['redshift']\n",
    "nAttributes = len(attributes)\n",
    "\n",
    "\n",
    "csv_file = 'pickles/addAttributesZ_SGD_maxPool_aug.csv'\n",
    "csv_logger = CSVLogger(csv_file, append=True)\n",
    "model_file =  'pickles/addAttributesZ_SGD_maxPool_aug.h5'\n",
    "\n",
    "if os.path.isfile( csv_file ):\n",
    "    previousEpochs = np.loadtxt( csv_file, delimiter=',',skiprows=1 )\n",
    "    initial_epoch = previousEpochs.shape[0]\n",
    "else:\n",
    "    initial_epoch = 0\n",
    "        \n",
    "if os.path.isfile(model_file):\n",
    "    print(\"FOUND PREVIOUS MODEL, LOADING...\")\n",
    "    model = models.load_model(model_file)\n",
    "else:\n",
    "    model = simpleCNN.getModel( inputShape, nClasses, nAttributes=nAttributes, \\\n",
    "                               momentum=0.9, finalLayer=256, learning_rate=1e-4)\n",
    "model.summary()  \n",
    "\n",
    "\n",
    "inputLayerAtts = np.array([  augmentedTrain[iKey] for iKey in attributes ]).T\n",
    "testLayerAtts = np.array([ testSet[iKey] for iKey in attributes ]).T\n",
    "\n",
    "history = model.fit( [augmentedTrain['images'], inputLayerAtts], augmentedTrain['label'], epochs=40, \n",
    "                    initial_epoch=initial_epoch,\n",
    "                    validation_data=([testSet['images'], testLayerAtts], testSet['label']),\n",
    "                       callbacks=csv_logger)\n",
    "    \n",
    "    \n",
    "model.save(model_file)\n",
    "\n",
    "\n",
    "color=['r','g','b','c']\n",
    "\n",
    "trainHistory = np.loadtxt( csv_file, delimiter=',', \n",
    "                    dtype=[('epoch', object), ('accuracy', float), \n",
    "                    ('loss', float), ('val_accuracy',float),('val_loss', float)], skiprows=1)\n",
    "     \n",
    "plt.plot(trainHistory['accuracy'], label='accuracy', color=color[0])\n",
    "plt.plot(trainHistory['val_accuracy'], label = 'Redshift attribute with Max Pool', linestyle='--', color=color[0]) \n",
    "    \n",
    "    \n",
    "\n",
    "csv_file = 'pickles/addAttributesNoneSGD.csv'\n",
    "trainHistory = np.loadtxt( csv_file, delimiter=',', \n",
    "                    dtype=[('epoch', object), ('accuracy', float), \n",
    "                    ('loss', float), ('val_accuracy',float),('val_loss', float)], skiprows=1)\n",
    "     \n",
    "plt.plot(trainHistory['accuracy'], label='accuracy', color=color[1])\n",
    "plt.plot(trainHistory['val_accuracy'], label = 'Fiducial', linestyle='--', color=color[1]) \n",
    "\n",
    "plt.legend()\n"
   ]
  },
  {
   "cell_type": "code",
   "execution_count": null,
   "metadata": {},
   "outputs": [],
   "source": [
    "attributes = ['redshift']\n",
    "(train_images, train_att, train_labels), testSets = \\\n",
    "        getData(  indexFileRoot='pickles/testIndexes', \\\n",
    "                testTrainSplit=0.15, attributes=attributes)\n",
    "test_labels, test_images, test_att = None, None, None\n",
    "for i in testSets.keys():\n",
    "    iAtt = np.array([ testSets[i][j] for j in attributes]).T\n",
    "    #iAtt =  testSets[i]['redshift']\n",
    "    if test_labels is None:\n",
    "        test_images = testSets[i]['images']\n",
    "        test_labels = testSets[i]['labels']\n",
    "        test_att = iAtt\n",
    "    else:\n",
    "        test_labels = np.vstack((test_labels, testSets[i]['labels']))\n",
    "        test_images = np.vstack((test_images, testSets[i]['images']))\n",
    "        test_att = np.vstack((test_att, iAtt))\n",
    "        \n",
    "nClasses = len(np.unique(train_labels))\n",
    "inputShape = train_images.shape[1:]\n",
    "nAttributes = train_att.shape[1]\n",
    "\n",
    "color=['r','g','b','c']\n",
    "\n",
    "#Test the momentum on reliability\n",
    "print(\"LABELS ARE \",np.unique(test_labels))\n",
    "csv_file = 'pickles/addAttributesZ_SGD_maxPool_2.csv'\n",
    "csv_logger = CSVLogger(csv_file, append=True)\n",
    "model_file =  'pickles/addAttributesZ_SGD_maxPool_2.h5'\n",
    "\n",
    "if os.path.isfile( csv_file ):\n",
    "    previousEpochs = np.loadtxt( csv_file, delimiter=',',skiprows=1 )\n",
    "    initial_epoch = previousEpochs.shape[0]\n",
    "else:\n",
    "    initial_epoch = 0\n",
    "        \n",
    "if os.path.isfile(model_file):\n",
    "    print(\"FOUND PREVIOUS MODEL, LOADING...\")\n",
    "    model = models.load_model(model_file)\n",
    "else:\n",
    "    model = simpleCNN.getModel( inputShape, nClasses, nAttributes=nAttributes, \\\n",
    "                               momentum=0.9, finalLayer=256, learning_rate=1e-4)\n",
    "model.summary()  \n",
    "history = model.fit([train_images, train_att], train_labels, epochs=40, \n",
    "                    initial_epoch=initial_epoch,\n",
    "                    validation_data=([test_images, test_att], test_labels),\n",
    "                       callbacks=csv_logger)\n",
    "    \n",
    "model.save(model_file)\n",
    "trainHistory = np.loadtxt( csv_file, delimiter=',', \n",
    "                    dtype=[('epoch', object), ('accuracy', float), \n",
    "                    ('loss', float), ('val_accuracy',float),('val_loss', float)], skiprows=1)\n",
    "     \n",
    "plt.plot(trainHistory['accuracy'], label='accuracy', color=color[0])\n",
    "plt.plot(trainHistory['val_accuracy'], label = 'Redshift attribute with Max Pool', linestyle='--', color=color[0]) \n",
    "    \n",
    "    \n",
    "\n",
    "csv_file = 'pickles/addAttributesNoneSGD.csv'\n",
    "trainHistory = np.loadtxt( csv_file, delimiter=',', \n",
    "                    dtype=[('epoch', object), ('accuracy', float), \n",
    "                    ('loss', float), ('val_accuracy',float),('val_loss', float)], skiprows=1)\n",
    "     \n",
    "plt.plot(trainHistory['accuracy'], label='accuracy', color=color[1])\n",
    "plt.plot(trainHistory['val_accuracy'], label = 'Fiducial', linestyle='--', color=color[1]) \n",
    "\n",
    "plt.legend()\n"
   ]
  },
  {
   "cell_type": "code",
   "execution_count": null,
   "metadata": {},
   "outputs": [],
   "source": [
    "model.layers[12].pool_size"
   ]
  },
  {
   "cell_type": "code",
   "execution_count": null,
   "metadata": {},
   "outputs": [],
   "source": [
    "all_csv_files = ['pickles/addAttributesNoneSGD.csv', \\\n",
    "            'pickles/addAttributesZ_SGD.csv',\\\n",
    "            'pickles/addAttributesMassSGD.csv',\\\n",
    "            'pickles/addAttributesMassRedshift.csv',\\\n",
    "            'pickles/addAttributesZ_SGD_maxPool.csv',\n",
    "                'pickles/addAttributesZ_SGD_maxPool_4.csv']\n",
    "colors = ['r','b','g','c','k','yellow']\n",
    "for i, csv_file in enumerate(all_csv_files):\n",
    "    \n",
    "    trainHistory = np.loadtxt( csv_file, delimiter=',', \n",
    "                    dtype=[('epoch', object), ('accuracy', float), \n",
    "                    ('loss', float), ('val_accuracy',float),('val_loss', float)], skiprows=1)\n",
    "     \n",
    "    #plt.plot(trainHistory['accuracy'], label='accuracy', color=color[1],\n",
    "    #        colo)\n",
    "    plt.plot(trainHistory['val_accuracy'], label = csv_file.split('/')[1], \\\n",
    "             linestyle='--', color=colors[i]) \n",
    "\n",
    "plt.legend()\n"
   ]
  },
  {
   "cell_type": "code",
   "execution_count": null,
   "metadata": {},
   "outputs": [],
   "source": [
    "model_file =  models.load_model('pickles/addAttributesZ_SGD_maxPool.h5')\n",
    "new_model_file =  models.load_model('pickles/addAttributesZ_SGD_maxPool_2.h5')"
   ]
  },
  {
   "cell_type": "code",
   "execution_count": null,
   "metadata": {},
   "outputs": [],
   "source": [
    "model_file.summary()\n",
    "new_model_file.summary()"
   ]
  },
  {
   "cell_type": "code",
   "execution_count": null,
   "metadata": {},
   "outputs": [],
   "source": []
  }
 ],
 "metadata": {
  "kernelspec": {
   "display_name": "local-venv",
   "language": "python",
   "name": "local-venv"
  },
  "language_info": {
   "codemirror_mode": {
    "name": "ipython",
    "version": 3
   },
   "file_extension": ".py",
   "mimetype": "text/x-python",
   "name": "python",
   "nbconvert_exporter": "python",
   "pygments_lexer": "ipython3",
   "version": "3.10.9"
  }
 },
 "nbformat": 4,
 "nbformat_minor": 4
}
