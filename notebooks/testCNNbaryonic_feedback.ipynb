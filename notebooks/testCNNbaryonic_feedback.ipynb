{
 "cells": [
  {
   "cell_type": "code",
   "execution_count": 1,
   "metadata": {
    "tags": []
   },
   "outputs": [],
   "source": [
    "%load_ext autoreload\n",
    "%autoreload 2"
   ]
  },
  {
   "cell_type": "code",
   "execution_count": 41,
   "metadata": {
    "tags": []
   },
   "outputs": [],
   "source": [
    "from globalVariables import *\n",
    "import simpleCNNwithInception as inceptionCNN\n",
    "import simpleCNN as simpleCNN\n",
    "import simpleCNNwithInceptionRegression as regressor\n",
    "from keras.callbacks import CSVLogger\n",
    "from scipy.ndimage import rotate\n",
    "from tools import plot_confusion_matrix, get_best_model\n",
    "from getSIDMdata_generator_meta import get_tf_DataSet as getGenerators\n",
    "import scienceplots\n",
    "plt.style.use([\"science\"])"
   ]
  },
  {
   "cell_type": "markdown",
   "metadata": {},
   "source": [
    "Objectives\n",
    "----------\n",
    "1. To see if the model can tell between baryonic feedback and dark matter ineractions\n",
    "\n",
    "\n",
    "Conclusions\n",
    "-----------\n",
    "1. Xray really deciphers between baryonic models and total and stellar dark matter models\n",
    "2. Generators with an refelect and interpolation order of 3 do well\n",
    "3. Xray means that we can descern between CDM, but because CDM and SIDM have the same AGN then it is difficult to separte those out.\n"
   ]
  },
  {
   "cell_type": "code",
   "execution_count": 6,
   "metadata": {},
   "outputs": [],
   "source": [
    "def predict( test_set, list_of_models ):\n",
    "    \n",
    "    predictions = None\n",
    "    for iL, iModel in enumerate(list_of_models):\n",
    "        \n",
    "        if predictions is None:\n",
    "            predictions = np.argmax(iModel.predict( test_set, verbose=0 ), axis=-1)\n",
    "        else:\n",
    "            new_predict = np.argmax(iModel.predict( test_set, verbose=0 ), axis=-1)\n",
    "            predictions[ predictions == iL ] += new_predict[ predictions == iL]\n",
    "    return predictions"
   ]
  },
  {
   "cell_type": "code",
   "execution_count": 7,
   "metadata": {
    "tags": []
   },
   "outputs": [],
   "source": [
    "epochs=80\n",
    "random_state=42\n",
    "model_name='simple'"
   ]
  },
  {
   "cell_type": "markdown",
   "metadata": {
    "tags": []
   },
   "source": [
    "#### 1. Get the fiducial for total and stellar for CDM fiducial and DM (fiducial_model)"
   ]
  },
  {
   "cell_type": "code",
   "execution_count": 28,
   "metadata": {
    "tags": []
   },
   "outputs": [
    {
     "name": "stdout",
     "output_type": "stream",
     "text": [
      "Epoch 1/50\n"
     ]
    },
    {
     "name": "stderr",
     "output_type": "stream",
     "text": [
      "/Users/davidharvey/Work/darkCNN/lib/python3.10/site-packages/keras/preprocessing/image.py:766: UserWarning: NumpyArrayIterator is set to use the data format convention \"channels_last\" (channels on axis 3), i.e. expected either 1, 3, or 4 channels on axis 3. However, it was passed an array with shape (2880, 100, 100, 2) (2 channels).\n",
      "  warnings.warn(\n"
     ]
    },
    {
     "name": "stdout",
     "output_type": "stream",
     "text": [
      "90/90 [==============================] - ETA: 0s - loss: 0.9289 - accuracy: 0.5243"
     ]
    },
    {
     "name": "stderr",
     "output_type": "stream",
     "text": [
      "WARNING:absl:Found untraced functions such as _update_step_xla, _jit_compiled_convolution_op, _jit_compiled_convolution_op, _jit_compiled_convolution_op while saving (showing 4 of 4). These functions will not be directly callable after loading.\n"
     ]
    },
    {
     "name": "stdout",
     "output_type": "stream",
     "text": [
      "INFO:tensorflow:Assets written to: models/test_baryon/simple_cdmfid_0p1_1_tot_ste_42/assets\n"
     ]
    },
    {
     "name": "stderr",
     "output_type": "stream",
     "text": [
      "INFO:tensorflow:Assets written to: models/test_baryon/simple_cdmfid_0p1_1_tot_ste_42/assets\n"
     ]
    },
    {
     "name": "stdout",
     "output_type": "stream",
     "text": [
      "90/90 [==============================] - 10s 102ms/step - loss: 0.9289 - accuracy: 0.5243 - val_loss: 0.8279 - val_accuracy: 0.5847\n",
      "Epoch 2/50\n",
      "90/90 [==============================] - ETA: 0s - loss: 0.7858 - accuracy: 0.6264"
     ]
    },
    {
     "name": "stderr",
     "output_type": "stream",
     "text": [
      "WARNING:absl:Found untraced functions such as _update_step_xla, _jit_compiled_convolution_op, _jit_compiled_convolution_op, _jit_compiled_convolution_op while saving (showing 4 of 4). These functions will not be directly callable after loading.\n"
     ]
    },
    {
     "name": "stdout",
     "output_type": "stream",
     "text": [
      "INFO:tensorflow:Assets written to: models/test_baryon/simple_cdmfid_0p1_1_tot_ste_42/assets\n"
     ]
    },
    {
     "name": "stderr",
     "output_type": "stream",
     "text": [
      "INFO:tensorflow:Assets written to: models/test_baryon/simple_cdmfid_0p1_1_tot_ste_42/assets\n"
     ]
    },
    {
     "name": "stdout",
     "output_type": "stream",
     "text": [
      "90/90 [==============================] - 9s 100ms/step - loss: 0.7858 - accuracy: 0.6264 - val_loss: 0.7502 - val_accuracy: 0.6222\n",
      "Epoch 3/50\n",
      "90/90 [==============================] - ETA: 0s - loss: 0.7095 - accuracy: 0.6521"
     ]
    },
    {
     "name": "stderr",
     "output_type": "stream",
     "text": [
      "WARNING:absl:Found untraced functions such as _update_step_xla, _jit_compiled_convolution_op, _jit_compiled_convolution_op, _jit_compiled_convolution_op while saving (showing 4 of 4). These functions will not be directly callable after loading.\n"
     ]
    },
    {
     "name": "stdout",
     "output_type": "stream",
     "text": [
      "INFO:tensorflow:Assets written to: models/test_baryon/simple_cdmfid_0p1_1_tot_ste_42/assets\n"
     ]
    },
    {
     "name": "stderr",
     "output_type": "stream",
     "text": [
      "INFO:tensorflow:Assets written to: models/test_baryon/simple_cdmfid_0p1_1_tot_ste_42/assets\n"
     ]
    },
    {
     "name": "stdout",
     "output_type": "stream",
     "text": [
      "90/90 [==============================] - 9s 99ms/step - loss: 0.7095 - accuracy: 0.6521 - val_loss: 0.7087 - val_accuracy: 0.6583\n",
      "Epoch 4/50\n",
      "90/90 [==============================] - ETA: 0s - loss: 0.6659 - accuracy: 0.6660"
     ]
    },
    {
     "name": "stderr",
     "output_type": "stream",
     "text": [
      "WARNING:absl:Found untraced functions such as _update_step_xla, _jit_compiled_convolution_op, _jit_compiled_convolution_op, _jit_compiled_convolution_op while saving (showing 4 of 4). These functions will not be directly callable after loading.\n"
     ]
    },
    {
     "name": "stdout",
     "output_type": "stream",
     "text": [
      "INFO:tensorflow:Assets written to: models/test_baryon/simple_cdmfid_0p1_1_tot_ste_42/assets\n"
     ]
    },
    {
     "name": "stderr",
     "output_type": "stream",
     "text": [
      "INFO:tensorflow:Assets written to: models/test_baryon/simple_cdmfid_0p1_1_tot_ste_42/assets\n"
     ]
    },
    {
     "name": "stdout",
     "output_type": "stream",
     "text": [
      "90/90 [==============================] - 9s 104ms/step - loss: 0.6659 - accuracy: 0.6660 - val_loss: 0.6790 - val_accuracy: 0.6694\n",
      "Epoch 5/50\n",
      "90/90 [==============================] - 9s 96ms/step - loss: 0.6482 - accuracy: 0.6979 - val_loss: 0.6670 - val_accuracy: 0.6611\n",
      "Epoch 6/50\n",
      "90/90 [==============================] - ETA: 0s - loss: 0.6189 - accuracy: 0.7059"
     ]
    },
    {
     "name": "stderr",
     "output_type": "stream",
     "text": [
      "WARNING:absl:Found untraced functions such as _update_step_xla, _jit_compiled_convolution_op, _jit_compiled_convolution_op, _jit_compiled_convolution_op while saving (showing 4 of 4). These functions will not be directly callable after loading.\n"
     ]
    },
    {
     "name": "stdout",
     "output_type": "stream",
     "text": [
      "INFO:tensorflow:Assets written to: models/test_baryon/simple_cdmfid_0p1_1_tot_ste_42/assets\n"
     ]
    },
    {
     "name": "stderr",
     "output_type": "stream",
     "text": [
      "INFO:tensorflow:Assets written to: models/test_baryon/simple_cdmfid_0p1_1_tot_ste_42/assets\n"
     ]
    },
    {
     "name": "stdout",
     "output_type": "stream",
     "text": [
      "90/90 [==============================] - 9s 103ms/step - loss: 0.6189 - accuracy: 0.7059 - val_loss: 0.5950 - val_accuracy: 0.7125\n",
      "Epoch 7/50\n",
      "90/90 [==============================] - 8s 91ms/step - loss: 0.6096 - accuracy: 0.7128 - val_loss: 0.6099 - val_accuracy: 0.6819\n",
      "Epoch 8/50\n",
      "90/90 [==============================] - 8s 91ms/step - loss: 0.5809 - accuracy: 0.7330 - val_loss: 0.6020 - val_accuracy: 0.6875\n",
      "Epoch 9/50\n",
      "90/90 [==============================] - ETA: 0s - loss: 0.5791 - accuracy: 0.7372"
     ]
    },
    {
     "name": "stderr",
     "output_type": "stream",
     "text": [
      "WARNING:absl:Found untraced functions such as _update_step_xla, _jit_compiled_convolution_op, _jit_compiled_convolution_op, _jit_compiled_convolution_op while saving (showing 4 of 4). These functions will not be directly callable after loading.\n"
     ]
    },
    {
     "name": "stdout",
     "output_type": "stream",
     "text": [
      "INFO:tensorflow:Assets written to: models/test_baryon/simple_cdmfid_0p1_1_tot_ste_42/assets\n"
     ]
    },
    {
     "name": "stderr",
     "output_type": "stream",
     "text": [
      "INFO:tensorflow:Assets written to: models/test_baryon/simple_cdmfid_0p1_1_tot_ste_42/assets\n"
     ]
    },
    {
     "name": "stdout",
     "output_type": "stream",
     "text": [
      "90/90 [==============================] - 10s 106ms/step - loss: 0.5791 - accuracy: 0.7372 - val_loss: 0.5703 - val_accuracy: 0.7181\n",
      "Epoch 10/50\n",
      "90/90 [==============================] - ETA: 0s - loss: 0.5645 - accuracy: 0.7358"
     ]
    },
    {
     "name": "stderr",
     "output_type": "stream",
     "text": [
      "WARNING:absl:Found untraced functions such as _update_step_xla, _jit_compiled_convolution_op, _jit_compiled_convolution_op, _jit_compiled_convolution_op while saving (showing 4 of 4). These functions will not be directly callable after loading.\n"
     ]
    },
    {
     "name": "stdout",
     "output_type": "stream",
     "text": [
      "INFO:tensorflow:Assets written to: models/test_baryon/simple_cdmfid_0p1_1_tot_ste_42/assets\n"
     ]
    },
    {
     "name": "stderr",
     "output_type": "stream",
     "text": [
      "INFO:tensorflow:Assets written to: models/test_baryon/simple_cdmfid_0p1_1_tot_ste_42/assets\n"
     ]
    },
    {
     "name": "stdout",
     "output_type": "stream",
     "text": [
      "90/90 [==============================] - 9s 105ms/step - loss: 0.5645 - accuracy: 0.7358 - val_loss: 0.5554 - val_accuracy: 0.7292\n",
      "Epoch 11/50\n",
      "90/90 [==============================] - 8s 91ms/step - loss: 0.5713 - accuracy: 0.7188 - val_loss: 0.6052 - val_accuracy: 0.6806\n",
      "Epoch 12/50\n",
      "90/90 [==============================] - ETA: 0s - loss: 0.5694 - accuracy: 0.7344"
     ]
    },
    {
     "name": "stderr",
     "output_type": "stream",
     "text": [
      "WARNING:absl:Found untraced functions such as _update_step_xla, _jit_compiled_convolution_op, _jit_compiled_convolution_op, _jit_compiled_convolution_op while saving (showing 4 of 4). These functions will not be directly callable after loading.\n"
     ]
    },
    {
     "name": "stdout",
     "output_type": "stream",
     "text": [
      "INFO:tensorflow:Assets written to: models/test_baryon/simple_cdmfid_0p1_1_tot_ste_42/assets\n"
     ]
    },
    {
     "name": "stderr",
     "output_type": "stream",
     "text": [
      "INFO:tensorflow:Assets written to: models/test_baryon/simple_cdmfid_0p1_1_tot_ste_42/assets\n"
     ]
    },
    {
     "name": "stdout",
     "output_type": "stream",
     "text": [
      "90/90 [==============================] - 9s 101ms/step - loss: 0.5694 - accuracy: 0.7344 - val_loss: 0.5506 - val_accuracy: 0.7444\n",
      "Epoch 13/50\n",
      "90/90 [==============================] - 8s 91ms/step - loss: 0.5473 - accuracy: 0.7458 - val_loss: 0.5370 - val_accuracy: 0.7375\n",
      "Epoch 14/50\n",
      "90/90 [==============================] - 9s 95ms/step - loss: 0.5457 - accuracy: 0.7469 - val_loss: 0.6235 - val_accuracy: 0.6861\n",
      "Epoch 15/50\n",
      "90/90 [==============================] - 8s 91ms/step - loss: 0.5414 - accuracy: 0.7524 - val_loss: 0.5529 - val_accuracy: 0.7278\n",
      "Epoch 16/50\n",
      "90/90 [==============================] - 8s 92ms/step - loss: 0.5440 - accuracy: 0.7399 - val_loss: 0.5516 - val_accuracy: 0.7403\n",
      "Epoch 17/50\n",
      "90/90 [==============================] - 8s 90ms/step - loss: 0.5542 - accuracy: 0.7437 - val_loss: 0.5354 - val_accuracy: 0.7333\n",
      "Epoch 18/50\n",
      "90/90 [==============================] - ETA: 0s - loss: 0.5317 - accuracy: 0.7503"
     ]
    },
    {
     "name": "stderr",
     "output_type": "stream",
     "text": [
      "WARNING:absl:Found untraced functions such as _update_step_xla, _jit_compiled_convolution_op, _jit_compiled_convolution_op, _jit_compiled_convolution_op while saving (showing 4 of 4). These functions will not be directly callable after loading.\n"
     ]
    },
    {
     "name": "stdout",
     "output_type": "stream",
     "text": [
      "INFO:tensorflow:Assets written to: models/test_baryon/simple_cdmfid_0p1_1_tot_ste_42/assets\n"
     ]
    },
    {
     "name": "stderr",
     "output_type": "stream",
     "text": [
      "INFO:tensorflow:Assets written to: models/test_baryon/simple_cdmfid_0p1_1_tot_ste_42/assets\n"
     ]
    },
    {
     "name": "stdout",
     "output_type": "stream",
     "text": [
      "90/90 [==============================] - 9s 103ms/step - loss: 0.5317 - accuracy: 0.7503 - val_loss: 0.5522 - val_accuracy: 0.7458\n",
      "Epoch 19/50\n",
      "90/90 [==============================] - ETA: 0s - loss: 0.5381 - accuracy: 0.7514"
     ]
    },
    {
     "name": "stderr",
     "output_type": "stream",
     "text": [
      "WARNING:absl:Found untraced functions such as _update_step_xla, _jit_compiled_convolution_op, _jit_compiled_convolution_op, _jit_compiled_convolution_op while saving (showing 4 of 4). These functions will not be directly callable after loading.\n"
     ]
    },
    {
     "name": "stdout",
     "output_type": "stream",
     "text": [
      "INFO:tensorflow:Assets written to: models/test_baryon/simple_cdmfid_0p1_1_tot_ste_42/assets\n"
     ]
    },
    {
     "name": "stderr",
     "output_type": "stream",
     "text": [
      "INFO:tensorflow:Assets written to: models/test_baryon/simple_cdmfid_0p1_1_tot_ste_42/assets\n"
     ]
    },
    {
     "name": "stdout",
     "output_type": "stream",
     "text": [
      "90/90 [==============================] - 9s 104ms/step - loss: 0.5381 - accuracy: 0.7514 - val_loss: 0.5095 - val_accuracy: 0.7583\n",
      "Epoch 20/50\n",
      "90/90 [==============================] - ETA: 0s - loss: 0.5215 - accuracy: 0.7542"
     ]
    },
    {
     "name": "stderr",
     "output_type": "stream",
     "text": [
      "WARNING:absl:Found untraced functions such as _update_step_xla, _jit_compiled_convolution_op, _jit_compiled_convolution_op, _jit_compiled_convolution_op while saving (showing 4 of 4). These functions will not be directly callable after loading.\n"
     ]
    },
    {
     "name": "stdout",
     "output_type": "stream",
     "text": [
      "INFO:tensorflow:Assets written to: models/test_baryon/simple_cdmfid_0p1_1_tot_ste_42/assets\n"
     ]
    },
    {
     "name": "stderr",
     "output_type": "stream",
     "text": [
      "INFO:tensorflow:Assets written to: models/test_baryon/simple_cdmfid_0p1_1_tot_ste_42/assets\n"
     ]
    },
    {
     "name": "stdout",
     "output_type": "stream",
     "text": [
      "90/90 [==============================] - 9s 105ms/step - loss: 0.5215 - accuracy: 0.7542 - val_loss: 0.5136 - val_accuracy: 0.7639\n",
      "Epoch 21/50\n",
      "90/90 [==============================] - 8s 90ms/step - loss: 0.5211 - accuracy: 0.7451 - val_loss: 0.5425 - val_accuracy: 0.7472\n",
      "Epoch 22/50\n",
      "90/90 [==============================] - 8s 94ms/step - loss: 0.5006 - accuracy: 0.7649 - val_loss: 0.5864 - val_accuracy: 0.7319\n",
      "Epoch 23/50\n",
      "90/90 [==============================] - 8s 92ms/step - loss: 0.5104 - accuracy: 0.7556 - val_loss: 0.5543 - val_accuracy: 0.7125\n",
      "Epoch 24/50\n",
      "90/90 [==============================] - ETA: 0s - loss: 0.5159 - accuracy: 0.7483"
     ]
    },
    {
     "name": "stderr",
     "output_type": "stream",
     "text": [
      "WARNING:absl:Found untraced functions such as _update_step_xla, _jit_compiled_convolution_op, _jit_compiled_convolution_op, _jit_compiled_convolution_op while saving (showing 4 of 4). These functions will not be directly callable after loading.\n"
     ]
    },
    {
     "name": "stdout",
     "output_type": "stream",
     "text": [
      "INFO:tensorflow:Assets written to: models/test_baryon/simple_cdmfid_0p1_1_tot_ste_42/assets\n"
     ]
    },
    {
     "name": "stderr",
     "output_type": "stream",
     "text": [
      "INFO:tensorflow:Assets written to: models/test_baryon/simple_cdmfid_0p1_1_tot_ste_42/assets\n"
     ]
    },
    {
     "name": "stdout",
     "output_type": "stream",
     "text": [
      "90/90 [==============================] - 9s 104ms/step - loss: 0.5159 - accuracy: 0.7483 - val_loss: 0.5399 - val_accuracy: 0.7681\n",
      "Epoch 25/50\n",
      "90/90 [==============================] - 8s 87ms/step - loss: 0.5172 - accuracy: 0.7587 - val_loss: 0.5381 - val_accuracy: 0.7597\n",
      "Epoch 26/50\n",
      "90/90 [==============================] - 8s 88ms/step - loss: 0.5124 - accuracy: 0.7563 - val_loss: 0.5187 - val_accuracy: 0.7528\n",
      "Epoch 27/50\n",
      "90/90 [==============================] - 8s 90ms/step - loss: 0.5001 - accuracy: 0.7670 - val_loss: 0.5024 - val_accuracy: 0.7556\n",
      "Epoch 28/50\n",
      "90/90 [==============================] - 8s 90ms/step - loss: 0.5067 - accuracy: 0.7604 - val_loss: 0.5157 - val_accuracy: 0.7556\n",
      "Epoch 29/50\n",
      "90/90 [==============================] - 9s 95ms/step - loss: 0.4957 - accuracy: 0.7628 - val_loss: 0.5018 - val_accuracy: 0.7556\n",
      "Epoch 30/50\n",
      "90/90 [==============================] - 8s 88ms/step - loss: 0.4891 - accuracy: 0.7750 - val_loss: 0.4950 - val_accuracy: 0.7611\n",
      "Epoch 31/50\n",
      "90/90 [==============================] - 8s 87ms/step - loss: 0.5052 - accuracy: 0.7618 - val_loss: 0.5014 - val_accuracy: 0.7681\n",
      "Epoch 32/50\n",
      "90/90 [==============================] - 8s 87ms/step - loss: 0.4864 - accuracy: 0.7726 - val_loss: 0.5135 - val_accuracy: 0.7611\n",
      "Epoch 33/50\n",
      "90/90 [==============================] - 8s 86ms/step - loss: 0.4848 - accuracy: 0.7729 - val_loss: 0.5318 - val_accuracy: 0.7653\n",
      "Epoch 34/50\n",
      "90/90 [==============================] - 8s 86ms/step - loss: 0.4794 - accuracy: 0.7747 - val_loss: 0.5012 - val_accuracy: 0.7611\n",
      "Epoch 35/50\n",
      "90/90 [==============================] - 8s 88ms/step - loss: 0.4986 - accuracy: 0.7618 - val_loss: 0.4977 - val_accuracy: 0.7639\n",
      "Epoch 36/50\n",
      "90/90 [==============================] - ETA: 0s - loss: 0.4730 - accuracy: 0.7722"
     ]
    },
    {
     "name": "stderr",
     "output_type": "stream",
     "text": [
      "WARNING:absl:Found untraced functions such as _update_step_xla, _jit_compiled_convolution_op, _jit_compiled_convolution_op, _jit_compiled_convolution_op while saving (showing 4 of 4). These functions will not be directly callable after loading.\n"
     ]
    },
    {
     "name": "stdout",
     "output_type": "stream",
     "text": [
      "INFO:tensorflow:Assets written to: models/test_baryon/simple_cdmfid_0p1_1_tot_ste_42/assets\n"
     ]
    },
    {
     "name": "stderr",
     "output_type": "stream",
     "text": [
      "INFO:tensorflow:Assets written to: models/test_baryon/simple_cdmfid_0p1_1_tot_ste_42/assets\n"
     ]
    },
    {
     "name": "stdout",
     "output_type": "stream",
     "text": [
      "90/90 [==============================] - 9s 102ms/step - loss: 0.4730 - accuracy: 0.7722 - val_loss: 0.4826 - val_accuracy: 0.7778\n",
      "Epoch 37/50\n",
      "90/90 [==============================] - 8s 88ms/step - loss: 0.4709 - accuracy: 0.7750 - val_loss: 0.5095 - val_accuracy: 0.7639\n",
      "Epoch 38/50\n",
      "90/90 [==============================] - 8s 88ms/step - loss: 0.4817 - accuracy: 0.7753 - val_loss: 0.4855 - val_accuracy: 0.7681\n",
      "Epoch 39/50\n",
      "90/90 [==============================] - ETA: 0s - loss: 0.4725 - accuracy: 0.7816"
     ]
    },
    {
     "name": "stderr",
     "output_type": "stream",
     "text": [
      "WARNING:absl:Found untraced functions such as _update_step_xla, _jit_compiled_convolution_op, _jit_compiled_convolution_op, _jit_compiled_convolution_op while saving (showing 4 of 4). These functions will not be directly callable after loading.\n"
     ]
    },
    {
     "name": "stdout",
     "output_type": "stream",
     "text": [
      "INFO:tensorflow:Assets written to: models/test_baryon/simple_cdmfid_0p1_1_tot_ste_42/assets\n"
     ]
    },
    {
     "name": "stderr",
     "output_type": "stream",
     "text": [
      "INFO:tensorflow:Assets written to: models/test_baryon/simple_cdmfid_0p1_1_tot_ste_42/assets\n"
     ]
    },
    {
     "name": "stdout",
     "output_type": "stream",
     "text": [
      "90/90 [==============================] - 9s 101ms/step - loss: 0.4725 - accuracy: 0.7816 - val_loss: 0.4862 - val_accuracy: 0.7806\n",
      "Epoch 40/50\n",
      "90/90 [==============================] - 8s 90ms/step - loss: 0.4743 - accuracy: 0.7715 - val_loss: 0.5037 - val_accuracy: 0.7764\n",
      "Epoch 41/50\n",
      "90/90 [==============================] - 8s 91ms/step - loss: 0.4703 - accuracy: 0.7802 - val_loss: 0.4839 - val_accuracy: 0.7792\n",
      "Epoch 42/50\n",
      "90/90 [==============================] - 8s 89ms/step - loss: 0.4707 - accuracy: 0.7771 - val_loss: 0.5107 - val_accuracy: 0.7694\n",
      "Epoch 43/50\n",
      "90/90 [==============================] - 8s 88ms/step - loss: 0.4745 - accuracy: 0.7816 - val_loss: 0.5122 - val_accuracy: 0.7639\n",
      "Epoch 44/50\n",
      "90/90 [==============================] - 8s 90ms/step - loss: 0.4668 - accuracy: 0.7812 - val_loss: 0.4951 - val_accuracy: 0.7708\n",
      "Epoch 45/50\n",
      "90/90 [==============================] - 8s 89ms/step - loss: 0.4754 - accuracy: 0.7840 - val_loss: 0.4959 - val_accuracy: 0.7583\n",
      "Epoch 46/50\n",
      "90/90 [==============================] - ETA: 0s - loss: 0.4606 - accuracy: 0.7806"
     ]
    },
    {
     "name": "stderr",
     "output_type": "stream",
     "text": [
      "WARNING:absl:Found untraced functions such as _update_step_xla, _jit_compiled_convolution_op, _jit_compiled_convolution_op, _jit_compiled_convolution_op while saving (showing 4 of 4). These functions will not be directly callable after loading.\n"
     ]
    },
    {
     "name": "stdout",
     "output_type": "stream",
     "text": [
      "INFO:tensorflow:Assets written to: models/test_baryon/simple_cdmfid_0p1_1_tot_ste_42/assets\n"
     ]
    },
    {
     "name": "stderr",
     "output_type": "stream",
     "text": [
      "INFO:tensorflow:Assets written to: models/test_baryon/simple_cdmfid_0p1_1_tot_ste_42/assets\n"
     ]
    },
    {
     "name": "stdout",
     "output_type": "stream",
     "text": [
      "90/90 [==============================] - 9s 101ms/step - loss: 0.4606 - accuracy: 0.7806 - val_loss: 0.4732 - val_accuracy: 0.7889\n",
      "Epoch 47/50\n",
      "90/90 [==============================] - 8s 86ms/step - loss: 0.4501 - accuracy: 0.7951 - val_loss: 0.5214 - val_accuracy: 0.7444\n",
      "Epoch 48/50\n",
      "90/90 [==============================] - 8s 89ms/step - loss: 0.4597 - accuracy: 0.7903 - val_loss: 0.5143 - val_accuracy: 0.7389\n",
      "Epoch 49/50\n",
      "90/90 [==============================] - 8s 88ms/step - loss: 0.4490 - accuracy: 0.7882 - val_loss: 0.5496 - val_accuracy: 0.7250\n",
      "Epoch 50/50\n",
      "90/90 [==============================] - 8s 88ms/step - loss: 0.4545 - accuracy: 0.7944 - val_loss: 0.4884 - val_accuracy: 0.7625\n"
     ]
    }
   ],
   "source": [
    "train, test = getGenerators(augment_data=True, simulationNames=['CDM','SIDM0.1','SIDM1'], \n",
    "                                                      channels=['total','stellar'], \n",
    "                                                      allDataFile='pickles/binned_data_20.pkl')\n",
    "checkpoint_filepath = 'models/test_baryon/%s_cdmfid_0p1_1_tot_ste_%i' % (model_name, random_state)\n",
    "\n",
    "num_classes = len(np.unique(test[1]))\n",
    "fiducial_model = get_best_model( train, test, model_name=model_name, checkpoint_filepath=checkpoint_filepath)"
   ]
  },
  {
   "cell_type": "code",
   "execution_count": 9,
   "metadata": {
    "tags": []
   },
   "outputs": [
    {
     "name": "stderr",
     "output_type": "stream",
     "text": [
      "/Users/davidharvey/Work/darkCNN/examples/tools.py:43: UserWarning: FixedFormatter should only be used together with FixedLocator\n",
      "  ax.set_xticklabels([''] + labels)\n",
      "/Users/davidharvey/Work/darkCNN/examples/tools.py:48: UserWarning: FixedFormatter should only be used together with FixedLocator\n",
      "  ax.set_yticklabels([''] + labels)\n"
     ]
    },
    {
     "data": {
      "image/png": "[encoded data removed]",
      "text/plain": [
       "<Figure size 350x262.5 with 1 Axes>"
      ]
     },
     "metadata": {},
     "output_type": "display_data"
    }
   ],
   "source": [
    "y_pred = predict( test[0], [fiducial_model] )\n",
    "plot_confusion_matrix( test[1], y_pred)"
   ]
  },
  {
   "cell_type": "markdown",
   "metadata": {
    "tags": []
   },
   "source": [
    "#### 2. Get the fiducial for total and stellar for CDM fiducial, hi and low and DM (all_cdm_plus_dm )"
   ]
  },
  {
   "cell_type": "code",
   "execution_count": 10,
   "metadata": {
    "tags": []
   },
   "outputs": [
    {
     "name": "stderr",
     "output_type": "stream",
     "text": [
      "/Users/davidharvey/Work/darkCNN/lib/python3.10/site-packages/keras/preprocessing/image.py:766: UserWarning: NumpyArrayIterator is set to use the data format convention \"channels_last\" (channels on axis 3), i.e. expected either 1, 3, or 4 channels on axis 3. However, it was passed an array with shape (4800, 100, 100, 2) (2 channels).\n",
      "  warnings.warn(\n"
     ]
    },
    {
     "name": "stdout",
     "output_type": "stream",
     "text": [
      "Epoch 1/50\n",
      "150/150 [==============================] - ETA: 0s - loss: 1.4553 - accuracy: 0.3246"
     ]
    },
    {
     "name": "stderr",
     "output_type": "stream",
     "text": [
      "WARNING:absl:Found untraced functions such as _update_step_xla, _jit_compiled_convolution_op, _jit_compiled_convolution_op, _jit_compiled_convolution_op while saving (showing 4 of 4). These functions will not be directly callable after loading.\n"
     ]
    },
    {
     "name": "stdout",
     "output_type": "stream",
     "text": [
      "INFO:tensorflow:Assets written to: models/test_baryon/simple_cdmall_0p1_1_tot_ste_42/assets\n"
     ]
    },
    {
     "name": "stderr",
     "output_type": "stream",
     "text": [
      "INFO:tensorflow:Assets written to: models/test_baryon/simple_cdmall_0p1_1_tot_ste_42/assets\n"
     ]
    },
    {
     "name": "stdout",
     "output_type": "stream",
     "text": [
      "150/150 [==============================] - 22s 139ms/step - loss: 1.4553 - accuracy: 0.3246 - val_loss: 1.3464 - val_accuracy: 0.3867\n",
      "Epoch 2/50\n",
      "150/150 [==============================] - ETA: 0s - loss: 1.2932 - accuracy: 0.4042"
     ]
    },
    {
     "name": "stderr",
     "output_type": "stream",
     "text": [
      "WARNING:absl:Found untraced functions such as _update_step_xla, _jit_compiled_convolution_op, _jit_compiled_convolution_op, _jit_compiled_convolution_op while saving (showing 4 of 4). These functions will not be directly callable after loading.\n"
     ]
    },
    {
     "name": "stdout",
     "output_type": "stream",
     "text": [
      "INFO:tensorflow:Assets written to: models/test_baryon/simple_cdmall_0p1_1_tot_ste_42/assets\n"
     ]
    },
    {
     "name": "stderr",
     "output_type": "stream",
     "text": [
      "INFO:tensorflow:Assets written to: models/test_baryon/simple_cdmall_0p1_1_tot_ste_42/assets\n"
     ]
    },
    {
     "name": "stdout",
     "output_type": "stream",
     "text": [
      "150/150 [==============================] - 22s 148ms/step - loss: 1.2932 - accuracy: 0.4042 - val_loss: 1.2721 - val_accuracy: 0.4250\n",
      "Epoch 3/50\n",
      "150/150 [==============================] - ETA: 0s - loss: 1.2215 - accuracy: 0.4258"
     ]
    },
    {
     "name": "stderr",
     "output_type": "stream",
     "text": [
      "WARNING:absl:Found untraced functions such as _update_step_xla, _jit_compiled_convolution_op, _jit_compiled_convolution_op, _jit_compiled_convolution_op while saving (showing 4 of 4). These functions will not be directly callable after loading.\n"
     ]
    },
    {
     "name": "stdout",
     "output_type": "stream",
     "text": [
      "INFO:tensorflow:Assets written to: models/test_baryon/simple_cdmall_0p1_1_tot_ste_42/assets\n"
     ]
    },
    {
     "name": "stderr",
     "output_type": "stream",
     "text": [
      "INFO:tensorflow:Assets written to: models/test_baryon/simple_cdmall_0p1_1_tot_ste_42/assets\n"
     ]
    },
    {
     "name": "stdout",
     "output_type": "stream",
     "text": [
      "150/150 [==============================] - 21s 140ms/step - loss: 1.2215 - accuracy: 0.4258 - val_loss: 1.2042 - val_accuracy: 0.4417\n",
      "Epoch 4/50\n",
      "150/150 [==============================] - ETA: 0s - loss: 1.1870 - accuracy: 0.4423"
     ]
    },
    {
     "name": "stderr",
     "output_type": "stream",
     "text": [
      "WARNING:absl:Found untraced functions such as _update_step_xla, _jit_compiled_convolution_op, _jit_compiled_convolution_op, _jit_compiled_convolution_op while saving (showing 4 of 4). These functions will not be directly callable after loading.\n"
     ]
    },
    {
     "name": "stdout",
     "output_type": "stream",
     "text": [
      "INFO:tensorflow:Assets written to: models/test_baryon/simple_cdmall_0p1_1_tot_ste_42/assets\n"
     ]
    },
    {
     "name": "stderr",
     "output_type": "stream",
     "text": [
      "INFO:tensorflow:Assets written to: models/test_baryon/simple_cdmall_0p1_1_tot_ste_42/assets\n"
     ]
    },
    {
     "name": "stdout",
     "output_type": "stream",
     "text": [
      "150/150 [==============================] - 20s 135ms/step - loss: 1.1870 - accuracy: 0.4423 - val_loss: 1.1916 - val_accuracy: 0.4525\n",
      "Epoch 5/50\n",
      "150/150 [==============================] - 17s 113ms/step - loss: 1.1761 - accuracy: 0.4519 - val_loss: 1.1951 - val_accuracy: 0.4417\n",
      "Epoch 6/50\n",
      "150/150 [==============================] - ETA: 0s - loss: 1.1669 - accuracy: 0.4563"
     ]
    },
    {
     "name": "stderr",
     "output_type": "stream",
     "text": [
      "WARNING:absl:Found untraced functions such as _update_step_xla, _jit_compiled_convolution_op, _jit_compiled_convolution_op, _jit_compiled_convolution_op while saving (showing 4 of 4). These functions will not be directly callable after loading.\n"
     ]
    },
    {
     "name": "stdout",
     "output_type": "stream",
     "text": [
      "INFO:tensorflow:Assets written to: models/test_baryon/simple_cdmall_0p1_1_tot_ste_42/assets\n"
     ]
    },
    {
     "name": "stderr",
     "output_type": "stream",
     "text": [
      "INFO:tensorflow:Assets written to: models/test_baryon/simple_cdmall_0p1_1_tot_ste_42/assets\n"
     ]
    },
    {
     "name": "stdout",
     "output_type": "stream",
     "text": [
      "150/150 [==============================] - 16s 108ms/step - loss: 1.1669 - accuracy: 0.4563 - val_loss: 1.1666 - val_accuracy: 0.4575\n",
      "Epoch 7/50\n",
      "150/150 [==============================] - ETA: 0s - loss: 1.1504 - accuracy: 0.4654"
     ]
    },
    {
     "name": "stderr",
     "output_type": "stream",
     "text": [
      "WARNING:absl:Found untraced functions such as _update_step_xla, _jit_compiled_convolution_op, _jit_compiled_convolution_op, _jit_compiled_convolution_op while saving (showing 4 of 4). These functions will not be directly callable after loading.\n"
     ]
    },
    {
     "name": "stdout",
     "output_type": "stream",
     "text": [
      "INFO:tensorflow:Assets written to: models/test_baryon/simple_cdmall_0p1_1_tot_ste_42/assets\n"
     ]
    },
    {
     "name": "stderr",
     "output_type": "stream",
     "text": [
      "INFO:tensorflow:Assets written to: models/test_baryon/simple_cdmall_0p1_1_tot_ste_42/assets\n"
     ]
    },
    {
     "name": "stdout",
     "output_type": "stream",
     "text": [
      "150/150 [==============================] - 21s 142ms/step - loss: 1.1504 - accuracy: 0.4654 - val_loss: 1.1665 - val_accuracy: 0.4583\n",
      "Epoch 8/50\n",
      "150/150 [==============================] - ETA: 0s - loss: 1.1486 - accuracy: 0.4625"
     ]
    },
    {
     "name": "stderr",
     "output_type": "stream",
     "text": [
      "WARNING:absl:Found untraced functions such as _update_step_xla, _jit_compiled_convolution_op, _jit_compiled_convolution_op, _jit_compiled_convolution_op while saving (showing 4 of 4). These functions will not be directly callable after loading.\n"
     ]
    },
    {
     "name": "stdout",
     "output_type": "stream",
     "text": [
      "INFO:tensorflow:Assets written to: models/test_baryon/simple_cdmall_0p1_1_tot_ste_42/assets\n"
     ]
    },
    {
     "name": "stderr",
     "output_type": "stream",
     "text": [
      "INFO:tensorflow:Assets written to: models/test_baryon/simple_cdmall_0p1_1_tot_ste_42/assets\n"
     ]
    },
    {
     "name": "stdout",
     "output_type": "stream",
     "text": [
      "150/150 [==============================] - 20s 136ms/step - loss: 1.1486 - accuracy: 0.4625 - val_loss: 1.1549 - val_accuracy: 0.4658\n",
      "Epoch 9/50\n",
      "150/150 [==============================] - 20s 132ms/step - loss: 1.1365 - accuracy: 0.4635 - val_loss: 1.1880 - val_accuracy: 0.4617\n",
      "Epoch 10/50\n",
      "150/150 [==============================] - 20s 133ms/step - loss: 1.1255 - accuracy: 0.4731 - val_loss: 1.1524 - val_accuracy: 0.4558\n",
      "Epoch 11/50\n",
      "150/150 [==============================] - ETA: 0s - loss: 1.1186 - accuracy: 0.4725"
     ]
    },
    {
     "name": "stderr",
     "output_type": "stream",
     "text": [
      "WARNING:absl:Found untraced functions such as _update_step_xla, _jit_compiled_convolution_op, _jit_compiled_convolution_op, _jit_compiled_convolution_op while saving (showing 4 of 4). These functions will not be directly callable after loading.\n"
     ]
    },
    {
     "name": "stdout",
     "output_type": "stream",
     "text": [
      "INFO:tensorflow:Assets written to: models/test_baryon/simple_cdmall_0p1_1_tot_ste_42/assets\n"
     ]
    },
    {
     "name": "stderr",
     "output_type": "stream",
     "text": [
      "INFO:tensorflow:Assets written to: models/test_baryon/simple_cdmall_0p1_1_tot_ste_42/assets\n"
     ]
    },
    {
     "name": "stdout",
     "output_type": "stream",
     "text": [
      "150/150 [==============================] - 21s 143ms/step - loss: 1.1186 - accuracy: 0.4725 - val_loss: 1.1608 - val_accuracy: 0.4683\n",
      "Epoch 12/50\n",
      "150/150 [==============================] - ETA: 0s - loss: 1.1226 - accuracy: 0.4638"
     ]
    },
    {
     "name": "stderr",
     "output_type": "stream",
     "text": [
      "WARNING:absl:Found untraced functions such as _update_step_xla, _jit_compiled_convolution_op, _jit_compiled_convolution_op, _jit_compiled_convolution_op while saving (showing 4 of 4). These functions will not be directly callable after loading.\n"
     ]
    },
    {
     "name": "stdout",
     "output_type": "stream",
     "text": [
      "INFO:tensorflow:Assets written to: models/test_baryon/simple_cdmall_0p1_1_tot_ste_42/assets\n"
     ]
    },
    {
     "name": "stderr",
     "output_type": "stream",
     "text": [
      "INFO:tensorflow:Assets written to: models/test_baryon/simple_cdmall_0p1_1_tot_ste_42/assets\n"
     ]
    },
    {
     "name": "stdout",
     "output_type": "stream",
     "text": [
      "150/150 [==============================] - 22s 150ms/step - loss: 1.1226 - accuracy: 0.4638 - val_loss: 1.1138 - val_accuracy: 0.4892\n",
      "Epoch 13/50\n",
      "150/150 [==============================] - 20s 134ms/step - loss: 1.1210 - accuracy: 0.4744 - val_loss: 1.1327 - val_accuracy: 0.4808\n",
      "Epoch 14/50\n",
      "150/150 [==============================] - 19s 130ms/step - loss: 1.1061 - accuracy: 0.4860 - val_loss: 1.1270 - val_accuracy: 0.4658\n",
      "Epoch 15/50\n",
      "150/150 [==============================] - 18s 122ms/step - loss: 1.1024 - accuracy: 0.4881 - val_loss: 1.1118 - val_accuracy: 0.4800\n",
      "Epoch 16/50\n",
      "150/150 [==============================] - 19s 124ms/step - loss: 1.0982 - accuracy: 0.4917 - val_loss: 1.1194 - val_accuracy: 0.4783\n",
      "Epoch 17/50\n",
      "150/150 [==============================] - 19s 125ms/step - loss: 1.0891 - accuracy: 0.4913 - val_loss: 1.0941 - val_accuracy: 0.4850\n",
      "Epoch 18/50\n",
      "150/150 [==============================] - 20s 133ms/step - loss: 1.0915 - accuracy: 0.4867 - val_loss: 1.1012 - val_accuracy: 0.4658\n",
      "Epoch 19/50\n",
      "150/150 [==============================] - 20s 131ms/step - loss: 1.0949 - accuracy: 0.4948 - val_loss: 1.1458 - val_accuracy: 0.4708\n",
      "Epoch 20/50\n",
      "150/150 [==============================] - 19s 125ms/step - loss: 1.0843 - accuracy: 0.4954 - val_loss: 1.0920 - val_accuracy: 0.4808\n",
      "Epoch 21/50\n",
      "150/150 [==============================] - ETA: 0s - loss: 1.0812 - accuracy: 0.4994"
     ]
    },
    {
     "name": "stderr",
     "output_type": "stream",
     "text": [
      "WARNING:absl:Found untraced functions such as _update_step_xla, _jit_compiled_convolution_op, _jit_compiled_convolution_op, _jit_compiled_convolution_op while saving (showing 4 of 4). These functions will not be directly callable after loading.\n"
     ]
    },
    {
     "name": "stdout",
     "output_type": "stream",
     "text": [
      "INFO:tensorflow:Assets written to: models/test_baryon/simple_cdmall_0p1_1_tot_ste_42/assets\n"
     ]
    },
    {
     "name": "stderr",
     "output_type": "stream",
     "text": [
      "INFO:tensorflow:Assets written to: models/test_baryon/simple_cdmall_0p1_1_tot_ste_42/assets\n"
     ]
    },
    {
     "name": "stdout",
     "output_type": "stream",
     "text": [
      "150/150 [==============================] - 21s 139ms/step - loss: 1.0812 - accuracy: 0.4994 - val_loss: 1.0960 - val_accuracy: 0.5000\n",
      "Epoch 22/50\n",
      "150/150 [==============================] - 19s 125ms/step - loss: 1.0871 - accuracy: 0.4977 - val_loss: 1.0975 - val_accuracy: 0.4842\n",
      "Epoch 23/50\n",
      "150/150 [==============================] - ETA: 0s - loss: 1.0760 - accuracy: 0.5079"
     ]
    },
    {
     "name": "stderr",
     "output_type": "stream",
     "text": [
      "WARNING:absl:Found untraced functions such as _update_step_xla, _jit_compiled_convolution_op, _jit_compiled_convolution_op, _jit_compiled_convolution_op while saving (showing 4 of 4). These functions will not be directly callable after loading.\n"
     ]
    },
    {
     "name": "stdout",
     "output_type": "stream",
     "text": [
      "INFO:tensorflow:Assets written to: models/test_baryon/simple_cdmall_0p1_1_tot_ste_42/assets\n"
     ]
    },
    {
     "name": "stderr",
     "output_type": "stream",
     "text": [
      "INFO:tensorflow:Assets written to: models/test_baryon/simple_cdmall_0p1_1_tot_ste_42/assets\n"
     ]
    },
    {
     "name": "stdout",
     "output_type": "stream",
     "text": [
      "150/150 [==============================] - 22s 149ms/step - loss: 1.0760 - accuracy: 0.5079 - val_loss: 1.0774 - val_accuracy: 0.5050\n",
      "Epoch 24/50\n",
      "150/150 [==============================] - 19s 128ms/step - loss: 1.0785 - accuracy: 0.4977 - val_loss: 1.0952 - val_accuracy: 0.4958\n",
      "Epoch 25/50\n",
      "150/150 [==============================] - 20s 132ms/step - loss: 1.0705 - accuracy: 0.4992 - val_loss: 1.0983 - val_accuracy: 0.4917\n",
      "Epoch 26/50\n",
      "150/150 [==============================] - 19s 125ms/step - loss: 1.0607 - accuracy: 0.5081 - val_loss: 1.1214 - val_accuracy: 0.4800\n",
      "Epoch 27/50\n",
      "150/150 [==============================] - 19s 126ms/step - loss: 1.0632 - accuracy: 0.5050 - val_loss: 1.0982 - val_accuracy: 0.4908\n",
      "Epoch 28/50\n",
      "150/150 [==============================] - 19s 129ms/step - loss: 1.0631 - accuracy: 0.5075 - val_loss: 1.0922 - val_accuracy: 0.5033\n",
      "Epoch 29/50\n",
      "150/150 [==============================] - 15s 100ms/step - loss: 1.0535 - accuracy: 0.5133 - val_loss: 1.1104 - val_accuracy: 0.4917\n",
      "Epoch 30/50\n",
      "150/150 [==============================] - 19s 125ms/step - loss: 1.0449 - accuracy: 0.5140 - val_loss: 1.0911 - val_accuracy: 0.4892\n",
      "Epoch 31/50\n",
      "150/150 [==============================] - ETA: 0s - loss: 1.0524 - accuracy: 0.5194"
     ]
    },
    {
     "name": "stderr",
     "output_type": "stream",
     "text": [
      "WARNING:absl:Found untraced functions such as _update_step_xla, _jit_compiled_convolution_op, _jit_compiled_convolution_op, _jit_compiled_convolution_op while saving (showing 4 of 4). These functions will not be directly callable after loading.\n"
     ]
    },
    {
     "name": "stdout",
     "output_type": "stream",
     "text": [
      "INFO:tensorflow:Assets written to: models/test_baryon/simple_cdmall_0p1_1_tot_ste_42/assets\n"
     ]
    },
    {
     "name": "stderr",
     "output_type": "stream",
     "text": [
      "INFO:tensorflow:Assets written to: models/test_baryon/simple_cdmall_0p1_1_tot_ste_42/assets\n"
     ]
    },
    {
     "name": "stdout",
     "output_type": "stream",
     "text": [
      "150/150 [==============================] - 21s 142ms/step - loss: 1.0524 - accuracy: 0.5194 - val_loss: 1.0687 - val_accuracy: 0.5092\n",
      "Epoch 32/50\n",
      "150/150 [==============================] - 18s 122ms/step - loss: 1.0493 - accuracy: 0.5179 - val_loss: 1.0730 - val_accuracy: 0.4992\n",
      "Epoch 33/50\n",
      "150/150 [==============================] - 19s 128ms/step - loss: 1.0444 - accuracy: 0.5188 - val_loss: 1.0635 - val_accuracy: 0.4917\n",
      "Epoch 34/50\n",
      "150/150 [==============================] - 20s 131ms/step - loss: 1.0389 - accuracy: 0.5240 - val_loss: 1.1004 - val_accuracy: 0.4917\n",
      "Epoch 35/50\n",
      "150/150 [==============================] - 20s 131ms/step - loss: 1.0407 - accuracy: 0.5217 - val_loss: 1.0643 - val_accuracy: 0.5092\n",
      "Epoch 36/50\n",
      "150/150 [==============================] - 19s 128ms/step - loss: 1.0263 - accuracy: 0.5306 - val_loss: 1.0989 - val_accuracy: 0.4800\n",
      "Epoch 37/50\n",
      "150/150 [==============================] - 20s 136ms/step - loss: 1.0442 - accuracy: 0.5221 - val_loss: 1.0750 - val_accuracy: 0.5042\n",
      "Epoch 38/50\n",
      "150/150 [==============================] - 20s 133ms/step - loss: 1.0306 - accuracy: 0.5288 - val_loss: 1.0654 - val_accuracy: 0.4942\n",
      "Epoch 39/50\n",
      "150/150 [==============================] - 18s 122ms/step - loss: 1.0279 - accuracy: 0.5275 - val_loss: 1.0710 - val_accuracy: 0.5008\n",
      "Epoch 40/50\n",
      "150/150 [==============================] - 19s 126ms/step - loss: 1.0236 - accuracy: 0.5329 - val_loss: 1.0636 - val_accuracy: 0.4950\n",
      "Epoch 41/50\n",
      "150/150 [==============================] - 19s 124ms/step - loss: 1.0270 - accuracy: 0.5277 - val_loss: 1.0761 - val_accuracy: 0.4933\n",
      "Epoch 42/50\n",
      "150/150 [==============================] - 19s 124ms/step - loss: 1.0249 - accuracy: 0.5431 - val_loss: 1.0819 - val_accuracy: 0.4850\n",
      "Epoch 43/50\n",
      "150/150 [==============================] - 19s 128ms/step - loss: 1.0102 - accuracy: 0.5362 - val_loss: 1.0999 - val_accuracy: 0.4900\n",
      "Epoch 44/50\n",
      "150/150 [==============================] - 19s 129ms/step - loss: 1.0211 - accuracy: 0.5306 - val_loss: 1.0665 - val_accuracy: 0.4875\n",
      "Epoch 45/50\n",
      "150/150 [==============================] - 18s 122ms/step - loss: 1.0051 - accuracy: 0.5369 - val_loss: 1.0697 - val_accuracy: 0.4933\n",
      "Epoch 46/50\n",
      "150/150 [==============================] - ETA: 0s - loss: 1.0100 - accuracy: 0.5404"
     ]
    },
    {
     "name": "stderr",
     "output_type": "stream",
     "text": [
      "WARNING:absl:Found untraced functions such as _update_step_xla, _jit_compiled_convolution_op, _jit_compiled_convolution_op, _jit_compiled_convolution_op while saving (showing 4 of 4). These functions will not be directly callable after loading.\n"
     ]
    },
    {
     "name": "stdout",
     "output_type": "stream",
     "text": [
      "INFO:tensorflow:Assets written to: models/test_baryon/simple_cdmall_0p1_1_tot_ste_42/assets\n"
     ]
    },
    {
     "name": "stderr",
     "output_type": "stream",
     "text": [
      "INFO:tensorflow:Assets written to: models/test_baryon/simple_cdmall_0p1_1_tot_ste_42/assets\n"
     ]
    },
    {
     "name": "stdout",
     "output_type": "stream",
     "text": [
      "150/150 [==============================] - 20s 136ms/step - loss: 1.0100 - accuracy: 0.5404 - val_loss: 1.0508 - val_accuracy: 0.5217\n",
      "Epoch 47/50\n",
      "150/150 [==============================] - 20s 132ms/step - loss: 1.0021 - accuracy: 0.5477 - val_loss: 1.0761 - val_accuracy: 0.4850\n",
      "Epoch 48/50\n",
      "150/150 [==============================] - 19s 124ms/step - loss: 0.9958 - accuracy: 0.5523 - val_loss: 1.0656 - val_accuracy: 0.5033\n",
      "Epoch 49/50\n",
      "150/150 [==============================] - 19s 125ms/step - loss: 1.0018 - accuracy: 0.5377 - val_loss: 1.0523 - val_accuracy: 0.5033\n",
      "Epoch 50/50\n",
      "150/150 [==============================] - 21s 139ms/step - loss: 0.9880 - accuracy: 0.5554 - val_loss: 1.0503 - val_accuracy: 0.5117\n"
     ]
    }
   ],
   "source": [
    "train, test = getGenerators(augment_data=True, simulationNames=['CDM_low','CDM','CDM_hi','SIDM0.1','SIDM1'], \n",
    "                                                      channels=['total','stellar'], \n",
    "                                                      allDataFile='pickles/binned_data_20.pkl')\n",
    "\n",
    "checkpoint_filepath = 'models/test_baryon/%s_cdmall_0p1_1_tot_ste_%i' % (model_name, random_state)\n",
    "\n",
    "\n",
    "all_cdm_plus_dm = get_best_model( train, test, model_name=model_name, checkpoint_filepath=checkpoint_filepath)\n",
    "\n"
   ]
  },
  {
   "cell_type": "markdown",
   "metadata": {
    "tags": []
   },
   "source": [
    "#### 3. Get the fiducial for total, xray and stellar for CDM and low fiducial and DM (all_cdm_plus_dm_3_channel)"
   ]
  },
  {
   "cell_type": "code",
   "execution_count": 11,
   "metadata": {
    "tags": []
   },
   "outputs": [
    {
     "name": "stdout",
     "output_type": "stream",
     "text": [
      "Epoch 1/50\n",
      "150/150 [==============================] - ETA: 0s - loss: 1.4572 - accuracy: 0.3683"
     ]
    },
    {
     "name": "stderr",
     "output_type": "stream",
     "text": [
      "WARNING:absl:Found untraced functions such as _update_step_xla, _jit_compiled_convolution_op, _jit_compiled_convolution_op, _jit_compiled_convolution_op while saving (showing 4 of 4). These functions will not be directly callable after loading.\n"
     ]
    },
    {
     "name": "stdout",
     "output_type": "stream",
     "text": [
      "INFO:tensorflow:Assets written to: models/test_baryon/simple_cdmall_0p1_1_tot_ste_xray_42/assets\n"
     ]
    },
    {
     "name": "stderr",
     "output_type": "stream",
     "text": [
      "INFO:tensorflow:Assets written to: models/test_baryon/simple_cdmall_0p1_1_tot_ste_xray_42/assets\n"
     ]
    },
    {
     "name": "stdout",
     "output_type": "stream",
     "text": [
      "150/150 [==============================] - 27s 178ms/step - loss: 1.4572 - accuracy: 0.3683 - val_loss: 1.3379 - val_accuracy: 0.4358\n",
      "Epoch 2/50\n",
      "150/150 [==============================] - ETA: 0s - loss: 1.2706 - accuracy: 0.4646"
     ]
    },
    {
     "name": "stderr",
     "output_type": "stream",
     "text": [
      "WARNING:absl:Found untraced functions such as _update_step_xla, _jit_compiled_convolution_op, _jit_compiled_convolution_op, _jit_compiled_convolution_op while saving (showing 4 of 4). These functions will not be directly callable after loading.\n"
     ]
    },
    {
     "name": "stdout",
     "output_type": "stream",
     "text": [
      "INFO:tensorflow:Assets written to: models/test_baryon/simple_cdmall_0p1_1_tot_ste_xray_42/assets\n"
     ]
    },
    {
     "name": "stderr",
     "output_type": "stream",
     "text": [
      "INFO:tensorflow:Assets written to: models/test_baryon/simple_cdmall_0p1_1_tot_ste_xray_42/assets\n"
     ]
    },
    {
     "name": "stdout",
     "output_type": "stream",
     "text": [
      "150/150 [==============================] - 24s 161ms/step - loss: 1.2706 - accuracy: 0.4646 - val_loss: 1.2461 - val_accuracy: 0.4800\n",
      "Epoch 3/50\n",
      "150/150 [==============================] - ETA: 0s - loss: 1.1688 - accuracy: 0.5175"
     ]
    },
    {
     "name": "stderr",
     "output_type": "stream",
     "text": [
      "WARNING:absl:Found untraced functions such as _update_step_xla, _jit_compiled_convolution_op, _jit_compiled_convolution_op, _jit_compiled_convolution_op while saving (showing 4 of 4). These functions will not be directly callable after loading.\n"
     ]
    },
    {
     "name": "stdout",
     "output_type": "stream",
     "text": [
      "INFO:tensorflow:Assets written to: models/test_baryon/simple_cdmall_0p1_1_tot_ste_xray_42/assets\n"
     ]
    },
    {
     "name": "stderr",
     "output_type": "stream",
     "text": [
      "INFO:tensorflow:Assets written to: models/test_baryon/simple_cdmall_0p1_1_tot_ste_xray_42/assets\n"
     ]
    },
    {
     "name": "stdout",
     "output_type": "stream",
     "text": [
      "150/150 [==============================] - 23s 154ms/step - loss: 1.1688 - accuracy: 0.5175 - val_loss: 1.1265 - val_accuracy: 0.5292\n",
      "Epoch 4/50\n",
      "150/150 [==============================] - ETA: 0s - loss: 1.1040 - accuracy: 0.5494"
     ]
    },
    {
     "name": "stderr",
     "output_type": "stream",
     "text": [
      "WARNING:absl:Found untraced functions such as _update_step_xla, _jit_compiled_convolution_op, _jit_compiled_convolution_op, _jit_compiled_convolution_op while saving (showing 4 of 4). These functions will not be directly callable after loading.\n"
     ]
    },
    {
     "name": "stdout",
     "output_type": "stream",
     "text": [
      "INFO:tensorflow:Assets written to: models/test_baryon/simple_cdmall_0p1_1_tot_ste_xray_42/assets\n"
     ]
    },
    {
     "name": "stderr",
     "output_type": "stream",
     "text": [
      "INFO:tensorflow:Assets written to: models/test_baryon/simple_cdmall_0p1_1_tot_ste_xray_42/assets\n"
     ]
    },
    {
     "name": "stdout",
     "output_type": "stream",
     "text": [
      "150/150 [==============================] - 27s 183ms/step - loss: 1.1040 - accuracy: 0.5494 - val_loss: 1.0651 - val_accuracy: 0.5542\n",
      "Epoch 5/50\n",
      "150/150 [==============================] - 25s 167ms/step - loss: 1.0303 - accuracy: 0.5656 - val_loss: 1.0700 - val_accuracy: 0.5250\n",
      "Epoch 6/50\n",
      "150/150 [==============================] - ETA: 0s - loss: 1.0105 - accuracy: 0.5802"
     ]
    },
    {
     "name": "stderr",
     "output_type": "stream",
     "text": [
      "WARNING:absl:Found untraced functions such as _update_step_xla, _jit_compiled_convolution_op, _jit_compiled_convolution_op, _jit_compiled_convolution_op while saving (showing 4 of 4). These functions will not be directly callable after loading.\n"
     ]
    },
    {
     "name": "stdout",
     "output_type": "stream",
     "text": [
      "INFO:tensorflow:Assets written to: models/test_baryon/simple_cdmall_0p1_1_tot_ste_xray_42/assets\n"
     ]
    },
    {
     "name": "stderr",
     "output_type": "stream",
     "text": [
      "INFO:tensorflow:Assets written to: models/test_baryon/simple_cdmall_0p1_1_tot_ste_xray_42/assets\n"
     ]
    },
    {
     "name": "stdout",
     "output_type": "stream",
     "text": [
      "150/150 [==============================] - 26s 171ms/step - loss: 1.0105 - accuracy: 0.5802 - val_loss: 1.0465 - val_accuracy: 0.5658\n",
      "Epoch 7/50\n",
      "150/150 [==============================] - ETA: 0s - loss: 0.9847 - accuracy: 0.5877"
     ]
    },
    {
     "name": "stderr",
     "output_type": "stream",
     "text": [
      "WARNING:absl:Found untraced functions such as _update_step_xla, _jit_compiled_convolution_op, _jit_compiled_convolution_op, _jit_compiled_convolution_op while saving (showing 4 of 4). These functions will not be directly callable after loading.\n"
     ]
    },
    {
     "name": "stdout",
     "output_type": "stream",
     "text": [
      "INFO:tensorflow:Assets written to: models/test_baryon/simple_cdmall_0p1_1_tot_ste_xray_42/assets\n"
     ]
    },
    {
     "name": "stderr",
     "output_type": "stream",
     "text": [
      "INFO:tensorflow:Assets written to: models/test_baryon/simple_cdmall_0p1_1_tot_ste_xray_42/assets\n"
     ]
    },
    {
     "name": "stdout",
     "output_type": "stream",
     "text": [
      "150/150 [==============================] - 27s 178ms/step - loss: 0.9847 - accuracy: 0.5877 - val_loss: 0.9671 - val_accuracy: 0.6067\n",
      "Epoch 8/50\n",
      "150/150 [==============================] - 25s 168ms/step - loss: 0.9566 - accuracy: 0.6015 - val_loss: 0.9728 - val_accuracy: 0.5933\n",
      "Epoch 9/50\n",
      "150/150 [==============================] - 24s 161ms/step - loss: 0.9342 - accuracy: 0.6106 - val_loss: 0.9738 - val_accuracy: 0.5992\n",
      "Epoch 10/50\n",
      "150/150 [==============================] - 26s 172ms/step - loss: 0.9201 - accuracy: 0.6152 - val_loss: 0.9415 - val_accuracy: 0.6008\n",
      "Epoch 11/50\n",
      "150/150 [==============================] - 24s 160ms/step - loss: 0.9099 - accuracy: 0.6217 - val_loss: 1.0833 - val_accuracy: 0.5567\n",
      "Epoch 12/50\n",
      "150/150 [==============================] - 24s 163ms/step - loss: 0.9048 - accuracy: 0.6208 - val_loss: 1.0046 - val_accuracy: 0.6008\n",
      "Epoch 13/50\n",
      "150/150 [==============================] - 24s 161ms/step - loss: 0.8975 - accuracy: 0.6319 - val_loss: 0.9262 - val_accuracy: 0.6025\n",
      "Epoch 14/50\n",
      "150/150 [==============================] - ETA: 0s - loss: 0.8785 - accuracy: 0.6298"
     ]
    },
    {
     "name": "stderr",
     "output_type": "stream",
     "text": [
      "WARNING:absl:Found untraced functions such as _update_step_xla, _jit_compiled_convolution_op, _jit_compiled_convolution_op, _jit_compiled_convolution_op while saving (showing 4 of 4). These functions will not be directly callable after loading.\n"
     ]
    },
    {
     "name": "stdout",
     "output_type": "stream",
     "text": [
      "INFO:tensorflow:Assets written to: models/test_baryon/simple_cdmall_0p1_1_tot_ste_xray_42/assets\n"
     ]
    },
    {
     "name": "stderr",
     "output_type": "stream",
     "text": [
      "INFO:tensorflow:Assets written to: models/test_baryon/simple_cdmall_0p1_1_tot_ste_xray_42/assets\n"
     ]
    },
    {
     "name": "stdout",
     "output_type": "stream",
     "text": [
      "150/150 [==============================] - 25s 169ms/step - loss: 0.8785 - accuracy: 0.6298 - val_loss: 0.9260 - val_accuracy: 0.6125\n",
      "Epoch 15/50\n",
      "150/150 [==============================] - ETA: 0s - loss: 0.8706 - accuracy: 0.6377"
     ]
    },
    {
     "name": "stderr",
     "output_type": "stream",
     "text": [
      "WARNING:absl:Found untraced functions such as _update_step_xla, _jit_compiled_convolution_op, _jit_compiled_convolution_op, _jit_compiled_convolution_op while saving (showing 4 of 4). These functions will not be directly callable after loading.\n"
     ]
    },
    {
     "name": "stdout",
     "output_type": "stream",
     "text": [
      "INFO:tensorflow:Assets written to: models/test_baryon/simple_cdmall_0p1_1_tot_ste_xray_42/assets\n"
     ]
    },
    {
     "name": "stderr",
     "output_type": "stream",
     "text": [
      "INFO:tensorflow:Assets written to: models/test_baryon/simple_cdmall_0p1_1_tot_ste_xray_42/assets\n"
     ]
    },
    {
     "name": "stdout",
     "output_type": "stream",
     "text": [
      "150/150 [==============================] - 26s 176ms/step - loss: 0.8706 - accuracy: 0.6377 - val_loss: 0.9129 - val_accuracy: 0.6217\n",
      "Epoch 16/50\n",
      "150/150 [==============================] - 24s 163ms/step - loss: 0.8627 - accuracy: 0.6388 - val_loss: 0.9458 - val_accuracy: 0.6017\n",
      "Epoch 17/50\n",
      "150/150 [==============================] - 24s 160ms/step - loss: 0.8464 - accuracy: 0.6494 - val_loss: 0.9228 - val_accuracy: 0.6100\n",
      "Epoch 18/50\n",
      "150/150 [==============================] - 24s 160ms/step - loss: 0.8501 - accuracy: 0.6446 - val_loss: 0.9468 - val_accuracy: 0.6033\n",
      "Epoch 19/50\n",
      "150/150 [==============================] - ETA: 0s - loss: 0.8544 - accuracy: 0.6492"
     ]
    },
    {
     "name": "stderr",
     "output_type": "stream",
     "text": [
      "WARNING:absl:Found untraced functions such as _update_step_xla, _jit_compiled_convolution_op, _jit_compiled_convolution_op, _jit_compiled_convolution_op while saving (showing 4 of 4). These functions will not be directly callable after loading.\n"
     ]
    },
    {
     "name": "stdout",
     "output_type": "stream",
     "text": [
      "INFO:tensorflow:Assets written to: models/test_baryon/simple_cdmall_0p1_1_tot_ste_xray_42/assets\n"
     ]
    },
    {
     "name": "stderr",
     "output_type": "stream",
     "text": [
      "INFO:tensorflow:Assets written to: models/test_baryon/simple_cdmall_0p1_1_tot_ste_xray_42/assets\n"
     ]
    },
    {
     "name": "stdout",
     "output_type": "stream",
     "text": [
      "150/150 [==============================] - 25s 166ms/step - loss: 0.8544 - accuracy: 0.6492 - val_loss: 0.9004 - val_accuracy: 0.6275\n",
      "Epoch 20/50\n",
      "150/150 [==============================] - ETA: 0s - loss: 0.8363 - accuracy: 0.6458"
     ]
    },
    {
     "name": "stderr",
     "output_type": "stream",
     "text": [
      "WARNING:absl:Found untraced functions such as _update_step_xla, _jit_compiled_convolution_op, _jit_compiled_convolution_op, _jit_compiled_convolution_op while saving (showing 4 of 4). These functions will not be directly callable after loading.\n"
     ]
    },
    {
     "name": "stdout",
     "output_type": "stream",
     "text": [
      "INFO:tensorflow:Assets written to: models/test_baryon/simple_cdmall_0p1_1_tot_ste_xray_42/assets\n"
     ]
    },
    {
     "name": "stderr",
     "output_type": "stream",
     "text": [
      "INFO:tensorflow:Assets written to: models/test_baryon/simple_cdmall_0p1_1_tot_ste_xray_42/assets\n"
     ]
    },
    {
     "name": "stdout",
     "output_type": "stream",
     "text": [
      "150/150 [==============================] - 25s 170ms/step - loss: 0.8363 - accuracy: 0.6458 - val_loss: 0.8934 - val_accuracy: 0.6375\n",
      "Epoch 21/50\n",
      "150/150 [==============================] - 24s 161ms/step - loss: 0.8219 - accuracy: 0.6581 - val_loss: 0.8929 - val_accuracy: 0.6258\n",
      "Epoch 22/50\n",
      "150/150 [==============================] - 25s 163ms/step - loss: 0.8318 - accuracy: 0.6571 - val_loss: 0.9057 - val_accuracy: 0.6150\n",
      "Epoch 23/50\n",
      "150/150 [==============================] - 24s 162ms/step - loss: 0.7997 - accuracy: 0.6650 - val_loss: 0.9292 - val_accuracy: 0.6292\n",
      "Epoch 24/50\n",
      "150/150 [==============================] - 25s 165ms/step - loss: 0.8295 - accuracy: 0.6579 - val_loss: 0.8918 - val_accuracy: 0.6325\n",
      "Epoch 25/50\n",
      "150/150 [==============================] - ETA: 0s - loss: 0.7887 - accuracy: 0.6767"
     ]
    },
    {
     "name": "stderr",
     "output_type": "stream",
     "text": [
      "WARNING:absl:Found untraced functions such as _update_step_xla, _jit_compiled_convolution_op, _jit_compiled_convolution_op, _jit_compiled_convolution_op while saving (showing 4 of 4). These functions will not be directly callable after loading.\n"
     ]
    },
    {
     "name": "stdout",
     "output_type": "stream",
     "text": [
      "INFO:tensorflow:Assets written to: models/test_baryon/simple_cdmall_0p1_1_tot_ste_xray_42/assets\n"
     ]
    },
    {
     "name": "stderr",
     "output_type": "stream",
     "text": [
      "INFO:tensorflow:Assets written to: models/test_baryon/simple_cdmall_0p1_1_tot_ste_xray_42/assets\n"
     ]
    },
    {
     "name": "stdout",
     "output_type": "stream",
     "text": [
      "150/150 [==============================] - 23s 151ms/step - loss: 0.7887 - accuracy: 0.6767 - val_loss: 0.8764 - val_accuracy: 0.6408\n",
      "Epoch 26/50\n",
      "150/150 [==============================] - 24s 157ms/step - loss: 0.7963 - accuracy: 0.6660 - val_loss: 0.9224 - val_accuracy: 0.6367\n",
      "Epoch 27/50\n",
      "150/150 [==============================] - 19s 123ms/step - loss: 0.7955 - accuracy: 0.6650 - val_loss: 0.9475 - val_accuracy: 0.6058\n",
      "Epoch 28/50\n",
      "150/150 [==============================] - 24s 160ms/step - loss: 0.8022 - accuracy: 0.6650 - val_loss: 0.8981 - val_accuracy: 0.6292\n",
      "Epoch 29/50\n",
      "150/150 [==============================] - 21s 140ms/step - loss: 0.7778 - accuracy: 0.6737 - val_loss: 0.9733 - val_accuracy: 0.6317\n",
      "Epoch 30/50\n",
      "150/150 [==============================] - 22s 146ms/step - loss: 0.7889 - accuracy: 0.6715 - val_loss: 0.9827 - val_accuracy: 0.5892\n",
      "Epoch 31/50\n",
      "150/150 [==============================] - 23s 152ms/step - loss: 0.7722 - accuracy: 0.6779 - val_loss: 0.9044 - val_accuracy: 0.6283\n",
      "Epoch 32/50\n",
      "150/150 [==============================] - 23s 153ms/step - loss: 0.7726 - accuracy: 0.6815 - val_loss: 0.8962 - val_accuracy: 0.6242\n",
      "Epoch 33/50\n",
      "150/150 [==============================] - 21s 140ms/step - loss: 0.7749 - accuracy: 0.6771 - val_loss: 0.8894 - val_accuracy: 0.6308\n",
      "Epoch 34/50\n",
      "150/150 [==============================] - ETA: 0s - loss: 0.7714 - accuracy: 0.6735"
     ]
    },
    {
     "name": "stderr",
     "output_type": "stream",
     "text": [
      "WARNING:absl:Found untraced functions such as _update_step_xla, _jit_compiled_convolution_op, _jit_compiled_convolution_op, _jit_compiled_convolution_op while saving (showing 4 of 4). These functions will not be directly callable after loading.\n"
     ]
    },
    {
     "name": "stdout",
     "output_type": "stream",
     "text": [
      "INFO:tensorflow:Assets written to: models/test_baryon/simple_cdmall_0p1_1_tot_ste_xray_42/assets\n"
     ]
    },
    {
     "name": "stderr",
     "output_type": "stream",
     "text": [
      "INFO:tensorflow:Assets written to: models/test_baryon/simple_cdmall_0p1_1_tot_ste_xray_42/assets\n"
     ]
    },
    {
     "name": "stdout",
     "output_type": "stream",
     "text": [
      "150/150 [==============================] - 21s 142ms/step - loss: 0.7714 - accuracy: 0.6735 - val_loss: 0.8639 - val_accuracy: 0.6508\n",
      "Epoch 35/50\n",
      "150/150 [==============================] - 23s 155ms/step - loss: 0.7485 - accuracy: 0.6815 - val_loss: 0.8720 - val_accuracy: 0.6383\n",
      "Epoch 36/50\n",
      "150/150 [==============================] - 23s 156ms/step - loss: 0.7376 - accuracy: 0.6925 - val_loss: 0.9158 - val_accuracy: 0.6367\n",
      "Epoch 37/50\n",
      "150/150 [==============================] - 24s 162ms/step - loss: 0.7373 - accuracy: 0.6898 - val_loss: 0.8977 - val_accuracy: 0.6250\n",
      "Epoch 38/50\n",
      "150/150 [==============================] - 20s 131ms/step - loss: 0.7594 - accuracy: 0.6792 - val_loss: 0.9204 - val_accuracy: 0.6225\n",
      "Epoch 39/50\n",
      "150/150 [==============================] - 24s 159ms/step - loss: 0.7343 - accuracy: 0.6988 - val_loss: 0.8797 - val_accuracy: 0.6492\n",
      "Epoch 40/50\n",
      "150/150 [==============================] - 24s 161ms/step - loss: 0.7404 - accuracy: 0.6981 - val_loss: 0.9335 - val_accuracy: 0.6175\n",
      "Epoch 41/50\n",
      "150/150 [==============================] - 24s 157ms/step - loss: 0.7355 - accuracy: 0.6908 - val_loss: 0.8913 - val_accuracy: 0.6292\n",
      "Epoch 42/50\n",
      "150/150 [==============================] - 23s 155ms/step - loss: 0.7231 - accuracy: 0.6969 - val_loss: 0.8930 - val_accuracy: 0.6400\n",
      "Epoch 43/50\n",
      "150/150 [==============================] - 24s 162ms/step - loss: 0.7322 - accuracy: 0.6990 - val_loss: 0.9042 - val_accuracy: 0.6267\n",
      "Epoch 44/50\n",
      "150/150 [==============================] - 24s 161ms/step - loss: 0.7136 - accuracy: 0.7092 - val_loss: 0.8792 - val_accuracy: 0.6333\n",
      "Epoch 45/50\n",
      "150/150 [==============================] - 20s 131ms/step - loss: 0.7051 - accuracy: 0.7088 - val_loss: 0.9567 - val_accuracy: 0.6200\n",
      "Epoch 46/50\n",
      "150/150 [==============================] - 23s 150ms/step - loss: 0.7171 - accuracy: 0.6981 - val_loss: 0.9141 - val_accuracy: 0.6383\n",
      "Epoch 47/50\n",
      "150/150 [==============================] - 24s 159ms/step - loss: 0.7101 - accuracy: 0.7013 - val_loss: 0.8748 - val_accuracy: 0.6425\n",
      "Epoch 48/50\n",
      "150/150 [==============================] - 24s 161ms/step - loss: 0.6995 - accuracy: 0.7127 - val_loss: 0.9217 - val_accuracy: 0.6333\n",
      "Epoch 49/50\n",
      "150/150 [==============================] - 23s 154ms/step - loss: 0.6973 - accuracy: 0.7056 - val_loss: 0.9039 - val_accuracy: 0.6358\n",
      "Epoch 50/50\n",
      "150/150 [==============================] - 23s 154ms/step - loss: 0.6918 - accuracy: 0.7092 - val_loss: 0.9065 - val_accuracy: 0.6358\n"
     ]
    }
   ],
   "source": [
    "train, test = getGenerators(augment_data=True, simulationNames=['CDM_low','CDM','CDM_hi','SIDM0.1','SIDM1'], \n",
    "                                                      channels=['total','stellar','xray'], \n",
    "                                                      allDataFile='pickles/binned_data_20.pkl')\n",
    "\n",
    "checkpoint_filepath = 'models/test_baryon/%s_cdmall_0p1_1_tot_ste_xray_%i' % (model_name, random_state)\n",
    "\n",
    "\n",
    "all_cdm_plus_dm_3_channels = get_best_model( train, test, model_name=model_name, checkpoint_filepath=checkpoint_filepath)\n",
    "\n",
    "\n",
    "\n"
   ]
  },
  {
   "cell_type": "markdown",
   "metadata": {
    "tags": []
   },
   "source": [
    "#### 4. Get the fiducial for total, xray and stellar for CDM and low fiducial (all_cdm_3_channel)"
   ]
  },
  {
   "cell_type": "code",
   "execution_count": 29,
   "metadata": {},
   "outputs": [
    {
     "name": "stdout",
     "output_type": "stream",
     "text": [
      "Epoch 1/50\n",
      "90/90 [==============================] - ETA: 0s - loss: 0.9580 - accuracy: 0.5226"
     ]
    },
    {
     "name": "stderr",
     "output_type": "stream",
     "text": [
      "WARNING:absl:Found untraced functions such as _update_step_xla, _jit_compiled_convolution_op, _jit_compiled_convolution_op, _jit_compiled_convolution_op while saving (showing 4 of 4). These functions will not be directly callable after loading.\n"
     ]
    },
    {
     "name": "stdout",
     "output_type": "stream",
     "text": [
      "INFO:tensorflow:Assets written to: models/test_baryon/simple_cdmfid_0p1_1_tot_ste_xray_42/assets\n"
     ]
    },
    {
     "name": "stderr",
     "output_type": "stream",
     "text": [
      "INFO:tensorflow:Assets written to: models/test_baryon/simple_cdmfid_0p1_1_tot_ste_xray_42/assets\n"
     ]
    },
    {
     "name": "stdout",
     "output_type": "stream",
     "text": [
      "90/90 [==============================] - 13s 134ms/step - loss: 0.9580 - accuracy: 0.5226 - val_loss: 0.8595 - val_accuracy: 0.5653\n",
      "Epoch 2/50\n",
      "90/90 [==============================] - ETA: 0s - loss: 0.8483 - accuracy: 0.5698"
     ]
    },
    {
     "name": "stderr",
     "output_type": "stream",
     "text": [
      "WARNING:absl:Found untraced functions such as _update_step_xla, _jit_compiled_convolution_op, _jit_compiled_convolution_op, _jit_compiled_convolution_op while saving (showing 4 of 4). These functions will not be directly callable after loading.\n"
     ]
    },
    {
     "name": "stdout",
     "output_type": "stream",
     "text": [
      "INFO:tensorflow:Assets written to: models/test_baryon/simple_cdmfid_0p1_1_tot_ste_xray_42/assets\n"
     ]
    },
    {
     "name": "stderr",
     "output_type": "stream",
     "text": [
      "INFO:tensorflow:Assets written to: models/test_baryon/simple_cdmfid_0p1_1_tot_ste_xray_42/assets\n"
     ]
    },
    {
     "name": "stdout",
     "output_type": "stream",
     "text": [
      "90/90 [==============================] - 12s 135ms/step - loss: 0.8483 - accuracy: 0.5698 - val_loss: 0.7955 - val_accuracy: 0.6264\n",
      "Epoch 3/50\n",
      "90/90 [==============================] - ETA: 0s - loss: 0.7961 - accuracy: 0.6149"
     ]
    },
    {
     "name": "stderr",
     "output_type": "stream",
     "text": [
      "WARNING:absl:Found untraced functions such as _update_step_xla, _jit_compiled_convolution_op, _jit_compiled_convolution_op, _jit_compiled_convolution_op while saving (showing 4 of 4). These functions will not be directly callable after loading.\n"
     ]
    },
    {
     "name": "stdout",
     "output_type": "stream",
     "text": [
      "INFO:tensorflow:Assets written to: models/test_baryon/simple_cdmfid_0p1_1_tot_ste_xray_42/assets\n"
     ]
    },
    {
     "name": "stderr",
     "output_type": "stream",
     "text": [
      "INFO:tensorflow:Assets written to: models/test_baryon/simple_cdmfid_0p1_1_tot_ste_xray_42/assets\n"
     ]
    },
    {
     "name": "stdout",
     "output_type": "stream",
     "text": [
      "90/90 [==============================] - 12s 134ms/step - loss: 0.7961 - accuracy: 0.6149 - val_loss: 0.7412 - val_accuracy: 0.6431\n",
      "Epoch 4/50\n",
      "90/90 [==============================] - ETA: 0s - loss: 0.7239 - accuracy: 0.6472"
     ]
    },
    {
     "name": "stderr",
     "output_type": "stream",
     "text": [
      "WARNING:absl:Found untraced functions such as _update_step_xla, _jit_compiled_convolution_op, _jit_compiled_convolution_op, _jit_compiled_convolution_op while saving (showing 4 of 4). These functions will not be directly callable after loading.\n"
     ]
    },
    {
     "name": "stdout",
     "output_type": "stream",
     "text": [
      "INFO:tensorflow:Assets written to: models/test_baryon/simple_cdmfid_0p1_1_tot_ste_xray_42/assets\n"
     ]
    },
    {
     "name": "stderr",
     "output_type": "stream",
     "text": [
      "INFO:tensorflow:Assets written to: models/test_baryon/simple_cdmfid_0p1_1_tot_ste_xray_42/assets\n"
     ]
    },
    {
     "name": "stdout",
     "output_type": "stream",
     "text": [
      "90/90 [==============================] - 13s 143ms/step - loss: 0.7239 - accuracy: 0.6472 - val_loss: 0.6853 - val_accuracy: 0.6583\n",
      "Epoch 5/50\n",
      "90/90 [==============================] - ETA: 0s - loss: 0.6621 - accuracy: 0.6868"
     ]
    },
    {
     "name": "stderr",
     "output_type": "stream",
     "text": [
      "WARNING:absl:Found untraced functions such as _update_step_xla, _jit_compiled_convolution_op, _jit_compiled_convolution_op, _jit_compiled_convolution_op while saving (showing 4 of 4). These functions will not be directly callable after loading.\n"
     ]
    },
    {
     "name": "stdout",
     "output_type": "stream",
     "text": [
      "INFO:tensorflow:Assets written to: models/test_baryon/simple_cdmfid_0p1_1_tot_ste_xray_42/assets\n"
     ]
    },
    {
     "name": "stderr",
     "output_type": "stream",
     "text": [
      "INFO:tensorflow:Assets written to: models/test_baryon/simple_cdmfid_0p1_1_tot_ste_xray_42/assets\n"
     ]
    },
    {
     "name": "stdout",
     "output_type": "stream",
     "text": [
      "90/90 [==============================] - 12s 139ms/step - loss: 0.6621 - accuracy: 0.6868 - val_loss: 0.6449 - val_accuracy: 0.6972\n",
      "Epoch 6/50\n",
      "90/90 [==============================] - 12s 128ms/step - loss: 0.6421 - accuracy: 0.6948 - val_loss: 0.7402 - val_accuracy: 0.6333\n",
      "Epoch 7/50\n",
      "90/90 [==============================] - ETA: 0s - loss: 0.6211 - accuracy: 0.7104"
     ]
    },
    {
     "name": "stderr",
     "output_type": "stream",
     "text": [
      "WARNING:absl:Found untraced functions such as _update_step_xla, _jit_compiled_convolution_op, _jit_compiled_convolution_op, _jit_compiled_convolution_op while saving (showing 4 of 4). These functions will not be directly callable after loading.\n"
     ]
    },
    {
     "name": "stdout",
     "output_type": "stream",
     "text": [
      "INFO:tensorflow:Assets written to: models/test_baryon/simple_cdmfid_0p1_1_tot_ste_xray_42/assets\n"
     ]
    },
    {
     "name": "stderr",
     "output_type": "stream",
     "text": [
      "INFO:tensorflow:Assets written to: models/test_baryon/simple_cdmfid_0p1_1_tot_ste_xray_42/assets\n"
     ]
    },
    {
     "name": "stdout",
     "output_type": "stream",
     "text": [
      "90/90 [==============================] - 12s 135ms/step - loss: 0.6211 - accuracy: 0.7104 - val_loss: 0.5895 - val_accuracy: 0.7222\n",
      "Epoch 8/50\n",
      "90/90 [==============================] - 11s 122ms/step - loss: 0.6111 - accuracy: 0.7083 - val_loss: 0.6245 - val_accuracy: 0.7111\n",
      "Epoch 9/50\n",
      "90/90 [==============================] - 11s 122ms/step - loss: 0.5957 - accuracy: 0.7174 - val_loss: 0.5776 - val_accuracy: 0.7208\n",
      "Epoch 10/50\n",
      "90/90 [==============================] - 11s 124ms/step - loss: 0.5899 - accuracy: 0.7257 - val_loss: 0.5738 - val_accuracy: 0.7167\n",
      "Epoch 11/50\n",
      "90/90 [==============================] - 11s 122ms/step - loss: 0.5686 - accuracy: 0.7312 - val_loss: 0.6078 - val_accuracy: 0.7042\n",
      "Epoch 12/50\n",
      "90/90 [==============================] - ETA: 0s - loss: 0.5719 - accuracy: 0.7319"
     ]
    },
    {
     "name": "stderr",
     "output_type": "stream",
     "text": [
      "WARNING:absl:Found untraced functions such as _update_step_xla, _jit_compiled_convolution_op, _jit_compiled_convolution_op, _jit_compiled_convolution_op while saving (showing 4 of 4). These functions will not be directly callable after loading.\n"
     ]
    },
    {
     "name": "stdout",
     "output_type": "stream",
     "text": [
      "INFO:tensorflow:Assets written to: models/test_baryon/simple_cdmfid_0p1_1_tot_ste_xray_42/assets\n"
     ]
    },
    {
     "name": "stderr",
     "output_type": "stream",
     "text": [
      "INFO:tensorflow:Assets written to: models/test_baryon/simple_cdmfid_0p1_1_tot_ste_xray_42/assets\n"
     ]
    },
    {
     "name": "stdout",
     "output_type": "stream",
     "text": [
      "90/90 [==============================] - 12s 136ms/step - loss: 0.5719 - accuracy: 0.7319 - val_loss: 0.5710 - val_accuracy: 0.7264\n",
      "Epoch 13/50\n",
      "90/90 [==============================] - 12s 128ms/step - loss: 0.5614 - accuracy: 0.7389 - val_loss: 0.5924 - val_accuracy: 0.7250\n",
      "Epoch 14/50\n",
      "90/90 [==============================] - ETA: 0s - loss: 0.5545 - accuracy: 0.7302"
     ]
    },
    {
     "name": "stderr",
     "output_type": "stream",
     "text": [
      "WARNING:absl:Found untraced functions such as _update_step_xla, _jit_compiled_convolution_op, _jit_compiled_convolution_op, _jit_compiled_convolution_op while saving (showing 4 of 4). These functions will not be directly callable after loading.\n"
     ]
    },
    {
     "name": "stdout",
     "output_type": "stream",
     "text": [
      "INFO:tensorflow:Assets written to: models/test_baryon/simple_cdmfid_0p1_1_tot_ste_xray_42/assets\n"
     ]
    },
    {
     "name": "stderr",
     "output_type": "stream",
     "text": [
      "INFO:tensorflow:Assets written to: models/test_baryon/simple_cdmfid_0p1_1_tot_ste_xray_42/assets\n"
     ]
    },
    {
     "name": "stdout",
     "output_type": "stream",
     "text": [
      "90/90 [==============================] - 12s 138ms/step - loss: 0.5545 - accuracy: 0.7302 - val_loss: 0.5491 - val_accuracy: 0.7347\n",
      "Epoch 15/50\n",
      "90/90 [==============================] - ETA: 0s - loss: 0.5474 - accuracy: 0.7389"
     ]
    },
    {
     "name": "stderr",
     "output_type": "stream",
     "text": [
      "WARNING:absl:Found untraced functions such as _update_step_xla, _jit_compiled_convolution_op, _jit_compiled_convolution_op, _jit_compiled_convolution_op while saving (showing 4 of 4). These functions will not be directly callable after loading.\n"
     ]
    },
    {
     "name": "stdout",
     "output_type": "stream",
     "text": [
      "INFO:tensorflow:Assets written to: models/test_baryon/simple_cdmfid_0p1_1_tot_ste_xray_42/assets\n"
     ]
    },
    {
     "name": "stderr",
     "output_type": "stream",
     "text": [
      "INFO:tensorflow:Assets written to: models/test_baryon/simple_cdmfid_0p1_1_tot_ste_xray_42/assets\n"
     ]
    },
    {
     "name": "stdout",
     "output_type": "stream",
     "text": [
      "90/90 [==============================] - 12s 138ms/step - loss: 0.5474 - accuracy: 0.7389 - val_loss: 0.5528 - val_accuracy: 0.7361\n",
      "Epoch 16/50\n",
      "90/90 [==============================] - ETA: 0s - loss: 0.5510 - accuracy: 0.7375"
     ]
    },
    {
     "name": "stderr",
     "output_type": "stream",
     "text": [
      "WARNING:absl:Found untraced functions such as _update_step_xla, _jit_compiled_convolution_op, _jit_compiled_convolution_op, _jit_compiled_convolution_op while saving (showing 4 of 4). These functions will not be directly callable after loading.\n"
     ]
    },
    {
     "name": "stdout",
     "output_type": "stream",
     "text": [
      "INFO:tensorflow:Assets written to: models/test_baryon/simple_cdmfid_0p1_1_tot_ste_xray_42/assets\n"
     ]
    },
    {
     "name": "stderr",
     "output_type": "stream",
     "text": [
      "INFO:tensorflow:Assets written to: models/test_baryon/simple_cdmfid_0p1_1_tot_ste_xray_42/assets\n"
     ]
    },
    {
     "name": "stdout",
     "output_type": "stream",
     "text": [
      "90/90 [==============================] - 12s 136ms/step - loss: 0.5510 - accuracy: 0.7375 - val_loss: 0.5396 - val_accuracy: 0.7389\n",
      "Epoch 17/50\n",
      "90/90 [==============================] - ETA: 0s - loss: 0.5476 - accuracy: 0.7444"
     ]
    },
    {
     "name": "stderr",
     "output_type": "stream",
     "text": [
      "WARNING:absl:Found untraced functions such as _update_step_xla, _jit_compiled_convolution_op, _jit_compiled_convolution_op, _jit_compiled_convolution_op while saving (showing 4 of 4). These functions will not be directly callable after loading.\n"
     ]
    },
    {
     "name": "stdout",
     "output_type": "stream",
     "text": [
      "INFO:tensorflow:Assets written to: models/test_baryon/simple_cdmfid_0p1_1_tot_ste_xray_42/assets\n"
     ]
    },
    {
     "name": "stderr",
     "output_type": "stream",
     "text": [
      "INFO:tensorflow:Assets written to: models/test_baryon/simple_cdmfid_0p1_1_tot_ste_xray_42/assets\n"
     ]
    },
    {
     "name": "stdout",
     "output_type": "stream",
     "text": [
      "90/90 [==============================] - 12s 138ms/step - loss: 0.5476 - accuracy: 0.7444 - val_loss: 0.5441 - val_accuracy: 0.7472\n",
      "Epoch 18/50\n",
      "90/90 [==============================] - ETA: 0s - loss: 0.5415 - accuracy: 0.7517"
     ]
    },
    {
     "name": "stderr",
     "output_type": "stream",
     "text": [
      "WARNING:absl:Found untraced functions such as _update_step_xla, _jit_compiled_convolution_op, _jit_compiled_convolution_op, _jit_compiled_convolution_op while saving (showing 4 of 4). These functions will not be directly callable after loading.\n"
     ]
    },
    {
     "name": "stdout",
     "output_type": "stream",
     "text": [
      "INFO:tensorflow:Assets written to: models/test_baryon/simple_cdmfid_0p1_1_tot_ste_xray_42/assets\n"
     ]
    },
    {
     "name": "stderr",
     "output_type": "stream",
     "text": [
      "INFO:tensorflow:Assets written to: models/test_baryon/simple_cdmfid_0p1_1_tot_ste_xray_42/assets\n"
     ]
    },
    {
     "name": "stdout",
     "output_type": "stream",
     "text": [
      "90/90 [==============================] - 12s 136ms/step - loss: 0.5415 - accuracy: 0.7517 - val_loss: 0.5302 - val_accuracy: 0.7542\n",
      "Epoch 19/50\n",
      "90/90 [==============================] - 11s 125ms/step - loss: 0.5364 - accuracy: 0.7389 - val_loss: 0.5657 - val_accuracy: 0.7278\n",
      "Epoch 20/50\n",
      "90/90 [==============================] - 11s 123ms/step - loss: 0.5302 - accuracy: 0.7486 - val_loss: 0.5463 - val_accuracy: 0.7264\n",
      "Epoch 21/50\n",
      "90/90 [==============================] - 11s 124ms/step - loss: 0.5271 - accuracy: 0.7590 - val_loss: 0.5475 - val_accuracy: 0.7278\n",
      "Epoch 22/50\n",
      "90/90 [==============================] - 11s 123ms/step - loss: 0.5305 - accuracy: 0.7507 - val_loss: 0.5465 - val_accuracy: 0.7194\n",
      "Epoch 23/50\n",
      "90/90 [==============================] - 11s 124ms/step - loss: 0.5197 - accuracy: 0.7542 - val_loss: 0.5499 - val_accuracy: 0.7292\n",
      "Epoch 24/50\n",
      "90/90 [==============================] - 11s 125ms/step - loss: 0.5198 - accuracy: 0.7573 - val_loss: 0.5413 - val_accuracy: 0.7403\n",
      "Epoch 25/50\n",
      "90/90 [==============================] - 11s 127ms/step - loss: 0.5090 - accuracy: 0.7628 - val_loss: 0.5301 - val_accuracy: 0.7431\n",
      "Epoch 26/50\n",
      "90/90 [==============================] - 11s 123ms/step - loss: 0.5147 - accuracy: 0.7528 - val_loss: 0.5233 - val_accuracy: 0.7444\n",
      "Epoch 27/50\n",
      "90/90 [==============================] - 11s 127ms/step - loss: 0.5185 - accuracy: 0.7493 - val_loss: 0.5348 - val_accuracy: 0.7486\n",
      "Epoch 28/50\n",
      "90/90 [==============================] - 11s 125ms/step - loss: 0.4995 - accuracy: 0.7639 - val_loss: 0.5388 - val_accuracy: 0.7250\n",
      "Epoch 29/50\n",
      "90/90 [==============================] - 11s 122ms/step - loss: 0.4960 - accuracy: 0.7670 - val_loss: 0.5333 - val_accuracy: 0.7250\n",
      "Epoch 30/50\n",
      "90/90 [==============================] - 12s 129ms/step - loss: 0.4941 - accuracy: 0.7674 - val_loss: 0.5075 - val_accuracy: 0.7542\n",
      "Epoch 31/50\n",
      "90/90 [==============================] - 11s 124ms/step - loss: 0.4949 - accuracy: 0.7677 - val_loss: 0.5219 - val_accuracy: 0.7500\n",
      "Epoch 32/50\n",
      "90/90 [==============================] - 11s 124ms/step - loss: 0.4936 - accuracy: 0.7681 - val_loss: 0.5165 - val_accuracy: 0.7444\n",
      "Epoch 33/50\n",
      "90/90 [==============================] - ETA: 0s - loss: 0.4799 - accuracy: 0.7747"
     ]
    },
    {
     "name": "stderr",
     "output_type": "stream",
     "text": [
      "WARNING:absl:Found untraced functions such as _update_step_xla, _jit_compiled_convolution_op, _jit_compiled_convolution_op, _jit_compiled_convolution_op while saving (showing 4 of 4). These functions will not be directly callable after loading.\n"
     ]
    },
    {
     "name": "stdout",
     "output_type": "stream",
     "text": [
      "INFO:tensorflow:Assets written to: models/test_baryon/simple_cdmfid_0p1_1_tot_ste_xray_42/assets\n"
     ]
    },
    {
     "name": "stderr",
     "output_type": "stream",
     "text": [
      "INFO:tensorflow:Assets written to: models/test_baryon/simple_cdmfid_0p1_1_tot_ste_xray_42/assets\n"
     ]
    },
    {
     "name": "stdout",
     "output_type": "stream",
     "text": [
      "90/90 [==============================] - 13s 140ms/step - loss: 0.4799 - accuracy: 0.7747 - val_loss: 0.5094 - val_accuracy: 0.7597\n",
      "Epoch 34/50\n",
      "90/90 [==============================] - 11s 124ms/step - loss: 0.4918 - accuracy: 0.7677 - val_loss: 0.5675 - val_accuracy: 0.7306\n",
      "Epoch 35/50\n",
      "90/90 [==============================] - 11s 125ms/step - loss: 0.4873 - accuracy: 0.7705 - val_loss: 0.5460 - val_accuracy: 0.7444\n",
      "Epoch 36/50\n",
      "90/90 [==============================] - ETA: 0s - loss: 0.4840 - accuracy: 0.7726"
     ]
    },
    {
     "name": "stderr",
     "output_type": "stream",
     "text": [
      "WARNING:absl:Found untraced functions such as _update_step_xla, _jit_compiled_convolution_op, _jit_compiled_convolution_op, _jit_compiled_convolution_op while saving (showing 4 of 4). These functions will not be directly callable after loading.\n"
     ]
    },
    {
     "name": "stdout",
     "output_type": "stream",
     "text": [
      "INFO:tensorflow:Assets written to: models/test_baryon/simple_cdmfid_0p1_1_tot_ste_xray_42/assets\n"
     ]
    },
    {
     "name": "stderr",
     "output_type": "stream",
     "text": [
      "INFO:tensorflow:Assets written to: models/test_baryon/simple_cdmfid_0p1_1_tot_ste_xray_42/assets\n"
     ]
    },
    {
     "name": "stdout",
     "output_type": "stream",
     "text": [
      "90/90 [==============================] - 12s 135ms/step - loss: 0.4840 - accuracy: 0.7726 - val_loss: 0.5051 - val_accuracy: 0.7639\n",
      "Epoch 37/50\n",
      "90/90 [==============================] - 11s 123ms/step - loss: 0.4675 - accuracy: 0.7844 - val_loss: 0.5261 - val_accuracy: 0.7569\n",
      "Epoch 38/50\n",
      "90/90 [==============================] - 11s 125ms/step - loss: 0.4695 - accuracy: 0.7826 - val_loss: 0.5209 - val_accuracy: 0.7472\n",
      "Epoch 39/50\n",
      "90/90 [==============================] - 11s 127ms/step - loss: 0.4823 - accuracy: 0.7729 - val_loss: 0.5174 - val_accuracy: 0.7542\n",
      "Epoch 40/50\n",
      "90/90 [==============================] - 11s 125ms/step - loss: 0.4722 - accuracy: 0.7806 - val_loss: 0.5032 - val_accuracy: 0.7528\n",
      "Epoch 41/50\n",
      "90/90 [==============================] - 11s 124ms/step - loss: 0.4655 - accuracy: 0.7840 - val_loss: 0.5309 - val_accuracy: 0.7569\n",
      "Epoch 42/50\n",
      "90/90 [==============================] - 11s 125ms/step - loss: 0.4856 - accuracy: 0.7760 - val_loss: 0.5105 - val_accuracy: 0.7542\n",
      "Epoch 43/50\n",
      "90/90 [==============================] - 12s 127ms/step - loss: 0.4545 - accuracy: 0.7858 - val_loss: 0.5125 - val_accuracy: 0.7500\n",
      "Epoch 44/50\n",
      "90/90 [==============================] - 11s 124ms/step - loss: 0.4578 - accuracy: 0.7889 - val_loss: 0.5307 - val_accuracy: 0.7444\n",
      "Epoch 45/50\n",
      "90/90 [==============================] - 11s 126ms/step - loss: 0.4615 - accuracy: 0.7830 - val_loss: 0.5099 - val_accuracy: 0.7486\n",
      "Epoch 46/50\n",
      "90/90 [==============================] - 11s 126ms/step - loss: 0.4510 - accuracy: 0.7885 - val_loss: 0.5442 - val_accuracy: 0.7569\n",
      "Epoch 47/50\n",
      "90/90 [==============================] - 11s 120ms/step - loss: 0.4511 - accuracy: 0.7812 - val_loss: 0.5371 - val_accuracy: 0.7486\n",
      "Epoch 48/50\n",
      "90/90 [==============================] - 11s 124ms/step - loss: 0.4529 - accuracy: 0.7882 - val_loss: 0.5258 - val_accuracy: 0.7458\n",
      "Epoch 49/50\n",
      "90/90 [==============================] - 11s 124ms/step - loss: 0.4697 - accuracy: 0.7771 - val_loss: 0.5117 - val_accuracy: 0.7556\n",
      "Epoch 50/50\n",
      "90/90 [==============================] - 11s 122ms/step - loss: 0.4513 - accuracy: 0.7865 - val_loss: 0.5415 - val_accuracy: 0.7569\n"
     ]
    }
   ],
   "source": [
    "train, test = getGenerators(augment_data=True, simulationNames=['CDM','SIDM0.1','SIDM1'], \n",
    "                                                      channels=['total','stellar','xray'], \n",
    "                                                      allDataFile='pickles/binned_data_20.pkl')\n",
    "\n",
    "checkpoint_filepath = 'models/test_baryon/%s_cdmfid_0p1_1_tot_ste_xray_%i' % (model_name, random_state)\n",
    "\n",
    "\n",
    "fid_cdm_3_channel = get_best_model( train, test, model_name=model_name, checkpoint_filepath=checkpoint_filepath)\n",
    "\n",
    "\n",
    "\n"
   ]
  },
  {
   "cell_type": "markdown",
   "metadata": {
    "tags": []
   },
   "source": [
    "#### 5. Get the fiducial for xray only for CDM and low and high (all_cdm_xray_only)"
   ]
  },
  {
   "cell_type": "code",
   "execution_count": 13,
   "metadata": {
    "tags": []
   },
   "outputs": [
    {
     "name": "stdout",
     "output_type": "stream",
     "text": [
      "Epoch 1/80\n",
      "90/90 [==============================] - 7s 75ms/step - loss: 0.9764 - accuracy: 0.5191 - val_loss: 0.9490 - val_accuracy: 0.5458\n",
      "Epoch 2/80\n",
      "90/90 [==============================] - 7s 74ms/step - loss: 0.8957 - accuracy: 0.5774 - val_loss: 0.8856 - val_accuracy: 0.6000\n",
      "Epoch 3/80\n",
      "90/90 [==============================] - 7s 73ms/step - loss: 0.8503 - accuracy: 0.6010 - val_loss: 0.9318 - val_accuracy: 0.5403\n",
      "Epoch 4/80\n",
      "90/90 [==============================] - 7s 74ms/step - loss: 0.8139 - accuracy: 0.6264 - val_loss: 0.9170 - val_accuracy: 0.5833\n",
      "Epoch 5/80\n",
      "90/90 [==============================] - 6s 69ms/step - loss: 0.7973 - accuracy: 0.6212 - val_loss: 0.8051 - val_accuracy: 0.6208\n",
      "Epoch 6/80\n",
      "90/90 [==============================] - 6s 71ms/step - loss: 0.7929 - accuracy: 0.6285 - val_loss: 0.8030 - val_accuracy: 0.6194\n",
      "Epoch 7/80\n",
      "90/90 [==============================] - 6s 70ms/step - loss: 0.7815 - accuracy: 0.6292 - val_loss: 0.8257 - val_accuracy: 0.6097\n",
      "Epoch 8/80\n",
      "90/90 [==============================] - 6s 69ms/step - loss: 0.7862 - accuracy: 0.6257 - val_loss: 0.7960 - val_accuracy: 0.6278\n",
      "Epoch 9/80\n",
      "90/90 [==============================] - 7s 75ms/step - loss: 0.7718 - accuracy: 0.6420 - val_loss: 0.8027 - val_accuracy: 0.6278\n",
      "Epoch 10/80\n",
      "90/90 [==============================] - 6s 70ms/step - loss: 0.7747 - accuracy: 0.6247 - val_loss: 0.7861 - val_accuracy: 0.6542\n",
      "Epoch 11/80\n",
      "90/90 [==============================] - 6s 71ms/step - loss: 0.7566 - accuracy: 0.6441 - val_loss: 0.7677 - val_accuracy: 0.6514\n",
      "Epoch 12/80\n",
      "90/90 [==============================] - 7s 75ms/step - loss: 0.7520 - accuracy: 0.6448 - val_loss: 0.7790 - val_accuracy: 0.6472\n",
      "Epoch 13/80\n",
      "90/90 [==============================] - 7s 73ms/step - loss: 0.7485 - accuracy: 0.6389 - val_loss: 0.7722 - val_accuracy: 0.6431\n",
      "Epoch 14/80\n",
      "90/90 [==============================] - 6s 68ms/step - loss: 0.7526 - accuracy: 0.6399 - val_loss: 0.7695 - val_accuracy: 0.6389\n",
      "Epoch 15/80\n",
      "90/90 [==============================] - 7s 74ms/step - loss: 0.7433 - accuracy: 0.6507 - val_loss: 0.7653 - val_accuracy: 0.6500\n",
      "Epoch 16/80\n",
      "90/90 [==============================] - 6s 71ms/step - loss: 0.7620 - accuracy: 0.6385 - val_loss: 0.7648 - val_accuracy: 0.6625\n",
      "Epoch 17/80\n",
      "90/90 [==============================] - 7s 72ms/step - loss: 0.7426 - accuracy: 0.6483 - val_loss: 0.7835 - val_accuracy: 0.6375\n",
      "Epoch 18/80\n",
      "90/90 [==============================] - 7s 74ms/step - loss: 0.7422 - accuracy: 0.6497 - val_loss: 0.7637 - val_accuracy: 0.6625\n",
      "Epoch 19/80\n",
      "90/90 [==============================] - 7s 72ms/step - loss: 0.7380 - accuracy: 0.6552 - val_loss: 0.7787 - val_accuracy: 0.6389\n",
      "Epoch 20/80\n",
      "90/90 [==============================] - 6s 69ms/step - loss: 0.7410 - accuracy: 0.6514 - val_loss: 0.7508 - val_accuracy: 0.6611\n",
      "Epoch 21/80\n",
      "90/90 [==============================] - 6s 65ms/step - loss: 0.7346 - accuracy: 0.6559 - val_loss: 0.7753 - val_accuracy: 0.6431\n",
      "Epoch 22/80\n",
      "90/90 [==============================] - 6s 69ms/step - loss: 0.7384 - accuracy: 0.6497 - val_loss: 0.7436 - val_accuracy: 0.6653\n",
      "Epoch 23/80\n",
      "90/90 [==============================] - 7s 74ms/step - loss: 0.7400 - accuracy: 0.6497 - val_loss: 0.7439 - val_accuracy: 0.6653\n",
      "Epoch 24/80\n",
      "90/90 [==============================] - 7s 73ms/step - loss: 0.7360 - accuracy: 0.6559 - val_loss: 0.7446 - val_accuracy: 0.6639\n",
      "Epoch 25/80\n",
      "90/90 [==============================] - 6s 69ms/step - loss: 0.7232 - accuracy: 0.6552 - val_loss: 0.7742 - val_accuracy: 0.6556\n",
      "Epoch 26/80\n",
      "90/90 [==============================] - 7s 72ms/step - loss: 0.7226 - accuracy: 0.6580 - val_loss: 0.7416 - val_accuracy: 0.6639\n",
      "Epoch 27/80\n",
      "90/90 [==============================] - 6s 71ms/step - loss: 0.7433 - accuracy: 0.6444 - val_loss: 0.7950 - val_accuracy: 0.6431\n",
      "Epoch 28/80\n",
      "90/90 [==============================] - 7s 74ms/step - loss: 0.7252 - accuracy: 0.6639 - val_loss: 0.7534 - val_accuracy: 0.6722\n",
      "Epoch 29/80\n",
      "90/90 [==============================] - 6s 67ms/step - loss: 0.7241 - accuracy: 0.6587 - val_loss: 0.7515 - val_accuracy: 0.6611\n",
      "Epoch 30/80\n",
      "90/90 [==============================] - 7s 73ms/step - loss: 0.7298 - accuracy: 0.6559 - val_loss: 0.7573 - val_accuracy: 0.6569\n",
      "Epoch 31/80\n",
      "90/90 [==============================] - 7s 78ms/step - loss: 0.7162 - accuracy: 0.6628 - val_loss: 0.7607 - val_accuracy: 0.6583\n",
      "Epoch 32/80\n",
      "90/90 [==============================] - 7s 79ms/step - loss: 0.7172 - accuracy: 0.6628 - val_loss: 0.7580 - val_accuracy: 0.6597\n",
      "Epoch 33/80\n",
      "90/90 [==============================] - 7s 74ms/step - loss: 0.7201 - accuracy: 0.6573 - val_loss: 0.7498 - val_accuracy: 0.6681\n",
      "Epoch 34/80\n",
      "90/90 [==============================] - 6s 66ms/step - loss: 0.7091 - accuracy: 0.6708 - val_loss: 0.7584 - val_accuracy: 0.6500\n",
      "Epoch 35/80\n",
      "90/90 [==============================] - 6s 70ms/step - loss: 0.7103 - accuracy: 0.6708 - val_loss: 0.7454 - val_accuracy: 0.6431\n",
      "Epoch 36/80\n",
      "90/90 [==============================] - 6s 70ms/step - loss: 0.7137 - accuracy: 0.6660 - val_loss: 0.7487 - val_accuracy: 0.6625\n",
      "Epoch 37/80\n",
      "90/90 [==============================] - 6s 71ms/step - loss: 0.7032 - accuracy: 0.6733 - val_loss: 0.7518 - val_accuracy: 0.6708\n",
      "Epoch 38/80\n",
      "90/90 [==============================] - 6s 69ms/step - loss: 0.7192 - accuracy: 0.6677 - val_loss: 0.7562 - val_accuracy: 0.6750\n",
      "Epoch 39/80\n",
      "90/90 [==============================] - 6s 72ms/step - loss: 0.6975 - accuracy: 0.6722 - val_loss: 0.7556 - val_accuracy: 0.6722\n",
      "Epoch 40/80\n",
      "90/90 [==============================] - 6s 71ms/step - loss: 0.7202 - accuracy: 0.6660 - val_loss: 0.7504 - val_accuracy: 0.6778\n",
      "Epoch 41/80\n",
      "90/90 [==============================] - 7s 72ms/step - loss: 0.7107 - accuracy: 0.6712 - val_loss: 0.7769 - val_accuracy: 0.6528\n",
      "Epoch 42/80\n",
      "90/90 [==============================] - 6s 71ms/step - loss: 0.7112 - accuracy: 0.6684 - val_loss: 0.7702 - val_accuracy: 0.6431\n",
      "Epoch 43/80\n",
      "90/90 [==============================] - 7s 77ms/step - loss: 0.7095 - accuracy: 0.6767 - val_loss: 0.7558 - val_accuracy: 0.6694\n",
      "Epoch 44/80\n",
      "90/90 [==============================] - 6s 70ms/step - loss: 0.6956 - accuracy: 0.6788 - val_loss: 0.7545 - val_accuracy: 0.6819\n",
      "Epoch 45/80\n",
      "90/90 [==============================] - 6s 67ms/step - loss: 0.6908 - accuracy: 0.6774 - val_loss: 0.7772 - val_accuracy: 0.6667\n",
      "Epoch 46/80\n",
      "90/90 [==============================] - 7s 76ms/step - loss: 0.6913 - accuracy: 0.6781 - val_loss: 0.7898 - val_accuracy: 0.6431\n",
      "Epoch 47/80\n",
      "90/90 [==============================] - 7s 73ms/step - loss: 0.6963 - accuracy: 0.6649 - val_loss: 0.7739 - val_accuracy: 0.6458\n",
      "Epoch 48/80\n",
      "90/90 [==============================] - 6s 71ms/step - loss: 0.7053 - accuracy: 0.6733 - val_loss: 0.8170 - val_accuracy: 0.6528\n",
      "Epoch 49/80\n",
      "90/90 [==============================] - 6s 68ms/step - loss: 0.6937 - accuracy: 0.6788 - val_loss: 0.8055 - val_accuracy: 0.6431\n",
      "Epoch 50/80\n",
      "90/90 [==============================] - 7s 72ms/step - loss: 0.7025 - accuracy: 0.6753 - val_loss: 0.8026 - val_accuracy: 0.6583\n",
      "Epoch 51/80\n",
      "90/90 [==============================] - 6s 70ms/step - loss: 0.6935 - accuracy: 0.6799 - val_loss: 0.7845 - val_accuracy: 0.6403\n",
      "Epoch 52/80\n",
      "90/90 [==============================] - 6s 70ms/step - loss: 0.6847 - accuracy: 0.6830 - val_loss: 0.7765 - val_accuracy: 0.6403\n",
      "Epoch 53/80\n",
      "90/90 [==============================] - 7s 75ms/step - loss: 0.6962 - accuracy: 0.6701 - val_loss: 0.7830 - val_accuracy: 0.6514\n",
      "Epoch 54/80\n",
      "90/90 [==============================] - 7s 76ms/step - loss: 0.6962 - accuracy: 0.6726 - val_loss: 0.7748 - val_accuracy: 0.6556\n",
      "Epoch 55/80\n",
      "90/90 [==============================] - 6s 71ms/step - loss: 0.6859 - accuracy: 0.6802 - val_loss: 0.7729 - val_accuracy: 0.6292\n",
      "Epoch 56/80\n",
      "90/90 [==============================] - 7s 74ms/step - loss: 0.6922 - accuracy: 0.6799 - val_loss: 0.7891 - val_accuracy: 0.6514\n",
      "Epoch 57/80\n",
      "90/90 [==============================] - 7s 77ms/step - loss: 0.6844 - accuracy: 0.6889 - val_loss: 0.7938 - val_accuracy: 0.6486\n",
      "Epoch 58/80\n",
      "90/90 [==============================] - 7s 74ms/step - loss: 0.6779 - accuracy: 0.6938 - val_loss: 0.8031 - val_accuracy: 0.6181\n",
      "Epoch 59/80\n",
      "90/90 [==============================] - 6s 70ms/step - loss: 0.6767 - accuracy: 0.6806 - val_loss: 0.7871 - val_accuracy: 0.6347\n",
      "Epoch 60/80\n",
      "90/90 [==============================] - 7s 76ms/step - loss: 0.6715 - accuracy: 0.6878 - val_loss: 0.7728 - val_accuracy: 0.6542\n",
      "Epoch 61/80\n",
      "90/90 [==============================] - 6s 70ms/step - loss: 0.6862 - accuracy: 0.6823 - val_loss: 0.8141 - val_accuracy: 0.6403\n",
      "Epoch 62/80\n",
      "90/90 [==============================] - 7s 75ms/step - loss: 0.6857 - accuracy: 0.6823 - val_loss: 0.7805 - val_accuracy: 0.6278\n",
      "Epoch 63/80\n",
      "90/90 [==============================] - 6s 69ms/step - loss: 0.6766 - accuracy: 0.6861 - val_loss: 0.7810 - val_accuracy: 0.6542\n",
      "Epoch 64/80\n",
      "90/90 [==============================] - 6s 69ms/step - loss: 0.6778 - accuracy: 0.6771 - val_loss: 0.7869 - val_accuracy: 0.6556\n",
      "Epoch 65/80\n",
      "90/90 [==============================] - 7s 73ms/step - loss: 0.6746 - accuracy: 0.6889 - val_loss: 0.7627 - val_accuracy: 0.6694\n",
      "Epoch 66/80\n",
      "90/90 [==============================] - 6s 70ms/step - loss: 0.6614 - accuracy: 0.6958 - val_loss: 0.7739 - val_accuracy: 0.6431\n",
      "Epoch 67/80\n",
      "90/90 [==============================] - 7s 74ms/step - loss: 0.6635 - accuracy: 0.6934 - val_loss: 0.7685 - val_accuracy: 0.6375\n",
      "Epoch 68/80\n",
      "90/90 [==============================] - 6s 71ms/step - loss: 0.6676 - accuracy: 0.6847 - val_loss: 0.7820 - val_accuracy: 0.6319\n",
      "Epoch 69/80\n",
      "90/90 [==============================] - 6s 71ms/step - loss: 0.6610 - accuracy: 0.6944 - val_loss: 0.8067 - val_accuracy: 0.6278\n",
      "Epoch 70/80\n",
      "90/90 [==============================] - 6s 71ms/step - loss: 0.6677 - accuracy: 0.6906 - val_loss: 0.7919 - val_accuracy: 0.6528\n",
      "Epoch 71/80\n",
      "90/90 [==============================] - 7s 73ms/step - loss: 0.6744 - accuracy: 0.6792 - val_loss: 0.7544 - val_accuracy: 0.6528\n",
      "Epoch 72/80\n",
      "90/90 [==============================] - 6s 72ms/step - loss: 0.6548 - accuracy: 0.6913 - val_loss: 0.7968 - val_accuracy: 0.6528\n",
      "Epoch 73/80\n",
      "90/90 [==============================] - 7s 75ms/step - loss: 0.6580 - accuracy: 0.6962 - val_loss: 0.7810 - val_accuracy: 0.6361\n",
      "Epoch 74/80\n",
      "90/90 [==============================] - 5s 53ms/step - loss: 0.6644 - accuracy: 0.6861 - val_loss: 0.7581 - val_accuracy: 0.6542\n",
      "Epoch 75/80\n",
      "90/90 [==============================] - 5s 50ms/step - loss: 0.6644 - accuracy: 0.6865 - val_loss: 0.8006 - val_accuracy: 0.6319\n",
      "Epoch 76/80\n",
      "90/90 [==============================] - 5s 50ms/step - loss: 0.6542 - accuracy: 0.7035 - val_loss: 0.7934 - val_accuracy: 0.6597\n",
      "Epoch 77/80\n",
      "90/90 [==============================] - 5s 51ms/step - loss: 0.6594 - accuracy: 0.7010 - val_loss: 0.8018 - val_accuracy: 0.6250\n",
      "Epoch 78/80\n",
      "90/90 [==============================] - 6s 69ms/step - loss: 0.6479 - accuracy: 0.7080 - val_loss: 0.7689 - val_accuracy: 0.6444\n",
      "Epoch 79/80\n",
      "90/90 [==============================] - 6s 66ms/step - loss: 0.6615 - accuracy: 0.6913 - val_loss: 0.7785 - val_accuracy: 0.6556\n",
      "Epoch 80/80\n",
      "90/90 [==============================] - 7s 72ms/step - loss: 0.6523 - accuracy: 0.6931 - val_loss: 0.7792 - val_accuracy: 0.6653\n"
     ]
    }
   ],
   "source": [
    "train, test = getGenerators(augment_data=True, simulationNames=['CDM_low','CDM','CDM_hi'], \n",
    "                                                      channels=['xray'], \n",
    "                                                      allDataFile='pickles/binned_data_20.pkl')\n",
    "num_classes = len(np.unique(test[1]))\n",
    "all_cdm_xray_only = simpleCNN.getModel_ds(num_classes)\n",
    "history = all_cdm_xray_only.fit(\n",
    "  x=train,\n",
    "  validation_data=test,\n",
    "  epochs=epochs\n",
    ")"
   ]
  },
  {
   "cell_type": "code",
   "execution_count": 14,
   "metadata": {
    "tags": []
   },
   "outputs": [
    {
     "name": "stderr",
     "output_type": "stream",
     "text": [
      "/Users/davidharvey/Work/darkCNN/examples/tools.py:43: UserWarning: FixedFormatter should only be used together with FixedLocator\n",
      "  ax.set_xticklabels([''] + labels)\n",
      "/Users/davidharvey/Work/darkCNN/examples/tools.py:48: UserWarning: FixedFormatter should only be used together with FixedLocator\n",
      "  ax.set_yticklabels([''] + labels)\n"
     ]
    },
    {
     "data": {
      "image/png": "[encoded data removed]",
      "text/plain": [
       "<Figure size 350x262.5 with 1 Axes>"
      ]
     },
     "metadata": {},
     "output_type": "display_data"
    }
   ],
   "source": [
    "y_pred = predict( test[0], [all_cdm_xray_only] )\n",
    "plot_confusion_matrix( test[1], y_pred)"
   ]
  },
  {
   "cell_type": "markdown",
   "metadata": {},
   "source": [
    "### Plot the results"
   ]
  },
  {
   "cell_type": "code",
   "execution_count": 30,
   "metadata": {
    "tags": []
   },
   "outputs": [],
   "source": [
    "models = [ fiducial_model, fid_cdm_3_channel, all_cdm_plus_dm, all_cdm_plus_dm_3_channels ]\n"
   ]
  },
  {
   "cell_type": "code",
   "execution_count": 31,
   "metadata": {
    "tags": []
   },
   "outputs": [],
   "source": [
    "histories = [ i.history.history for i in models ]\n"
   ]
  },
  {
   "cell_type": "code",
   "execution_count": 32,
   "metadata": {
    "tags": []
   },
   "outputs": [],
   "source": [
    "pkl.dump(histories, open(\"pickles/test_baryon.pkl\",\"wb\"))"
   ]
  },
  {
   "cell_type": "code",
   "execution_count": 33,
   "metadata": {
    "tags": []
   },
   "outputs": [
    {
     "data": {
      "image/png": "[encoded data removed]",
      "text/plain": [
       "<Figure size 500x300 with 1 Axes>"
      ]
     },
     "metadata": {},
     "output_type": "display_data"
    }
   ],
   "source": [
    "#models = [ model,  two_channel_model, two_channel_xr_model, three_channel_model, correlation_model, correlation_model_w_stellar]\n",
    "plt.figure(figsize=(5,3))\n",
    "plt.xlabel('Epoch')\n",
    "plt.ylabel('Validation Acccuracy')\n",
    "histories = pkl.load(open(\"pickles/test_baryon.pkl\",\"rb\"))\n",
    "c = ['r','b','g','c']\n",
    "names = ['CDM Fid (Total + Stellar)', 'CDM Fid (Total + Stellar + Xray)', \\\n",
    "         'CDM All (Total + Stellar)', 'CDM All (Total + Stellar + Xray)']\n",
    "for i, iModel in enumerate(histories):\n",
    "    plt.plot(np.arange(len(iModel['val_accuracy'])), iModel['val_accuracy'], label=names[i], c=c[i])\n",
    "    #plt.plot(iModel.history.epoch, [np.max(iModel.history.history['val_accuracy'])]*len(iModel.history.epoch), c=c[i])\n",
    "    #print(np.max(iModel.history.history['val_accuracy']))\n",
    "\n",
    "plt.legend(loc=4)\n",
    "plt.ylim(0.2,0.82)\n",
    "plt.savefig(\"../plots/baryons_test.pdf\")"
   ]
  },
  {
   "cell_type": "markdown",
   "metadata": {},
   "source": [
    "### Plot the confusion matrices"
   ]
  },
  {
   "cell_type": "code",
   "execution_count": 35,
   "metadata": {
    "tags": []
   },
   "outputs": [
    {
     "name": "stderr",
     "output_type": "stream",
     "text": [
      "/Users/davidharvey/Work/darkCNN/lib/python3.10/site-packages/keras/preprocessing/image.py:766: UserWarning: NumpyArrayIterator is set to use the data format convention \"channels_last\" (channels on axis 3), i.e. expected either 1, 3, or 4 channels on axis 3. However, it was passed an array with shape (4800, 100, 100, 2) (2 channels).\n",
      "  warnings.warn(\n"
     ]
    }
   ],
   "source": [
    "train, test = getGenerators(augment_data=True, simulationNames=['CDM_low','CDM','CDM_hi','SIDM0.1','SIDM1'], \n",
    "                                                      channels=['total','stellar'], \n",
    "                                                      allDataFile='pickles/binned_data_20.pkl')\n",
    "y_pred = predict( test[0], [all_cdm_plus_dm] )\n"
   ]
  },
  {
   "cell_type": "code",
   "execution_count": 36,
   "metadata": {
    "tags": []
   },
   "outputs": [],
   "source": [
    "train_three_channel, test_three_chanel = getGenerators(augment_data=True, simulationNames=['CDM_low','CDM','CDM_hi','SIDM0.1','SIDM1'], \n",
    "                                                      channels=['total','stellar','xray'], \n",
    "                                                      allDataFile='pickles/binned_data_20.pkl')\n",
    "y_pred_three_channel = predict( test_three_chanel[0], [all_cdm_plus_dm_3_channels] )\n"
   ]
  },
  {
   "cell_type": "code",
   "execution_count": 42,
   "metadata": {
    "tags": []
   },
   "outputs": [
    {
     "name": "stderr",
     "output_type": "stream",
     "text": [
      "/Users/davidharvey/Work/darkCNN/examples/tools.py:43: UserWarning: FixedFormatter should only be used together with FixedLocator\n",
      "  ax.set_xticklabels([''] + labels)\n",
      "/Users/davidharvey/Work/darkCNN/examples/tools.py:48: UserWarning: FixedFormatter should only be used together with FixedLocator\n",
      "  ax.set_yticklabels([''] + labels)\n",
      "/Users/davidharvey/Work/darkCNN/examples/tools.py:43: UserWarning: FixedFormatter should only be used together with FixedLocator\n",
      "  ax.set_xticklabels([''] + labels)\n",
      "/Users/davidharvey/Work/darkCNN/examples/tools.py:50: UserWarning: FixedFormatter should only be used together with FixedLocator\n",
      "  ax.set_yticklabels([''])\n"
     ]
    },
    {
     "data": {
      "image/png": "[encoded data removed]",
      "text/plain": [
       "<Figure size 800x500 with 2 Axes>"
      ]
     },
     "metadata": {},
     "output_type": "display_data"
    }
   ],
   "source": [
    "fig, axarr = plt.subplots( 1,2, figsize=(8,5))\n",
    "fig.subplots_adjust(wspace=0.1)\n",
    "plot_confusion_matrix( test[1], y_pred, labels=['CDM-low','CDM','CDM-hi','SIDM0.1','SIDM1.0'], \n",
    "                      ax=axarr[0], cbar=False)\n",
    "plot_confusion_matrix( test_three_chanel[1], y_pred_three_channel, \n",
    "                      labels=['CDM-low','CDM','CDM-hi','SIDM0.1','SIDM1.0'],\n",
    "                      ax=axarr[1], ylabel=False, cbar=False )\n",
    "title = axarr[0].set_title('Total + Stellar')\n",
    "title = axarr[1].set_title('Total + Stellar + X-ray')\n",
    "for i in axarr:\n",
    "    #i.fill_between([-0.5,2.5],[-0.5,-0.5],[2.5,2.5],color='grey',alpha=0.2)\n",
    "    i.plot([-0.5,2.5],[-0.5,-0.5],'k-')\n",
    "    i.plot([-0.5,2.5],[2.5,2.5],'k-')\n",
    "    i.plot([-0.5,-0.5],[-0.5,2.5],'k-')\n",
    "    i.plot([2.5,2.5],[-0.5,2.5],'k-')\n",
    "plt.savefig(\"../plots/baryonic_confusion.pdf\")"
   ]
  },
  {
   "cell_type": "code",
   "execution_count": 29,
   "metadata": {
    "tags": []
   },
   "outputs": [
    {
     "name": "stdout",
     "output_type": "stream",
     "text": [
      "Epoch 1/80\n",
      "90/90 [==============================] - 7s 75ms/step - loss: 0.9981 - accuracy: 0.4927 - val_loss: 0.9713 - val_accuracy: 0.5125\n",
      "Epoch 2/80\n",
      "90/90 [==============================] - 6s 71ms/step - loss: 0.8976 - accuracy: 0.5705 - val_loss: 0.8900 - val_accuracy: 0.5583\n",
      "Epoch 3/80\n",
      "90/90 [==============================] - 6s 64ms/step - loss: 0.8151 - accuracy: 0.6087 - val_loss: 0.8290 - val_accuracy: 0.6194\n",
      "Epoch 4/80\n",
      "90/90 [==============================] - 7s 72ms/step - loss: 0.7760 - accuracy: 0.6396 - val_loss: 0.7915 - val_accuracy: 0.6361\n",
      "Epoch 5/80\n",
      "90/90 [==============================] - 6s 71ms/step - loss: 0.7581 - accuracy: 0.6493 - val_loss: 0.7805 - val_accuracy: 0.6444\n",
      "Epoch 6/80\n",
      "90/90 [==============================] - 6s 64ms/step - loss: 0.7524 - accuracy: 0.6559 - val_loss: 0.7562 - val_accuracy: 0.6556\n",
      "Epoch 7/80\n",
      "90/90 [==============================] - 6s 65ms/step - loss: 0.7471 - accuracy: 0.6712 - val_loss: 0.7863 - val_accuracy: 0.6389\n",
      "Epoch 8/80\n",
      "90/90 [==============================] - 6s 71ms/step - loss: 0.7547 - accuracy: 0.6451 - val_loss: 0.7787 - val_accuracy: 0.6500\n",
      "Epoch 9/80\n",
      "90/90 [==============================] - 6s 72ms/step - loss: 0.7381 - accuracy: 0.6611 - val_loss: 0.7513 - val_accuracy: 0.6625\n",
      "Epoch 10/80\n",
      "90/90 [==============================] - 6s 70ms/step - loss: 0.7239 - accuracy: 0.6635 - val_loss: 0.7343 - val_accuracy: 0.6722\n",
      "Epoch 11/80\n",
      "90/90 [==============================] - 7s 72ms/step - loss: 0.7188 - accuracy: 0.6635 - val_loss: 0.7841 - val_accuracy: 0.6181\n",
      "Epoch 12/80\n",
      "90/90 [==============================] - 7s 75ms/step - loss: 0.7494 - accuracy: 0.6566 - val_loss: 0.8222 - val_accuracy: 0.6181\n",
      "Epoch 13/80\n",
      "90/90 [==============================] - 7s 72ms/step - loss: 0.7294 - accuracy: 0.6618 - val_loss: 0.7661 - val_accuracy: 0.6556\n",
      "Epoch 14/80\n",
      "90/90 [==============================] - 6s 65ms/step - loss: 0.7143 - accuracy: 0.6712 - val_loss: 0.7416 - val_accuracy: 0.6583\n",
      "Epoch 15/80\n",
      "90/90 [==============================] - 7s 75ms/step - loss: 0.7157 - accuracy: 0.6792 - val_loss: 0.7356 - val_accuracy: 0.6528\n",
      "Epoch 16/80\n",
      "90/90 [==============================] - 7s 72ms/step - loss: 0.7060 - accuracy: 0.6736 - val_loss: 0.7385 - val_accuracy: 0.6750\n",
      "Epoch 17/80\n",
      "90/90 [==============================] - 6s 68ms/step - loss: 0.6993 - accuracy: 0.6851 - val_loss: 0.7364 - val_accuracy: 0.6625\n",
      "Epoch 18/80\n",
      "90/90 [==============================] - 6s 68ms/step - loss: 0.7070 - accuracy: 0.6722 - val_loss: 0.8286 - val_accuracy: 0.6264\n",
      "Epoch 19/80\n",
      "90/90 [==============================] - 7s 78ms/step - loss: 0.7102 - accuracy: 0.6774 - val_loss: 0.7265 - val_accuracy: 0.6653\n",
      "Epoch 20/80\n",
      "90/90 [==============================] - 7s 81ms/step - loss: 0.6950 - accuracy: 0.6792 - val_loss: 0.7128 - val_accuracy: 0.6972\n",
      "Epoch 21/80\n",
      "90/90 [==============================] - 7s 74ms/step - loss: 0.6896 - accuracy: 0.6830 - val_loss: 0.6948 - val_accuracy: 0.6875\n",
      "Epoch 22/80\n",
      "90/90 [==============================] - 7s 77ms/step - loss: 0.6997 - accuracy: 0.6812 - val_loss: 0.7089 - val_accuracy: 0.6778\n",
      "Epoch 23/80\n",
      "90/90 [==============================] - 8s 83ms/step - loss: 0.6962 - accuracy: 0.6774 - val_loss: 0.7033 - val_accuracy: 0.6931\n",
      "Epoch 24/80\n",
      "90/90 [==============================] - 6s 71ms/step - loss: 0.7140 - accuracy: 0.6740 - val_loss: 0.7321 - val_accuracy: 0.6708\n",
      "Epoch 25/80\n",
      "90/90 [==============================] - 7s 75ms/step - loss: 0.6902 - accuracy: 0.6878 - val_loss: 0.7079 - val_accuracy: 0.6764\n",
      "Epoch 26/80\n",
      "90/90 [==============================] - 7s 80ms/step - loss: 0.6879 - accuracy: 0.6816 - val_loss: 0.7140 - val_accuracy: 0.6806\n",
      "Epoch 27/80\n",
      "90/90 [==============================] - 8s 87ms/step - loss: 0.6767 - accuracy: 0.6955 - val_loss: 0.7067 - val_accuracy: 0.6722\n",
      "Epoch 28/80\n",
      "90/90 [==============================] - 7s 74ms/step - loss: 0.6900 - accuracy: 0.6896 - val_loss: 0.6963 - val_accuracy: 0.6917\n",
      "Epoch 29/80\n",
      "90/90 [==============================] - 6s 71ms/step - loss: 0.6754 - accuracy: 0.6958 - val_loss: 0.6941 - val_accuracy: 0.7000\n",
      "Epoch 30/80\n",
      "90/90 [==============================] - 7s 77ms/step - loss: 0.6899 - accuracy: 0.6837 - val_loss: 0.6947 - val_accuracy: 0.6833\n",
      "Epoch 31/80\n",
      "90/90 [==============================] - 7s 81ms/step - loss: 0.6753 - accuracy: 0.6983 - val_loss: 0.6971 - val_accuracy: 0.6986\n",
      "Epoch 32/80\n",
      "90/90 [==============================] - 7s 75ms/step - loss: 0.6761 - accuracy: 0.6951 - val_loss: 0.6914 - val_accuracy: 0.7139\n",
      "Epoch 33/80\n",
      "90/90 [==============================] - 7s 77ms/step - loss: 0.6785 - accuracy: 0.6938 - val_loss: 0.7967 - val_accuracy: 0.6236\n",
      "Epoch 34/80\n",
      "90/90 [==============================] - 7s 78ms/step - loss: 0.6771 - accuracy: 0.6927 - val_loss: 0.7168 - val_accuracy: 0.6681\n",
      "Epoch 35/80\n",
      "90/90 [==============================] - 7s 75ms/step - loss: 0.6719 - accuracy: 0.6976 - val_loss: 0.6978 - val_accuracy: 0.6819\n",
      "Epoch 36/80\n",
      "90/90 [==============================] - 6s 72ms/step - loss: 0.6729 - accuracy: 0.6903 - val_loss: 0.7544 - val_accuracy: 0.6639\n",
      "Epoch 37/80\n",
      "90/90 [==============================] - 7s 80ms/step - loss: 0.6674 - accuracy: 0.6993 - val_loss: 0.6926 - val_accuracy: 0.6903\n",
      "Epoch 38/80\n",
      "90/90 [==============================] - 7s 79ms/step - loss: 0.6590 - accuracy: 0.7007 - val_loss: 0.6903 - val_accuracy: 0.6986\n",
      "Epoch 39/80\n",
      "90/90 [==============================] - 7s 76ms/step - loss: 0.6653 - accuracy: 0.6944 - val_loss: 0.6793 - val_accuracy: 0.7111\n",
      "Epoch 40/80\n",
      "90/90 [==============================] - 7s 74ms/step - loss: 0.6579 - accuracy: 0.6993 - val_loss: 0.6865 - val_accuracy: 0.7194\n",
      "Epoch 41/80\n",
      "90/90 [==============================] - 7s 78ms/step - loss: 0.6601 - accuracy: 0.7122 - val_loss: 0.7135 - val_accuracy: 0.6861\n",
      "Epoch 42/80\n",
      "90/90 [==============================] - 7s 79ms/step - loss: 0.6944 - accuracy: 0.6896 - val_loss: 0.7501 - val_accuracy: 0.6625\n",
      "Epoch 43/80\n",
      "90/90 [==============================] - 7s 73ms/step - loss: 0.6646 - accuracy: 0.7035 - val_loss: 0.6802 - val_accuracy: 0.6931\n",
      "Epoch 44/80\n",
      "90/90 [==============================] - 7s 81ms/step - loss: 0.6626 - accuracy: 0.7028 - val_loss: 0.6915 - val_accuracy: 0.6736\n",
      "Epoch 45/80\n",
      "90/90 [==============================] - 7s 76ms/step - loss: 0.6618 - accuracy: 0.7049 - val_loss: 0.6936 - val_accuracy: 0.6806\n",
      "Epoch 46/80\n",
      "90/90 [==============================] - 7s 76ms/step - loss: 0.6592 - accuracy: 0.7017 - val_loss: 0.6877 - val_accuracy: 0.6944\n",
      "Epoch 47/80\n",
      "90/90 [==============================] - 7s 76ms/step - loss: 0.6595 - accuracy: 0.7059 - val_loss: 0.7076 - val_accuracy: 0.6847\n",
      "Epoch 48/80\n",
      "90/90 [==============================] - 6s 71ms/step - loss: 0.6534 - accuracy: 0.7097 - val_loss: 0.6928 - val_accuracy: 0.6764\n",
      "Epoch 49/80\n",
      "90/90 [==============================] - 7s 78ms/step - loss: 0.6525 - accuracy: 0.7000 - val_loss: 0.6931 - val_accuracy: 0.6931\n",
      "Epoch 50/80\n",
      "90/90 [==============================] - 7s 75ms/step - loss: 0.6495 - accuracy: 0.7104 - val_loss: 0.6670 - val_accuracy: 0.6944\n",
      "Epoch 51/80\n",
      "90/90 [==============================] - 7s 72ms/step - loss: 0.6562 - accuracy: 0.6990 - val_loss: 0.6983 - val_accuracy: 0.6861\n",
      "Epoch 52/80\n",
      "90/90 [==============================] - 7s 75ms/step - loss: 0.6404 - accuracy: 0.7184 - val_loss: 0.7059 - val_accuracy: 0.6792\n",
      "Epoch 53/80\n",
      "90/90 [==============================] - 7s 77ms/step - loss: 0.6447 - accuracy: 0.7163 - val_loss: 0.6834 - val_accuracy: 0.6944\n",
      "Epoch 54/80\n",
      "90/90 [==============================] - 6s 71ms/step - loss: 0.6527 - accuracy: 0.7063 - val_loss: 0.7001 - val_accuracy: 0.6903\n",
      "Epoch 55/80\n",
      "90/90 [==============================] - 7s 80ms/step - loss: 0.6456 - accuracy: 0.7094 - val_loss: 0.6733 - val_accuracy: 0.6958\n",
      "Epoch 56/80\n",
      "90/90 [==============================] - 7s 78ms/step - loss: 0.6448 - accuracy: 0.7149 - val_loss: 0.6877 - val_accuracy: 0.6986\n",
      "Epoch 57/80\n",
      "90/90 [==============================] - 7s 73ms/step - loss: 0.6396 - accuracy: 0.7167 - val_loss: 0.7041 - val_accuracy: 0.6889\n",
      "Epoch 58/80\n",
      "90/90 [==============================] - 7s 76ms/step - loss: 0.6376 - accuracy: 0.7090 - val_loss: 0.7046 - val_accuracy: 0.6847\n",
      "Epoch 59/80\n",
      "90/90 [==============================] - 7s 78ms/step - loss: 0.6353 - accuracy: 0.7125 - val_loss: 0.7104 - val_accuracy: 0.6833\n",
      "Epoch 60/80\n",
      "90/90 [==============================] - 7s 74ms/step - loss: 0.6373 - accuracy: 0.7139 - val_loss: 0.6684 - val_accuracy: 0.7028\n",
      "Epoch 61/80\n",
      "90/90 [==============================] - 7s 74ms/step - loss: 0.6338 - accuracy: 0.7156 - val_loss: 0.6700 - val_accuracy: 0.6958\n",
      "Epoch 62/80\n",
      "90/90 [==============================] - 7s 75ms/step - loss: 0.6429 - accuracy: 0.7108 - val_loss: 0.6787 - val_accuracy: 0.7000\n",
      "Epoch 63/80\n",
      "90/90 [==============================] - 7s 77ms/step - loss: 0.6337 - accuracy: 0.7153 - val_loss: 0.6618 - val_accuracy: 0.6986\n",
      "Epoch 64/80\n",
      "90/90 [==============================] - 7s 75ms/step - loss: 0.6296 - accuracy: 0.7142 - val_loss: 0.6955 - val_accuracy: 0.6847\n",
      "Epoch 65/80\n",
      "90/90 [==============================] - 6s 71ms/step - loss: 0.6294 - accuracy: 0.7226 - val_loss: 0.6891 - val_accuracy: 0.6917\n",
      "Epoch 66/80\n",
      "90/90 [==============================] - 7s 76ms/step - loss: 0.6335 - accuracy: 0.7205 - val_loss: 0.6693 - val_accuracy: 0.7111\n",
      "Epoch 67/80\n",
      "90/90 [==============================] - 7s 80ms/step - loss: 0.6351 - accuracy: 0.7184 - val_loss: 0.6892 - val_accuracy: 0.6875\n",
      "Epoch 68/80\n",
      "90/90 [==============================] - 7s 79ms/step - loss: 0.6252 - accuracy: 0.7146 - val_loss: 0.6795 - val_accuracy: 0.6889\n",
      "Epoch 69/80\n",
      "90/90 [==============================] - 7s 72ms/step - loss: 0.6166 - accuracy: 0.7188 - val_loss: 0.7034 - val_accuracy: 0.6778\n",
      "Epoch 70/80\n",
      "90/90 [==============================] - 7s 74ms/step - loss: 0.6378 - accuracy: 0.7250 - val_loss: 0.7013 - val_accuracy: 0.6944\n",
      "Epoch 71/80\n",
      "90/90 [==============================] - 7s 81ms/step - loss: 0.6231 - accuracy: 0.7281 - val_loss: 0.6724 - val_accuracy: 0.7028\n",
      "Epoch 72/80\n",
      "90/90 [==============================] - 7s 75ms/step - loss: 0.6265 - accuracy: 0.7184 - val_loss: 0.6799 - val_accuracy: 0.7042\n",
      "Epoch 73/80\n",
      "90/90 [==============================] - 7s 72ms/step - loss: 0.6140 - accuracy: 0.7278 - val_loss: 0.6748 - val_accuracy: 0.7042\n",
      "Epoch 74/80\n",
      "90/90 [==============================] - 7s 75ms/step - loss: 0.6067 - accuracy: 0.7191 - val_loss: 0.7001 - val_accuracy: 0.7014\n",
      "Epoch 75/80\n",
      "90/90 [==============================] - 7s 77ms/step - loss: 0.6352 - accuracy: 0.7170 - val_loss: 0.6959 - val_accuracy: 0.6847\n",
      "Epoch 76/80\n",
      "90/90 [==============================] - 7s 77ms/step - loss: 0.6192 - accuracy: 0.7208 - val_loss: 0.6886 - val_accuracy: 0.6889\n",
      "Epoch 77/80\n",
      "90/90 [==============================] - 7s 75ms/step - loss: 0.6157 - accuracy: 0.7274 - val_loss: 0.7384 - val_accuracy: 0.6736\n",
      "Epoch 78/80\n",
      "90/90 [==============================] - 7s 80ms/step - loss: 0.6142 - accuracy: 0.7250 - val_loss: 0.6781 - val_accuracy: 0.7042\n",
      "Epoch 79/80\n",
      "90/90 [==============================] - 7s 75ms/step - loss: 0.6103 - accuracy: 0.7337 - val_loss: 0.6942 - val_accuracy: 0.6958\n",
      "Epoch 80/80\n",
      "90/90 [==============================] - 6s 68ms/step - loss: 0.6055 - accuracy: 0.7257 - val_loss: 0.6801 - val_accuracy: 0.6986\n"
     ]
    }
   ],
   "source": [
    "\n",
    "epochs = 80\n",
    "train, test = getGenerators(augment_data=True, simulationNames=['CDM_low','CDM','CDM_hi'], \n",
    "                                                      channels=['xray'], \n",
    "                                                      allDataFile='pickles/binned_data_20.pkl', data_labels=[0,1,2])\n",
    "num_classes = len(np.unique(test[1]))\n",
    "all_cdm_xray_only = simpleCNN.getModel_ds(num_classes)\n",
    "history = all_cdm_xray_only.fit(\n",
    "  x=train,\n",
    "  validation_data=test,\n",
    "  epochs=epochs\n",
    ")"
   ]
  },
  {
   "cell_type": "code",
   "execution_count": 27,
   "metadata": {
    "tags": []
   },
   "outputs": [
    {
     "name": "stdout",
     "output_type": "stream",
     "text": [
      "38/38 [==============================] - 1s 15ms/step\n"
     ]
    }
   ],
   "source": [
    "train, test = getGenerators(augment_data=True, simulationNames=['SIDM0.1'], \n",
    "                                                      channels=['xray'], \n",
    "                                                      allDataFile='pickles/binned_data_20.pkl',train_split=0.01)\n",
    "predictions = all_cdm_xray_only.predict( test[0] )"
   ]
  },
  {
   "cell_type": "markdown",
   "metadata": {
    "jp-MarkdownHeadingCollapsed": true,
    "tags": []
   },
   "source": [
    "# After this is experimental - not needed for the paper"
   ]
  },
  {
   "cell_type": "markdown",
   "metadata": {
    "tags": []
   },
   "source": [
    "#### Combine models 1 + 4"
   ]
  },
  {
   "cell_type": "code",
   "execution_count": null,
   "metadata": {
    "tags": []
   },
   "outputs": [],
   "source": [
    "from simpleCNN_combined_model import getCombinedModel, getModel\n",
    "from getSIDMdata_double_input import get_tf_DataSet as double_input_data"
   ]
  },
  {
   "cell_type": "code",
   "execution_count": null,
   "metadata": {},
   "outputs": [],
   "source": [
    "input_generator, val_data, steps_per_epoch = double_input_data(augment_data=True, simulationNames=['CDM_low','CDM_hi','CDM','SIDM0.1','SIDM1'], \n",
    "                                                      channels=[['total','stellar','xray'],['total','stellar']], \n",
    "                                                      allDataFile='pickles/binned_data_20.pkl')\n",
    "nclasses = len(np.unique(test_data[1]))"
   ]
  },
  {
   "cell_type": "code",
   "execution_count": null,
   "metadata": {},
   "outputs": [],
   "source": [
    "list_of_input_shapes = [ i.shape[1:] for i in val_data[0] ]\n"
   ]
  },
  {
   "cell_type": "code",
   "execution_count": null,
   "metadata": {
    "tags": []
   },
   "outputs": [],
   "source": [
    "all_baryon_layers = all_cdm_3_channel.layers[0].layers + all_cdm_3_channel.layers[1].layers\n",
    "all_dm_layers = fiducial_model.layers[0].layers + fiducial_model.layers[1].layers"
   ]
  },
  {
   "cell_type": "code",
   "execution_count": null,
   "metadata": {
    "tags": []
   },
   "outputs": [],
   "source": [
    "list_of_output_shapes = [ all_baryon_layers[-1].output_shape[1:][0], all_dm_layers[-1].output_shape[1:][0] ]"
   ]
  },
  {
   "cell_type": "code",
   "execution_count": null,
   "metadata": {
    "tags": []
   },
   "outputs": [],
   "source": [
    "model = getCombinedModel(list_of_input_shapes, list_of_output_shapes, nclasses)"
   ]
  },
  {
   "cell_type": "code",
   "execution_count": null,
   "metadata": {
    "tags": []
   },
   "outputs": [],
   "source": [
    "for iLayer in range(len(all_baryon_layers)):\n",
    "    this_layer = (1 + iLayer ) *2\n",
    "\n",
    "    model.layers[this_layer] =  all_baryon_layers[iLayer]\n",
    "    model.layers[this_layer].set_weights(  all_baryon_layers[iLayer].get_weights() )\n",
    "    model.layers[this_layer].trainable = False\n",
    "    \n",
    "    \n",
    "    model.layers[this_layer+1] =  all_dm_layers[iLayer]\n",
    "    model.layers[this_layer+1].set_weights( all_dm_layers[iLayer].get_weights() )\n",
    "    model.layers[this_layer+1].trainable = False"
   ]
  },
  {
   "cell_type": "code",
   "execution_count": null,
   "metadata": {
    "tags": []
   },
   "outputs": [],
   "source": [
    "model.compile(optimizer='adam',\n",
    "              loss=tf.keras.losses.SparseCategoricalCrossentropy(from_logits=True),\n",
    "              metrics=['accuracy'])"
   ]
  },
  {
   "cell_type": "code",
   "execution_count": null,
   "metadata": {
    "tags": []
   },
   "outputs": [],
   "source": [
    "model.summary()"
   ]
  },
  {
   "cell_type": "code",
   "execution_count": null,
   "metadata": {
    "tags": []
   },
   "outputs": [],
   "source": [
    "model_history = model.fit( input_generator, validation_data=val_data, epochs=epochs, steps_per_epoch=steps_per_epoch) "
   ]
  },
  {
   "cell_type": "code",
   "execution_count": null,
   "metadata": {
    "tags": []
   },
   "outputs": [],
   "source": [
    "model_history = model.fit( input_generator, validation_data=val_data, epochs=epochs, steps_per_epoch=steps_per_epoch) "
   ]
  },
  {
   "cell_type": "code",
   "execution_count": null,
   "metadata": {
    "tags": []
   },
   "outputs": [],
   "source": [
    "y_pred = predict( val_data[0], [model] )\n",
    "plot_confusion_matrix( val_data[1], y_pred)"
   ]
  },
  {
   "cell_type": "code",
   "execution_count": null,
   "metadata": {},
   "outputs": [],
   "source": [
    "y_pred = predict( test[0], [all_cdm_plus_dm_3_channel] )\n",
    "plot_confusion_matrix( test[1], y_pred)"
   ]
  },
  {
   "cell_type": "markdown",
   "metadata": {
    "jp-MarkdownHeadingCollapsed": true,
    "tags": []
   },
   "source": [
    "### What happens when I get the baryons wrong with no xray (confusion matrices)?"
   ]
  },
  {
   "cell_type": "code",
   "execution_count": null,
   "metadata": {
    "tags": []
   },
   "outputs": [],
   "source": [
    "epochs=100\n",
    "baryon_models = ['CDM_hi', 'CDM_low','CDM']\n",
    "\n",
    "all_models = []\n",
    "all_history = []\n",
    "\n",
    "for iB_model in baryon_models:\n",
    "\n",
    "    train_baryons, test_baryons = getGenerators(augment_data=True, simulationNames=[iB_model]+['SIDM0.1'], \n",
    "                                                      channels=['total','stellar'], \n",
    "                                                        allDataFile='pickles/binned_data_20.pkl', train_split=0.85)\n",
    "    num_classes = len(np.unique(test_baryons[1]))\n",
    "    this_model = simpleCNN.getModel_ds(num_classes)\n",
    "    history = this_model.fit(\n",
    "      x=train_baryons,\n",
    "      validation_data=test_baryons,\n",
    "      epochs=epochs, verbose=0\n",
    "    )\n",
    "    all_history.append(history)\n",
    "    all_models.append(this_model)\n",
    "    \n",
    "    for jB, jB_model in enumerate(baryon_models):\n",
    "        if jB_model == iB_model:\n",
    "            test = test_baryons\n",
    "        else:\n",
    "            train_cdm_hi, test = getGenerators(augment_data=True, simulationNames=[jB_model]+['SIDM0.1','SIDM1'], \n",
    "                                                      channels=['total','stellar'], \n",
    "                                                        allDataFile='pickles/binned_data_20.pkl', train_split=0.01) \n",
    "        \n",
    "        y_pred = predict( test[0], [this_model])\n",
    "        plot_confusion_matrix( test[1], y_pred, title='Trained on %s - tested on %s' % (iB_model, jB_model))"
   ]
  },
  {
   "cell_type": "code",
   "execution_count": null,
   "metadata": {
    "tags": []
   },
   "outputs": [],
   "source": [
    "for i in all_history:\n",
    "    plt.plot(i.history['val_accuracy'])"
   ]
  },
  {
   "cell_type": "markdown",
   "metadata": {
    "tags": []
   },
   "source": [
    "### What happens when I get the baryons wrong with xray?"
   ]
  },
  {
   "cell_type": "code",
   "execution_count": null,
   "metadata": {
    "tags": []
   },
   "outputs": [],
   "source": [
    "epochs=100\n",
    "baryon_models = ['CDM_hi', 'CDM_low','CDM']\n",
    "\n",
    "all_models = []\n",
    "all_history = []\n",
    "\n",
    "for iB_model in baryon_models:\n",
    "\n",
    "    train_baryons, test_baryons = getGenerators(augment_data=True, simulationNames=[iB_model]+['SIDM0.1','SIDM1'], \n",
    "                                                      channels=['total','stellar','xray'], \n",
    "                                                        allDataFile='pickles/binned_data_20.pkl')\n",
    "    num_classes = len(np.unique(test[1]))\n",
    "    this_model = simpleCNN.getModel_ds(num_classes)\n",
    "    history = this_model.fit(\n",
    "      x=train_baryons,\n",
    "      validation_data=test_baryons,\n",
    "      epochs=epochs, verbose=0\n",
    "    )\n",
    "    all_history.append(history)\n",
    "    all_models.append(this_model)\n",
    "    \n",
    "    for jB, jB_model in enumerate(baryon_models):\n",
    "        if jB_model == iB_model:\n",
    "            test = test_baryons\n",
    "        else:\n",
    "            train_cdm_hi, test = getGenerators(augment_data=True, simulationNames=[jB_model]+['SIDM0.1','SIDM1'], \n",
    "                                                      channels=['total','stellar','xray'], \n",
    "                                                        allDataFile='pickles/binned_data_20.pkl', train_split=0.01) \n",
    "        \n",
    "        y_pred = predict( test[0], [this_model])\n",
    "        plot_confusion_matrix( test[1], y_pred, title='Trained on %s - tested on %s' % (iB_model, jB_model))"
   ]
  },
  {
   "cell_type": "markdown",
   "metadata": {
    "jp-MarkdownHeadingCollapsed": true,
    "tags": []
   },
   "source": [
    "### What happens if i train on CDM_X + DM and the Universe is CDM_Y? Evaluate CDM_Y to a matrix."
   ]
  },
  {
   "cell_type": "code",
   "execution_count": null,
   "metadata": {
    "tags": []
   },
   "outputs": [],
   "source": [
    "sum(predict( test[0], [all_models[iB]] ) == 0)"
   ]
  },
  {
   "cell_type": "code",
   "execution_count": null,
   "metadata": {
    "tags": []
   },
   "outputs": [],
   "source": [
    "baryon_models = ['CDM_hi', 'CDM_low','CDM']\n",
    "evaluation = np.zeros((len(baryon_models),len(baryon_models)))\n",
    "for iB, iB_model in enumerate(baryon_models):\n",
    "    for jB, jB_model in enumerate(baryon_models):\n",
    "        if jB_model == iB_model:\n",
    "            val_split = 0.85 # Because i cant use the same information in the test than in the train.\n",
    "        else:\n",
    "            val_split = 0.01\n",
    "\n",
    "        train_cdm_hi, test = getGenerators(augment_data=True, simulationNames=[jB_model], \n",
    "                                                      channels=['total','stellar'], \n",
    "                                                        allDataFile='pickles/binned_data_20.pkl', train_split=val_split) \n",
    "    \n",
    "            \n",
    "            \n",
    "        evaluation[iB, jB] = sum(predict( test[0], [all_models[iB]] )==0)/len(test[0])"
   ]
  },
  {
   "cell_type": "code",
   "execution_count": null,
   "metadata": {
    "tags": []
   },
   "outputs": [],
   "source": [
    "ax = plt.gca()\n",
    "im = ax.imshow(evaluation, origin='lower')\n",
    "ax.set_xticks( np.arange(len(baryon_models)))\n",
    "ax.set_yticks( np.arange(len(baryon_models)))\n",
    "\n",
    "ax.set_xticklabels(baryon_models)\n",
    "ax.set_yticklabels(baryon_models)\n",
    "plt.ylabel('Trained', size = 20)\n",
    "plt.xlabel('Tested', size = 20)\n",
    "for i in range(len(evaluation)):\n",
    "    for j in range(len(evaluation)):\n",
    "        plt.annotate(round(evaluation[i,j],2),xy=\\\n",
    "                    (j,i),horizontalalignment='center',verticalalignment='center',size=15,color='black')\n",
    "plt.colorbar(im)"
   ]
  },
  {
   "cell_type": "markdown",
   "metadata": {
    "jp-MarkdownHeadingCollapsed": true,
    "tags": []
   },
   "source": [
    "### What happens if i train on CDM_BARYONS_X + DM and the Universe is DM+BARYONS_Y? Evaluate CDM_Y to a matrix."
   ]
  },
  {
   "cell_type": "code",
   "execution_count": null,
   "metadata": {
    "tags": []
   },
   "outputs": [],
   "source": [
    "baryon_models = ['CDM_hi', 'CDM_low','CDM']\n",
    "dm_evaluation = np.zeros((len(baryon_models),len(baryon_models)))\n",
    "for iB, iB_model in enumerate(baryon_models):\n",
    "    \n",
    "        train_cdm_hi, test = getGenerators(augment_data=True, simulationNames=['SIDM0.1'], \n",
    "                                                      channels=['total','stellar'], \n",
    "                                                        allDataFile='pickles/binned_data_20.pkl', train_split=0.01) \n",
    "    \n",
    "            \n",
    "            \n",
    "        dm_evaluation[iB, 0] = sum(predict( test[0], [all_models[iB]] )==1)/len(test[0])\n"
   ]
  },
  {
   "cell_type": "code",
   "execution_count": null,
   "metadata": {
    "tags": []
   },
   "outputs": [],
   "source": [
    "ax = plt.gca()\n",
    "im = ax.imshow(dm_evaluation, origin='lower')\n",
    "ax.set_xticks( np.arange(len(baryon_models)))\n",
    "ax.set_yticks( np.arange(len(baryon_models)))\n",
    "\n",
    "ax.set_xticklabels(baryon_models)\n",
    "ax.set_yticklabels(baryon_models)\n",
    "plt.ylabel('Trained', size = 20)\n",
    "plt.xlabel('Tested', size = 20)\n",
    "for i in range(len(evaluation)):\n",
    "    for j in range(len(evaluation)):\n",
    "        plt.annotate(round(dm_evaluation[i,j],2),xy=\\\n",
    "                    (j,i),horizontalalignment='center',verticalalignment='center',size=15,color='black')\n",
    "plt.colorbar(im)"
   ]
  }
 ],
 "metadata": {
  "kernelspec": {
   "display_name": "Python 3 (ipykernel)",
   "language": "python",
   "name": "python3"
  },
  "language_info": {
   "codemirror_mode": {
    "name": "ipython",
    "version": 3
   },
   "file_extension": ".py",
   "mimetype": "text/x-python",
   "name": "python",
   "nbconvert_exporter": "python",
   "pygments_lexer": "ipython3",
   "version": "3.10.9"
  }
 },
 "nbformat": 4,
 "nbformat_minor": 4
}
