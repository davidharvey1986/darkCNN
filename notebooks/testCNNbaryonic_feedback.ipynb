{
 "cells": [
  {
   "cell_type": "code",
   "execution_count": 1,
   "metadata": {
    "tags": []
   },
   "outputs": [],
   "source": [
    "%load_ext autoreload\n",
    "%autoreload 2"
   ]
  },
  {
   "cell_type": "code",
   "execution_count": 2,
   "metadata": {
    "tags": []
   },
   "outputs": [],
   "source": [
    "from globalVariables import *\n",
    "import simpleCNNwithInception as inceptionCNN\n",
    "import simpleCNN as simpleCNN\n",
    "import simpleCNNwithInceptionRegression as regressor\n",
    "from keras.callbacks import CSVLogger\n",
    "from scipy.ndimage import rotate\n",
    "from tools import plot_confusion_matrix\n",
    "from getSIDMdata_generator import get_tf_DataSet as getGenerators\n",
    "import scienceplots\n",
    "plt.style.use([\"science\", \"grid\"])"
   ]
  },
  {
   "cell_type": "markdown",
   "metadata": {},
   "source": [
    "Objectives\n",
    "----------\n",
    "1. To see if the model can tell between baryonic feedback and dark matter ineractions\n",
    "\n",
    "\n",
    "Conclusions\n",
    "-----------\n",
    "1. Xray really deciphers between baryonic models and total and stellar dark matter models\n",
    "2. Generators with an refelect and interpolation order of 3 do well\n",
    "3. Xray means that we can descern between CDM, but because CDM and SIDM have the same AGN then it is difficult to separte those out.\n"
   ]
  },
  {
   "cell_type": "code",
   "execution_count": null,
   "metadata": {},
   "outputs": [],
   "source": [
    "def predict( test_set, list_of_models ):\n",
    "    \n",
    "    predictions = None\n",
    "    for iL, iModel in enumerate(list_of_models):\n",
    "        \n",
    "        if predictions is None:\n",
    "            predictions = np.argmax(iModel.predict( test_set, verbose=0 ), axis=-1)\n",
    "        else:\n",
    "            new_predict = np.argmax(iModel.predict( test_set, verbose=0 ), axis=-1)\n",
    "            predictions[ predictions == iL ] += new_predict[ predictions == iL]\n",
    "    return predictions"
   ]
  },
  {
   "cell_type": "code",
   "execution_count": null,
   "metadata": {
    "tags": []
   },
   "outputs": [],
   "source": [
    "epochs=80\n",
    "random_state=42\n",
    "model_name='simple'"
   ]
  },
  {
   "cell_type": "code",
   "execution_count": null,
   "metadata": {
    "tags": []
   },
   "outputs": [],
   "source": [
    "def get_best_model( image_generator, test_set, model_name='Inception', checkpoint_filepath=\"models\" ):\n",
    "    \n",
    "    if os.path.isdir(checkpoint_filepath):\n",
    "        print(\"Found Model\")\n",
    "        return tf.keras.models.load_model(checkpoint_filepath)\n",
    "        \n",
    "        \n",
    "    num_classes = len(np.unique(test_set[1]))\n",
    "    \n",
    "    if model_name.lower() == 'simple':\n",
    "        model = simpleCNN.getModel_ds(num_classes)\n",
    "    elif model_name.lower() == 'dibare':\n",
    "        model = mertens.DIBARE(input_shape=test_set[0][0].shape, classes=num_classes, bn_momentum=.0, \n",
    "                                FC1=0,FC2=0,feature_dropout=.33,num_layersA=1,num_layersB=1,num_layersC=1,leak=.03)\n",
    "    elif model_name.lower() == 'inception':\n",
    "        model = mertens.InceptionV4(input_shape=test_set[0][0].shape, bn_momentum=.0,classes=num_classes,\n",
    "                                               feature_dropout=.33,num_layersA=1,num_layersB=1,num_layersC=1,leak=.03)\n",
    "\n",
    "    else:\n",
    "        raise ValueError(\"Model name not recognised\")\n",
    "    \n",
    "    optimizer = tf.keras.optimizers.Adam( learning_rate=1e-3 ) \n",
    "    model.compile(optimizer=optimizer,\n",
    "              loss=tf.keras.losses.SparseCategoricalCrossentropy(from_logits=True),\n",
    "              metrics=['accuracy'])\n",
    "\n",
    "    model_checkpoint_callback = tf.keras.callbacks.ModelCheckpoint(\n",
    "        filepath=checkpoint_filepath,\n",
    "        save_weights_only=False,\n",
    "        monitor='val_accuracy',\n",
    "        mode='max',\n",
    "        save_best_only=True)\n",
    "    \n",
    "    \n",
    "    history = model.fit(\n",
    "      x=image_generator,\n",
    "      validation_data=test_set,\n",
    "      epochs=epochs, verbose=1, callbacks=[model_checkpoint_callback])\n",
    "    \n",
    "    return model"
   ]
  },
  {
   "cell_type": "markdown",
   "metadata": {
    "jp-MarkdownHeadingCollapsed": true,
    "tags": []
   },
   "source": [
    "#### 1. Get the fiducial for total and stellar for CDM fiducial and DM (fiducial_model)"
   ]
  },
  {
   "cell_type": "code",
   "execution_count": 34,
   "metadata": {
    "tags": []
   },
   "outputs": [
    {
     "name": "stderr",
     "output_type": "stream",
     "text": [
      "/Users/davidharvey/Work/darkCNN/lib/python3.10/site-packages/keras/preprocessing/image.py:766: UserWarning: NumpyArrayIterator is set to use the data format convention \"channels_last\" (channels on axis 3), i.e. expected either 1, 3, or 4 channels on axis 3. However, it was passed an array with shape (2880, 100, 100, 2) (2 channels).\n",
      "  warnings.warn(\n"
     ]
    },
    {
     "name": "stdout",
     "output_type": "stream",
     "text": [
      "Epoch 1/80\n",
      "90/90 [==============================] - ETA: 0s - loss: 0.9484 - accuracy: 0.5000"
     ]
    },
    {
     "name": "stderr",
     "output_type": "stream",
     "text": [
      "WARNING:absl:Found untraced functions such as _update_step_xla, _jit_compiled_convolution_op, _jit_compiled_convolution_op, _jit_compiled_convolution_op while saving (showing 4 of 4). These functions will not be directly callable after loading.\n"
     ]
    },
    {
     "name": "stdout",
     "output_type": "stream",
     "text": [
      "INFO:tensorflow:Assets written to: models/test_baryon/simple_cdmfid_0p1_1_tot_ste_42/assets\n"
     ]
    },
    {
     "name": "stderr",
     "output_type": "stream",
     "text": [
      "INFO:tensorflow:Assets written to: models/test_baryon/simple_cdmfid_0p1_1_tot_ste_42/assets\n"
     ]
    },
    {
     "name": "stdout",
     "output_type": "stream",
     "text": [
      "90/90 [==============================] - 21s 225ms/step - loss: 0.9484 - accuracy: 0.5000 - val_loss: 0.8107 - val_accuracy: 0.5792\n",
      "Epoch 2/80\n",
      "90/90 [==============================] - ETA: 0s - loss: 0.8234 - accuracy: 0.5910"
     ]
    },
    {
     "name": "stderr",
     "output_type": "stream",
     "text": [
      "WARNING:absl:Found untraced functions such as _update_step_xla, _jit_compiled_convolution_op, _jit_compiled_convolution_op, _jit_compiled_convolution_op while saving (showing 4 of 4). These functions will not be directly callable after loading.\n"
     ]
    },
    {
     "name": "stdout",
     "output_type": "stream",
     "text": [
      "INFO:tensorflow:Assets written to: models/test_baryon/simple_cdmfid_0p1_1_tot_ste_42/assets\n"
     ]
    },
    {
     "name": "stderr",
     "output_type": "stream",
     "text": [
      "INFO:tensorflow:Assets written to: models/test_baryon/simple_cdmfid_0p1_1_tot_ste_42/assets\n"
     ]
    },
    {
     "name": "stdout",
     "output_type": "stream",
     "text": [
      "90/90 [==============================] - 19s 213ms/step - loss: 0.8234 - accuracy: 0.5910 - val_loss: 0.7491 - val_accuracy: 0.6167\n",
      "Epoch 3/80\n",
      "90/90 [==============================] - ETA: 0s - loss: 0.7208 - accuracy: 0.6417"
     ]
    },
    {
     "name": "stderr",
     "output_type": "stream",
     "text": [
      "WARNING:absl:Found untraced functions such as _update_step_xla, _jit_compiled_convolution_op, _jit_compiled_convolution_op, _jit_compiled_convolution_op while saving (showing 4 of 4). These functions will not be directly callable after loading.\n"
     ]
    },
    {
     "name": "stdout",
     "output_type": "stream",
     "text": [
      "INFO:tensorflow:Assets written to: models/test_baryon/simple_cdmfid_0p1_1_tot_ste_42/assets\n"
     ]
    },
    {
     "name": "stderr",
     "output_type": "stream",
     "text": [
      "INFO:tensorflow:Assets written to: models/test_baryon/simple_cdmfid_0p1_1_tot_ste_42/assets\n"
     ]
    },
    {
     "name": "stdout",
     "output_type": "stream",
     "text": [
      "90/90 [==============================] - 19s 213ms/step - loss: 0.7208 - accuracy: 0.6417 - val_loss: 0.6589 - val_accuracy: 0.6653\n",
      "Epoch 4/80\n",
      "90/90 [==============================] - ETA: 0s - loss: 0.6665 - accuracy: 0.6736"
     ]
    },
    {
     "name": "stderr",
     "output_type": "stream",
     "text": [
      "WARNING:absl:Found untraced functions such as _update_step_xla, _jit_compiled_convolution_op, _jit_compiled_convolution_op, _jit_compiled_convolution_op while saving (showing 4 of 4). These functions will not be directly callable after loading.\n"
     ]
    },
    {
     "name": "stdout",
     "output_type": "stream",
     "text": [
      "INFO:tensorflow:Assets written to: models/test_baryon/simple_cdmfid_0p1_1_tot_ste_42/assets\n"
     ]
    },
    {
     "name": "stderr",
     "output_type": "stream",
     "text": [
      "INFO:tensorflow:Assets written to: models/test_baryon/simple_cdmfid_0p1_1_tot_ste_42/assets\n"
     ]
    },
    {
     "name": "stdout",
     "output_type": "stream",
     "text": [
      "90/90 [==============================] - 17s 193ms/step - loss: 0.6665 - accuracy: 0.6736 - val_loss: 0.6461 - val_accuracy: 0.6847\n",
      "Epoch 5/80\n",
      "90/90 [==============================] - ETA: 0s - loss: 0.6434 - accuracy: 0.6927"
     ]
    },
    {
     "name": "stderr",
     "output_type": "stream",
     "text": [
      "WARNING:absl:Found untraced functions such as _update_step_xla, _jit_compiled_convolution_op, _jit_compiled_convolution_op, _jit_compiled_convolution_op while saving (showing 4 of 4). These functions will not be directly callable after loading.\n"
     ]
    },
    {
     "name": "stdout",
     "output_type": "stream",
     "text": [
      "INFO:tensorflow:Assets written to: models/test_baryon/simple_cdmfid_0p1_1_tot_ste_42/assets\n"
     ]
    },
    {
     "name": "stderr",
     "output_type": "stream",
     "text": [
      "INFO:tensorflow:Assets written to: models/test_baryon/simple_cdmfid_0p1_1_tot_ste_42/assets\n"
     ]
    },
    {
     "name": "stdout",
     "output_type": "stream",
     "text": [
      "90/90 [==============================] - 15s 167ms/step - loss: 0.6434 - accuracy: 0.6927 - val_loss: 0.6125 - val_accuracy: 0.6861\n",
      "Epoch 6/80\n",
      "90/90 [==============================] - ETA: 0s - loss: 0.6233 - accuracy: 0.6958"
     ]
    },
    {
     "name": "stderr",
     "output_type": "stream",
     "text": [
      "WARNING:absl:Found untraced functions such as _update_step_xla, _jit_compiled_convolution_op, _jit_compiled_convolution_op, _jit_compiled_convolution_op while saving (showing 4 of 4). These functions will not be directly callable after loading.\n"
     ]
    },
    {
     "name": "stdout",
     "output_type": "stream",
     "text": [
      "INFO:tensorflow:Assets written to: models/test_baryon/simple_cdmfid_0p1_1_tot_ste_42/assets\n"
     ]
    },
    {
     "name": "stderr",
     "output_type": "stream",
     "text": [
      "INFO:tensorflow:Assets written to: models/test_baryon/simple_cdmfid_0p1_1_tot_ste_42/assets\n"
     ]
    },
    {
     "name": "stdout",
     "output_type": "stream",
     "text": [
      "90/90 [==============================] - 14s 161ms/step - loss: 0.6233 - accuracy: 0.6958 - val_loss: 0.5978 - val_accuracy: 0.7278\n",
      "Epoch 7/80\n",
      "90/90 [==============================] - 15s 165ms/step - loss: 0.6105 - accuracy: 0.7052 - val_loss: 0.5898 - val_accuracy: 0.7181\n",
      "Epoch 8/80\n",
      "90/90 [==============================] - ETA: 0s - loss: 0.6021 - accuracy: 0.7118"
     ]
    },
    {
     "name": "stderr",
     "output_type": "stream",
     "text": [
      "WARNING:absl:Found untraced functions such as _update_step_xla, _jit_compiled_convolution_op, _jit_compiled_convolution_op, _jit_compiled_convolution_op while saving (showing 4 of 4). These functions will not be directly callable after loading.\n"
     ]
    },
    {
     "name": "stdout",
     "output_type": "stream",
     "text": [
      "INFO:tensorflow:Assets written to: models/test_baryon/simple_cdmfid_0p1_1_tot_ste_42/assets\n"
     ]
    },
    {
     "name": "stderr",
     "output_type": "stream",
     "text": [
      "INFO:tensorflow:Assets written to: models/test_baryon/simple_cdmfid_0p1_1_tot_ste_42/assets\n"
     ]
    },
    {
     "name": "stdout",
     "output_type": "stream",
     "text": [
      "90/90 [==============================] - 19s 210ms/step - loss: 0.6021 - accuracy: 0.7118 - val_loss: 0.5802 - val_accuracy: 0.7417\n",
      "Epoch 9/80\n",
      "90/90 [==============================] - 16s 175ms/step - loss: 0.5840 - accuracy: 0.7167 - val_loss: 0.5759 - val_accuracy: 0.7264\n",
      "Epoch 10/80\n",
      "90/90 [==============================] - 15s 163ms/step - loss: 0.5929 - accuracy: 0.7156 - val_loss: 0.6824 - val_accuracy: 0.6556\n",
      "Epoch 11/80\n",
      "90/90 [==============================] - 15s 169ms/step - loss: 0.5965 - accuracy: 0.7188 - val_loss: 0.6071 - val_accuracy: 0.7153\n",
      "Epoch 12/80\n",
      "90/90 [==============================] - ETA: 0s - loss: 0.5719 - accuracy: 0.7302"
     ]
    },
    {
     "name": "stderr",
     "output_type": "stream",
     "text": [
      "WARNING:absl:Found untraced functions such as _update_step_xla, _jit_compiled_convolution_op, _jit_compiled_convolution_op, _jit_compiled_convolution_op while saving (showing 4 of 4). These functions will not be directly callable after loading.\n"
     ]
    },
    {
     "name": "stdout",
     "output_type": "stream",
     "text": [
      "INFO:tensorflow:Assets written to: models/test_baryon/simple_cdmfid_0p1_1_tot_ste_42/assets\n"
     ]
    },
    {
     "name": "stderr",
     "output_type": "stream",
     "text": [
      "INFO:tensorflow:Assets written to: models/test_baryon/simple_cdmfid_0p1_1_tot_ste_42/assets\n"
     ]
    },
    {
     "name": "stdout",
     "output_type": "stream",
     "text": [
      "90/90 [==============================] - 18s 197ms/step - loss: 0.5719 - accuracy: 0.7302 - val_loss: 0.5549 - val_accuracy: 0.7472\n",
      "Epoch 13/80\n",
      "90/90 [==============================] - 17s 185ms/step - loss: 0.5461 - accuracy: 0.7483 - val_loss: 0.5760 - val_accuracy: 0.7278\n",
      "Epoch 14/80\n",
      "90/90 [==============================] - 15s 166ms/step - loss: 0.5465 - accuracy: 0.7365 - val_loss: 0.5748 - val_accuracy: 0.7417\n",
      "Epoch 15/80\n",
      "90/90 [==============================] - 15s 170ms/step - loss: 0.5372 - accuracy: 0.7427 - val_loss: 0.5350 - val_accuracy: 0.7472\n",
      "Epoch 16/80\n",
      "90/90 [==============================] - ETA: 0s - loss: 0.5304 - accuracy: 0.7486"
     ]
    },
    {
     "name": "stderr",
     "output_type": "stream",
     "text": [
      "WARNING:absl:Found untraced functions such as _update_step_xla, _jit_compiled_convolution_op, _jit_compiled_convolution_op, _jit_compiled_convolution_op while saving (showing 4 of 4). These functions will not be directly callable after loading.\n"
     ]
    },
    {
     "name": "stdout",
     "output_type": "stream",
     "text": [
      "INFO:tensorflow:Assets written to: models/test_baryon/simple_cdmfid_0p1_1_tot_ste_42/assets\n"
     ]
    },
    {
     "name": "stderr",
     "output_type": "stream",
     "text": [
      "INFO:tensorflow:Assets written to: models/test_baryon/simple_cdmfid_0p1_1_tot_ste_42/assets\n"
     ]
    },
    {
     "name": "stdout",
     "output_type": "stream",
     "text": [
      "90/90 [==============================] - 19s 213ms/step - loss: 0.5304 - accuracy: 0.7486 - val_loss: 0.5410 - val_accuracy: 0.7542\n",
      "Epoch 17/80\n",
      "90/90 [==============================] - ETA: 0s - loss: 0.5366 - accuracy: 0.7542"
     ]
    },
    {
     "name": "stderr",
     "output_type": "stream",
     "text": [
      "WARNING:absl:Found untraced functions such as _update_step_xla, _jit_compiled_convolution_op, _jit_compiled_convolution_op, _jit_compiled_convolution_op while saving (showing 4 of 4). These functions will not be directly callable after loading.\n"
     ]
    },
    {
     "name": "stdout",
     "output_type": "stream",
     "text": [
      "INFO:tensorflow:Assets written to: models/test_baryon/simple_cdmfid_0p1_1_tot_ste_42/assets\n"
     ]
    },
    {
     "name": "stderr",
     "output_type": "stream",
     "text": [
      "INFO:tensorflow:Assets written to: models/test_baryon/simple_cdmfid_0p1_1_tot_ste_42/assets\n"
     ]
    },
    {
     "name": "stdout",
     "output_type": "stream",
     "text": [
      "90/90 [==============================] - 19s 215ms/step - loss: 0.5366 - accuracy: 0.7542 - val_loss: 0.5343 - val_accuracy: 0.7597\n",
      "Epoch 18/80\n",
      "90/90 [==============================] - 15s 167ms/step - loss: 0.5328 - accuracy: 0.7437 - val_loss: 0.5415 - val_accuracy: 0.7528\n",
      "Epoch 19/80\n",
      "90/90 [==============================] - 16s 180ms/step - loss: 0.5219 - accuracy: 0.7576 - val_loss: 0.5577 - val_accuracy: 0.7556\n",
      "Epoch 20/80\n",
      "90/90 [==============================] - ETA: 0s - loss: 0.5282 - accuracy: 0.7531"
     ]
    },
    {
     "name": "stderr",
     "output_type": "stream",
     "text": [
      "WARNING:absl:Found untraced functions such as _update_step_xla, _jit_compiled_convolution_op, _jit_compiled_convolution_op, _jit_compiled_convolution_op while saving (showing 4 of 4). These functions will not be directly callable after loading.\n"
     ]
    },
    {
     "name": "stdout",
     "output_type": "stream",
     "text": [
      "INFO:tensorflow:Assets written to: models/test_baryon/simple_cdmfid_0p1_1_tot_ste_42/assets\n"
     ]
    },
    {
     "name": "stderr",
     "output_type": "stream",
     "text": [
      "INFO:tensorflow:Assets written to: models/test_baryon/simple_cdmfid_0p1_1_tot_ste_42/assets\n"
     ]
    },
    {
     "name": "stdout",
     "output_type": "stream",
     "text": [
      "90/90 [==============================] - 19s 208ms/step - loss: 0.5282 - accuracy: 0.7531 - val_loss: 0.5214 - val_accuracy: 0.7625\n",
      "Epoch 21/80\n",
      "90/90 [==============================] - 15s 165ms/step - loss: 0.5185 - accuracy: 0.7545 - val_loss: 0.5536 - val_accuracy: 0.7347\n",
      "Epoch 22/80\n",
      "90/90 [==============================] - 15s 170ms/step - loss: 0.5223 - accuracy: 0.7549 - val_loss: 0.5791 - val_accuracy: 0.7319\n",
      "Epoch 23/80\n",
      "90/90 [==============================] - 15s 164ms/step - loss: 0.5174 - accuracy: 0.7608 - val_loss: 0.5236 - val_accuracy: 0.7625\n",
      "Epoch 24/80\n",
      "90/90 [==============================] - 15s 163ms/step - loss: 0.5106 - accuracy: 0.7594 - val_loss: 0.5405 - val_accuracy: 0.7417\n",
      "Epoch 25/80\n",
      "90/90 [==============================] - ETA: 0s - loss: 0.4974 - accuracy: 0.7677"
     ]
    },
    {
     "name": "stderr",
     "output_type": "stream",
     "text": [
      "WARNING:absl:Found untraced functions such as _update_step_xla, _jit_compiled_convolution_op, _jit_compiled_convolution_op, _jit_compiled_convolution_op while saving (showing 4 of 4). These functions will not be directly callable after loading.\n"
     ]
    },
    {
     "name": "stdout",
     "output_type": "stream",
     "text": [
      "INFO:tensorflow:Assets written to: models/test_baryon/simple_cdmfid_0p1_1_tot_ste_42/assets\n"
     ]
    },
    {
     "name": "stderr",
     "output_type": "stream",
     "text": [
      "INFO:tensorflow:Assets written to: models/test_baryon/simple_cdmfid_0p1_1_tot_ste_42/assets\n"
     ]
    },
    {
     "name": "stdout",
     "output_type": "stream",
     "text": [
      "90/90 [==============================] - 18s 201ms/step - loss: 0.4974 - accuracy: 0.7677 - val_loss: 0.5185 - val_accuracy: 0.7736\n",
      "Epoch 26/80\n",
      "90/90 [==============================] - 14s 158ms/step - loss: 0.5088 - accuracy: 0.7632 - val_loss: 0.5387 - val_accuracy: 0.7583\n",
      "Epoch 27/80\n",
      "90/90 [==============================] - 16s 174ms/step - loss: 0.5078 - accuracy: 0.7639 - val_loss: 0.5237 - val_accuracy: 0.7569\n",
      "Epoch 28/80\n",
      "90/90 [==============================] - 16s 172ms/step - loss: 0.5077 - accuracy: 0.7611 - val_loss: 0.5319 - val_accuracy: 0.7500\n",
      "Epoch 29/80\n",
      "90/90 [==============================] - 17s 187ms/step - loss: 0.4986 - accuracy: 0.7722 - val_loss: 0.5033 - val_accuracy: 0.7681\n",
      "Epoch 30/80\n",
      "90/90 [==============================] - 16s 176ms/step - loss: 0.5020 - accuracy: 0.7611 - val_loss: 0.5101 - val_accuracy: 0.7694\n",
      "Epoch 31/80\n",
      "90/90 [==============================] - 17s 185ms/step - loss: 0.5021 - accuracy: 0.7583 - val_loss: 0.5709 - val_accuracy: 0.7444\n",
      "Epoch 32/80\n",
      "90/90 [==============================] - 15s 171ms/step - loss: 0.4914 - accuracy: 0.7708 - val_loss: 0.5103 - val_accuracy: 0.7361\n",
      "Epoch 33/80\n",
      "90/90 [==============================] - 15s 162ms/step - loss: 0.4892 - accuracy: 0.7670 - val_loss: 0.5058 - val_accuracy: 0.7556\n",
      "Epoch 34/80\n",
      "90/90 [==============================] - 15s 168ms/step - loss: 0.4861 - accuracy: 0.7722 - val_loss: 0.5114 - val_accuracy: 0.7611\n",
      "Epoch 35/80\n",
      "90/90 [==============================] - 16s 173ms/step - loss: 0.4962 - accuracy: 0.7611 - val_loss: 0.5091 - val_accuracy: 0.7583\n",
      "Epoch 36/80\n",
      "90/90 [==============================] - 15s 168ms/step - loss: 0.4760 - accuracy: 0.7934 - val_loss: 0.5030 - val_accuracy: 0.7542\n",
      "Epoch 37/80\n",
      "90/90 [==============================] - ETA: 0s - loss: 0.4782 - accuracy: 0.7694"
     ]
    },
    {
     "name": "stderr",
     "output_type": "stream",
     "text": [
      "WARNING:absl:Found untraced functions such as _update_step_xla, _jit_compiled_convolution_op, _jit_compiled_convolution_op, _jit_compiled_convolution_op while saving (showing 4 of 4). These functions will not be directly callable after loading.\n"
     ]
    },
    {
     "name": "stdout",
     "output_type": "stream",
     "text": [
      "INFO:tensorflow:Assets written to: models/test_baryon/simple_cdmfid_0p1_1_tot_ste_42/assets\n"
     ]
    },
    {
     "name": "stderr",
     "output_type": "stream",
     "text": [
      "INFO:tensorflow:Assets written to: models/test_baryon/simple_cdmfid_0p1_1_tot_ste_42/assets\n"
     ]
    },
    {
     "name": "stdout",
     "output_type": "stream",
     "text": [
      "90/90 [==============================] - 19s 208ms/step - loss: 0.4782 - accuracy: 0.7694 - val_loss: 0.5056 - val_accuracy: 0.7750\n",
      "Epoch 38/80\n",
      "90/90 [==============================] - 15s 166ms/step - loss: 0.4837 - accuracy: 0.7708 - val_loss: 0.5005 - val_accuracy: 0.7750\n",
      "Epoch 39/80\n",
      "90/90 [==============================] - ETA: 0s - loss: 0.4751 - accuracy: 0.7764"
     ]
    },
    {
     "name": "stderr",
     "output_type": "stream",
     "text": [
      "WARNING:absl:Found untraced functions such as _update_step_xla, _jit_compiled_convolution_op, _jit_compiled_convolution_op, _jit_compiled_convolution_op while saving (showing 4 of 4). These functions will not be directly callable after loading.\n"
     ]
    },
    {
     "name": "stdout",
     "output_type": "stream",
     "text": [
      "INFO:tensorflow:Assets written to: models/test_baryon/simple_cdmfid_0p1_1_tot_ste_42/assets\n"
     ]
    },
    {
     "name": "stderr",
     "output_type": "stream",
     "text": [
      "INFO:tensorflow:Assets written to: models/test_baryon/simple_cdmfid_0p1_1_tot_ste_42/assets\n"
     ]
    },
    {
     "name": "stdout",
     "output_type": "stream",
     "text": [
      "90/90 [==============================] - 15s 168ms/step - loss: 0.4751 - accuracy: 0.7764 - val_loss: 0.4904 - val_accuracy: 0.7792\n",
      "Epoch 40/80\n",
      "90/90 [==============================] - 12s 133ms/step - loss: 0.4746 - accuracy: 0.7740 - val_loss: 0.5592 - val_accuracy: 0.7292\n",
      "Epoch 41/80\n",
      "90/90 [==============================] - 12s 128ms/step - loss: 0.4835 - accuracy: 0.7708 - val_loss: 0.5337 - val_accuracy: 0.7597\n",
      "Epoch 42/80\n",
      "90/90 [==============================] - 12s 128ms/step - loss: 0.4670 - accuracy: 0.7823 - val_loss: 0.5071 - val_accuracy: 0.7667\n",
      "Epoch 43/80\n",
      "90/90 [==============================] - 12s 133ms/step - loss: 0.4658 - accuracy: 0.7868 - val_loss: 0.5857 - val_accuracy: 0.7208\n",
      "Epoch 44/80\n",
      "90/90 [==============================] - 12s 136ms/step - loss: 0.4671 - accuracy: 0.7733 - val_loss: 0.5178 - val_accuracy: 0.7667\n",
      "Epoch 45/80\n",
      "90/90 [==============================] - 12s 133ms/step - loss: 0.4668 - accuracy: 0.7847 - val_loss: 0.5275 - val_accuracy: 0.7472\n",
      "Epoch 46/80\n",
      "90/90 [==============================] - 12s 131ms/step - loss: 0.4571 - accuracy: 0.7819 - val_loss: 0.4868 - val_accuracy: 0.7778\n",
      "Epoch 47/80\n",
      "90/90 [==============================] - ETA: 0s - loss: 0.4543 - accuracy: 0.7924"
     ]
    },
    {
     "name": "stderr",
     "output_type": "stream",
     "text": [
      "WARNING:absl:Found untraced functions such as _update_step_xla, _jit_compiled_convolution_op, _jit_compiled_convolution_op, _jit_compiled_convolution_op while saving (showing 4 of 4). These functions will not be directly callable after loading.\n"
     ]
    },
    {
     "name": "stdout",
     "output_type": "stream",
     "text": [
      "INFO:tensorflow:Assets written to: models/test_baryon/simple_cdmfid_0p1_1_tot_ste_42/assets\n"
     ]
    },
    {
     "name": "stderr",
     "output_type": "stream",
     "text": [
      "INFO:tensorflow:Assets written to: models/test_baryon/simple_cdmfid_0p1_1_tot_ste_42/assets\n"
     ]
    },
    {
     "name": "stdout",
     "output_type": "stream",
     "text": [
      "90/90 [==============================] - 13s 148ms/step - loss: 0.4543 - accuracy: 0.7924 - val_loss: 0.4871 - val_accuracy: 0.7861\n",
      "Epoch 48/80\n",
      "90/90 [==============================] - ETA: 0s - loss: 0.4681 - accuracy: 0.7792"
     ]
    },
    {
     "name": "stderr",
     "output_type": "stream",
     "text": [
      "WARNING:absl:Found untraced functions such as _update_step_xla, _jit_compiled_convolution_op, _jit_compiled_convolution_op, _jit_compiled_convolution_op while saving (showing 4 of 4). These functions will not be directly callable after loading.\n"
     ]
    },
    {
     "name": "stdout",
     "output_type": "stream",
     "text": [
      "INFO:tensorflow:Assets written to: models/test_baryon/simple_cdmfid_0p1_1_tot_ste_42/assets\n"
     ]
    },
    {
     "name": "stderr",
     "output_type": "stream",
     "text": [
      "INFO:tensorflow:Assets written to: models/test_baryon/simple_cdmfid_0p1_1_tot_ste_42/assets\n"
     ]
    },
    {
     "name": "stdout",
     "output_type": "stream",
     "text": [
      "90/90 [==============================] - 11s 118ms/step - loss: 0.4681 - accuracy: 0.7792 - val_loss: 0.5008 - val_accuracy: 0.7875\n",
      "Epoch 49/80\n",
      "90/90 [==============================] - 9s 102ms/step - loss: 0.4496 - accuracy: 0.7868 - val_loss: 0.4820 - val_accuracy: 0.7819\n",
      "Epoch 50/80\n",
      "90/90 [==============================] - 9s 102ms/step - loss: 0.4477 - accuracy: 0.7889 - val_loss: 0.5087 - val_accuracy: 0.7778\n",
      "Epoch 51/80\n",
      "90/90 [==============================] - 10s 106ms/step - loss: 0.4693 - accuracy: 0.7851 - val_loss: 0.4850 - val_accuracy: 0.7847\n",
      "Epoch 52/80\n",
      "90/90 [==============================] - 9s 105ms/step - loss: 0.4552 - accuracy: 0.7878 - val_loss: 0.4954 - val_accuracy: 0.7583\n",
      "Epoch 53/80\n",
      "90/90 [==============================] - 10s 111ms/step - loss: 0.4626 - accuracy: 0.7875 - val_loss: 0.5025 - val_accuracy: 0.7569\n",
      "Epoch 54/80\n",
      "90/90 [==============================] - 9s 104ms/step - loss: 0.4549 - accuracy: 0.7951 - val_loss: 0.4690 - val_accuracy: 0.7722\n",
      "Epoch 55/80\n",
      "90/90 [==============================] - 10s 106ms/step - loss: 0.4315 - accuracy: 0.7986 - val_loss: 0.5159 - val_accuracy: 0.7597\n",
      "Epoch 56/80\n",
      "90/90 [==============================] - 9s 102ms/step - loss: 0.4506 - accuracy: 0.7910 - val_loss: 0.4991 - val_accuracy: 0.7778\n",
      "Epoch 57/80\n",
      "90/90 [==============================] - ETA: 0s - loss: 0.4513 - accuracy: 0.7840"
     ]
    },
    {
     "name": "stderr",
     "output_type": "stream",
     "text": [
      "WARNING:absl:Found untraced functions such as _update_step_xla, _jit_compiled_convolution_op, _jit_compiled_convolution_op, _jit_compiled_convolution_op while saving (showing 4 of 4). These functions will not be directly callable after loading.\n"
     ]
    },
    {
     "name": "stdout",
     "output_type": "stream",
     "text": [
      "INFO:tensorflow:Assets written to: models/test_baryon/simple_cdmfid_0p1_1_tot_ste_42/assets\n"
     ]
    },
    {
     "name": "stderr",
     "output_type": "stream",
     "text": [
      "INFO:tensorflow:Assets written to: models/test_baryon/simple_cdmfid_0p1_1_tot_ste_42/assets\n"
     ]
    },
    {
     "name": "stdout",
     "output_type": "stream",
     "text": [
      "90/90 [==============================] - 11s 120ms/step - loss: 0.4513 - accuracy: 0.7840 - val_loss: 0.4660 - val_accuracy: 0.7889\n",
      "Epoch 58/80\n",
      "90/90 [==============================] - 9s 105ms/step - loss: 0.4499 - accuracy: 0.7847 - val_loss: 0.4987 - val_accuracy: 0.7708\n",
      "Epoch 59/80\n",
      "90/90 [==============================] - 10s 105ms/step - loss: 0.4399 - accuracy: 0.8003 - val_loss: 0.5048 - val_accuracy: 0.7667\n",
      "Epoch 60/80\n",
      "90/90 [==============================] - 9s 104ms/step - loss: 0.4278 - accuracy: 0.8024 - val_loss: 0.4934 - val_accuracy: 0.7722\n",
      "Epoch 61/80\n",
      "90/90 [==============================] - 9s 102ms/step - loss: 0.4309 - accuracy: 0.8010 - val_loss: 0.4766 - val_accuracy: 0.7792\n",
      "Epoch 62/80\n",
      "90/90 [==============================] - 9s 103ms/step - loss: 0.4398 - accuracy: 0.8038 - val_loss: 0.4837 - val_accuracy: 0.7792\n",
      "Epoch 63/80\n",
      "90/90 [==============================] - 9s 103ms/step - loss: 0.4221 - accuracy: 0.8069 - val_loss: 0.4855 - val_accuracy: 0.7750\n",
      "Epoch 64/80\n",
      "90/90 [==============================] - ETA: 0s - loss: 0.4556 - accuracy: 0.7868"
     ]
    },
    {
     "name": "stderr",
     "output_type": "stream",
     "text": [
      "WARNING:absl:Found untraced functions such as _update_step_xla, _jit_compiled_convolution_op, _jit_compiled_convolution_op, _jit_compiled_convolution_op while saving (showing 4 of 4). These functions will not be directly callable after loading.\n"
     ]
    },
    {
     "name": "stdout",
     "output_type": "stream",
     "text": [
      "INFO:tensorflow:Assets written to: models/test_baryon/simple_cdmfid_0p1_1_tot_ste_42/assets\n"
     ]
    },
    {
     "name": "stderr",
     "output_type": "stream",
     "text": [
      "INFO:tensorflow:Assets written to: models/test_baryon/simple_cdmfid_0p1_1_tot_ste_42/assets\n"
     ]
    },
    {
     "name": "stdout",
     "output_type": "stream",
     "text": [
      "90/90 [==============================] - 10s 115ms/step - loss: 0.4556 - accuracy: 0.7868 - val_loss: 0.4735 - val_accuracy: 0.8014\n",
      "Epoch 65/80\n",
      "90/90 [==============================] - 9s 103ms/step - loss: 0.4285 - accuracy: 0.7951 - val_loss: 0.4925 - val_accuracy: 0.7778\n",
      "Epoch 66/80\n",
      "90/90 [==============================] - 9s 102ms/step - loss: 0.4276 - accuracy: 0.7920 - val_loss: 0.4971 - val_accuracy: 0.7694\n",
      "Epoch 67/80\n",
      "90/90 [==============================] - 9s 102ms/step - loss: 0.4348 - accuracy: 0.8014 - val_loss: 0.4811 - val_accuracy: 0.7917\n",
      "Epoch 68/80\n",
      "90/90 [==============================] - 9s 105ms/step - loss: 0.4229 - accuracy: 0.8000 - val_loss: 0.4854 - val_accuracy: 0.7833\n",
      "Epoch 69/80\n",
      "90/90 [==============================] - 9s 101ms/step - loss: 0.4197 - accuracy: 0.8035 - val_loss: 0.4890 - val_accuracy: 0.7736\n",
      "Epoch 70/80\n",
      "90/90 [==============================] - 10s 105ms/step - loss: 0.4226 - accuracy: 0.7997 - val_loss: 0.4908 - val_accuracy: 0.7764\n",
      "Epoch 71/80\n",
      "90/90 [==============================] - 9s 100ms/step - loss: 0.4126 - accuracy: 0.8111 - val_loss: 0.5119 - val_accuracy: 0.7889\n",
      "Epoch 72/80\n",
      "90/90 [==============================] - 9s 102ms/step - loss: 0.4227 - accuracy: 0.8045 - val_loss: 0.4888 - val_accuracy: 0.7639\n",
      "Epoch 73/80\n",
      "90/90 [==============================] - 9s 99ms/step - loss: 0.4247 - accuracy: 0.7955 - val_loss: 0.4874 - val_accuracy: 0.7694\n",
      "Epoch 74/80\n",
      "90/90 [==============================] - 9s 104ms/step - loss: 0.4221 - accuracy: 0.8003 - val_loss: 0.4849 - val_accuracy: 0.7750\n",
      "Epoch 75/80\n",
      "90/90 [==============================] - 10s 109ms/step - loss: 0.4265 - accuracy: 0.8003 - val_loss: 0.4785 - val_accuracy: 0.7806\n",
      "Epoch 76/80\n",
      "90/90 [==============================] - 10s 110ms/step - loss: 0.4124 - accuracy: 0.8090 - val_loss: 0.4906 - val_accuracy: 0.7736\n",
      "Epoch 77/80\n",
      "90/90 [==============================] - 10s 108ms/step - loss: 0.4171 - accuracy: 0.8094 - val_loss: 0.5078 - val_accuracy: 0.7694\n",
      "Epoch 78/80\n",
      "90/90 [==============================] - 9s 105ms/step - loss: 0.4029 - accuracy: 0.8142 - val_loss: 0.4884 - val_accuracy: 0.7597\n",
      "Epoch 79/80\n",
      "90/90 [==============================] - 9s 104ms/step - loss: 0.3977 - accuracy: 0.8125 - val_loss: 0.4946 - val_accuracy: 0.7736\n",
      "Epoch 80/80\n",
      "90/90 [==============================] - 9s 102ms/step - loss: 0.4297 - accuracy: 0.8035 - val_loss: 0.4847 - val_accuracy: 0.7764\n"
     ]
    }
   ],
   "source": [
    "train, test = getGenerators(augment_data=True, simulationNames=['CDM','SIDM0.1','SIDM1'], \n",
    "                                                      channels=['total','stellar'], \n",
    "                                                      allDataFile='pickles/binned_data_20.pkl')\n",
    "checkpoint_filepath = 'models/test_baryon/%s_cdmfid_0p1_1_tot_ste_%i' % (model_name, random_state)\n",
    "\n",
    "num_classes = len(np.unique(test[1]))\n",
    "fiducial_model = get_best_model( train, test, model_name=model_name, checkpoint_filepath=checkpoint_filepath)"
   ]
  },
  {
   "cell_type": "code",
   "execution_count": null,
   "metadata": {
    "tags": []
   },
   "outputs": [],
   "source": [
    "y_pred = predict( test[0], [fiducial_model] )\n",
    "plot_confusion_matrix( test[1], y_pred)"
   ]
  },
  {
   "cell_type": "markdown",
   "metadata": {
    "jp-MarkdownHeadingCollapsed": true,
    "tags": []
   },
   "source": [
    "#### 2. Get the fiducial for total and stellar for CDM fiducial, hi and low and DM (all_cdm_plus_dm )"
   ]
  },
  {
   "cell_type": "code",
   "execution_count": 35,
   "metadata": {
    "tags": []
   },
   "outputs": [
    {
     "name": "stderr",
     "output_type": "stream",
     "text": [
      "/Users/davidharvey/Work/darkCNN/lib/python3.10/site-packages/keras/preprocessing/image.py:766: UserWarning: NumpyArrayIterator is set to use the data format convention \"channels_last\" (channels on axis 3), i.e. expected either 1, 3, or 4 channels on axis 3. However, it was passed an array with shape (4800, 100, 100, 2) (2 channels).\n",
      "  warnings.warn(\n"
     ]
    },
    {
     "name": "stdout",
     "output_type": "stream",
     "text": [
      "Epoch 1/80\n",
      "150/150 [==============================] - ETA: 0s - loss: 1.4579 - accuracy: 0.3310"
     ]
    },
    {
     "name": "stderr",
     "output_type": "stream",
     "text": [
      "WARNING:absl:Found untraced functions such as _update_step_xla, _jit_compiled_convolution_op, _jit_compiled_convolution_op, _jit_compiled_convolution_op while saving (showing 4 of 4). These functions will not be directly callable after loading.\n"
     ]
    },
    {
     "name": "stdout",
     "output_type": "stream",
     "text": [
      "INFO:tensorflow:Assets written to: models/test_baryon/simple_cdmall_0p1_1_tot_ste_42/assets\n"
     ]
    },
    {
     "name": "stderr",
     "output_type": "stream",
     "text": [
      "INFO:tensorflow:Assets written to: models/test_baryon/simple_cdmall_0p1_1_tot_ste_42/assets\n"
     ]
    },
    {
     "name": "stdout",
     "output_type": "stream",
     "text": [
      "150/150 [==============================] - 18s 115ms/step - loss: 1.4579 - accuracy: 0.3310 - val_loss: 1.4041 - val_accuracy: 0.3750\n",
      "Epoch 2/80\n",
      "150/150 [==============================] - ETA: 0s - loss: 1.2903 - accuracy: 0.3998"
     ]
    },
    {
     "name": "stderr",
     "output_type": "stream",
     "text": [
      "WARNING:absl:Found untraced functions such as _update_step_xla, _jit_compiled_convolution_op, _jit_compiled_convolution_op, _jit_compiled_convolution_op while saving (showing 4 of 4). These functions will not be directly callable after loading.\n"
     ]
    },
    {
     "name": "stdout",
     "output_type": "stream",
     "text": [
      "INFO:tensorflow:Assets written to: models/test_baryon/simple_cdmall_0p1_1_tot_ste_42/assets\n"
     ]
    },
    {
     "name": "stderr",
     "output_type": "stream",
     "text": [
      "INFO:tensorflow:Assets written to: models/test_baryon/simple_cdmall_0p1_1_tot_ste_42/assets\n"
     ]
    },
    {
     "name": "stdout",
     "output_type": "stream",
     "text": [
      "150/150 [==============================] - 17s 111ms/step - loss: 1.2903 - accuracy: 0.3998 - val_loss: 1.2693 - val_accuracy: 0.3817\n",
      "Epoch 3/80\n",
      "150/150 [==============================] - ETA: 0s - loss: 1.2295 - accuracy: 0.4212"
     ]
    },
    {
     "name": "stderr",
     "output_type": "stream",
     "text": [
      "WARNING:absl:Found untraced functions such as _update_step_xla, _jit_compiled_convolution_op, _jit_compiled_convolution_op, _jit_compiled_convolution_op while saving (showing 4 of 4). These functions will not be directly callable after loading.\n"
     ]
    },
    {
     "name": "stdout",
     "output_type": "stream",
     "text": [
      "INFO:tensorflow:Assets written to: models/test_baryon/simple_cdmall_0p1_1_tot_ste_42/assets\n"
     ]
    },
    {
     "name": "stderr",
     "output_type": "stream",
     "text": [
      "INFO:tensorflow:Assets written to: models/test_baryon/simple_cdmall_0p1_1_tot_ste_42/assets\n"
     ]
    },
    {
     "name": "stdout",
     "output_type": "stream",
     "text": [
      "150/150 [==============================] - 14s 95ms/step - loss: 1.2295 - accuracy: 0.4212 - val_loss: 1.2634 - val_accuracy: 0.4050\n",
      "Epoch 4/80\n",
      "150/150 [==============================] - ETA: 0s - loss: 1.1965 - accuracy: 0.4400"
     ]
    },
    {
     "name": "stderr",
     "output_type": "stream",
     "text": [
      "WARNING:absl:Found untraced functions such as _update_step_xla, _jit_compiled_convolution_op, _jit_compiled_convolution_op, _jit_compiled_convolution_op while saving (showing 4 of 4). These functions will not be directly callable after loading.\n"
     ]
    },
    {
     "name": "stdout",
     "output_type": "stream",
     "text": [
      "INFO:tensorflow:Assets written to: models/test_baryon/simple_cdmall_0p1_1_tot_ste_42/assets\n"
     ]
    },
    {
     "name": "stderr",
     "output_type": "stream",
     "text": [
      "INFO:tensorflow:Assets written to: models/test_baryon/simple_cdmall_0p1_1_tot_ste_42/assets\n"
     ]
    },
    {
     "name": "stdout",
     "output_type": "stream",
     "text": [
      "150/150 [==============================] - 17s 114ms/step - loss: 1.1965 - accuracy: 0.4400 - val_loss: 1.1813 - val_accuracy: 0.4333\n",
      "Epoch 5/80\n",
      "150/150 [==============================] - ETA: 0s - loss: 1.1683 - accuracy: 0.4508"
     ]
    },
    {
     "name": "stderr",
     "output_type": "stream",
     "text": [
      "WARNING:absl:Found untraced functions such as _update_step_xla, _jit_compiled_convolution_op, _jit_compiled_convolution_op, _jit_compiled_convolution_op while saving (showing 4 of 4). These functions will not be directly callable after loading.\n"
     ]
    },
    {
     "name": "stdout",
     "output_type": "stream",
     "text": [
      "INFO:tensorflow:Assets written to: models/test_baryon/simple_cdmall_0p1_1_tot_ste_42/assets\n"
     ]
    },
    {
     "name": "stderr",
     "output_type": "stream",
     "text": [
      "INFO:tensorflow:Assets written to: models/test_baryon/simple_cdmall_0p1_1_tot_ste_42/assets\n"
     ]
    },
    {
     "name": "stdout",
     "output_type": "stream",
     "text": [
      "150/150 [==============================] - 17s 115ms/step - loss: 1.1683 - accuracy: 0.4508 - val_loss: 1.1793 - val_accuracy: 0.4475\n",
      "Epoch 6/80\n",
      "150/150 [==============================] - 12s 81ms/step - loss: 1.1566 - accuracy: 0.4640 - val_loss: 1.1716 - val_accuracy: 0.4442\n",
      "Epoch 7/80\n",
      "150/150 [==============================] - ETA: 0s - loss: 1.1566 - accuracy: 0.4590"
     ]
    },
    {
     "name": "stderr",
     "output_type": "stream",
     "text": [
      "WARNING:absl:Found untraced functions such as _update_step_xla, _jit_compiled_convolution_op, _jit_compiled_convolution_op, _jit_compiled_convolution_op while saving (showing 4 of 4). These functions will not be directly callable after loading.\n"
     ]
    },
    {
     "name": "stdout",
     "output_type": "stream",
     "text": [
      "INFO:tensorflow:Assets written to: models/test_baryon/simple_cdmall_0p1_1_tot_ste_42/assets\n"
     ]
    },
    {
     "name": "stderr",
     "output_type": "stream",
     "text": [
      "INFO:tensorflow:Assets written to: models/test_baryon/simple_cdmall_0p1_1_tot_ste_42/assets\n"
     ]
    },
    {
     "name": "stdout",
     "output_type": "stream",
     "text": [
      "150/150 [==============================] - 15s 103ms/step - loss: 1.1566 - accuracy: 0.4590 - val_loss: 1.1641 - val_accuracy: 0.4542\n",
      "Epoch 8/80\n",
      "150/150 [==============================] - 16s 104ms/step - loss: 1.1410 - accuracy: 0.4629 - val_loss: 1.1670 - val_accuracy: 0.4225\n",
      "Epoch 9/80\n",
      "150/150 [==============================] - ETA: 0s - loss: 1.1340 - accuracy: 0.4688"
     ]
    },
    {
     "name": "stderr",
     "output_type": "stream",
     "text": [
      "WARNING:absl:Found untraced functions such as _update_step_xla, _jit_compiled_convolution_op, _jit_compiled_convolution_op, _jit_compiled_convolution_op while saving (showing 4 of 4). These functions will not be directly callable after loading.\n"
     ]
    },
    {
     "name": "stdout",
     "output_type": "stream",
     "text": [
      "INFO:tensorflow:Assets written to: models/test_baryon/simple_cdmall_0p1_1_tot_ste_42/assets\n"
     ]
    },
    {
     "name": "stderr",
     "output_type": "stream",
     "text": [
      "INFO:tensorflow:Assets written to: models/test_baryon/simple_cdmall_0p1_1_tot_ste_42/assets\n"
     ]
    },
    {
     "name": "stdout",
     "output_type": "stream",
     "text": [
      "150/150 [==============================] - 16s 104ms/step - loss: 1.1340 - accuracy: 0.4688 - val_loss: 1.1649 - val_accuracy: 0.4633\n",
      "Epoch 10/80\n",
      "150/150 [==============================] - 12s 80ms/step - loss: 1.1329 - accuracy: 0.4779 - val_loss: 1.1883 - val_accuracy: 0.4375\n",
      "Epoch 11/80\n",
      "150/150 [==============================] - 15s 103ms/step - loss: 1.1196 - accuracy: 0.4683 - val_loss: 1.1292 - val_accuracy: 0.4592\n",
      "Epoch 12/80\n",
      "150/150 [==============================] - 15s 102ms/step - loss: 1.1140 - accuracy: 0.4794 - val_loss: 1.2191 - val_accuracy: 0.4508\n",
      "Epoch 13/80\n",
      "150/150 [==============================] - ETA: 0s - loss: 1.1053 - accuracy: 0.4852"
     ]
    },
    {
     "name": "stderr",
     "output_type": "stream",
     "text": [
      "WARNING:absl:Found untraced functions such as _update_step_xla, _jit_compiled_convolution_op, _jit_compiled_convolution_op, _jit_compiled_convolution_op while saving (showing 4 of 4). These functions will not be directly callable after loading.\n"
     ]
    },
    {
     "name": "stdout",
     "output_type": "stream",
     "text": [
      "INFO:tensorflow:Assets written to: models/test_baryon/simple_cdmall_0p1_1_tot_ste_42/assets\n"
     ]
    },
    {
     "name": "stderr",
     "output_type": "stream",
     "text": [
      "INFO:tensorflow:Assets written to: models/test_baryon/simple_cdmall_0p1_1_tot_ste_42/assets\n"
     ]
    },
    {
     "name": "stdout",
     "output_type": "stream",
     "text": [
      "150/150 [==============================] - 14s 94ms/step - loss: 1.1053 - accuracy: 0.4852 - val_loss: 1.1292 - val_accuracy: 0.4867\n",
      "Epoch 14/80\n",
      "150/150 [==============================] - ETA: 0s - loss: 1.1011 - accuracy: 0.4885"
     ]
    },
    {
     "name": "stderr",
     "output_type": "stream",
     "text": [
      "WARNING:absl:Found untraced functions such as _update_step_xla, _jit_compiled_convolution_op, _jit_compiled_convolution_op, _jit_compiled_convolution_op while saving (showing 4 of 4). These functions will not be directly callable after loading.\n"
     ]
    },
    {
     "name": "stdout",
     "output_type": "stream",
     "text": [
      "INFO:tensorflow:Assets written to: models/test_baryon/simple_cdmall_0p1_1_tot_ste_42/assets\n"
     ]
    },
    {
     "name": "stderr",
     "output_type": "stream",
     "text": [
      "INFO:tensorflow:Assets written to: models/test_baryon/simple_cdmall_0p1_1_tot_ste_42/assets\n"
     ]
    },
    {
     "name": "stdout",
     "output_type": "stream",
     "text": [
      "150/150 [==============================] - 15s 98ms/step - loss: 1.1011 - accuracy: 0.4885 - val_loss: 1.1104 - val_accuracy: 0.4900\n",
      "Epoch 15/80\n",
      "150/150 [==============================] - 16s 108ms/step - loss: 1.0996 - accuracy: 0.4915 - val_loss: 1.1196 - val_accuracy: 0.4758\n",
      "Epoch 16/80\n",
      "150/150 [==============================] - 15s 102ms/step - loss: 1.0956 - accuracy: 0.4917 - val_loss: 1.1157 - val_accuracy: 0.4775\n",
      "Epoch 17/80\n",
      "150/150 [==============================] - 16s 104ms/step - loss: 1.0873 - accuracy: 0.4921 - val_loss: 1.1132 - val_accuracy: 0.4708\n",
      "Epoch 18/80\n",
      "150/150 [==============================] - 15s 101ms/step - loss: 1.0871 - accuracy: 0.4908 - val_loss: 1.1158 - val_accuracy: 0.4867\n",
      "Epoch 19/80\n",
      "150/150 [==============================] - 15s 103ms/step - loss: 1.0836 - accuracy: 0.4996 - val_loss: 1.1268 - val_accuracy: 0.4858\n",
      "Epoch 20/80\n",
      "150/150 [==============================] - 16s 104ms/step - loss: 1.0820 - accuracy: 0.4898 - val_loss: 1.1312 - val_accuracy: 0.4567\n",
      "Epoch 21/80\n",
      "150/150 [==============================] - 15s 97ms/step - loss: 1.0799 - accuracy: 0.4990 - val_loss: 1.1178 - val_accuracy: 0.4700\n",
      "Epoch 22/80\n",
      "150/150 [==============================] - 12s 80ms/step - loss: 1.0770 - accuracy: 0.4981 - val_loss: 1.0880 - val_accuracy: 0.4833\n",
      "Epoch 23/80\n",
      "150/150 [==============================] - ETA: 0s - loss: 1.0733 - accuracy: 0.5004"
     ]
    },
    {
     "name": "stderr",
     "output_type": "stream",
     "text": [
      "WARNING:absl:Found untraced functions such as _update_step_xla, _jit_compiled_convolution_op, _jit_compiled_convolution_op, _jit_compiled_convolution_op while saving (showing 4 of 4). These functions will not be directly callable after loading.\n"
     ]
    },
    {
     "name": "stdout",
     "output_type": "stream",
     "text": [
      "INFO:tensorflow:Assets written to: models/test_baryon/simple_cdmall_0p1_1_tot_ste_42/assets\n"
     ]
    },
    {
     "name": "stderr",
     "output_type": "stream",
     "text": [
      "INFO:tensorflow:Assets written to: models/test_baryon/simple_cdmall_0p1_1_tot_ste_42/assets\n"
     ]
    },
    {
     "name": "stdout",
     "output_type": "stream",
     "text": [
      "150/150 [==============================] - 17s 111ms/step - loss: 1.0733 - accuracy: 0.5004 - val_loss: 1.0850 - val_accuracy: 0.4950\n",
      "Epoch 24/80\n",
      "150/150 [==============================] - 16s 105ms/step - loss: 1.0704 - accuracy: 0.5040 - val_loss: 1.0956 - val_accuracy: 0.4850\n",
      "Epoch 25/80\n",
      "150/150 [==============================] - 16s 104ms/step - loss: 1.0651 - accuracy: 0.5138 - val_loss: 1.1118 - val_accuracy: 0.4800\n",
      "Epoch 26/80\n",
      "150/150 [==============================] - 16s 105ms/step - loss: 1.0636 - accuracy: 0.5110 - val_loss: 1.0858 - val_accuracy: 0.4950\n",
      "Epoch 27/80\n",
      "150/150 [==============================] - 16s 105ms/step - loss: 1.0532 - accuracy: 0.5113 - val_loss: 1.0915 - val_accuracy: 0.4775\n",
      "Epoch 28/80\n",
      "150/150 [==============================] - 16s 104ms/step - loss: 1.0610 - accuracy: 0.5060 - val_loss: 1.0828 - val_accuracy: 0.4925\n",
      "Epoch 29/80\n",
      "150/150 [==============================] - ETA: 0s - loss: 1.0529 - accuracy: 0.5138"
     ]
    },
    {
     "name": "stderr",
     "output_type": "stream",
     "text": [
      "WARNING:absl:Found untraced functions such as _update_step_xla, _jit_compiled_convolution_op, _jit_compiled_convolution_op, _jit_compiled_convolution_op while saving (showing 4 of 4). These functions will not be directly callable after loading.\n"
     ]
    },
    {
     "name": "stdout",
     "output_type": "stream",
     "text": [
      "INFO:tensorflow:Assets written to: models/test_baryon/simple_cdmall_0p1_1_tot_ste_42/assets\n"
     ]
    },
    {
     "name": "stderr",
     "output_type": "stream",
     "text": [
      "INFO:tensorflow:Assets written to: models/test_baryon/simple_cdmall_0p1_1_tot_ste_42/assets\n"
     ]
    },
    {
     "name": "stdout",
     "output_type": "stream",
     "text": [
      "150/150 [==============================] - 17s 116ms/step - loss: 1.0529 - accuracy: 0.5138 - val_loss: 1.0833 - val_accuracy: 0.5000\n",
      "Epoch 30/80\n",
      "150/150 [==============================] - 12s 80ms/step - loss: 1.0504 - accuracy: 0.5169 - val_loss: 1.0762 - val_accuracy: 0.4942\n",
      "Epoch 31/80\n",
      "150/150 [==============================] - 15s 97ms/step - loss: 1.0557 - accuracy: 0.5085 - val_loss: 1.0836 - val_accuracy: 0.4917\n",
      "Epoch 32/80\n",
      "150/150 [==============================] - ETA: 0s - loss: 1.0404 - accuracy: 0.5175"
     ]
    },
    {
     "name": "stderr",
     "output_type": "stream",
     "text": [
      "WARNING:absl:Found untraced functions such as _update_step_xla, _jit_compiled_convolution_op, _jit_compiled_convolution_op, _jit_compiled_convolution_op while saving (showing 4 of 4). These functions will not be directly callable after loading.\n"
     ]
    },
    {
     "name": "stdout",
     "output_type": "stream",
     "text": [
      "INFO:tensorflow:Assets written to: models/test_baryon/simple_cdmall_0p1_1_tot_ste_42/assets\n"
     ]
    },
    {
     "name": "stderr",
     "output_type": "stream",
     "text": [
      "INFO:tensorflow:Assets written to: models/test_baryon/simple_cdmall_0p1_1_tot_ste_42/assets\n"
     ]
    },
    {
     "name": "stdout",
     "output_type": "stream",
     "text": [
      "150/150 [==============================] - 17s 114ms/step - loss: 1.0404 - accuracy: 0.5175 - val_loss: 1.0667 - val_accuracy: 0.5033\n",
      "Epoch 33/80\n",
      "150/150 [==============================] - 16s 106ms/step - loss: 1.0401 - accuracy: 0.5208 - val_loss: 1.0758 - val_accuracy: 0.4908\n",
      "Epoch 34/80\n",
      "150/150 [==============================] - 16s 105ms/step - loss: 1.0416 - accuracy: 0.5177 - val_loss: 1.0854 - val_accuracy: 0.4900\n",
      "Epoch 35/80\n",
      "150/150 [==============================] - 16s 108ms/step - loss: 1.0387 - accuracy: 0.5217 - val_loss: 1.0891 - val_accuracy: 0.4725\n",
      "Epoch 36/80\n",
      "150/150 [==============================] - 17s 111ms/step - loss: 1.0289 - accuracy: 0.5225 - val_loss: 1.0914 - val_accuracy: 0.4783\n",
      "Epoch 37/80\n",
      "150/150 [==============================] - 16s 107ms/step - loss: 1.0367 - accuracy: 0.5196 - val_loss: 1.0925 - val_accuracy: 0.4825\n",
      "Epoch 38/80\n",
      "150/150 [==============================] - 15s 103ms/step - loss: 1.0350 - accuracy: 0.5227 - val_loss: 1.0948 - val_accuracy: 0.4833\n",
      "Epoch 39/80\n",
      "150/150 [==============================] - ETA: 0s - loss: 1.0194 - accuracy: 0.5331"
     ]
    },
    {
     "name": "stderr",
     "output_type": "stream",
     "text": [
      "WARNING:absl:Found untraced functions such as _update_step_xla, _jit_compiled_convolution_op, _jit_compiled_convolution_op, _jit_compiled_convolution_op while saving (showing 4 of 4). These functions will not be directly callable after loading.\n"
     ]
    },
    {
     "name": "stdout",
     "output_type": "stream",
     "text": [
      "INFO:tensorflow:Assets written to: models/test_baryon/simple_cdmall_0p1_1_tot_ste_42/assets\n"
     ]
    },
    {
     "name": "stderr",
     "output_type": "stream",
     "text": [
      "INFO:tensorflow:Assets written to: models/test_baryon/simple_cdmall_0p1_1_tot_ste_42/assets\n"
     ]
    },
    {
     "name": "stdout",
     "output_type": "stream",
     "text": [
      "150/150 [==============================] - 18s 117ms/step - loss: 1.0194 - accuracy: 0.5331 - val_loss: 1.0737 - val_accuracy: 0.5150\n",
      "Epoch 40/80\n",
      "150/150 [==============================] - 14s 94ms/step - loss: 1.0303 - accuracy: 0.5219 - val_loss: 1.0836 - val_accuracy: 0.4917\n",
      "Epoch 41/80\n",
      "150/150 [==============================] - 13s 85ms/step - loss: 1.0248 - accuracy: 0.5346 - val_loss: 1.0759 - val_accuracy: 0.5033\n",
      "Epoch 42/80\n",
      "150/150 [==============================] - 16s 107ms/step - loss: 1.0135 - accuracy: 0.5348 - val_loss: 1.0720 - val_accuracy: 0.4883\n",
      "Epoch 43/80\n",
      "150/150 [==============================] - 16s 108ms/step - loss: 1.0243 - accuracy: 0.5325 - val_loss: 1.0851 - val_accuracy: 0.4925\n",
      "Epoch 44/80\n",
      "150/150 [==============================] - 16s 106ms/step - loss: 1.0047 - accuracy: 0.5433 - val_loss: 1.0793 - val_accuracy: 0.5058\n",
      "Epoch 45/80\n",
      "150/150 [==============================] - 16s 109ms/step - loss: 1.0132 - accuracy: 0.5371 - val_loss: 1.0587 - val_accuracy: 0.5042\n",
      "Epoch 46/80\n",
      "150/150 [==============================] - 16s 106ms/step - loss: 1.0141 - accuracy: 0.5354 - val_loss: 1.0792 - val_accuracy: 0.4750\n",
      "Epoch 47/80\n",
      "150/150 [==============================] - 16s 108ms/step - loss: 1.0072 - accuracy: 0.5442 - val_loss: 1.0675 - val_accuracy: 0.4875\n",
      "Epoch 48/80\n",
      "150/150 [==============================] - 15s 101ms/step - loss: 1.0072 - accuracy: 0.5423 - val_loss: 1.0744 - val_accuracy: 0.4908\n",
      "Epoch 49/80\n",
      "150/150 [==============================] - 12s 82ms/step - loss: 0.9951 - accuracy: 0.5419 - val_loss: 1.0656 - val_accuracy: 0.4842\n",
      "Epoch 50/80\n",
      "150/150 [==============================] - 16s 106ms/step - loss: 0.9997 - accuracy: 0.5448 - val_loss: 1.0668 - val_accuracy: 0.4867\n",
      "Epoch 51/80\n",
      "150/150 [==============================] - 16s 106ms/step - loss: 0.9940 - accuracy: 0.5423 - val_loss: 1.0909 - val_accuracy: 0.4933\n",
      "Epoch 52/80\n",
      "150/150 [==============================] - 16s 106ms/step - loss: 0.9965 - accuracy: 0.5444 - val_loss: 1.0699 - val_accuracy: 0.4942\n",
      "Epoch 53/80\n",
      "150/150 [==============================] - 16s 104ms/step - loss: 0.9958 - accuracy: 0.5500 - val_loss: 1.0569 - val_accuracy: 0.5008\n",
      "Epoch 54/80\n",
      "150/150 [==============================] - 16s 107ms/step - loss: 1.0055 - accuracy: 0.5406 - val_loss: 1.1012 - val_accuracy: 0.4808\n",
      "Epoch 55/80\n",
      "150/150 [==============================] - 16s 109ms/step - loss: 0.9971 - accuracy: 0.5454 - val_loss: 1.0671 - val_accuracy: 0.4975\n",
      "Epoch 56/80\n",
      "150/150 [==============================] - 16s 108ms/step - loss: 0.9861 - accuracy: 0.5487 - val_loss: 1.0813 - val_accuracy: 0.4975\n",
      "Epoch 57/80\n",
      "150/150 [==============================] - 19s 124ms/step - loss: 0.9847 - accuracy: 0.5531 - val_loss: 1.0735 - val_accuracy: 0.4917\n",
      "Epoch 58/80\n",
      "150/150 [==============================] - 17s 116ms/step - loss: 0.9908 - accuracy: 0.5525 - val_loss: 1.0577 - val_accuracy: 0.5142\n",
      "Epoch 59/80\n",
      "150/150 [==============================] - 15s 98ms/step - loss: 0.9874 - accuracy: 0.5565 - val_loss: 1.0672 - val_accuracy: 0.5025\n",
      "Epoch 60/80\n",
      "150/150 [==============================] - 14s 91ms/step - loss: 0.9806 - accuracy: 0.5515 - val_loss: 1.1062 - val_accuracy: 0.4858\n",
      "Epoch 61/80\n",
      "150/150 [==============================] - 16s 109ms/step - loss: 0.9826 - accuracy: 0.5521 - val_loss: 1.0923 - val_accuracy: 0.4942\n",
      "Epoch 62/80\n",
      "150/150 [==============================] - 16s 109ms/step - loss: 0.9758 - accuracy: 0.5594 - val_loss: 1.0522 - val_accuracy: 0.5117\n",
      "Epoch 63/80\n",
      "150/150 [==============================] - 16s 109ms/step - loss: 0.9655 - accuracy: 0.5677 - val_loss: 1.0706 - val_accuracy: 0.5058\n",
      "Epoch 64/80\n",
      "150/150 [==============================] - 16s 108ms/step - loss: 0.9685 - accuracy: 0.5633 - val_loss: 1.0847 - val_accuracy: 0.4883\n",
      "Epoch 65/80\n",
      "150/150 [==============================] - 16s 107ms/step - loss: 0.9597 - accuracy: 0.5635 - val_loss: 1.1005 - val_accuracy: 0.4942\n",
      "Epoch 66/80\n",
      "150/150 [==============================] - 18s 120ms/step - loss: 0.9752 - accuracy: 0.5665 - val_loss: 1.0900 - val_accuracy: 0.4825\n",
      "Epoch 67/80\n",
      "150/150 [==============================] - 17s 115ms/step - loss: 0.9573 - accuracy: 0.5725 - val_loss: 1.0534 - val_accuracy: 0.5050\n",
      "Epoch 68/80\n",
      "150/150 [==============================] - 18s 120ms/step - loss: 0.9616 - accuracy: 0.5600 - val_loss: 1.0567 - val_accuracy: 0.5075\n",
      "Epoch 69/80\n",
      "150/150 [==============================] - 18s 123ms/step - loss: 0.9604 - accuracy: 0.5671 - val_loss: 1.0834 - val_accuracy: 0.4908\n",
      "Epoch 70/80\n",
      "150/150 [==============================] - 17s 112ms/step - loss: 0.9462 - accuracy: 0.5752 - val_loss: 1.1201 - val_accuracy: 0.4733\n",
      "Epoch 71/80\n",
      "150/150 [==============================] - 18s 118ms/step - loss: 0.9507 - accuracy: 0.5733 - val_loss: 1.0967 - val_accuracy: 0.4850\n",
      "Epoch 72/80\n",
      "150/150 [==============================] - 15s 102ms/step - loss: 0.9439 - accuracy: 0.5808 - val_loss: 1.0558 - val_accuracy: 0.4992\n",
      "Epoch 73/80\n",
      "150/150 [==============================] - 13s 88ms/step - loss: 0.9463 - accuracy: 0.5752 - val_loss: 1.0987 - val_accuracy: 0.4967\n",
      "Epoch 74/80\n",
      "150/150 [==============================] - 17s 115ms/step - loss: 0.9375 - accuracy: 0.5815 - val_loss: 1.0657 - val_accuracy: 0.5100\n",
      "Epoch 75/80\n",
      "150/150 [==============================] - 17s 114ms/step - loss: 0.9286 - accuracy: 0.5921 - val_loss: 1.0678 - val_accuracy: 0.5050\n",
      "Epoch 76/80\n",
      "150/150 [==============================] - 17s 116ms/step - loss: 0.9296 - accuracy: 0.5821 - val_loss: 1.0654 - val_accuracy: 0.4983\n",
      "Epoch 77/80\n",
      "150/150 [==============================] - 17s 115ms/step - loss: 0.9353 - accuracy: 0.5873 - val_loss: 1.1257 - val_accuracy: 0.4950\n",
      "Epoch 78/80\n",
      "150/150 [==============================] - 17s 116ms/step - loss: 0.9267 - accuracy: 0.5867 - val_loss: 1.0637 - val_accuracy: 0.5117\n",
      "Epoch 79/80\n",
      "150/150 [==============================] - 18s 122ms/step - loss: 0.9172 - accuracy: 0.5898 - val_loss: 1.0749 - val_accuracy: 0.5142\n",
      "Epoch 80/80\n",
      "150/150 [==============================] - 17s 113ms/step - loss: 0.9269 - accuracy: 0.5906 - val_loss: 1.0666 - val_accuracy: 0.5058\n"
     ]
    }
   ],
   "source": [
    "train, test = getGenerators(augment_data=True, simulationNames=['CDM_low','CDM','CDM_hi','SIDM0.1','SIDM1'], \n",
    "                                                      channels=['total','stellar'], \n",
    "                                                      allDataFile='pickles/binned_data_20.pkl')\n",
    "\n",
    "checkpoint_filepath = 'models/test_baryon/%s_cdmall_0p1_1_tot_ste_%i' % (model_name, random_state)\n",
    "\n",
    "\n",
    "all_cdm_plus_dm = get_best_model( train, test, model_name=model_name, checkpoint_filepath=checkpoint_filepath)\n",
    "\n"
   ]
  },
  {
   "cell_type": "markdown",
   "metadata": {
    "jp-MarkdownHeadingCollapsed": true,
    "tags": []
   },
   "source": [
    "#### 3. Get the fiducial for total, xray and stellar for CDM and low fiducial and DM (all_cdm_plus_dm_3_channel)"
   ]
  },
  {
   "cell_type": "code",
   "execution_count": 60,
   "metadata": {
    "tags": []
   },
   "outputs": [
    {
     "name": "stdout",
     "output_type": "stream",
     "text": [
      "Epoch 1/80\n",
      "150/150 [==============================] - ETA: 0s - loss: 1.4282 - accuracy: 0.3702"
     ]
    },
    {
     "name": "stderr",
     "output_type": "stream",
     "text": [
      "WARNING:absl:Found untraced functions such as _update_step_xla, _jit_compiled_convolution_op, _jit_compiled_convolution_op, _jit_compiled_convolution_op while saving (showing 4 of 4). These functions will not be directly callable after loading.\n"
     ]
    },
    {
     "name": "stdout",
     "output_type": "stream",
     "text": [
      "INFO:tensorflow:Assets written to: models/test_baryon/simple_cdmall_0p1_1_tot_ste_xray_42/assets\n"
     ]
    },
    {
     "name": "stderr",
     "output_type": "stream",
     "text": [
      "INFO:tensorflow:Assets written to: models/test_baryon/simple_cdmall_0p1_1_tot_ste_xray_42/assets\n"
     ]
    },
    {
     "name": "stdout",
     "output_type": "stream",
     "text": [
      "150/150 [==============================] - 21s 134ms/step - loss: 1.4282 - accuracy: 0.3702 - val_loss: 1.3842 - val_accuracy: 0.3933\n",
      "Epoch 2/80\n",
      "150/150 [==============================] - ETA: 0s - loss: 1.2658 - accuracy: 0.4529"
     ]
    },
    {
     "name": "stderr",
     "output_type": "stream",
     "text": [
      "WARNING:absl:Found untraced functions such as _update_step_xla, _jit_compiled_convolution_op, _jit_compiled_convolution_op, _jit_compiled_convolution_op while saving (showing 4 of 4). These functions will not be directly callable after loading.\n"
     ]
    },
    {
     "name": "stdout",
     "output_type": "stream",
     "text": [
      "INFO:tensorflow:Assets written to: models/test_baryon/simple_cdmall_0p1_1_tot_ste_xray_42/assets\n"
     ]
    },
    {
     "name": "stderr",
     "output_type": "stream",
     "text": [
      "INFO:tensorflow:Assets written to: models/test_baryon/simple_cdmall_0p1_1_tot_ste_xray_42/assets\n"
     ]
    },
    {
     "name": "stdout",
     "output_type": "stream",
     "text": [
      "150/150 [==============================] - 25s 167ms/step - loss: 1.2658 - accuracy: 0.4529 - val_loss: 1.3013 - val_accuracy: 0.4317\n",
      "Epoch 3/80\n",
      "150/150 [==============================] - ETA: 0s - loss: 1.1810 - accuracy: 0.5013"
     ]
    },
    {
     "name": "stderr",
     "output_type": "stream",
     "text": [
      "WARNING:absl:Found untraced functions such as _update_step_xla, _jit_compiled_convolution_op, _jit_compiled_convolution_op, _jit_compiled_convolution_op while saving (showing 4 of 4). These functions will not be directly callable after loading.\n"
     ]
    },
    {
     "name": "stdout",
     "output_type": "stream",
     "text": [
      "INFO:tensorflow:Assets written to: models/test_baryon/simple_cdmall_0p1_1_tot_ste_xray_42/assets\n"
     ]
    },
    {
     "name": "stderr",
     "output_type": "stream",
     "text": [
      "INFO:tensorflow:Assets written to: models/test_baryon/simple_cdmall_0p1_1_tot_ste_xray_42/assets\n"
     ]
    },
    {
     "name": "stdout",
     "output_type": "stream",
     "text": [
      "150/150 [==============================] - 26s 175ms/step - loss: 1.1810 - accuracy: 0.5013 - val_loss: 1.1848 - val_accuracy: 0.5058\n",
      "Epoch 4/80\n",
      "150/150 [==============================] - ETA: 0s - loss: 1.0919 - accuracy: 0.5398"
     ]
    },
    {
     "name": "stderr",
     "output_type": "stream",
     "text": [
      "WARNING:absl:Found untraced functions such as _update_step_xla, _jit_compiled_convolution_op, _jit_compiled_convolution_op, _jit_compiled_convolution_op while saving (showing 4 of 4). These functions will not be directly callable after loading.\n"
     ]
    },
    {
     "name": "stdout",
     "output_type": "stream",
     "text": [
      "INFO:tensorflow:Assets written to: models/test_baryon/simple_cdmall_0p1_1_tot_ste_xray_42/assets\n"
     ]
    },
    {
     "name": "stderr",
     "output_type": "stream",
     "text": [
      "INFO:tensorflow:Assets written to: models/test_baryon/simple_cdmall_0p1_1_tot_ste_xray_42/assets\n"
     ]
    },
    {
     "name": "stdout",
     "output_type": "stream",
     "text": [
      "150/150 [==============================] - 24s 163ms/step - loss: 1.0919 - accuracy: 0.5398 - val_loss: 1.0856 - val_accuracy: 0.5483\n",
      "Epoch 5/80\n",
      "150/150 [==============================] - ETA: 0s - loss: 1.0561 - accuracy: 0.5552"
     ]
    },
    {
     "name": "stderr",
     "output_type": "stream",
     "text": [
      "WARNING:absl:Found untraced functions such as _update_step_xla, _jit_compiled_convolution_op, _jit_compiled_convolution_op, _jit_compiled_convolution_op while saving (showing 4 of 4). These functions will not be directly callable after loading.\n"
     ]
    },
    {
     "name": "stdout",
     "output_type": "stream",
     "text": [
      "INFO:tensorflow:Assets written to: models/test_baryon/simple_cdmall_0p1_1_tot_ste_xray_42/assets\n"
     ]
    },
    {
     "name": "stderr",
     "output_type": "stream",
     "text": [
      "INFO:tensorflow:Assets written to: models/test_baryon/simple_cdmall_0p1_1_tot_ste_xray_42/assets\n"
     ]
    },
    {
     "name": "stdout",
     "output_type": "stream",
     "text": [
      "150/150 [==============================] - 21s 143ms/step - loss: 1.0561 - accuracy: 0.5552 - val_loss: 1.0673 - val_accuracy: 0.5508\n",
      "Epoch 6/80\n",
      "150/150 [==============================] - 24s 162ms/step - loss: 1.0204 - accuracy: 0.5683 - val_loss: 1.1027 - val_accuracy: 0.5375\n",
      "Epoch 7/80\n",
      "150/150 [==============================] - 24s 158ms/step - loss: 0.9910 - accuracy: 0.5794 - val_loss: 1.0781 - val_accuracy: 0.5458\n",
      "Epoch 8/80\n",
      "150/150 [==============================] - 24s 158ms/step - loss: 0.9863 - accuracy: 0.5825 - val_loss: 1.0594 - val_accuracy: 0.5425\n",
      "Epoch 9/80\n",
      "150/150 [==============================] - ETA: 0s - loss: 0.9430 - accuracy: 0.6087"
     ]
    },
    {
     "name": "stderr",
     "output_type": "stream",
     "text": [
      "WARNING:absl:Found untraced functions such as _update_step_xla, _jit_compiled_convolution_op, _jit_compiled_convolution_op, _jit_compiled_convolution_op while saving (showing 4 of 4). These functions will not be directly callable after loading.\n"
     ]
    },
    {
     "name": "stdout",
     "output_type": "stream",
     "text": [
      "INFO:tensorflow:Assets written to: models/test_baryon/simple_cdmall_0p1_1_tot_ste_xray_42/assets\n"
     ]
    },
    {
     "name": "stderr",
     "output_type": "stream",
     "text": [
      "INFO:tensorflow:Assets written to: models/test_baryon/simple_cdmall_0p1_1_tot_ste_xray_42/assets\n"
     ]
    },
    {
     "name": "stdout",
     "output_type": "stream",
     "text": [
      "150/150 [==============================] - 25s 169ms/step - loss: 0.9430 - accuracy: 0.6087 - val_loss: 0.9908 - val_accuracy: 0.5792\n",
      "Epoch 10/80\n",
      "150/150 [==============================] - ETA: 0s - loss: 0.9416 - accuracy: 0.6075"
     ]
    },
    {
     "name": "stderr",
     "output_type": "stream",
     "text": [
      "WARNING:absl:Found untraced functions such as _update_step_xla, _jit_compiled_convolution_op, _jit_compiled_convolution_op, _jit_compiled_convolution_op while saving (showing 4 of 4). These functions will not be directly callable after loading.\n"
     ]
    },
    {
     "name": "stdout",
     "output_type": "stream",
     "text": [
      "INFO:tensorflow:Assets written to: models/test_baryon/simple_cdmall_0p1_1_tot_ste_xray_42/assets\n"
     ]
    },
    {
     "name": "stderr",
     "output_type": "stream",
     "text": [
      "INFO:tensorflow:Assets written to: models/test_baryon/simple_cdmall_0p1_1_tot_ste_xray_42/assets\n"
     ]
    },
    {
     "name": "stdout",
     "output_type": "stream",
     "text": [
      "150/150 [==============================] - 25s 165ms/step - loss: 0.9416 - accuracy: 0.6075 - val_loss: 0.9592 - val_accuracy: 0.6083\n",
      "Epoch 11/80\n",
      "150/150 [==============================] - 22s 147ms/step - loss: 0.9153 - accuracy: 0.6152 - val_loss: 0.9671 - val_accuracy: 0.5958\n",
      "Epoch 12/80\n",
      "150/150 [==============================] - ETA: 0s - loss: 0.9099 - accuracy: 0.6190"
     ]
    },
    {
     "name": "stderr",
     "output_type": "stream",
     "text": [
      "WARNING:absl:Found untraced functions such as _update_step_xla, _jit_compiled_convolution_op, _jit_compiled_convolution_op, _jit_compiled_convolution_op while saving (showing 4 of 4). These functions will not be directly callable after loading.\n"
     ]
    },
    {
     "name": "stdout",
     "output_type": "stream",
     "text": [
      "INFO:tensorflow:Assets written to: models/test_baryon/simple_cdmall_0p1_1_tot_ste_xray_42/assets\n"
     ]
    },
    {
     "name": "stderr",
     "output_type": "stream",
     "text": [
      "INFO:tensorflow:Assets written to: models/test_baryon/simple_cdmall_0p1_1_tot_ste_xray_42/assets\n"
     ]
    },
    {
     "name": "stdout",
     "output_type": "stream",
     "text": [
      "150/150 [==============================] - 25s 165ms/step - loss: 0.9099 - accuracy: 0.6190 - val_loss: 0.9431 - val_accuracy: 0.6167\n",
      "Epoch 13/80\n",
      "150/150 [==============================] - 20s 134ms/step - loss: 0.8891 - accuracy: 0.6350 - val_loss: 0.9262 - val_accuracy: 0.6042\n",
      "Epoch 14/80\n",
      "150/150 [==============================] - 20s 136ms/step - loss: 0.8696 - accuracy: 0.6338 - val_loss: 0.9356 - val_accuracy: 0.6075\n",
      "Epoch 15/80\n",
      "150/150 [==============================] - 23s 155ms/step - loss: 0.8760 - accuracy: 0.6419 - val_loss: 1.1013 - val_accuracy: 0.5300\n",
      "Epoch 16/80\n",
      "150/150 [==============================] - 19s 126ms/step - loss: 0.8585 - accuracy: 0.6450 - val_loss: 0.9494 - val_accuracy: 0.5933\n",
      "Epoch 17/80\n",
      "150/150 [==============================] - ETA: 0s - loss: 0.8406 - accuracy: 0.6435"
     ]
    },
    {
     "name": "stderr",
     "output_type": "stream",
     "text": [
      "WARNING:absl:Found untraced functions such as _update_step_xla, _jit_compiled_convolution_op, _jit_compiled_convolution_op, _jit_compiled_convolution_op while saving (showing 4 of 4). These functions will not be directly callable after loading.\n"
     ]
    },
    {
     "name": "stdout",
     "output_type": "stream",
     "text": [
      "INFO:tensorflow:Assets written to: models/test_baryon/simple_cdmall_0p1_1_tot_ste_xray_42/assets\n"
     ]
    },
    {
     "name": "stderr",
     "output_type": "stream",
     "text": [
      "INFO:tensorflow:Assets written to: models/test_baryon/simple_cdmall_0p1_1_tot_ste_xray_42/assets\n"
     ]
    },
    {
     "name": "stdout",
     "output_type": "stream",
     "text": [
      "150/150 [==============================] - 26s 173ms/step - loss: 0.8406 - accuracy: 0.6435 - val_loss: 0.8972 - val_accuracy: 0.6300\n",
      "Epoch 18/80\n",
      "150/150 [==============================] - 19s 126ms/step - loss: 0.8434 - accuracy: 0.6508 - val_loss: 0.9179 - val_accuracy: 0.6233\n",
      "Epoch 19/80\n",
      "150/150 [==============================] - ETA: 0s - loss: 0.8293 - accuracy: 0.6554"
     ]
    },
    {
     "name": "stderr",
     "output_type": "stream",
     "text": [
      "WARNING:absl:Found untraced functions such as _update_step_xla, _jit_compiled_convolution_op, _jit_compiled_convolution_op, _jit_compiled_convolution_op while saving (showing 4 of 4). These functions will not be directly callable after loading.\n"
     ]
    },
    {
     "name": "stdout",
     "output_type": "stream",
     "text": [
      "INFO:tensorflow:Assets written to: models/test_baryon/simple_cdmall_0p1_1_tot_ste_xray_42/assets\n"
     ]
    },
    {
     "name": "stderr",
     "output_type": "stream",
     "text": [
      "INFO:tensorflow:Assets written to: models/test_baryon/simple_cdmall_0p1_1_tot_ste_xray_42/assets\n"
     ]
    },
    {
     "name": "stdout",
     "output_type": "stream",
     "text": [
      "150/150 [==============================] - 25s 169ms/step - loss: 0.8293 - accuracy: 0.6554 - val_loss: 0.9137 - val_accuracy: 0.6308\n",
      "Epoch 20/80\n",
      "150/150 [==============================] - ETA: 0s - loss: 0.8216 - accuracy: 0.6606"
     ]
    },
    {
     "name": "stderr",
     "output_type": "stream",
     "text": [
      "WARNING:absl:Found untraced functions such as _update_step_xla, _jit_compiled_convolution_op, _jit_compiled_convolution_op, _jit_compiled_convolution_op while saving (showing 4 of 4). These functions will not be directly callable after loading.\n"
     ]
    },
    {
     "name": "stdout",
     "output_type": "stream",
     "text": [
      "INFO:tensorflow:Assets written to: models/test_baryon/simple_cdmall_0p1_1_tot_ste_xray_42/assets\n"
     ]
    },
    {
     "name": "stderr",
     "output_type": "stream",
     "text": [
      "INFO:tensorflow:Assets written to: models/test_baryon/simple_cdmall_0p1_1_tot_ste_xray_42/assets\n"
     ]
    },
    {
     "name": "stdout",
     "output_type": "stream",
     "text": [
      "150/150 [==============================] - 21s 143ms/step - loss: 0.8216 - accuracy: 0.6606 - val_loss: 0.8678 - val_accuracy: 0.6433\n",
      "Epoch 21/80\n",
      "150/150 [==============================] - ETA: 0s - loss: 0.8069 - accuracy: 0.6648"
     ]
    },
    {
     "name": "stderr",
     "output_type": "stream",
     "text": [
      "WARNING:absl:Found untraced functions such as _update_step_xla, _jit_compiled_convolution_op, _jit_compiled_convolution_op, _jit_compiled_convolution_op while saving (showing 4 of 4). These functions will not be directly callable after loading.\n"
     ]
    },
    {
     "name": "stdout",
     "output_type": "stream",
     "text": [
      "INFO:tensorflow:Assets written to: models/test_baryon/simple_cdmall_0p1_1_tot_ste_xray_42/assets\n"
     ]
    },
    {
     "name": "stderr",
     "output_type": "stream",
     "text": [
      "INFO:tensorflow:Assets written to: models/test_baryon/simple_cdmall_0p1_1_tot_ste_xray_42/assets\n"
     ]
    },
    {
     "name": "stdout",
     "output_type": "stream",
     "text": [
      "150/150 [==============================] - 23s 154ms/step - loss: 0.8069 - accuracy: 0.6648 - val_loss: 0.8529 - val_accuracy: 0.6442\n",
      "Epoch 22/80\n",
      "150/150 [==============================] - 22s 148ms/step - loss: 0.8172 - accuracy: 0.6571 - val_loss: 0.8803 - val_accuracy: 0.6342\n",
      "Epoch 23/80\n",
      "150/150 [==============================] - 20s 131ms/step - loss: 0.8229 - accuracy: 0.6554 - val_loss: 0.9069 - val_accuracy: 0.6292\n",
      "Epoch 24/80\n",
      "150/150 [==============================] - ETA: 0s - loss: 0.8058 - accuracy: 0.6621"
     ]
    },
    {
     "name": "stderr",
     "output_type": "stream",
     "text": [
      "WARNING:absl:Found untraced functions such as _update_step_xla, _jit_compiled_convolution_op, _jit_compiled_convolution_op, _jit_compiled_convolution_op while saving (showing 4 of 4). These functions will not be directly callable after loading.\n"
     ]
    },
    {
     "name": "stdout",
     "output_type": "stream",
     "text": [
      "INFO:tensorflow:Assets written to: models/test_baryon/simple_cdmall_0p1_1_tot_ste_xray_42/assets\n"
     ]
    },
    {
     "name": "stderr",
     "output_type": "stream",
     "text": [
      "INFO:tensorflow:Assets written to: models/test_baryon/simple_cdmall_0p1_1_tot_ste_xray_42/assets\n"
     ]
    },
    {
     "name": "stdout",
     "output_type": "stream",
     "text": [
      "150/150 [==============================] - 26s 173ms/step - loss: 0.8058 - accuracy: 0.6621 - val_loss: 0.8901 - val_accuracy: 0.6508\n",
      "Epoch 25/80\n",
      "150/150 [==============================] - 24s 160ms/step - loss: 0.7930 - accuracy: 0.6710 - val_loss: 0.8725 - val_accuracy: 0.6375\n",
      "Epoch 26/80\n",
      "150/150 [==============================] - ETA: 0s - loss: 0.7778 - accuracy: 0.6756"
     ]
    },
    {
     "name": "stderr",
     "output_type": "stream",
     "text": [
      "WARNING:absl:Found untraced functions such as _update_step_xla, _jit_compiled_convolution_op, _jit_compiled_convolution_op, _jit_compiled_convolution_op while saving (showing 4 of 4). These functions will not be directly callable after loading.\n"
     ]
    },
    {
     "name": "stdout",
     "output_type": "stream",
     "text": [
      "INFO:tensorflow:Assets written to: models/test_baryon/simple_cdmall_0p1_1_tot_ste_xray_42/assets\n"
     ]
    },
    {
     "name": "stderr",
     "output_type": "stream",
     "text": [
      "INFO:tensorflow:Assets written to: models/test_baryon/simple_cdmall_0p1_1_tot_ste_xray_42/assets\n"
     ]
    },
    {
     "name": "stdout",
     "output_type": "stream",
     "text": [
      "150/150 [==============================] - 26s 170ms/step - loss: 0.7778 - accuracy: 0.6756 - val_loss: 0.8968 - val_accuracy: 0.6550\n",
      "Epoch 27/80\n",
      "150/150 [==============================] - 24s 163ms/step - loss: 0.7963 - accuracy: 0.6629 - val_loss: 0.8555 - val_accuracy: 0.6500\n",
      "Epoch 28/80\n",
      "150/150 [==============================] - 26s 172ms/step - loss: 0.7754 - accuracy: 0.6835 - val_loss: 0.8676 - val_accuracy: 0.6458\n",
      "Epoch 29/80\n",
      "150/150 [==============================] - ETA: 0s - loss: 0.7697 - accuracy: 0.6856"
     ]
    },
    {
     "name": "stderr",
     "output_type": "stream",
     "text": [
      "WARNING:absl:Found untraced functions such as _update_step_xla, _jit_compiled_convolution_op, _jit_compiled_convolution_op, _jit_compiled_convolution_op while saving (showing 4 of 4). These functions will not be directly callable after loading.\n"
     ]
    },
    {
     "name": "stdout",
     "output_type": "stream",
     "text": [
      "INFO:tensorflow:Assets written to: models/test_baryon/simple_cdmall_0p1_1_tot_ste_xray_42/assets\n"
     ]
    },
    {
     "name": "stderr",
     "output_type": "stream",
     "text": [
      "INFO:tensorflow:Assets written to: models/test_baryon/simple_cdmall_0p1_1_tot_ste_xray_42/assets\n"
     ]
    },
    {
     "name": "stdout",
     "output_type": "stream",
     "text": [
      "150/150 [==============================] - 25s 169ms/step - loss: 0.7697 - accuracy: 0.6856 - val_loss: 0.8384 - val_accuracy: 0.6592\n",
      "Epoch 30/80\n",
      "150/150 [==============================] - ETA: 0s - loss: 0.7650 - accuracy: 0.6854"
     ]
    },
    {
     "name": "stderr",
     "output_type": "stream",
     "text": [
      "WARNING:absl:Found untraced functions such as _update_step_xla, _jit_compiled_convolution_op, _jit_compiled_convolution_op, _jit_compiled_convolution_op while saving (showing 4 of 4). These functions will not be directly callable after loading.\n"
     ]
    },
    {
     "name": "stdout",
     "output_type": "stream",
     "text": [
      "INFO:tensorflow:Assets written to: models/test_baryon/simple_cdmall_0p1_1_tot_ste_xray_42/assets\n"
     ]
    },
    {
     "name": "stderr",
     "output_type": "stream",
     "text": [
      "INFO:tensorflow:Assets written to: models/test_baryon/simple_cdmall_0p1_1_tot_ste_xray_42/assets\n"
     ]
    },
    {
     "name": "stdout",
     "output_type": "stream",
     "text": [
      "150/150 [==============================] - 26s 175ms/step - loss: 0.7650 - accuracy: 0.6854 - val_loss: 0.8141 - val_accuracy: 0.6675\n",
      "Epoch 31/80\n",
      "150/150 [==============================] - 25s 165ms/step - loss: 0.7711 - accuracy: 0.6752 - val_loss: 0.8498 - val_accuracy: 0.6592\n",
      "Epoch 32/80\n",
      "150/150 [==============================] - 24s 158ms/step - loss: 0.7495 - accuracy: 0.6835 - val_loss: 0.8282 - val_accuracy: 0.6525\n",
      "Epoch 33/80\n",
      "150/150 [==============================] - ETA: 0s - loss: 0.7392 - accuracy: 0.6948"
     ]
    },
    {
     "name": "stderr",
     "output_type": "stream",
     "text": [
      "WARNING:absl:Found untraced functions such as _update_step_xla, _jit_compiled_convolution_op, _jit_compiled_convolution_op, _jit_compiled_convolution_op while saving (showing 4 of 4). These functions will not be directly callable after loading.\n"
     ]
    },
    {
     "name": "stdout",
     "output_type": "stream",
     "text": [
      "INFO:tensorflow:Assets written to: models/test_baryon/simple_cdmall_0p1_1_tot_ste_xray_42/assets\n"
     ]
    },
    {
     "name": "stderr",
     "output_type": "stream",
     "text": [
      "INFO:tensorflow:Assets written to: models/test_baryon/simple_cdmall_0p1_1_tot_ste_xray_42/assets\n"
     ]
    },
    {
     "name": "stdout",
     "output_type": "stream",
     "text": [
      "150/150 [==============================] - 25s 167ms/step - loss: 0.7392 - accuracy: 0.6948 - val_loss: 0.8104 - val_accuracy: 0.6825\n",
      "Epoch 34/80\n",
      "150/150 [==============================] - 24s 157ms/step - loss: 0.7380 - accuracy: 0.6952 - val_loss: 0.8690 - val_accuracy: 0.6633\n",
      "Epoch 35/80\n",
      "150/150 [==============================] - 24s 159ms/step - loss: 0.7235 - accuracy: 0.6990 - val_loss: 0.8390 - val_accuracy: 0.6650\n",
      "Epoch 36/80\n",
      "150/150 [==============================] - 25s 164ms/step - loss: 0.7313 - accuracy: 0.6979 - val_loss: 0.9941 - val_accuracy: 0.6342\n",
      "Epoch 37/80\n",
      "150/150 [==============================] - 24s 160ms/step - loss: 0.7355 - accuracy: 0.6979 - val_loss: 0.8266 - val_accuracy: 0.6608\n",
      "Epoch 38/80\n",
      "150/150 [==============================] - 24s 157ms/step - loss: 0.7415 - accuracy: 0.6925 - val_loss: 0.8164 - val_accuracy: 0.6775\n",
      "Epoch 39/80\n",
      "150/150 [==============================] - 23s 155ms/step - loss: 0.7084 - accuracy: 0.7054 - val_loss: 0.7925 - val_accuracy: 0.6783\n",
      "Epoch 40/80\n",
      "150/150 [==============================] - 24s 158ms/step - loss: 0.7332 - accuracy: 0.6952 - val_loss: 0.8764 - val_accuracy: 0.6367\n",
      "Epoch 41/80\n",
      "150/150 [==============================] - 24s 160ms/step - loss: 0.7109 - accuracy: 0.7052 - val_loss: 0.8047 - val_accuracy: 0.6675\n",
      "Epoch 42/80\n",
      "150/150 [==============================] - 24s 159ms/step - loss: 0.7141 - accuracy: 0.6963 - val_loss: 0.8101 - val_accuracy: 0.6633\n",
      "Epoch 43/80\n",
      "150/150 [==============================] - 19s 129ms/step - loss: 0.7138 - accuracy: 0.7046 - val_loss: 0.8936 - val_accuracy: 0.6342\n",
      "Epoch 44/80\n",
      "150/150 [==============================] - 24s 161ms/step - loss: 0.7188 - accuracy: 0.6996 - val_loss: 0.8133 - val_accuracy: 0.6750\n",
      "Epoch 45/80\n",
      "150/150 [==============================] - 24s 160ms/step - loss: 0.6870 - accuracy: 0.7102 - val_loss: 0.8064 - val_accuracy: 0.6808\n",
      "Epoch 46/80\n",
      "150/150 [==============================] - 22s 149ms/step - loss: 0.6744 - accuracy: 0.7250 - val_loss: 0.7897 - val_accuracy: 0.6767\n",
      "Epoch 47/80\n",
      "150/150 [==============================] - ETA: 0s - loss: 0.7145 - accuracy: 0.7063"
     ]
    },
    {
     "name": "stderr",
     "output_type": "stream",
     "text": [
      "WARNING:absl:Found untraced functions such as _update_step_xla, _jit_compiled_convolution_op, _jit_compiled_convolution_op, _jit_compiled_convolution_op while saving (showing 4 of 4). These functions will not be directly callable after loading.\n"
     ]
    },
    {
     "name": "stdout",
     "output_type": "stream",
     "text": [
      "INFO:tensorflow:Assets written to: models/test_baryon/simple_cdmall_0p1_1_tot_ste_xray_42/assets\n"
     ]
    },
    {
     "name": "stderr",
     "output_type": "stream",
     "text": [
      "INFO:tensorflow:Assets written to: models/test_baryon/simple_cdmall_0p1_1_tot_ste_xray_42/assets\n"
     ]
    },
    {
     "name": "stdout",
     "output_type": "stream",
     "text": [
      "150/150 [==============================] - 22s 148ms/step - loss: 0.7145 - accuracy: 0.7063 - val_loss: 0.7904 - val_accuracy: 0.6867\n",
      "Epoch 48/80\n",
      "150/150 [==============================] - 24s 157ms/step - loss: 0.7130 - accuracy: 0.7069 - val_loss: 0.8202 - val_accuracy: 0.6617\n",
      "Epoch 49/80\n",
      "150/150 [==============================] - 25s 163ms/step - loss: 0.6889 - accuracy: 0.7181 - val_loss: 0.7898 - val_accuracy: 0.6817\n",
      "Epoch 50/80\n",
      "150/150 [==============================] - ETA: 0s - loss: 0.6871 - accuracy: 0.7171"
     ]
    },
    {
     "name": "stderr",
     "output_type": "stream",
     "text": [
      "WARNING:absl:Found untraced functions such as _update_step_xla, _jit_compiled_convolution_op, _jit_compiled_convolution_op, _jit_compiled_convolution_op while saving (showing 4 of 4). These functions will not be directly callable after loading.\n"
     ]
    },
    {
     "name": "stdout",
     "output_type": "stream",
     "text": [
      "INFO:tensorflow:Assets written to: models/test_baryon/simple_cdmall_0p1_1_tot_ste_xray_42/assets\n"
     ]
    },
    {
     "name": "stderr",
     "output_type": "stream",
     "text": [
      "INFO:tensorflow:Assets written to: models/test_baryon/simple_cdmall_0p1_1_tot_ste_xray_42/assets\n"
     ]
    },
    {
     "name": "stdout",
     "output_type": "stream",
     "text": [
      "150/150 [==============================] - 24s 162ms/step - loss: 0.6871 - accuracy: 0.7171 - val_loss: 0.7849 - val_accuracy: 0.6933\n",
      "Epoch 51/80\n",
      "150/150 [==============================] - 24s 158ms/step - loss: 0.6793 - accuracy: 0.7171 - val_loss: 0.8181 - val_accuracy: 0.6583\n",
      "Epoch 52/80\n",
      "150/150 [==============================] - 26s 171ms/step - loss: 0.6871 - accuracy: 0.7160 - val_loss: 0.8051 - val_accuracy: 0.6817\n",
      "Epoch 53/80\n",
      "150/150 [==============================] - 24s 157ms/step - loss: 0.6628 - accuracy: 0.7237 - val_loss: 0.7957 - val_accuracy: 0.6892\n",
      "Epoch 54/80\n",
      "150/150 [==============================] - 24s 159ms/step - loss: 0.6729 - accuracy: 0.7181 - val_loss: 0.8284 - val_accuracy: 0.6642\n",
      "Epoch 55/80\n",
      "150/150 [==============================] - ETA: 0s - loss: 0.6669 - accuracy: 0.7227"
     ]
    },
    {
     "name": "stderr",
     "output_type": "stream",
     "text": [
      "WARNING:absl:Found untraced functions such as _update_step_xla, _jit_compiled_convolution_op, _jit_compiled_convolution_op, _jit_compiled_convolution_op while saving (showing 4 of 4). These functions will not be directly callable after loading.\n"
     ]
    },
    {
     "name": "stdout",
     "output_type": "stream",
     "text": [
      "INFO:tensorflow:Assets written to: models/test_baryon/simple_cdmall_0p1_1_tot_ste_xray_42/assets\n"
     ]
    },
    {
     "name": "stderr",
     "output_type": "stream",
     "text": [
      "INFO:tensorflow:Assets written to: models/test_baryon/simple_cdmall_0p1_1_tot_ste_xray_42/assets\n"
     ]
    },
    {
     "name": "stdout",
     "output_type": "stream",
     "text": [
      "150/150 [==============================] - 21s 136ms/step - loss: 0.6669 - accuracy: 0.7227 - val_loss: 0.7910 - val_accuracy: 0.6967\n",
      "Epoch 56/80\n",
      "150/150 [==============================] - 24s 158ms/step - loss: 0.6624 - accuracy: 0.7260 - val_loss: 0.8243 - val_accuracy: 0.6658\n",
      "Epoch 57/80\n",
      "150/150 [==============================] - 22s 149ms/step - loss: 0.6512 - accuracy: 0.7352 - val_loss: 0.7971 - val_accuracy: 0.6825\n",
      "Epoch 58/80\n",
      "150/150 [==============================] - 23s 150ms/step - loss: 0.6646 - accuracy: 0.7173 - val_loss: 0.7947 - val_accuracy: 0.6867\n",
      "Epoch 59/80\n",
      "150/150 [==============================] - 24s 158ms/step - loss: 0.6523 - accuracy: 0.7315 - val_loss: 0.8662 - val_accuracy: 0.6542\n",
      "Epoch 60/80\n",
      "150/150 [==============================] - 24s 160ms/step - loss: 0.6470 - accuracy: 0.7333 - val_loss: 0.7966 - val_accuracy: 0.6850\n",
      "Epoch 61/80\n",
      "150/150 [==============================] - 23s 156ms/step - loss: 0.6444 - accuracy: 0.7321 - val_loss: 0.8229 - val_accuracy: 0.6625\n",
      "Epoch 62/80\n",
      "150/150 [==============================] - 26s 172ms/step - loss: 0.6493 - accuracy: 0.7304 - val_loss: 0.8451 - val_accuracy: 0.6717\n",
      "Epoch 63/80\n",
      "150/150 [==============================] - 24s 161ms/step - loss: 0.6583 - accuracy: 0.7310 - val_loss: 0.8051 - val_accuracy: 0.6842\n",
      "Epoch 64/80\n",
      "150/150 [==============================] - 26s 172ms/step - loss: 0.6210 - accuracy: 0.7375 - val_loss: 0.8328 - val_accuracy: 0.6867\n",
      "Epoch 65/80\n",
      "150/150 [==============================] - 25s 167ms/step - loss: 0.6433 - accuracy: 0.7312 - val_loss: 0.7909 - val_accuracy: 0.6892\n",
      "Epoch 66/80\n",
      "150/150 [==============================] - 24s 163ms/step - loss: 0.6311 - accuracy: 0.7375 - val_loss: 0.7874 - val_accuracy: 0.6925\n",
      "Epoch 67/80\n",
      "150/150 [==============================] - 25s 164ms/step - loss: 0.6190 - accuracy: 0.7473 - val_loss: 0.7869 - val_accuracy: 0.6850\n",
      "Epoch 68/80\n",
      "150/150 [==============================] - 25s 165ms/step - loss: 0.6185 - accuracy: 0.7450 - val_loss: 0.8010 - val_accuracy: 0.6917\n",
      "Epoch 69/80\n",
      "150/150 [==============================] - 23s 150ms/step - loss: 0.6129 - accuracy: 0.7412 - val_loss: 0.8326 - val_accuracy: 0.6800\n",
      "Epoch 70/80\n",
      "150/150 [==============================] - 23s 152ms/step - loss: 0.6089 - accuracy: 0.7475 - val_loss: 0.8079 - val_accuracy: 0.6967\n",
      "Epoch 71/80\n",
      "150/150 [==============================] - 22s 143ms/step - loss: 0.5974 - accuracy: 0.7540 - val_loss: 0.8288 - val_accuracy: 0.6842\n",
      "Epoch 72/80\n",
      "150/150 [==============================] - 22s 146ms/step - loss: 0.6173 - accuracy: 0.7444 - val_loss: 0.8720 - val_accuracy: 0.6492\n",
      "Epoch 73/80\n",
      "150/150 [==============================] - 23s 154ms/step - loss: 0.6100 - accuracy: 0.7477 - val_loss: 0.8267 - val_accuracy: 0.6667\n",
      "Epoch 74/80\n",
      "150/150 [==============================] - 23s 153ms/step - loss: 0.5979 - accuracy: 0.7588 - val_loss: 0.8583 - val_accuracy: 0.6525\n",
      "Epoch 75/80\n",
      "150/150 [==============================] - 22s 146ms/step - loss: 0.6012 - accuracy: 0.7517 - val_loss: 0.8252 - val_accuracy: 0.6842\n",
      "Epoch 76/80\n",
      "150/150 [==============================] - 23s 150ms/step - loss: 0.5972 - accuracy: 0.7529 - val_loss: 0.8002 - val_accuracy: 0.6875\n",
      "Epoch 77/80\n",
      "150/150 [==============================] - 22s 146ms/step - loss: 0.6001 - accuracy: 0.7494 - val_loss: 0.8220 - val_accuracy: 0.6925\n",
      "Epoch 78/80\n",
      "150/150 [==============================] - 22s 148ms/step - loss: 0.5931 - accuracy: 0.7487 - val_loss: 0.8990 - val_accuracy: 0.6417\n",
      "Epoch 79/80\n",
      "150/150 [==============================] - 24s 160ms/step - loss: 0.6011 - accuracy: 0.7531 - val_loss: 0.8664 - val_accuracy: 0.6700\n",
      "Epoch 80/80\n",
      "150/150 [==============================] - 22s 149ms/step - loss: 0.5854 - accuracy: 0.7669 - val_loss: 0.8393 - val_accuracy: 0.6933\n"
     ]
    }
   ],
   "source": [
    "train, test = getGenerators(augment_data=True, simulationNames=['CDM_low','CDM','CDM_hi','SIDM0.1','SIDM1'], \n",
    "                                                      channels=['total','stellar','xray'], \n",
    "                                                      allDataFile='pickles/binned_data_20.pkl')\n",
    "\n",
    "checkpoint_filepath = 'models/test_baryon/%s_cdmall_0p1_1_tot_ste_xray_%i' % (model_name, random_state)\n",
    "\n",
    "\n",
    "all_cdm_plus_dm_3_channels = get_best_model( train, test, model_name=model_name, checkpoint_filepath=checkpoint_filepath)\n",
    "\n",
    "\n",
    "\n"
   ]
  },
  {
   "cell_type": "markdown",
   "metadata": {
    "jp-MarkdownHeadingCollapsed": true,
    "tags": []
   },
   "source": [
    "#### 4. Get the fiducial for total, xray and stellar for CDM and low fiducial (all_cdm_3_channel)"
   ]
  },
  {
   "cell_type": "code",
   "execution_count": 63,
   "metadata": {},
   "outputs": [
    {
     "name": "stdout",
     "output_type": "stream",
     "text": [
      "Epoch 1/80\n",
      "90/90 [==============================] - ETA: 0s - loss: 0.9386 - accuracy: 0.5288"
     ]
    },
    {
     "name": "stderr",
     "output_type": "stream",
     "text": [
      "WARNING:absl:Found untraced functions such as _update_step_xla, _jit_compiled_convolution_op, _jit_compiled_convolution_op, _jit_compiled_convolution_op while saving (showing 4 of 4). These functions will not be directly callable after loading.\n"
     ]
    },
    {
     "name": "stdout",
     "output_type": "stream",
     "text": [
      "INFO:tensorflow:Assets written to: models/test_baryon/simple_cdmfid_0p1_1_tot_ste_xray_42/assets\n"
     ]
    },
    {
     "name": "stderr",
     "output_type": "stream",
     "text": [
      "INFO:tensorflow:Assets written to: models/test_baryon/simple_cdmfid_0p1_1_tot_ste_xray_42/assets\n"
     ]
    },
    {
     "name": "stdout",
     "output_type": "stream",
     "text": [
      "90/90 [==============================] - 23s 237ms/step - loss: 0.9386 - accuracy: 0.5288 - val_loss: 0.8207 - val_accuracy: 0.5889\n",
      "Epoch 2/80\n",
      "90/90 [==============================] - ETA: 0s - loss: 0.8279 - accuracy: 0.5882"
     ]
    },
    {
     "name": "stderr",
     "output_type": "stream",
     "text": [
      "WARNING:absl:Found untraced functions such as _update_step_xla, _jit_compiled_convolution_op, _jit_compiled_convolution_op, _jit_compiled_convolution_op while saving (showing 4 of 4). These functions will not be directly callable after loading.\n"
     ]
    },
    {
     "name": "stdout",
     "output_type": "stream",
     "text": [
      "INFO:tensorflow:Assets written to: models/test_baryon/simple_cdmfid_0p1_1_tot_ste_xray_42/assets\n"
     ]
    },
    {
     "name": "stderr",
     "output_type": "stream",
     "text": [
      "INFO:tensorflow:Assets written to: models/test_baryon/simple_cdmfid_0p1_1_tot_ste_xray_42/assets\n"
     ]
    },
    {
     "name": "stdout",
     "output_type": "stream",
     "text": [
      "90/90 [==============================] - 17s 191ms/step - loss: 0.8279 - accuracy: 0.5882 - val_loss: 0.7788 - val_accuracy: 0.6097\n",
      "Epoch 3/80\n",
      "90/90 [==============================] - 19s 208ms/step - loss: 0.7490 - accuracy: 0.6323 - val_loss: 0.8198 - val_accuracy: 0.6056\n",
      "Epoch 4/80\n",
      "90/90 [==============================] - ETA: 0s - loss: 0.7320 - accuracy: 0.6431"
     ]
    },
    {
     "name": "stderr",
     "output_type": "stream",
     "text": [
      "WARNING:absl:Found untraced functions such as _update_step_xla, _jit_compiled_convolution_op, _jit_compiled_convolution_op, _jit_compiled_convolution_op while saving (showing 4 of 4). These functions will not be directly callable after loading.\n"
     ]
    },
    {
     "name": "stdout",
     "output_type": "stream",
     "text": [
      "INFO:tensorflow:Assets written to: models/test_baryon/simple_cdmfid_0p1_1_tot_ste_xray_42/assets\n"
     ]
    },
    {
     "name": "stderr",
     "output_type": "stream",
     "text": [
      "INFO:tensorflow:Assets written to: models/test_baryon/simple_cdmfid_0p1_1_tot_ste_xray_42/assets\n"
     ]
    },
    {
     "name": "stdout",
     "output_type": "stream",
     "text": [
      "90/90 [==============================] - 22s 243ms/step - loss: 0.7320 - accuracy: 0.6431 - val_loss: 0.6927 - val_accuracy: 0.6417\n",
      "Epoch 5/80\n",
      "90/90 [==============================] - ETA: 0s - loss: 0.6577 - accuracy: 0.6844"
     ]
    },
    {
     "name": "stderr",
     "output_type": "stream",
     "text": [
      "WARNING:absl:Found untraced functions such as _update_step_xla, _jit_compiled_convolution_op, _jit_compiled_convolution_op, _jit_compiled_convolution_op while saving (showing 4 of 4). These functions will not be directly callable after loading.\n"
     ]
    },
    {
     "name": "stdout",
     "output_type": "stream",
     "text": [
      "INFO:tensorflow:Assets written to: models/test_baryon/simple_cdmfid_0p1_1_tot_ste_xray_42/assets\n"
     ]
    },
    {
     "name": "stderr",
     "output_type": "stream",
     "text": [
      "INFO:tensorflow:Assets written to: models/test_baryon/simple_cdmfid_0p1_1_tot_ste_xray_42/assets\n"
     ]
    },
    {
     "name": "stdout",
     "output_type": "stream",
     "text": [
      "90/90 [==============================] - 15s 168ms/step - loss: 0.6577 - accuracy: 0.6844 - val_loss: 0.6324 - val_accuracy: 0.6819\n",
      "Epoch 6/80\n",
      "90/90 [==============================] - ETA: 0s - loss: 0.6411 - accuracy: 0.6875"
     ]
    },
    {
     "name": "stderr",
     "output_type": "stream",
     "text": [
      "WARNING:absl:Found untraced functions such as _update_step_xla, _jit_compiled_convolution_op, _jit_compiled_convolution_op, _jit_compiled_convolution_op while saving (showing 4 of 4). These functions will not be directly callable after loading.\n"
     ]
    },
    {
     "name": "stdout",
     "output_type": "stream",
     "text": [
      "INFO:tensorflow:Assets written to: models/test_baryon/simple_cdmfid_0p1_1_tot_ste_xray_42/assets\n"
     ]
    },
    {
     "name": "stderr",
     "output_type": "stream",
     "text": [
      "INFO:tensorflow:Assets written to: models/test_baryon/simple_cdmfid_0p1_1_tot_ste_xray_42/assets\n"
     ]
    },
    {
     "name": "stdout",
     "output_type": "stream",
     "text": [
      "90/90 [==============================] - 16s 179ms/step - loss: 0.6411 - accuracy: 0.6875 - val_loss: 0.6047 - val_accuracy: 0.7167\n",
      "Epoch 7/80\n",
      "90/90 [==============================] - 19s 209ms/step - loss: 0.6338 - accuracy: 0.6851 - val_loss: 0.6122 - val_accuracy: 0.7069\n",
      "Epoch 8/80\n",
      "90/90 [==============================] - ETA: 0s - loss: 0.5982 - accuracy: 0.7111"
     ]
    },
    {
     "name": "stderr",
     "output_type": "stream",
     "text": [
      "WARNING:absl:Found untraced functions such as _update_step_xla, _jit_compiled_convolution_op, _jit_compiled_convolution_op, _jit_compiled_convolution_op while saving (showing 4 of 4). These functions will not be directly callable after loading.\n"
     ]
    },
    {
     "name": "stdout",
     "output_type": "stream",
     "text": [
      "INFO:tensorflow:Assets written to: models/test_baryon/simple_cdmfid_0p1_1_tot_ste_xray_42/assets\n"
     ]
    },
    {
     "name": "stderr",
     "output_type": "stream",
     "text": [
      "INFO:tensorflow:Assets written to: models/test_baryon/simple_cdmfid_0p1_1_tot_ste_xray_42/assets\n"
     ]
    },
    {
     "name": "stdout",
     "output_type": "stream",
     "text": [
      "90/90 [==============================] - 21s 233ms/step - loss: 0.5982 - accuracy: 0.7111 - val_loss: 0.5728 - val_accuracy: 0.7389\n",
      "Epoch 9/80\n",
      "90/90 [==============================] - 16s 172ms/step - loss: 0.6027 - accuracy: 0.7097 - val_loss: 0.6205 - val_accuracy: 0.7083\n",
      "Epoch 10/80\n",
      "90/90 [==============================] - 13s 149ms/step - loss: 0.6075 - accuracy: 0.7076 - val_loss: 0.6107 - val_accuracy: 0.7194\n",
      "Epoch 11/80\n",
      "90/90 [==============================] - 20s 219ms/step - loss: 0.5821 - accuracy: 0.7260 - val_loss: 0.5715 - val_accuracy: 0.7347\n",
      "Epoch 12/80\n",
      "90/90 [==============================] - 20s 222ms/step - loss: 0.5680 - accuracy: 0.7316 - val_loss: 0.5650 - val_accuracy: 0.7375\n",
      "Epoch 13/80\n",
      "90/90 [==============================] - ETA: 0s - loss: 0.5736 - accuracy: 0.7271"
     ]
    },
    {
     "name": "stderr",
     "output_type": "stream",
     "text": [
      "WARNING:absl:Found untraced functions such as _update_step_xla, _jit_compiled_convolution_op, _jit_compiled_convolution_op, _jit_compiled_convolution_op while saving (showing 4 of 4). These functions will not be directly callable after loading.\n"
     ]
    },
    {
     "name": "stdout",
     "output_type": "stream",
     "text": [
      "INFO:tensorflow:Assets written to: models/test_baryon/simple_cdmfid_0p1_1_tot_ste_xray_42/assets\n"
     ]
    },
    {
     "name": "stderr",
     "output_type": "stream",
     "text": [
      "INFO:tensorflow:Assets written to: models/test_baryon/simple_cdmfid_0p1_1_tot_ste_xray_42/assets\n"
     ]
    },
    {
     "name": "stdout",
     "output_type": "stream",
     "text": [
      "90/90 [==============================] - 24s 264ms/step - loss: 0.5736 - accuracy: 0.7271 - val_loss: 0.5599 - val_accuracy: 0.7444\n",
      "Epoch 14/80\n",
      "90/90 [==============================] - 19s 214ms/step - loss: 0.5462 - accuracy: 0.7417 - val_loss: 0.5594 - val_accuracy: 0.7319\n",
      "Epoch 15/80\n",
      "90/90 [==============================] - 19s 208ms/step - loss: 0.5408 - accuracy: 0.7559 - val_loss: 0.5587 - val_accuracy: 0.7208\n",
      "Epoch 16/80\n",
      "90/90 [==============================] - 17s 185ms/step - loss: 0.5514 - accuracy: 0.7385 - val_loss: 0.5434 - val_accuracy: 0.7403\n",
      "Epoch 17/80\n",
      "90/90 [==============================] - 13s 142ms/step - loss: 0.5347 - accuracy: 0.7472 - val_loss: 0.5327 - val_accuracy: 0.7431\n",
      "Epoch 18/80\n",
      "90/90 [==============================] - 17s 184ms/step - loss: 0.5313 - accuracy: 0.7590 - val_loss: 0.5490 - val_accuracy: 0.7389\n",
      "Epoch 19/80\n",
      "90/90 [==============================] - 19s 206ms/step - loss: 0.5239 - accuracy: 0.7507 - val_loss: 0.5691 - val_accuracy: 0.7278\n",
      "Epoch 20/80\n",
      "90/90 [==============================] - ETA: 0s - loss: 0.5230 - accuracy: 0.7569"
     ]
    },
    {
     "name": "stderr",
     "output_type": "stream",
     "text": [
      "WARNING:absl:Found untraced functions such as _update_step_xla, _jit_compiled_convolution_op, _jit_compiled_convolution_op, _jit_compiled_convolution_op while saving (showing 4 of 4). These functions will not be directly callable after loading.\n"
     ]
    },
    {
     "name": "stdout",
     "output_type": "stream",
     "text": [
      "INFO:tensorflow:Assets written to: models/test_baryon/simple_cdmfid_0p1_1_tot_ste_xray_42/assets\n"
     ]
    },
    {
     "name": "stderr",
     "output_type": "stream",
     "text": [
      "INFO:tensorflow:Assets written to: models/test_baryon/simple_cdmfid_0p1_1_tot_ste_xray_42/assets\n"
     ]
    },
    {
     "name": "stdout",
     "output_type": "stream",
     "text": [
      "90/90 [==============================] - 22s 244ms/step - loss: 0.5230 - accuracy: 0.7569 - val_loss: 0.5208 - val_accuracy: 0.7514\n",
      "Epoch 21/80\n",
      "90/90 [==============================] - 10s 114ms/step - loss: 0.5218 - accuracy: 0.7563 - val_loss: 0.5256 - val_accuracy: 0.7389\n",
      "Epoch 22/80\n",
      "90/90 [==============================] - ETA: 0s - loss: 0.5161 - accuracy: 0.7469"
     ]
    },
    {
     "name": "stderr",
     "output_type": "stream",
     "text": [
      "WARNING:absl:Found untraced functions such as _update_step_xla, _jit_compiled_convolution_op, _jit_compiled_convolution_op, _jit_compiled_convolution_op while saving (showing 4 of 4). These functions will not be directly callable after loading.\n"
     ]
    },
    {
     "name": "stdout",
     "output_type": "stream",
     "text": [
      "INFO:tensorflow:Assets written to: models/test_baryon/simple_cdmfid_0p1_1_tot_ste_xray_42/assets\n"
     ]
    },
    {
     "name": "stderr",
     "output_type": "stream",
     "text": [
      "INFO:tensorflow:Assets written to: models/test_baryon/simple_cdmfid_0p1_1_tot_ste_xray_42/assets\n"
     ]
    },
    {
     "name": "stdout",
     "output_type": "stream",
     "text": [
      "90/90 [==============================] - 18s 195ms/step - loss: 0.5161 - accuracy: 0.7469 - val_loss: 0.5160 - val_accuracy: 0.7556\n",
      "Epoch 23/80\n",
      "90/90 [==============================] - 19s 208ms/step - loss: 0.5151 - accuracy: 0.7538 - val_loss: 0.5450 - val_accuracy: 0.7500\n",
      "Epoch 24/80\n",
      "90/90 [==============================] - 20s 218ms/step - loss: 0.5195 - accuracy: 0.7563 - val_loss: 0.5352 - val_accuracy: 0.7528\n",
      "Epoch 25/80\n",
      "90/90 [==============================] - 14s 157ms/step - loss: 0.5038 - accuracy: 0.7628 - val_loss: 0.5713 - val_accuracy: 0.7292\n",
      "Epoch 26/80\n",
      "90/90 [==============================] - 14s 153ms/step - loss: 0.4983 - accuracy: 0.7622 - val_loss: 0.5406 - val_accuracy: 0.7375\n",
      "Epoch 27/80\n",
      "90/90 [==============================] - 14s 154ms/step - loss: 0.5019 - accuracy: 0.7653 - val_loss: 0.5777 - val_accuracy: 0.7361\n",
      "Epoch 28/80\n",
      "90/90 [==============================] - 14s 154ms/step - loss: 0.5018 - accuracy: 0.7597 - val_loss: 0.5336 - val_accuracy: 0.7556\n",
      "Epoch 29/80\n",
      "90/90 [==============================] - 13s 148ms/step - loss: 0.4915 - accuracy: 0.7663 - val_loss: 0.5299 - val_accuracy: 0.7403\n",
      "Epoch 30/80\n",
      "90/90 [==============================] - ETA: 0s - loss: 0.4916 - accuracy: 0.7549"
     ]
    },
    {
     "name": "stderr",
     "output_type": "stream",
     "text": [
      "WARNING:absl:Found untraced functions such as _update_step_xla, _jit_compiled_convolution_op, _jit_compiled_convolution_op, _jit_compiled_convolution_op while saving (showing 4 of 4). These functions will not be directly callable after loading.\n"
     ]
    },
    {
     "name": "stdout",
     "output_type": "stream",
     "text": [
      "INFO:tensorflow:Assets written to: models/test_baryon/simple_cdmfid_0p1_1_tot_ste_xray_42/assets\n"
     ]
    },
    {
     "name": "stderr",
     "output_type": "stream",
     "text": [
      "INFO:tensorflow:Assets written to: models/test_baryon/simple_cdmfid_0p1_1_tot_ste_xray_42/assets\n"
     ]
    },
    {
     "name": "stdout",
     "output_type": "stream",
     "text": [
      "90/90 [==============================] - 15s 168ms/step - loss: 0.4916 - accuracy: 0.7549 - val_loss: 0.5018 - val_accuracy: 0.7611\n",
      "Epoch 31/80\n",
      "90/90 [==============================] - 14s 151ms/step - loss: 0.4939 - accuracy: 0.7688 - val_loss: 0.5042 - val_accuracy: 0.7514\n",
      "Epoch 32/80\n",
      "90/90 [==============================] - ETA: 0s - loss: 0.4827 - accuracy: 0.7708"
     ]
    },
    {
     "name": "stderr",
     "output_type": "stream",
     "text": [
      "WARNING:absl:Found untraced functions such as _update_step_xla, _jit_compiled_convolution_op, _jit_compiled_convolution_op, _jit_compiled_convolution_op while saving (showing 4 of 4). These functions will not be directly callable after loading.\n"
     ]
    },
    {
     "name": "stdout",
     "output_type": "stream",
     "text": [
      "INFO:tensorflow:Assets written to: models/test_baryon/simple_cdmfid_0p1_1_tot_ste_xray_42/assets\n"
     ]
    },
    {
     "name": "stderr",
     "output_type": "stream",
     "text": [
      "INFO:tensorflow:Assets written to: models/test_baryon/simple_cdmfid_0p1_1_tot_ste_xray_42/assets\n"
     ]
    },
    {
     "name": "stdout",
     "output_type": "stream",
     "text": [
      "90/90 [==============================] - 15s 165ms/step - loss: 0.4827 - accuracy: 0.7708 - val_loss: 0.5130 - val_accuracy: 0.7681\n",
      "Epoch 33/80\n",
      "90/90 [==============================] - 13s 149ms/step - loss: 0.4794 - accuracy: 0.7774 - val_loss: 0.5474 - val_accuracy: 0.7569\n",
      "Epoch 34/80\n",
      "90/90 [==============================] - 14s 154ms/step - loss: 0.4822 - accuracy: 0.7694 - val_loss: 0.4909 - val_accuracy: 0.7653\n",
      "Epoch 35/80\n",
      "90/90 [==============================] - 14s 152ms/step - loss: 0.4743 - accuracy: 0.7812 - val_loss: 0.4966 - val_accuracy: 0.7583\n",
      "Epoch 36/80\n",
      "90/90 [==============================] - ETA: 0s - loss: 0.4667 - accuracy: 0.7795"
     ]
    },
    {
     "name": "stderr",
     "output_type": "stream",
     "text": [
      "WARNING:absl:Found untraced functions such as _update_step_xla, _jit_compiled_convolution_op, _jit_compiled_convolution_op, _jit_compiled_convolution_op while saving (showing 4 of 4). These functions will not be directly callable after loading.\n"
     ]
    },
    {
     "name": "stdout",
     "output_type": "stream",
     "text": [
      "INFO:tensorflow:Assets written to: models/test_baryon/simple_cdmfid_0p1_1_tot_ste_xray_42/assets\n"
     ]
    },
    {
     "name": "stderr",
     "output_type": "stream",
     "text": [
      "INFO:tensorflow:Assets written to: models/test_baryon/simple_cdmfid_0p1_1_tot_ste_xray_42/assets\n"
     ]
    },
    {
     "name": "stdout",
     "output_type": "stream",
     "text": [
      "90/90 [==============================] - 18s 203ms/step - loss: 0.4667 - accuracy: 0.7795 - val_loss: 0.4914 - val_accuracy: 0.7708\n",
      "Epoch 37/80\n",
      "90/90 [==============================] - 19s 208ms/step - loss: 0.4674 - accuracy: 0.7854 - val_loss: 0.5189 - val_accuracy: 0.7556\n",
      "Epoch 38/80\n",
      "90/90 [==============================] - 18s 203ms/step - loss: 0.4687 - accuracy: 0.7865 - val_loss: 0.5065 - val_accuracy: 0.7514\n",
      "Epoch 39/80\n",
      "90/90 [==============================] - 19s 206ms/step - loss: 0.4625 - accuracy: 0.7847 - val_loss: 0.5219 - val_accuracy: 0.7403\n",
      "Epoch 40/80\n",
      "90/90 [==============================] - 16s 180ms/step - loss: 0.4832 - accuracy: 0.7649 - val_loss: 0.5014 - val_accuracy: 0.7667\n",
      "Epoch 41/80\n",
      "90/90 [==============================] - ETA: 0s - loss: 0.4631 - accuracy: 0.7851"
     ]
    },
    {
     "name": "stderr",
     "output_type": "stream",
     "text": [
      "WARNING:absl:Found untraced functions such as _update_step_xla, _jit_compiled_convolution_op, _jit_compiled_convolution_op, _jit_compiled_convolution_op while saving (showing 4 of 4). These functions will not be directly callable after loading.\n"
     ]
    },
    {
     "name": "stdout",
     "output_type": "stream",
     "text": [
      "INFO:tensorflow:Assets written to: models/test_baryon/simple_cdmfid_0p1_1_tot_ste_xray_42/assets\n"
     ]
    },
    {
     "name": "stderr",
     "output_type": "stream",
     "text": [
      "INFO:tensorflow:Assets written to: models/test_baryon/simple_cdmfid_0p1_1_tot_ste_xray_42/assets\n"
     ]
    },
    {
     "name": "stdout",
     "output_type": "stream",
     "text": [
      "90/90 [==============================] - 14s 151ms/step - loss: 0.4631 - accuracy: 0.7851 - val_loss: 0.4919 - val_accuracy: 0.7722\n",
      "Epoch 42/80\n",
      "90/90 [==============================] - 17s 190ms/step - loss: 0.4567 - accuracy: 0.7847 - val_loss: 0.4879 - val_accuracy: 0.7611\n",
      "Epoch 43/80\n",
      "90/90 [==============================] - 19s 209ms/step - loss: 0.4554 - accuracy: 0.7937 - val_loss: 0.4814 - val_accuracy: 0.7722\n",
      "Epoch 44/80\n",
      "90/90 [==============================] - ETA: 0s - loss: 0.4478 - accuracy: 0.7868"
     ]
    },
    {
     "name": "stderr",
     "output_type": "stream",
     "text": [
      "WARNING:absl:Found untraced functions such as _update_step_xla, _jit_compiled_convolution_op, _jit_compiled_convolution_op, _jit_compiled_convolution_op while saving (showing 4 of 4). These functions will not be directly callable after loading.\n"
     ]
    },
    {
     "name": "stdout",
     "output_type": "stream",
     "text": [
      "INFO:tensorflow:Assets written to: models/test_baryon/simple_cdmfid_0p1_1_tot_ste_xray_42/assets\n"
     ]
    },
    {
     "name": "stderr",
     "output_type": "stream",
     "text": [
      "INFO:tensorflow:Assets written to: models/test_baryon/simple_cdmfid_0p1_1_tot_ste_xray_42/assets\n"
     ]
    },
    {
     "name": "stdout",
     "output_type": "stream",
     "text": [
      "90/90 [==============================] - 21s 232ms/step - loss: 0.4478 - accuracy: 0.7868 - val_loss: 0.4878 - val_accuracy: 0.7833\n",
      "Epoch 45/80\n",
      "90/90 [==============================] - 19s 209ms/step - loss: 0.4445 - accuracy: 0.7931 - val_loss: 0.5064 - val_accuracy: 0.7653\n",
      "Epoch 46/80\n",
      "90/90 [==============================] - 19s 215ms/step - loss: 0.4601 - accuracy: 0.7792 - val_loss: 0.4774 - val_accuracy: 0.7653\n",
      "Epoch 47/80\n",
      "90/90 [==============================] - 19s 215ms/step - loss: 0.4587 - accuracy: 0.7819 - val_loss: 0.4815 - val_accuracy: 0.7611\n",
      "Epoch 48/80\n",
      "90/90 [==============================] - 18s 205ms/step - loss: 0.4509 - accuracy: 0.7934 - val_loss: 0.5372 - val_accuracy: 0.7458\n",
      "Epoch 49/80\n",
      "90/90 [==============================] - 19s 207ms/step - loss: 0.4453 - accuracy: 0.7944 - val_loss: 0.4821 - val_accuracy: 0.7583\n",
      "Epoch 50/80\n",
      "90/90 [==============================] - 19s 216ms/step - loss: 0.4406 - accuracy: 0.8017 - val_loss: 0.4731 - val_accuracy: 0.7819\n",
      "Epoch 51/80\n",
      "90/90 [==============================] - 20s 217ms/step - loss: 0.4466 - accuracy: 0.7924 - val_loss: 0.4871 - val_accuracy: 0.7694\n",
      "Epoch 52/80\n",
      "90/90 [==============================] - 21s 229ms/step - loss: 0.4410 - accuracy: 0.7924 - val_loss: 0.4871 - val_accuracy: 0.7736\n",
      "Epoch 53/80\n",
      "90/90 [==============================] - 20s 221ms/step - loss: 0.4305 - accuracy: 0.7986 - val_loss: 0.4890 - val_accuracy: 0.7681\n",
      "Epoch 54/80\n",
      "90/90 [==============================] - 19s 210ms/step - loss: 0.4389 - accuracy: 0.7913 - val_loss: 0.5015 - val_accuracy: 0.7611\n",
      "Epoch 55/80\n",
      "90/90 [==============================] - ETA: 0s - loss: 0.4347 - accuracy: 0.7965"
     ]
    },
    {
     "name": "stderr",
     "output_type": "stream",
     "text": [
      "WARNING:absl:Found untraced functions such as _update_step_xla, _jit_compiled_convolution_op, _jit_compiled_convolution_op, _jit_compiled_convolution_op while saving (showing 4 of 4). These functions will not be directly callable after loading.\n"
     ]
    },
    {
     "name": "stdout",
     "output_type": "stream",
     "text": [
      "INFO:tensorflow:Assets written to: models/test_baryon/simple_cdmfid_0p1_1_tot_ste_xray_42/assets\n"
     ]
    },
    {
     "name": "stderr",
     "output_type": "stream",
     "text": [
      "INFO:tensorflow:Assets written to: models/test_baryon/simple_cdmfid_0p1_1_tot_ste_xray_42/assets\n"
     ]
    },
    {
     "name": "stdout",
     "output_type": "stream",
     "text": [
      "90/90 [==============================] - 22s 244ms/step - loss: 0.4347 - accuracy: 0.7965 - val_loss: 0.4785 - val_accuracy: 0.7847\n",
      "Epoch 56/80\n",
      "90/90 [==============================] - 19s 209ms/step - loss: 0.4258 - accuracy: 0.8049 - val_loss: 0.4884 - val_accuracy: 0.7847\n",
      "Epoch 57/80\n",
      "90/90 [==============================] - 20s 218ms/step - loss: 0.4334 - accuracy: 0.7962 - val_loss: 0.4700 - val_accuracy: 0.7792\n",
      "Epoch 58/80\n",
      "90/90 [==============================] - 18s 196ms/step - loss: 0.4341 - accuracy: 0.7920 - val_loss: 0.4786 - val_accuracy: 0.7819\n",
      "Epoch 59/80\n",
      "90/90 [==============================] - 14s 150ms/step - loss: 0.4365 - accuracy: 0.7986 - val_loss: 0.5196 - val_accuracy: 0.7569\n",
      "Epoch 60/80\n",
      "90/90 [==============================] - 16s 175ms/step - loss: 0.4396 - accuracy: 0.7847 - val_loss: 0.4990 - val_accuracy: 0.7722\n",
      "Epoch 61/80\n",
      "90/90 [==============================] - 19s 209ms/step - loss: 0.4436 - accuracy: 0.7885 - val_loss: 0.4789 - val_accuracy: 0.7625\n",
      "Epoch 62/80\n",
      "90/90 [==============================] - 14s 159ms/step - loss: 0.4098 - accuracy: 0.8087 - val_loss: 0.4773 - val_accuracy: 0.7764\n",
      "Epoch 63/80\n",
      "90/90 [==============================] - 12s 138ms/step - loss: 0.4204 - accuracy: 0.8111 - val_loss: 0.5286 - val_accuracy: 0.7569\n",
      "Epoch 64/80\n",
      "90/90 [==============================] - 18s 195ms/step - loss: 0.4090 - accuracy: 0.8094 - val_loss: 0.4726 - val_accuracy: 0.7750\n",
      "Epoch 65/80\n",
      "90/90 [==============================] - 19s 216ms/step - loss: 0.4205 - accuracy: 0.8003 - val_loss: 0.5005 - val_accuracy: 0.7639\n",
      "Epoch 66/80\n",
      "90/90 [==============================] - 19s 214ms/step - loss: 0.4104 - accuracy: 0.8010 - val_loss: 0.4630 - val_accuracy: 0.7736\n",
      "Epoch 67/80\n",
      "90/90 [==============================] - 13s 143ms/step - loss: 0.4075 - accuracy: 0.8142 - val_loss: 0.4966 - val_accuracy: 0.7639\n",
      "Epoch 68/80\n",
      "90/90 [==============================] - 15s 169ms/step - loss: 0.4049 - accuracy: 0.8163 - val_loss: 0.4723 - val_accuracy: 0.7722\n",
      "Epoch 69/80\n",
      "90/90 [==============================] - 19s 207ms/step - loss: 0.4002 - accuracy: 0.8167 - val_loss: 0.4802 - val_accuracy: 0.7611\n",
      "Epoch 70/80\n",
      "90/90 [==============================] - 18s 202ms/step - loss: 0.4070 - accuracy: 0.8170 - val_loss: 0.4649 - val_accuracy: 0.7708\n",
      "Epoch 71/80\n",
      "90/90 [==============================] - 16s 172ms/step - loss: 0.3948 - accuracy: 0.8201 - val_loss: 0.4752 - val_accuracy: 0.7764\n",
      "Epoch 72/80\n",
      "90/90 [==============================] - 12s 138ms/step - loss: 0.4012 - accuracy: 0.8080 - val_loss: 0.5045 - val_accuracy: 0.7736\n",
      "Epoch 73/80\n",
      "90/90 [==============================] - 16s 178ms/step - loss: 0.4032 - accuracy: 0.8115 - val_loss: 0.4915 - val_accuracy: 0.7639\n",
      "Epoch 74/80\n",
      "90/90 [==============================] - 18s 198ms/step - loss: 0.3982 - accuracy: 0.8146 - val_loss: 0.4748 - val_accuracy: 0.7764\n",
      "Epoch 75/80\n",
      "90/90 [==============================] - 18s 201ms/step - loss: 0.3985 - accuracy: 0.8174 - val_loss: 0.5105 - val_accuracy: 0.7681\n",
      "Epoch 76/80\n",
      "90/90 [==============================] - ETA: 0s - loss: 0.4030 - accuracy: 0.8194"
     ]
    },
    {
     "name": "stderr",
     "output_type": "stream",
     "text": [
      "WARNING:absl:Found untraced functions such as _update_step_xla, _jit_compiled_convolution_op, _jit_compiled_convolution_op, _jit_compiled_convolution_op while saving (showing 4 of 4). These functions will not be directly callable after loading.\n"
     ]
    },
    {
     "name": "stdout",
     "output_type": "stream",
     "text": [
      "INFO:tensorflow:Assets written to: models/test_baryon/simple_cdmfid_0p1_1_tot_ste_xray_42/assets\n"
     ]
    },
    {
     "name": "stderr",
     "output_type": "stream",
     "text": [
      "INFO:tensorflow:Assets written to: models/test_baryon/simple_cdmfid_0p1_1_tot_ste_xray_42/assets\n"
     ]
    },
    {
     "name": "stdout",
     "output_type": "stream",
     "text": [
      "90/90 [==============================] - 20s 225ms/step - loss: 0.4030 - accuracy: 0.8194 - val_loss: 0.4796 - val_accuracy: 0.7917\n",
      "Epoch 77/80\n",
      "90/90 [==============================] - 19s 211ms/step - loss: 0.3927 - accuracy: 0.8264 - val_loss: 0.4799 - val_accuracy: 0.7792\n",
      "Epoch 78/80\n",
      "90/90 [==============================] - 18s 206ms/step - loss: 0.3998 - accuracy: 0.8094 - val_loss: 0.4684 - val_accuracy: 0.7708\n",
      "Epoch 79/80\n",
      "90/90 [==============================] - 18s 198ms/step - loss: 0.3910 - accuracy: 0.8188 - val_loss: 0.4960 - val_accuracy: 0.7722\n",
      "Epoch 80/80\n",
      "90/90 [==============================] - ETA: 0s - loss: 0.4108 - accuracy: 0.8076"
     ]
    },
    {
     "name": "stderr",
     "output_type": "stream",
     "text": [
      "WARNING:absl:Found untraced functions such as _update_step_xla, _jit_compiled_convolution_op, _jit_compiled_convolution_op, _jit_compiled_convolution_op while saving (showing 4 of 4). These functions will not be directly callable after loading.\n"
     ]
    },
    {
     "name": "stdout",
     "output_type": "stream",
     "text": [
      "INFO:tensorflow:Assets written to: models/test_baryon/simple_cdmfid_0p1_1_tot_ste_xray_42/assets\n"
     ]
    },
    {
     "name": "stderr",
     "output_type": "stream",
     "text": [
      "INFO:tensorflow:Assets written to: models/test_baryon/simple_cdmfid_0p1_1_tot_ste_xray_42/assets\n"
     ]
    },
    {
     "name": "stdout",
     "output_type": "stream",
     "text": [
      "90/90 [==============================] - 20s 222ms/step - loss: 0.4108 - accuracy: 0.8076 - val_loss: 0.4624 - val_accuracy: 0.7972\n"
     ]
    }
   ],
   "source": [
    "train, test = getGenerators(augment_data=True, simulationNames=['CDM','SIDM0.1','SIDM1'], \n",
    "                                                      channels=['total','stellar','xray'], \n",
    "                                                      allDataFile='pickles/binned_data_20.pkl')\n",
    "\n",
    "checkpoint_filepath = 'models/test_baryon/%s_cdmfid_0p1_1_tot_ste_xray_%i' % (model_name, random_state)\n",
    "\n",
    "\n",
    "fid_cdm_3_channel = get_best_model( train, test, model_name=model_name, checkpoint_filepath=checkpoint_filepath)\n",
    "\n",
    "\n",
    "\n"
   ]
  },
  {
   "cell_type": "markdown",
   "metadata": {
    "tags": []
   },
   "source": [
    "#### 5. Get the fiducial for xray only for CDM and low and high (all_cdm_xray_only)"
   ]
  },
  {
   "cell_type": "code",
   "execution_count": null,
   "metadata": {
    "tags": []
   },
   "outputs": [],
   "source": [
    "train, test = getGenerators(augment_data=True, simulationNames=['CDM_low','CDM','CDM_hi'], \n",
    "                                                      channels=['xray'], \n",
    "                                                      allDataFile='pickles/binned_data_20.pkl')\n",
    "num_classes = len(np.unique(test[1]))\n",
    "all_cdm_xray_only = simpleCNN.getModel_ds(num_classes)\n",
    "history = all_cdm_xray_only.fit(\n",
    "  x=train,\n",
    "  validation_data=test,\n",
    "  epochs=epochs\n",
    ")"
   ]
  },
  {
   "cell_type": "code",
   "execution_count": null,
   "metadata": {
    "tags": []
   },
   "outputs": [],
   "source": [
    "y_pred = predict( test[0], [all_cdm_xray_only] )\n",
    "plot_confusion_matrix( test[1], y_pred)"
   ]
  },
  {
   "cell_type": "markdown",
   "metadata": {},
   "source": [
    "#### Plot"
   ]
  },
  {
   "cell_type": "code",
   "execution_count": 70,
   "metadata": {
    "tags": []
   },
   "outputs": [],
   "source": [
    "models = [ fiducial_model, fid_cdm_3_channel, all_cdm_plus_dm, all_cdm_plus_dm_3_channels ]\n"
   ]
  },
  {
   "cell_type": "code",
   "execution_count": 71,
   "metadata": {
    "tags": []
   },
   "outputs": [],
   "source": [
    "histories = [ i.history.history for i in models ]\n"
   ]
  },
  {
   "cell_type": "code",
   "execution_count": 72,
   "metadata": {
    "tags": []
   },
   "outputs": [],
   "source": [
    "pkl.dump(histories, open(\"pickles/test_baryon.pkl\",\"wb\"))"
   ]
  },
  {
   "cell_type": "code",
   "execution_count": 3,
   "metadata": {
    "tags": []
   },
   "outputs": [
    {
     "data": {
      "image/png": "[encoded data removed]",
      "text/plain": [
       "<Figure size 500x300 with 1 Axes>"
      ]
     },
     "metadata": {},
     "output_type": "display_data"
    }
   ],
   "source": [
    "#models = [ model,  two_channel_model, two_channel_xr_model, three_channel_model, correlation_model, correlation_model_w_stellar]\n",
    "plt.figure(figsize=(5,3))\n",
    "plt.xlabel('Epoch')\n",
    "plt.ylabel('Validation Acccuracy')\n",
    "histories = pkl.load(open(\"pickles/test_baryon.pkl\",\"rb\"))\n",
    "c = ['r','b','g','c']\n",
    "names = ['CDM Fid (Total + Stellar)', 'CDM Fid (Total + Stellar + Xray)', \\\n",
    "         'CDM All (Total + Stellar)', 'CDM All (Total + Stellar + Xray)']\n",
    "for i, iModel in enumerate(histories):\n",
    "    plt.plot(np.arange(len(iModel['val_accuracy'])), iModel['val_accuracy'], label=names[i], c=c[i])\n",
    "    #plt.plot(iModel.history.epoch, [np.max(iModel.history.history['val_accuracy'])]*len(iModel.history.epoch), c=c[i])\n",
    "    #print(np.max(iModel.history.history['val_accuracy']))\n",
    "\n",
    "plt.legend(loc=4)\n",
    "plt.ylim(0.2,0.82)\n",
    "plt.savefig(\"../plots/baryons_test.pdf\")"
   ]
  },
  {
   "cell_type": "code",
   "execution_count": 4,
   "metadata": {
    "tags": []
   },
   "outputs": [
    {
     "data": {
      "image/png": "[encoded data removed]",
      "text/plain": [
       "<Figure size 500x300 with 1 Axes>"
      ]
     },
     "metadata": {},
     "output_type": "display_data"
    }
   ],
   "source": [
    "#models = [ model,  two_channel_model, two_channel_xr_model, three_channel_model, correlation_model, correlation_model_w_stellar]\n",
    "plt.figure(figsize=(5,3))\n",
    "plt.xlabel('Epoch')\n",
    "plt.ylabel('Validation Acccuracy')\n",
    "histories = pkl.load(open(\"pickles/test_baryon.pkl\",\"rb\"))\n",
    "c = ['r','b','g','c']\n",
    "names = ['CDM Fid (Total + Stellar)', 'CDM Fid (Total + Stellar + Xray)', \\\n",
    "         'CDM All (Total + Stellar)', 'CDM All (Total + Stellar + Xray)']\n",
    "for i, iModel in enumerate(histories):\n",
    "    plt.plot(np.arange(len(iModel['val_accuracy'])), iModel['val_accuracy'], label=names[i], c=c[i])\n",
    "    #plt.plot(iModel.history.epoch, [np.max(iModel.history.history['val_accuracy'])]*len(iModel.history.epoch), c=c[i])\n",
    "    #print(np.max(iModel.history.history['val_accuracy']))\n",
    "\n",
    "    plt.legend(loc=4)\n",
    "    plt.ylim(0.2,0.82)\n",
    "    plt.savefig(\"../plots/baryons_test_%i.pdf\" %i)"
   ]
  },
  {
   "cell_type": "code",
   "execution_count": null,
   "metadata": {
    "tags": []
   },
   "outputs": [],
   "source": [
    "train, test = getGenerators(augment_data=True, simulationNames=['CDM_low','CDM','CDM_hi','SIDM0.1','SIDM1'], \n",
    "                                                      channels=['total','stellar'], \n",
    "                                                      allDataFile='pickles/binned_data_20.pkl')\n",
    "y_pred = predict( test[0], [all_cdm_plus_dm] )\n"
   ]
  },
  {
   "cell_type": "code",
   "execution_count": null,
   "metadata": {
    "tags": []
   },
   "outputs": [],
   "source": [
    "train_three_channel, test_three_chanel = getGenerators(augment_data=True, simulationNames=['CDM_low','CDM','CDM_hi','SIDM0.1','SIDM1'], \n",
    "                                                      channels=['total','stellar','xray'], \n",
    "                                                      allDataFile='pickles/binned_data_20.pkl')\n",
    "y_pred_three_channel = predict( test_three_chanel[0], [all_cdm_plus_dm_3_channels] )\n"
   ]
  },
  {
   "cell_type": "code",
   "execution_count": 88,
   "metadata": {
    "tags": []
   },
   "outputs": [
    {
     "data": {
      "text/plain": [
       "<matplotlib.transforms.BboxTransformTo at 0x2bc8d5510>"
      ]
     },
     "execution_count": 88,
     "metadata": {},
     "output_type": "execute_result"
    }
   ],
   "source": [
    "axarr[0].transAxes"
   ]
  },
  {
   "cell_type": "code",
   "execution_count": 117,
   "metadata": {
    "tags": []
   },
   "outputs": [
    {
     "name": "stderr",
     "output_type": "stream",
     "text": [
      "/Users/davidharvey/Work/darkCNN/examples/tools.py:22: UserWarning: FixedFormatter should only be used together with FixedLocator\n",
      "  ax.set_yticklabels([''] + labels, size = 15)\n",
      "/Users/davidharvey/Work/darkCNN/examples/tools.py:27: UserWarning: FixedFormatter should only be used together with FixedLocator\n",
      "  for j in range(len(cm)):\n",
      "/Users/davidharvey/Work/darkCNN/examples/tools.py:22: UserWarning: FixedFormatter should only be used together with FixedLocator\n",
      "  ax.set_yticklabels([''] + labels, size = 15)\n",
      "/Users/davidharvey/Work/darkCNN/examples/tools.py:29: UserWarning: FixedFormatter should only be used together with FixedLocator\n",
      "  (j,i),horizontalalignment='center',verticalalignment='center',size=15,color='black')\n"
     ]
    },
    {
     "data": {
      "image/png": "[encoded data removed]",
      "text/plain": [
       "<Figure size 800x500 with 2 Axes>"
      ]
     },
     "metadata": {},
     "output_type": "display_data"
    }
   ],
   "source": [
    "fig, axarr = plt.subplots( 1,2, figsize=(8,5))\n",
    "fig.subplots_adjust(wspace=0.1)\n",
    "plot_confusion_matrix( test[1], y_pred, labels=['CDM-low','CDM','CDM-hi','SIDM0.1','SIDM1.0'], \n",
    "                      ax=axarr[0], cbar=False)\n",
    "plot_confusion_matrix( test_three_chanel[1], y_pred_three_channel, \n",
    "                      labels=['CDM-low','CDM','CDM-hi','SIDM0.1','SIDM1.0'],\n",
    "                      ax=axarr[1], ylabel=False, cbar=False )\n",
    "title = axarr[0].set_title('Total + Stellar')\n",
    "title = axarr[1].set_title('Total + Stellar + X-ray')\n",
    "for i in axarr:\n",
    "    #i.fill_between([-0.5,2.5],[-0.5,-0.5],[2.5,2.5],color='grey',alpha=0.2)\n",
    "    i.plot([-0.5,2.5],[-0.5,-0.5],'k-')\n",
    "    i.plot([-0.5,2.5],[2.5,2.5],'k-')\n",
    "    i.plot([-0.5,-0.5],[-0.5,2.5],'k-')\n",
    "    i.plot([2.5,2.5],[-0.5,2.5],'k-')\n",
    "plt.savefig(\"../plots/baryonic_confusion.pdf\")"
   ]
  },
  {
   "cell_type": "markdown",
   "metadata": {},
   "source": [
    "#### Can it determine the baryonic model from SIDM?"
   ]
  },
  {
   "cell_type": "code",
   "execution_count": 29,
   "metadata": {
    "tags": []
   },
   "outputs": [
    {
     "name": "stdout",
     "output_type": "stream",
     "text": [
      "Epoch 1/80\n",
      "90/90 [==============================] - 7s 75ms/step - loss: 0.9981 - accuracy: 0.4927 - val_loss: 0.9713 - val_accuracy: 0.5125\n",
      "Epoch 2/80\n",
      "90/90 [==============================] - 6s 71ms/step - loss: 0.8976 - accuracy: 0.5705 - val_loss: 0.8900 - val_accuracy: 0.5583\n",
      "Epoch 3/80\n",
      "90/90 [==============================] - 6s 64ms/step - loss: 0.8151 - accuracy: 0.6087 - val_loss: 0.8290 - val_accuracy: 0.6194\n",
      "Epoch 4/80\n",
      "90/90 [==============================] - 7s 72ms/step - loss: 0.7760 - accuracy: 0.6396 - val_loss: 0.7915 - val_accuracy: 0.6361\n",
      "Epoch 5/80\n",
      "90/90 [==============================] - 6s 71ms/step - loss: 0.7581 - accuracy: 0.6493 - val_loss: 0.7805 - val_accuracy: 0.6444\n",
      "Epoch 6/80\n",
      "90/90 [==============================] - 6s 64ms/step - loss: 0.7524 - accuracy: 0.6559 - val_loss: 0.7562 - val_accuracy: 0.6556\n",
      "Epoch 7/80\n",
      "90/90 [==============================] - 6s 65ms/step - loss: 0.7471 - accuracy: 0.6712 - val_loss: 0.7863 - val_accuracy: 0.6389\n",
      "Epoch 8/80\n",
      "90/90 [==============================] - 6s 71ms/step - loss: 0.7547 - accuracy: 0.6451 - val_loss: 0.7787 - val_accuracy: 0.6500\n",
      "Epoch 9/80\n",
      "90/90 [==============================] - 6s 72ms/step - loss: 0.7381 - accuracy: 0.6611 - val_loss: 0.7513 - val_accuracy: 0.6625\n",
      "Epoch 10/80\n",
      "90/90 [==============================] - 6s 70ms/step - loss: 0.7239 - accuracy: 0.6635 - val_loss: 0.7343 - val_accuracy: 0.6722\n",
      "Epoch 11/80\n",
      "90/90 [==============================] - 7s 72ms/step - loss: 0.7188 - accuracy: 0.6635 - val_loss: 0.7841 - val_accuracy: 0.6181\n",
      "Epoch 12/80\n",
      "90/90 [==============================] - 7s 75ms/step - loss: 0.7494 - accuracy: 0.6566 - val_loss: 0.8222 - val_accuracy: 0.6181\n",
      "Epoch 13/80\n",
      "90/90 [==============================] - 7s 72ms/step - loss: 0.7294 - accuracy: 0.6618 - val_loss: 0.7661 - val_accuracy: 0.6556\n",
      "Epoch 14/80\n",
      "90/90 [==============================] - 6s 65ms/step - loss: 0.7143 - accuracy: 0.6712 - val_loss: 0.7416 - val_accuracy: 0.6583\n",
      "Epoch 15/80\n",
      "90/90 [==============================] - 7s 75ms/step - loss: 0.7157 - accuracy: 0.6792 - val_loss: 0.7356 - val_accuracy: 0.6528\n",
      "Epoch 16/80\n",
      "90/90 [==============================] - 7s 72ms/step - loss: 0.7060 - accuracy: 0.6736 - val_loss: 0.7385 - val_accuracy: 0.6750\n",
      "Epoch 17/80\n",
      "90/90 [==============================] - 6s 68ms/step - loss: 0.6993 - accuracy: 0.6851 - val_loss: 0.7364 - val_accuracy: 0.6625\n",
      "Epoch 18/80\n",
      "90/90 [==============================] - 6s 68ms/step - loss: 0.7070 - accuracy: 0.6722 - val_loss: 0.8286 - val_accuracy: 0.6264\n",
      "Epoch 19/80\n",
      "90/90 [==============================] - 7s 78ms/step - loss: 0.7102 - accuracy: 0.6774 - val_loss: 0.7265 - val_accuracy: 0.6653\n",
      "Epoch 20/80\n",
      "90/90 [==============================] - 7s 81ms/step - loss: 0.6950 - accuracy: 0.6792 - val_loss: 0.7128 - val_accuracy: 0.6972\n",
      "Epoch 21/80\n",
      "90/90 [==============================] - 7s 74ms/step - loss: 0.6896 - accuracy: 0.6830 - val_loss: 0.6948 - val_accuracy: 0.6875\n",
      "Epoch 22/80\n",
      "90/90 [==============================] - 7s 77ms/step - loss: 0.6997 - accuracy: 0.6812 - val_loss: 0.7089 - val_accuracy: 0.6778\n",
      "Epoch 23/80\n",
      "90/90 [==============================] - 8s 83ms/step - loss: 0.6962 - accuracy: 0.6774 - val_loss: 0.7033 - val_accuracy: 0.6931\n",
      "Epoch 24/80\n",
      "90/90 [==============================] - 6s 71ms/step - loss: 0.7140 - accuracy: 0.6740 - val_loss: 0.7321 - val_accuracy: 0.6708\n",
      "Epoch 25/80\n",
      "90/90 [==============================] - 7s 75ms/step - loss: 0.6902 - accuracy: 0.6878 - val_loss: 0.7079 - val_accuracy: 0.6764\n",
      "Epoch 26/80\n",
      "90/90 [==============================] - 7s 80ms/step - loss: 0.6879 - accuracy: 0.6816 - val_loss: 0.7140 - val_accuracy: 0.6806\n",
      "Epoch 27/80\n",
      "90/90 [==============================] - 8s 87ms/step - loss: 0.6767 - accuracy: 0.6955 - val_loss: 0.7067 - val_accuracy: 0.6722\n",
      "Epoch 28/80\n",
      "90/90 [==============================] - 7s 74ms/step - loss: 0.6900 - accuracy: 0.6896 - val_loss: 0.6963 - val_accuracy: 0.6917\n",
      "Epoch 29/80\n",
      "90/90 [==============================] - 6s 71ms/step - loss: 0.6754 - accuracy: 0.6958 - val_loss: 0.6941 - val_accuracy: 0.7000\n",
      "Epoch 30/80\n",
      "90/90 [==============================] - 7s 77ms/step - loss: 0.6899 - accuracy: 0.6837 - val_loss: 0.6947 - val_accuracy: 0.6833\n",
      "Epoch 31/80\n",
      "90/90 [==============================] - 7s 81ms/step - loss: 0.6753 - accuracy: 0.6983 - val_loss: 0.6971 - val_accuracy: 0.6986\n",
      "Epoch 32/80\n",
      "90/90 [==============================] - 7s 75ms/step - loss: 0.6761 - accuracy: 0.6951 - val_loss: 0.6914 - val_accuracy: 0.7139\n",
      "Epoch 33/80\n",
      "90/90 [==============================] - 7s 77ms/step - loss: 0.6785 - accuracy: 0.6938 - val_loss: 0.7967 - val_accuracy: 0.6236\n",
      "Epoch 34/80\n",
      "90/90 [==============================] - 7s 78ms/step - loss: 0.6771 - accuracy: 0.6927 - val_loss: 0.7168 - val_accuracy: 0.6681\n",
      "Epoch 35/80\n",
      "90/90 [==============================] - 7s 75ms/step - loss: 0.6719 - accuracy: 0.6976 - val_loss: 0.6978 - val_accuracy: 0.6819\n",
      "Epoch 36/80\n",
      "90/90 [==============================] - 6s 72ms/step - loss: 0.6729 - accuracy: 0.6903 - val_loss: 0.7544 - val_accuracy: 0.6639\n",
      "Epoch 37/80\n",
      "90/90 [==============================] - 7s 80ms/step - loss: 0.6674 - accuracy: 0.6993 - val_loss: 0.6926 - val_accuracy: 0.6903\n",
      "Epoch 38/80\n",
      "90/90 [==============================] - 7s 79ms/step - loss: 0.6590 - accuracy: 0.7007 - val_loss: 0.6903 - val_accuracy: 0.6986\n",
      "Epoch 39/80\n",
      "90/90 [==============================] - 7s 76ms/step - loss: 0.6653 - accuracy: 0.6944 - val_loss: 0.6793 - val_accuracy: 0.7111\n",
      "Epoch 40/80\n",
      "90/90 [==============================] - 7s 74ms/step - loss: 0.6579 - accuracy: 0.6993 - val_loss: 0.6865 - val_accuracy: 0.7194\n",
      "Epoch 41/80\n",
      "90/90 [==============================] - 7s 78ms/step - loss: 0.6601 - accuracy: 0.7122 - val_loss: 0.7135 - val_accuracy: 0.6861\n",
      "Epoch 42/80\n",
      "90/90 [==============================] - 7s 79ms/step - loss: 0.6944 - accuracy: 0.6896 - val_loss: 0.7501 - val_accuracy: 0.6625\n",
      "Epoch 43/80\n",
      "90/90 [==============================] - 7s 73ms/step - loss: 0.6646 - accuracy: 0.7035 - val_loss: 0.6802 - val_accuracy: 0.6931\n",
      "Epoch 44/80\n",
      "90/90 [==============================] - 7s 81ms/step - loss: 0.6626 - accuracy: 0.7028 - val_loss: 0.6915 - val_accuracy: 0.6736\n",
      "Epoch 45/80\n",
      "90/90 [==============================] - 7s 76ms/step - loss: 0.6618 - accuracy: 0.7049 - val_loss: 0.6936 - val_accuracy: 0.6806\n",
      "Epoch 46/80\n",
      "90/90 [==============================] - 7s 76ms/step - loss: 0.6592 - accuracy: 0.7017 - val_loss: 0.6877 - val_accuracy: 0.6944\n",
      "Epoch 47/80\n",
      "90/90 [==============================] - 7s 76ms/step - loss: 0.6595 - accuracy: 0.7059 - val_loss: 0.7076 - val_accuracy: 0.6847\n",
      "Epoch 48/80\n",
      "90/90 [==============================] - 6s 71ms/step - loss: 0.6534 - accuracy: 0.7097 - val_loss: 0.6928 - val_accuracy: 0.6764\n",
      "Epoch 49/80\n",
      "90/90 [==============================] - 7s 78ms/step - loss: 0.6525 - accuracy: 0.7000 - val_loss: 0.6931 - val_accuracy: 0.6931\n",
      "Epoch 50/80\n",
      "90/90 [==============================] - 7s 75ms/step - loss: 0.6495 - accuracy: 0.7104 - val_loss: 0.6670 - val_accuracy: 0.6944\n",
      "Epoch 51/80\n",
      "90/90 [==============================] - 7s 72ms/step - loss: 0.6562 - accuracy: 0.6990 - val_loss: 0.6983 - val_accuracy: 0.6861\n",
      "Epoch 52/80\n",
      "90/90 [==============================] - 7s 75ms/step - loss: 0.6404 - accuracy: 0.7184 - val_loss: 0.7059 - val_accuracy: 0.6792\n",
      "Epoch 53/80\n",
      "90/90 [==============================] - 7s 77ms/step - loss: 0.6447 - accuracy: 0.7163 - val_loss: 0.6834 - val_accuracy: 0.6944\n",
      "Epoch 54/80\n",
      "90/90 [==============================] - 6s 71ms/step - loss: 0.6527 - accuracy: 0.7063 - val_loss: 0.7001 - val_accuracy: 0.6903\n",
      "Epoch 55/80\n",
      "90/90 [==============================] - 7s 80ms/step - loss: 0.6456 - accuracy: 0.7094 - val_loss: 0.6733 - val_accuracy: 0.6958\n",
      "Epoch 56/80\n",
      "90/90 [==============================] - 7s 78ms/step - loss: 0.6448 - accuracy: 0.7149 - val_loss: 0.6877 - val_accuracy: 0.6986\n",
      "Epoch 57/80\n",
      "90/90 [==============================] - 7s 73ms/step - loss: 0.6396 - accuracy: 0.7167 - val_loss: 0.7041 - val_accuracy: 0.6889\n",
      "Epoch 58/80\n",
      "90/90 [==============================] - 7s 76ms/step - loss: 0.6376 - accuracy: 0.7090 - val_loss: 0.7046 - val_accuracy: 0.6847\n",
      "Epoch 59/80\n",
      "90/90 [==============================] - 7s 78ms/step - loss: 0.6353 - accuracy: 0.7125 - val_loss: 0.7104 - val_accuracy: 0.6833\n",
      "Epoch 60/80\n",
      "90/90 [==============================] - 7s 74ms/step - loss: 0.6373 - accuracy: 0.7139 - val_loss: 0.6684 - val_accuracy: 0.7028\n",
      "Epoch 61/80\n",
      "90/90 [==============================] - 7s 74ms/step - loss: 0.6338 - accuracy: 0.7156 - val_loss: 0.6700 - val_accuracy: 0.6958\n",
      "Epoch 62/80\n",
      "90/90 [==============================] - 7s 75ms/step - loss: 0.6429 - accuracy: 0.7108 - val_loss: 0.6787 - val_accuracy: 0.7000\n",
      "Epoch 63/80\n",
      "90/90 [==============================] - 7s 77ms/step - loss: 0.6337 - accuracy: 0.7153 - val_loss: 0.6618 - val_accuracy: 0.6986\n",
      "Epoch 64/80\n",
      "90/90 [==============================] - 7s 75ms/step - loss: 0.6296 - accuracy: 0.7142 - val_loss: 0.6955 - val_accuracy: 0.6847\n",
      "Epoch 65/80\n",
      "90/90 [==============================] - 6s 71ms/step - loss: 0.6294 - accuracy: 0.7226 - val_loss: 0.6891 - val_accuracy: 0.6917\n",
      "Epoch 66/80\n",
      "90/90 [==============================] - 7s 76ms/step - loss: 0.6335 - accuracy: 0.7205 - val_loss: 0.6693 - val_accuracy: 0.7111\n",
      "Epoch 67/80\n",
      "90/90 [==============================] - 7s 80ms/step - loss: 0.6351 - accuracy: 0.7184 - val_loss: 0.6892 - val_accuracy: 0.6875\n",
      "Epoch 68/80\n",
      "90/90 [==============================] - 7s 79ms/step - loss: 0.6252 - accuracy: 0.7146 - val_loss: 0.6795 - val_accuracy: 0.6889\n",
      "Epoch 69/80\n",
      "90/90 [==============================] - 7s 72ms/step - loss: 0.6166 - accuracy: 0.7188 - val_loss: 0.7034 - val_accuracy: 0.6778\n",
      "Epoch 70/80\n",
      "90/90 [==============================] - 7s 74ms/step - loss: 0.6378 - accuracy: 0.7250 - val_loss: 0.7013 - val_accuracy: 0.6944\n",
      "Epoch 71/80\n",
      "90/90 [==============================] - 7s 81ms/step - loss: 0.6231 - accuracy: 0.7281 - val_loss: 0.6724 - val_accuracy: 0.7028\n",
      "Epoch 72/80\n",
      "90/90 [==============================] - 7s 75ms/step - loss: 0.6265 - accuracy: 0.7184 - val_loss: 0.6799 - val_accuracy: 0.7042\n",
      "Epoch 73/80\n",
      "90/90 [==============================] - 7s 72ms/step - loss: 0.6140 - accuracy: 0.7278 - val_loss: 0.6748 - val_accuracy: 0.7042\n",
      "Epoch 74/80\n",
      "90/90 [==============================] - 7s 75ms/step - loss: 0.6067 - accuracy: 0.7191 - val_loss: 0.7001 - val_accuracy: 0.7014\n",
      "Epoch 75/80\n",
      "90/90 [==============================] - 7s 77ms/step - loss: 0.6352 - accuracy: 0.7170 - val_loss: 0.6959 - val_accuracy: 0.6847\n",
      "Epoch 76/80\n",
      "90/90 [==============================] - 7s 77ms/step - loss: 0.6192 - accuracy: 0.7208 - val_loss: 0.6886 - val_accuracy: 0.6889\n",
      "Epoch 77/80\n",
      "90/90 [==============================] - 7s 75ms/step - loss: 0.6157 - accuracy: 0.7274 - val_loss: 0.7384 - val_accuracy: 0.6736\n",
      "Epoch 78/80\n",
      "90/90 [==============================] - 7s 80ms/step - loss: 0.6142 - accuracy: 0.7250 - val_loss: 0.6781 - val_accuracy: 0.7042\n",
      "Epoch 79/80\n",
      "90/90 [==============================] - 7s 75ms/step - loss: 0.6103 - accuracy: 0.7337 - val_loss: 0.6942 - val_accuracy: 0.6958\n",
      "Epoch 80/80\n",
      "90/90 [==============================] - 6s 68ms/step - loss: 0.6055 - accuracy: 0.7257 - val_loss: 0.6801 - val_accuracy: 0.6986\n"
     ]
    }
   ],
   "source": [
    "\n",
    "epochs = 80\n",
    "train, test = getGenerators(augment_data=True, simulationNames=['CDM_low','CDM','CDM_hi'], \n",
    "                                                      channels=['xray'], \n",
    "                                                      allDataFile='pickles/binned_data_20.pkl', data_labels=[0,1,2])\n",
    "num_classes = len(np.unique(test[1]))\n",
    "all_cdm_xray_only = simpleCNN.getModel_ds(num_classes)\n",
    "history = all_cdm_xray_only.fit(\n",
    "  x=train,\n",
    "  validation_data=test,\n",
    "  epochs=epochs\n",
    ")"
   ]
  },
  {
   "cell_type": "code",
   "execution_count": 27,
   "metadata": {
    "tags": []
   },
   "outputs": [
    {
     "name": "stdout",
     "output_type": "stream",
     "text": [
      "38/38 [==============================] - 1s 15ms/step\n"
     ]
    }
   ],
   "source": [
    "train, test = getGenerators(augment_data=True, simulationNames=['SIDM0.1'], \n",
    "                                                      channels=['xray'], \n",
    "                                                      allDataFile='pickles/binned_data_20.pkl',train_split=0.01)\n",
    "predictions = all_cdm_xray_only.predict( test[0] )"
   ]
  },
  {
   "cell_type": "markdown",
   "metadata": {
    "jp-MarkdownHeadingCollapsed": true,
    "tags": []
   },
   "source": [
    "# After this is experimental - not needed for the paper"
   ]
  },
  {
   "cell_type": "markdown",
   "metadata": {
    "tags": []
   },
   "source": [
    "#### Combine models 1 + 4"
   ]
  },
  {
   "cell_type": "code",
   "execution_count": null,
   "metadata": {
    "tags": []
   },
   "outputs": [],
   "source": [
    "from simpleCNN_combined_model import getCombinedModel, getModel\n",
    "from getSIDMdata_double_input import get_tf_DataSet as double_input_data"
   ]
  },
  {
   "cell_type": "code",
   "execution_count": null,
   "metadata": {},
   "outputs": [],
   "source": [
    "input_generator, val_data, steps_per_epoch = double_input_data(augment_data=True, simulationNames=['CDM_low','CDM_hi','CDM','SIDM0.1','SIDM1'], \n",
    "                                                      channels=[['total','stellar','xray'],['total','stellar']], \n",
    "                                                      allDataFile='pickles/binned_data_20.pkl')\n",
    "nclasses = len(np.unique(test_data[1]))"
   ]
  },
  {
   "cell_type": "code",
   "execution_count": null,
   "metadata": {},
   "outputs": [],
   "source": [
    "list_of_input_shapes = [ i.shape[1:] for i in val_data[0] ]\n"
   ]
  },
  {
   "cell_type": "code",
   "execution_count": null,
   "metadata": {
    "tags": []
   },
   "outputs": [],
   "source": [
    "all_baryon_layers = all_cdm_3_channel.layers[0].layers + all_cdm_3_channel.layers[1].layers\n",
    "all_dm_layers = fiducial_model.layers[0].layers + fiducial_model.layers[1].layers"
   ]
  },
  {
   "cell_type": "code",
   "execution_count": null,
   "metadata": {
    "tags": []
   },
   "outputs": [],
   "source": [
    "list_of_output_shapes = [ all_baryon_layers[-1].output_shape[1:][0], all_dm_layers[-1].output_shape[1:][0] ]"
   ]
  },
  {
   "cell_type": "code",
   "execution_count": null,
   "metadata": {
    "tags": []
   },
   "outputs": [],
   "source": [
    "model = getCombinedModel(list_of_input_shapes, list_of_output_shapes, nclasses)"
   ]
  },
  {
   "cell_type": "code",
   "execution_count": null,
   "metadata": {
    "tags": []
   },
   "outputs": [],
   "source": [
    "for iLayer in range(len(all_baryon_layers)):\n",
    "    this_layer = (1 + iLayer ) *2\n",
    "\n",
    "    model.layers[this_layer] =  all_baryon_layers[iLayer]\n",
    "    model.layers[this_layer].set_weights(  all_baryon_layers[iLayer].get_weights() )\n",
    "    model.layers[this_layer].trainable = False\n",
    "    \n",
    "    \n",
    "    model.layers[this_layer+1] =  all_dm_layers[iLayer]\n",
    "    model.layers[this_layer+1].set_weights( all_dm_layers[iLayer].get_weights() )\n",
    "    model.layers[this_layer+1].trainable = False"
   ]
  },
  {
   "cell_type": "code",
   "execution_count": null,
   "metadata": {
    "tags": []
   },
   "outputs": [],
   "source": [
    "model.compile(optimizer='adam',\n",
    "              loss=tf.keras.losses.SparseCategoricalCrossentropy(from_logits=True),\n",
    "              metrics=['accuracy'])"
   ]
  },
  {
   "cell_type": "code",
   "execution_count": null,
   "metadata": {
    "tags": []
   },
   "outputs": [],
   "source": [
    "model.summary()"
   ]
  },
  {
   "cell_type": "code",
   "execution_count": null,
   "metadata": {
    "tags": []
   },
   "outputs": [],
   "source": [
    "model_history = model.fit( input_generator, validation_data=val_data, epochs=epochs, steps_per_epoch=steps_per_epoch) "
   ]
  },
  {
   "cell_type": "code",
   "execution_count": null,
   "metadata": {
    "tags": []
   },
   "outputs": [],
   "source": [
    "model_history = model.fit( input_generator, validation_data=val_data, epochs=epochs, steps_per_epoch=steps_per_epoch) "
   ]
  },
  {
   "cell_type": "code",
   "execution_count": null,
   "metadata": {
    "tags": []
   },
   "outputs": [],
   "source": [
    "y_pred = predict( val_data[0], [model] )\n",
    "plot_confusion_matrix( val_data[1], y_pred)"
   ]
  },
  {
   "cell_type": "code",
   "execution_count": null,
   "metadata": {},
   "outputs": [],
   "source": [
    "y_pred = predict( test[0], [all_cdm_plus_dm_3_channel] )\n",
    "plot_confusion_matrix( test[1], y_pred)"
   ]
  },
  {
   "cell_type": "markdown",
   "metadata": {
    "jp-MarkdownHeadingCollapsed": true,
    "tags": []
   },
   "source": [
    "### What happens when I get the baryons wrong with no xray (confusion matrices)?"
   ]
  },
  {
   "cell_type": "code",
   "execution_count": null,
   "metadata": {
    "tags": []
   },
   "outputs": [],
   "source": [
    "epochs=100\n",
    "baryon_models = ['CDM_hi', 'CDM_low','CDM']\n",
    "\n",
    "all_models = []\n",
    "all_history = []\n",
    "\n",
    "for iB_model in baryon_models:\n",
    "\n",
    "    train_baryons, test_baryons = getGenerators(augment_data=True, simulationNames=[iB_model]+['SIDM0.1'], \n",
    "                                                      channels=['total','stellar'], \n",
    "                                                        allDataFile='pickles/binned_data_20.pkl', train_split=0.85)\n",
    "    num_classes = len(np.unique(test_baryons[1]))\n",
    "    this_model = simpleCNN.getModel_ds(num_classes)\n",
    "    history = this_model.fit(\n",
    "      x=train_baryons,\n",
    "      validation_data=test_baryons,\n",
    "      epochs=epochs, verbose=0\n",
    "    )\n",
    "    all_history.append(history)\n",
    "    all_models.append(this_model)\n",
    "    \n",
    "    for jB, jB_model in enumerate(baryon_models):\n",
    "        if jB_model == iB_model:\n",
    "            test = test_baryons\n",
    "        else:\n",
    "            train_cdm_hi, test = getGenerators(augment_data=True, simulationNames=[jB_model]+['SIDM0.1','SIDM1'], \n",
    "                                                      channels=['total','stellar'], \n",
    "                                                        allDataFile='pickles/binned_data_20.pkl', train_split=0.01) \n",
    "        \n",
    "        y_pred = predict( test[0], [this_model])\n",
    "        plot_confusion_matrix( test[1], y_pred, title='Trained on %s - tested on %s' % (iB_model, jB_model))"
   ]
  },
  {
   "cell_type": "code",
   "execution_count": null,
   "metadata": {
    "tags": []
   },
   "outputs": [],
   "source": [
    "for i in all_history:\n",
    "    plt.plot(i.history['val_accuracy'])"
   ]
  },
  {
   "cell_type": "markdown",
   "metadata": {
    "tags": []
   },
   "source": [
    "### What happens when I get the baryons wrong with xray?"
   ]
  },
  {
   "cell_type": "code",
   "execution_count": null,
   "metadata": {
    "tags": []
   },
   "outputs": [],
   "source": [
    "epochs=100\n",
    "baryon_models = ['CDM_hi', 'CDM_low','CDM']\n",
    "\n",
    "all_models = []\n",
    "all_history = []\n",
    "\n",
    "for iB_model in baryon_models:\n",
    "\n",
    "    train_baryons, test_baryons = getGenerators(augment_data=True, simulationNames=[iB_model]+['SIDM0.1','SIDM1'], \n",
    "                                                      channels=['total','stellar','xray'], \n",
    "                                                        allDataFile='pickles/binned_data_20.pkl')\n",
    "    num_classes = len(np.unique(test[1]))\n",
    "    this_model = simpleCNN.getModel_ds(num_classes)\n",
    "    history = this_model.fit(\n",
    "      x=train_baryons,\n",
    "      validation_data=test_baryons,\n",
    "      epochs=epochs, verbose=0\n",
    "    )\n",
    "    all_history.append(history)\n",
    "    all_models.append(this_model)\n",
    "    \n",
    "    for jB, jB_model in enumerate(baryon_models):\n",
    "        if jB_model == iB_model:\n",
    "            test = test_baryons\n",
    "        else:\n",
    "            train_cdm_hi, test = getGenerators(augment_data=True, simulationNames=[jB_model]+['SIDM0.1','SIDM1'], \n",
    "                                                      channels=['total','stellar','xray'], \n",
    "                                                        allDataFile='pickles/binned_data_20.pkl', train_split=0.01) \n",
    "        \n",
    "        y_pred = predict( test[0], [this_model])\n",
    "        plot_confusion_matrix( test[1], y_pred, title='Trained on %s - tested on %s' % (iB_model, jB_model))"
   ]
  },
  {
   "cell_type": "markdown",
   "metadata": {
    "jp-MarkdownHeadingCollapsed": true,
    "tags": []
   },
   "source": [
    "### What happens if i train on CDM_X + DM and the Universe is CDM_Y? Evaluate CDM_Y to a matrix."
   ]
  },
  {
   "cell_type": "code",
   "execution_count": null,
   "metadata": {
    "tags": []
   },
   "outputs": [],
   "source": [
    "sum(predict( test[0], [all_models[iB]] ) == 0)"
   ]
  },
  {
   "cell_type": "code",
   "execution_count": null,
   "metadata": {
    "tags": []
   },
   "outputs": [],
   "source": [
    "baryon_models = ['CDM_hi', 'CDM_low','CDM']\n",
    "evaluation = np.zeros((len(baryon_models),len(baryon_models)))\n",
    "for iB, iB_model in enumerate(baryon_models):\n",
    "    for jB, jB_model in enumerate(baryon_models):\n",
    "        if jB_model == iB_model:\n",
    "            val_split = 0.85 # Because i cant use the same information in the test than in the train.\n",
    "        else:\n",
    "            val_split = 0.01\n",
    "\n",
    "        train_cdm_hi, test = getGenerators(augment_data=True, simulationNames=[jB_model], \n",
    "                                                      channels=['total','stellar'], \n",
    "                                                        allDataFile='pickles/binned_data_20.pkl', train_split=val_split) \n",
    "    \n",
    "            \n",
    "            \n",
    "        evaluation[iB, jB] = sum(predict( test[0], [all_models[iB]] )==0)/len(test[0])"
   ]
  },
  {
   "cell_type": "code",
   "execution_count": null,
   "metadata": {
    "tags": []
   },
   "outputs": [],
   "source": [
    "ax = plt.gca()\n",
    "im = ax.imshow(evaluation, origin='lower')\n",
    "ax.set_xticks( np.arange(len(baryon_models)))\n",
    "ax.set_yticks( np.arange(len(baryon_models)))\n",
    "\n",
    "ax.set_xticklabels(baryon_models)\n",
    "ax.set_yticklabels(baryon_models)\n",
    "plt.ylabel('Trained', size = 20)\n",
    "plt.xlabel('Tested', size = 20)\n",
    "for i in range(len(evaluation)):\n",
    "    for j in range(len(evaluation)):\n",
    "        plt.annotate(round(evaluation[i,j],2),xy=\\\n",
    "                    (j,i),horizontalalignment='center',verticalalignment='center',size=15,color='black')\n",
    "plt.colorbar(im)"
   ]
  },
  {
   "cell_type": "markdown",
   "metadata": {
    "jp-MarkdownHeadingCollapsed": true,
    "tags": []
   },
   "source": [
    "### What happens if i train on CDM_BARYONS_X + DM and the Universe is DM+BARYONS_Y? Evaluate CDM_Y to a matrix."
   ]
  },
  {
   "cell_type": "code",
   "execution_count": null,
   "metadata": {
    "tags": []
   },
   "outputs": [],
   "source": [
    "baryon_models = ['CDM_hi', 'CDM_low','CDM']\n",
    "dm_evaluation = np.zeros((len(baryon_models),len(baryon_models)))\n",
    "for iB, iB_model in enumerate(baryon_models):\n",
    "    \n",
    "        train_cdm_hi, test = getGenerators(augment_data=True, simulationNames=['SIDM0.1'], \n",
    "                                                      channels=['total','stellar'], \n",
    "                                                        allDataFile='pickles/binned_data_20.pkl', train_split=0.01) \n",
    "    \n",
    "            \n",
    "            \n",
    "        dm_evaluation[iB, 0] = sum(predict( test[0], [all_models[iB]] )==1)/len(test[0])\n"
   ]
  },
  {
   "cell_type": "code",
   "execution_count": null,
   "metadata": {
    "tags": []
   },
   "outputs": [],
   "source": [
    "ax = plt.gca()\n",
    "im = ax.imshow(dm_evaluation, origin='lower')\n",
    "ax.set_xticks( np.arange(len(baryon_models)))\n",
    "ax.set_yticks( np.arange(len(baryon_models)))\n",
    "\n",
    "ax.set_xticklabels(baryon_models)\n",
    "ax.set_yticklabels(baryon_models)\n",
    "plt.ylabel('Trained', size = 20)\n",
    "plt.xlabel('Tested', size = 20)\n",
    "for i in range(len(evaluation)):\n",
    "    for j in range(len(evaluation)):\n",
    "        plt.annotate(round(dm_evaluation[i,j],2),xy=\\\n",
    "                    (j,i),horizontalalignment='center',verticalalignment='center',size=15,color='black')\n",
    "plt.colorbar(im)"
   ]
  }
 ],
 "metadata": {
  "kernelspec": {
   "display_name": "Python 3 (ipykernel)",
   "language": "python",
   "name": "python3"
  },
  "language_info": {
   "codemirror_mode": {
    "name": "ipython",
    "version": 3
   },
   "file_extension": ".py",
   "mimetype": "text/x-python",
   "name": "python",
   "nbconvert_exporter": "python",
   "pygments_lexer": "ipython3",
   "version": "3.10.9"
  }
 },
 "nbformat": 4,
 "nbformat_minor": 4
}
