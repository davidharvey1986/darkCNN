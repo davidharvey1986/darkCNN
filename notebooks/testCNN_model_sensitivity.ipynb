{
 "cells": [
  {
   "cell_type": "code",
   "execution_count": 4,
   "metadata": {
    "tags": []
   },
   "outputs": [],
   "source": [
    "%load_ext autoreload\n",
    "%autoreload 2"
   ]
  },
  {
   "cell_type": "code",
   "execution_count": 4,
   "metadata": {
    "tags": []
   },
   "outputs": [],
   "source": [
    "from globalVariables import *\n",
    "import simpleCNNwithInception as inceptionCNN\n",
    "import simpleCNN as simpleCNN\n",
    "import simpleCNNwithInceptionRegression as regressor\n",
    "from keras.callbacks import CSVLogger\n",
    "from scipy.ndimage import rotate\n",
    "from tools import plot_confusion_matrix\n",
    "from getSIDMdata_generator_meta import get_tf_DataSet as getGenerators\n",
    "import scienceplots\n",
    "from glob import glob\n",
    "from tools import get_best_model,get_predictions_per_subset,mertens\n",
    "import os\n",
    "from scipy.stats import norm\n",
    "plt.style.use([\"science\"])\n",
    "from copy import deepcopy as cp\n",
    "from tqdm import tqdm"
   ]
  },
  {
   "cell_type": "markdown",
   "metadata": {},
   "source": [
    "Objectives\n",
    "----------\n",
    "1. where is the model sensitive?\n",
    "\n",
    "Conclusions\n",
    "-----------\n",
    "\n"
   ]
  },
  {
   "cell_type": "code",
   "execution_count": 6,
   "metadata": {
    "tags": []
   },
   "outputs": [],
   "source": [
    "def get_best_model( image_generator, test_set, model_name='Inception', checkpoint_filepath=\"models\" ):\n",
    "    \n",
    "    if os.path.isdir(checkpoint_filepath):\n",
    "        print(\"Found Model\")\n",
    "        return tf.keras.models.load_model(checkpoint_filepath)\n",
    "        \n",
    "        \n",
    "    num_classes = len(np.unique(test_set[1]))\n",
    "    \n",
    "    if model_name.lower() == 'simple':\n",
    "        model = simpleCNN.getModel_ds(num_classes)\n",
    "    elif model_name.lower() == 'dibare':\n",
    "        model = mertens.DIBARE(input_shape=test_set[0][0].shape, classes=num_classes, bn_momentum=.0, \n",
    "                                FC1=0,FC2=0,feature_dropout=.33,num_layersA=1,num_layersB=1,num_layersC=1,leak=.03)\n",
    "    elif model_name.lower() == 'inception':\n",
    "        model = mertens.InceptionV4(input_shape=test_set[0][0].shape, bn_momentum=.0,classes=num_classes,\n",
    "                                               feature_dropout=.33,num_layersA=1,num_layersB=1,num_layersC=1,leak=.03)\n",
    "\n",
    "    else:\n",
    "        raise ValueError(\"Model name not recognised\")\n",
    "    \n",
    "    optimizer = tf.keras.optimizers.Adam( learning_rate=1e-3 ) \n",
    "    model.compile(optimizer=optimizer,\n",
    "              loss=tf.keras.losses.SparseCategoricalCrossentropy(from_logits=True),\n",
    "              metrics=['accuracy'])\n",
    "\n",
    "    model_checkpoint_callback = tf.keras.callbacks.ModelCheckpoint(\n",
    "        filepath=checkpoint_filepath,\n",
    "        save_weights_only=False,\n",
    "        monitor='val_accuracy',\n",
    "        mode='max',\n",
    "        save_best_only=True)\n",
    "    \n",
    "    \n",
    "    history = model.fit(\n",
    "      x=image_generator,\n",
    "      validation_data=test_set,\n",
    "      epochs=epochs, verbose=1, callbacks=[model_checkpoint_callback])\n",
    "    \n",
    "    return model\n",
    "    \n",
    "    "
   ]
  },
  {
   "cell_type": "markdown",
   "metadata": {
    "tags": []
   },
   "source": [
    "# Saliency map of the model"
   ]
  },
  {
   "cell_type": "code",
   "execution_count": 6,
   "metadata": {
    "tags": []
   },
   "outputs": [
    {
     "name": "stdout",
     "output_type": "stream",
     "text": [
      "Found Model\n"
     ]
    }
   ],
   "source": [
    "model_name = 'inception'\n",
    "simulationNames = ['CDM','SIDM0.1','SIDM1']\n",
    "channels=['total','stellar','xray']\n",
    "random_state=0\n",
    "epochs=10\n",
    "checkpoint_filepath = 'models/inception/0'\n",
    "train, test, this_params = getGenerators(augment_data=True, simulationNames=simulationNames, \n",
    "                                                      channels=channels,\n",
    "                                                      allDataFile='pickles/binned_data_20.pkl', \n",
    "                                                      random_state=random_state, return_test_params=True)  \n",
    "\n",
    "model = get_best_model( train, test, checkpoint_filepath=checkpoint_filepath)\n"
   ]
  },
  {
   "cell_type": "code",
   "execution_count": 17,
   "metadata": {
    "tags": []
   },
   "outputs": [],
   "source": [
    "# plot the image \n",
    "cmap = 'Pastel1'\n",
    "def plot_maps(img1, img2,vmin=0.3,vmax=0.7, mix_val=2):\n",
    "    f = plt.figure(figsize=(15,45))\n",
    "    plt.subplot(1,3,1)\n",
    "    plt.imshow(img1,vmin=vmin, vmax=vmax, cmap=cmap)\n",
    "    plt.axis(\"off\")\n",
    "    plt.subplot(1,3,2)\n",
    "    plt.imshow(img2, cmap = cmap)\n",
    "    plt.axis(\"off\")\n",
    "    plt.subplot(1,3,3)\n",
    "    plt.imshow(img1*mix_val+img2/mix_val, cmap = cmap)\n",
    "    plt.axis(\"off\")\n",
    "def normalize_image(img):\n",
    "    grads_norm = img[:,:,0]+ img[:,:,1]+ img[:,:,2]\n",
    "    grads_norm = (grads_norm - tf.reduce_min(grads_norm))/ (tf.reduce_max(grads_norm)- tf.reduce_min(grads_norm))\n",
    "    return grads_norm"
   ]
  },
  {
   "cell_type": "code",
   "execution_count": 27,
   "metadata": {
    "tags": []
   },
   "outputs": [
    {
     "data": {
      "text/plain": [
       "TensorShape([1, 100, 100, 3])"
      ]
     },
     "execution_count": 27,
     "metadata": {},
     "output_type": "execute_result"
    }
   ],
   "source": [
    "inputimage.shape"
   ]
  },
  {
   "cell_type": "code",
   "execution_count": 33,
   "metadata": {
    "tags": []
   },
   "outputs": [
    {
     "name": "stderr",
     "output_type": "stream",
     "text": [
      "100%|████████████████████████████████████████████████████████████████████████| 100/100 [00:08<00:00, 11.79it/s]\n"
     ]
    }
   ],
   "source": [
    "all_grads = []\n",
    "for iImage in tqdm(test[0][:100]):\n",
    "    inputimage = tf.convert_to_tensor( iImage[np.newaxis,:,:,:] )\n",
    "\n",
    "    with tf.GradientTape() as tape:\n",
    "        tape.watch(inputimage)\n",
    "        result = model(inputimage)\n",
    "        max_idx = tf.argmax(result,axis = 1)\n",
    "        max_score = result[0,max_idx[0]]\n",
    "    all_grads.append(tape.gradient(max_score, inputimage))"
   ]
  },
  {
   "cell_type": "code",
   "execution_count": 36,
   "metadata": {
    "tags": []
   },
   "outputs": [
    {
     "data": {
      "text/plain": [
       "(1, 100, 100, 3)"
      ]
     },
     "execution_count": 36,
     "metadata": {},
     "output_type": "execute_result"
    }
   ],
   "source": [
    "mean_grads.shape"
   ]
  },
  {
   "cell_type": "code",
   "execution_count": 37,
   "metadata": {
    "tags": []
   },
   "outputs": [
    {
     "data": {
      "image/png": "[encoded data removed]",
      "text/plain": [
       "<Figure size 1500x4500 with 3 Axes>"
      ]
     },
     "metadata": {},
     "output_type": "display_data"
    }
   ],
   "source": [
    "mean_image = np.mean(test[0][:100], axis=0)\n",
    "mean_grads = np.mean(np.array(all_grads), axis=0)\n",
    "plot_maps(normalize_image(mean_grads[0]), normalize_image(mean_image))"
   ]
  },
  {
   "cell_type": "markdown",
   "metadata": {
    "tags": []
   },
   "source": [
    "# 1. Get the paper plot"
   ]
  },
  {
   "cell_type": "markdown",
   "metadata": {},
   "source": [
    "### First get the data "
   ]
  },
  {
   "cell_type": "code",
   "execution_count": 99,
   "metadata": {
    "tags": []
   },
   "outputs": [
    {
     "name": "stdout",
     "output_type": "stream",
     "text": [
      "Found Model\n"
     ]
    }
   ],
   "source": [
    "model_name = 'inception'\n",
    "simulationNames = ['CDM','SIDM0.1','SIDM1']\n",
    "all_channels=['total','stellar','xray']\n",
    "random_state=1\n",
    "epochs=10\n",
    "checkpoint_filepath = 'models/inception/%i' % random_state\n",
    "train, test, this_params = getGenerators(augment_data=True, simulationNames=simulationNames, \n",
    "                                                      channels=all_channels,\n",
    "                                                      allDataFile='pickles/binned_data_20.pkl', \n",
    "                                                      random_state=random_state, return_test_params=True)  \n",
    "\n",
    "model = get_best_model( train, test, checkpoint_filepath=checkpoint_filepath)"
   ]
  },
  {
   "cell_type": "code",
   "execution_count": 12,
   "metadata": {
    "tags": []
   },
   "outputs": [
    {
     "name": "stdout",
     "output_type": "stream",
     "text": [
      "Found Model\n"
     ]
    }
   ],
   "source": [
    "histories = []\n",
    "epochs=80\n",
    "simulationNames = ['CDM','SIDM0.1','SIDM1']\n",
    "nClasses = len(simulationNames)\n",
    "all_channels = ['total','stellar','xray']\n",
    "train, test  = getGenerators(augment_data=True, simulationNames=simulationNames,channels=all_channels,\n",
    "                                                      allDataFile='pickles/binned_data_20.pkl')\n",
    "checkpoint_filepath = 'models/inception/0'\n",
    "model = get_best_model( train, test, checkpoint_filepath=checkpoint_filepath)"
   ]
  },
  {
   "cell_type": "markdown",
   "metadata": {},
   "source": [
    "### Now run the permiutation importance"
   ]
  },
  {
   "cell_type": "code",
   "execution_count": null,
   "metadata": {
    "tags": []
   },
   "outputs": [],
   "source": [
    "#Now monte carlo each radial bin in the test set\n",
    "xvec = np.arange(test[0].shape[1] ) - test[0].shape[1] / 2.\n",
    "yvec = np.arange(test[0].shape[2] ) - test[0].shape[2] / 2.\n",
    "xg, yg = np.meshgrid( xvec, yvec )\n",
    "rgrid = np.sqrt(xg**2 + yg**2)\n",
    "nBins = 20\n",
    "rBins = np.linspace(0, 50., nBins+1)\n",
    "bin_centres = (rBins[1:] + rBins[:-1])/2.\n",
    "\n",
    "nMonte=5\n",
    "\n",
    "all_acc = []\n",
    "all_std = []\n",
    "\n",
    "\n",
    "for iModel in glob(\"models/inception/*\"):\n",
    "    accuracy, accuracy_std = [], []\n",
    "\n",
    "    model = get_best_model( train, test, checkpoint_filepath=iModel)   \n",
    "    fiducial_accuracy = model.evaluate(test[0], test[1])[1]\n",
    "  \n",
    "    for iChannel in range(len(all_channels)):\n",
    "        accuracy_channel, accuracy_channel_std = [], []\n",
    "        for iBin in tqdm(range(nBins)):\n",
    "        \n",
    "            inBin = ( rgrid > rBins[iBin] ) & (rgrid < rBins[iBin+1])\n",
    "    \n",
    "        \n",
    "            monted_acc = []\n",
    "            this_test = cp(test)\n",
    "        \n",
    "            for iMonte in range(nMonte):\n",
    "                for iTest in this_test[0][:,:,:,iChannel]:\n",
    "                    nElements = len(iTest[inBin])\n",
    "                    iTest[inBin] = np.random.uniform(0,1,nElements)\n",
    "                importance = fiducial_accuracy /model.evaluate(this_test[0], this_test[1], verbose=0)[1] \n",
    "                monted_acc.append(importance)\n",
    "            \n",
    "            \n",
    "            accuracy_channel.append(np.mean(monted_acc))\n",
    "            accuracy_channel_std.append(np.std(monted_acc))\n",
    "        \n",
    "        accuracy.append(    accuracy_channel        )\n",
    "        accuracy_std.append( accuracy_channel_std )\n",
    "    all_acc.append(accuracy)\n",
    "    all_std.append(accuracy_std)\n",
    "\n",
    "pkl.dump( [all_acc, all_std], open('pickles/perm_importance.pkl','wb'))"
   ]
  },
  {
   "cell_type": "code",
   "execution_count": 82,
   "metadata": {
    "tags": []
   },
   "outputs": [],
   "source": [
    "from scipy.signal import correlate2d"
   ]
  },
  {
   "cell_type": "code",
   "execution_count": 85,
   "metadata": {
    "tags": []
   },
   "outputs": [],
   "source": []
  },
  {
   "cell_type": "code",
   "execution_count": 88,
   "metadata": {
    "tags": []
   },
   "outputs": [
    {
     "data": {
      "text/plain": [
       "<matplotlib.image.AxesImage at 0x29542d900>"
      ]
     },
     "execution_count": 88,
     "metadata": {},
     "output_type": "execute_result"
    },
    {
     "data": {
      "image/png": "[encoded data removed]",
      "text/plain": [
       "<Figure size 350x262.5 with 1 Axes>"
      ]
     },
     "metadata": {},
     "output_type": "display_data"
    }
   ],
   "source": [
    "plt.imshow(test[0][0,:,:,0])"
   ]
  },
  {
   "cell_type": "code",
   "execution_count": 107,
   "metadata": {
    "tags": []
   },
   "outputs": [
    {
     "data": {
      "text/plain": [
       "(240, 100, 100)"
      ]
     },
     "execution_count": 107,
     "metadata": {},
     "output_type": "execute_result"
    }
   ],
   "source": [
    "test[0][this_params['sim']=='SIDM1+baryons',:,:,0].shape"
   ]
  },
  {
   "cell_type": "code",
   "execution_count": 126,
   "metadata": {
    "tags": []
   },
   "outputs": [
    {
     "name": "stderr",
     "output_type": "stream",
     "text": [
      "100%|█████████████████████████████████████████████████████████████████████| 20/20 [00:00<00:00, 20267.23it/s]\n",
      "100%|█████████████████████████████████████████████████████████████████████| 20/20 [00:00<00:00, 17331.83it/s]\n",
      "100%|█████████████████████████████████████████████████████████████████████| 20/20 [00:00<00:00, 19195.90it/s]\n"
     ]
    }
   ],
   "source": [
    "xvec = np.arange(test[0].shape[1] ) - test[0].shape[1] / 2.\n",
    "yvec = np.arange(test[0].shape[2] ) - test[0].shape[2] / 2.\n",
    "xg, yg = np.meshgrid( xvec, yvec )\n",
    "rgrid = np.sqrt(xg**2 + yg**2)\n",
    "rBins = np.linspace(0, 50., nBins+1)\n",
    "bin_centres = (rBins[1:] + rBins[:-1])/2.\n",
    "profile = []\n",
    "\n",
    "for iChannel in range(len(all_channels)):\n",
    "    channel_profile = []\n",
    "        \n",
    "    data = np.mean(test[0][:,:,:,iChannel], axis=0)\n",
    "    for iBin in tqdm(range(nBins)):\n",
    "        \n",
    "        inBin = ( rgrid > rBins[iBin] ) & (rgrid < rBins[iBin+1])\n",
    "        \n",
    "        channel_profile.append( np.sum( data[inBin]))\n",
    "    profile.append(channel_profile)"
   ]
  },
  {
   "cell_type": "markdown",
   "metadata": {
    "tags": []
   },
   "source": [
    "### And plot it"
   ]
  },
  {
   "cell_type": "code",
   "execution_count": 146,
   "metadata": {
    "tags": []
   },
   "outputs": [
    {
     "name": "stdout",
     "output_type": "stream",
     "text": [
      "PDFCROP 1.40, 2020/06/06 - Copyright (c) 2002-2020 by Heiko Oberdiek, Oberdiek Package Support Group.\n",
      "==> 1 page written on `../plots/model_sensitivty.pdf'.\n"
     ]
    },
    {
     "data": {
      "text/plain": [
       "0"
      ]
     },
     "execution_count": 146,
     "metadata": {},
     "output_type": "execute_result"
    },
    {
     "data": {
      "image/png": "[encoded data removed]",
      "text/plain": [
       "<Figure size 500x300 with 1 Axes>"
      ]
     },
     "metadata": {},
     "output_type": "display_data"
    }
   ],
   "source": [
    "kpc_per_pixel = 20.\n",
    "plt.figure(figsize=(5,3))\n",
    "plt.xlabel('Radial Distance [ kpc ]')\n",
    "plt.ylabel('Relative Magnitude')\n",
    "nPixels = np.array([ len( rgrid[ ( rgrid > rBins[iBin] ) & (rgrid < rBins[iBin+1])]) for iBin in range(nBins)])\n",
    "c = ['r','b','g','c','y','k']\n",
    "mean_acc = np.mean(all_acc_new, axis=0)\n",
    "mean_profile = np.sum(profile, axis=0)\n",
    "for i, iChannel in enumerate(mean_acc):\n",
    "    \n",
    "    normed_acc = iChannel/nPixels\n",
    "    normed_pro = profile[i]/nPixels\n",
    "    \n",
    "    if i ==0:\n",
    "        norm = np.max(normed_acc)\n",
    "    \n",
    "    norm_pro = np.max(normed_pro)\n",
    "        \n",
    "    normed_acc /= norm\n",
    "    normed_pro /= norm_pro / normed_acc[0]\n",
    "    \n",
    "    plt.errorbar(bin_centres*kpc_per_pixel, normed_acc, c=c[i], label=\"%s (Importance)\" % all_channels[i])\n",
    "    \n",
    "    \n",
    "    plt.errorbar(bin_centres*kpc_per_pixel,normed_pro, c=c[i], ls='--', label=\"%s (Density)\" % all_channels[i])\n",
    "    \n",
    "    \n",
    "plt.yscale('log')\n",
    "plt.xscale('log')\n",
    "\n",
    "plt.legend()\n",
    "filename = \"../plots/model_sensitivty.pdf\"\n",
    "plt.savefig(filename)\n",
    "os.system(\"pdfcrop %s %s\" % (filename, filename))"
   ]
  },
  {
   "cell_type": "code",
   "execution_count": null,
   "metadata": {
    "tags": []
   },
   "outputs": [],
   "source": [
    "(train_images, train_att, train_labels), testSets = \\\n",
    "        getData(  indexFileRoot='pickles/testIndexes', testTrainSplit=0.15, nChannels=2)\n",
    "\n",
    "test_labels, test_images, test_att = None, None, None\n",
    "for i in testSets.keys():\n",
    "    if test_labels is None:\n",
    "        test_images = testSets[i]['images']\n",
    "        test_labels = testSets[i]['labels']\n",
    "    else:\n",
    "        test_labels = np.vstack((test_labels, testSets[i]['labels']))\n",
    "        test_images = np.vstack((test_images, testSets[i]['images']))\n",
    "        \n",
    "nClasses = len(np.unique(train_labels))\n",
    "inputShape = train_images.shape[1:]\n",
    "nAttributes = train_att.shape[1]\n",
    "\n",
    "color=['r','g','b','c']\n",
    "\n",
    "#Test the momentum on reliability\n",
    "\n",
    "csv_file = 'pickles/addAttributesAddChannelWithModel_SGD.csv'\n",
    "csv_logger = CSVLogger(csv_file, append=True)\n",
    "model_file =  'pickles/addAttributesAddChannelWithModel_SGD.h5'\n",
    "    \n",
    "if os.path.isfile( csv_file ):\n",
    "    previousEpochs = np.loadtxt( csv_file, delimiter=',',skiprows=1 )\n",
    "    initial_epoch = previousEpochs.shape[0]\n",
    "else:\n",
    "    initial_epoch = 0\n",
    "        \n",
    "if os.path.isfile(model_file):\n",
    "    print(\"FOUND PREVIOUS MODEL, LOADING...\")\n",
    "    model = models.load_model(model_file)\n",
    "else:\n",
    "    model = simpleCNN.getModelSeparateChannels( inputShape, nClasses, nAttributes=0, \\\n",
    "                               momentum=0.9, finalLayer=256, learning_rate=1e-4)\n",
    "    \n",
    "nChannels = train_images.shape[-1]\n",
    "inputLayer = [ train_images[:,:,:,i][:,:,:,np.newaxis] for i in range(nChannels)]\n",
    "testInputLayer = [ test_images[:,:,:,i][:,:,:,np.newaxis] for i in range(nChannels)]\n",
    "\n",
    "\n",
    "history = model.fit(inputLayer, train_labels, epochs=40, \n",
    "                    initial_epoch=0,\n",
    "                    validation_data=(testInputLayer, test_labels),\n",
    "                       callbacks=csv_logger)\n",
    "model.save(model_file)\n",
    "\n"
   ]
  },
  {
   "cell_type": "code",
   "execution_count": null,
   "metadata": {},
   "outputs": [],
   "source": []
  },
  {
   "cell_type": "code",
   "execution_count": null,
   "metadata": {},
   "outputs": [],
   "source": [
    "train_images.shape"
   ]
  },
  {
   "cell_type": "code",
   "execution_count": null,
   "metadata": {},
   "outputs": [],
   "source": [
    "(train_images, train_att, train_labels), testSets = \\\n",
    "        getData(  indexFileRoot='pickles/testIndexes', testTrainSplit=0.15, nChannels=2)\n",
    "\n",
    "test_labels, test_images, test_att = None, None, None\n",
    "for i in testSets.keys():\n",
    "    if test_labels is None:\n",
    "        test_images = testSets[i]['images']\n",
    "        test_labels = testSets[i]['labels']\n",
    "    else:\n",
    "        test_labels = np.vstack((test_labels, testSets[i]['labels']))\n",
    "        test_images = np.vstack((test_images, testSets[i]['images']))\n",
    "        \n",
    "nClasses = len(np.unique(train_labels))\n",
    "inputShape = train_images.shape[1:]\n",
    "nAttributes = train_att.shape[1]\n",
    "\n",
    "\n",
    "color=['r','g','b','c']\n",
    "\n",
    "#Test the momentum on reliability\n",
    "\n",
    "csv_file = 'pickles/addAttributesAddChannel_SGD.csv'\n",
    "csv_logger = CSVLogger(csv_file, append=True)\n",
    "model_file =  'pickles/addAttributesAddChannel_SGD.h5'\n",
    "    \n",
    "if os.path.isfile( csv_file ):\n",
    "    previousEpochs = np.loadtxt( csv_file, delimiter=',',skiprows=1 )\n",
    "    initial_epoch = previousEpochs.shape[0]\n",
    "else:\n",
    "    initial_epoch = 0\n",
    "        \n",
    "if os.path.isfile(model_file):\n",
    "    print(\"FOUND PREVIOUS MODEL, LOADING...\")\n",
    "    model = models.load_model(model_file)\n",
    "else:\n",
    "    model = simpleCNN.getModel( inputShape, nClasses, nAttributes=0, \\\n",
    "                               momentum=0.9, finalLayer=256, learning_rate=1e-4)\n",
    "    \n",
    "nChannels = train_images.shape[-1]\n",
    "\n",
    "\n",
    "history = model.fit(train_images, train_labels, epochs=40, \n",
    "                    initial_epoch=0,\n",
    "                    validation_data=(test_images, test_labels),\n",
    "                       callbacks=csv_logger)\n",
    "model.save(model_file)\n",
    "\n"
   ]
  },
  {
   "cell_type": "code",
   "execution_count": null,
   "metadata": {},
   "outputs": [],
   "source": [
    "(train_images, train_att, train_labels), testSets = \\\n",
    "        getData(  indexFileRoot='pickles/testIndexes', testTrainSplit=0.15, nChannels=3)\n",
    "\n",
    "test_labels, test_images, test_att = None, None, None\n",
    "for i in testSets.keys():\n",
    "    if test_labels is None:\n",
    "        test_images = testSets[i]['images']\n",
    "        test_labels = testSets[i]['labels']\n",
    "    else:\n",
    "        test_labels = np.vstack((test_labels, testSets[i]['labels']))\n",
    "        test_images = np.vstack((test_images, testSets[i]['images']))\n",
    "        \n",
    "\n",
    "\n",
    "color=['r','g','b','c']\n",
    "\n",
    "train_images[:, :, :, 1] =  train_images[:,:,:,2]\n",
    "train_images = train_images[:, :, :, :2]\n",
    "\n",
    "\n",
    "test_images[:, :, :, 1] =  test_images[:,:,:,2]\n",
    "test_images = test_images[:, :, :, :2]\n",
    "\n",
    "nClasses = len(np.unique(train_labels))\n",
    "inputShape = train_images.shape[1:]\n",
    "nAttributes = train_att.shape[1]\n",
    "\n",
    "#Test the momentum on reliability\n",
    "\n",
    "csv_file = 'pickles/addAttributesAddChannelStellar_SGD.csv'\n",
    "csv_logger = CSVLogger(csv_file, append=True)\n",
    "model_file =  'pickles/addAttributesAddChannelStellar_SGD.h5'\n",
    "    \n",
    "if os.path.isfile( csv_file ):\n",
    "    previousEpochs = np.loadtxt( csv_file, delimiter=',',skiprows=1 )\n",
    "    initial_epoch = previousEpochs.shape[0]\n",
    "else:\n",
    "    initial_epoch = 0\n",
    "        \n",
    "if os.path.isfile(model_file):\n",
    "    print(\"FOUND PREVIOUS MODEL, LOADING...\")\n",
    "    model = models.load_model(model_file)\n",
    "else:\n",
    "    model = simpleCNN.getModel( inputShape, nClasses, nAttributes=0, \\\n",
    "                               momentum=0.9, finalLayer=256, learning_rate=1e-4)\n",
    "    \n",
    "nChannels = train_images.shape[-1]\n",
    "\n",
    "\n",
    "history = model.fit(train_images, train_labels, epochs=40, \n",
    "                    initial_epoch=0,\n",
    "                    validation_data=(test_images, test_labels),\n",
    "                       callbacks=csv_logger)\n",
    "model.save(model_file)\n",
    "\n"
   ]
  },
  {
   "cell_type": "code",
   "execution_count": null,
   "metadata": {},
   "outputs": [],
   "source": [
    "(train_images, train_att, train_labels), testSets = \\\n",
    "        getData(  indexFileRoot='pickles/testIndexes', testTrainSplit=0.15, nChannels=3)\n",
    "\n",
    "test_labels, test_images, test_att = None, None, None\n",
    "for i in testSets.keys():\n",
    "    if test_labels is None:\n",
    "        test_images = testSets[i]['images']\n",
    "        test_labels = testSets[i]['labels']\n",
    "    else:\n",
    "        test_labels = np.vstack((test_labels, testSets[i]['labels']))\n",
    "        test_images = np.vstack((test_images, testSets[i]['images']))\n",
    "        \n",
    "\n",
    "\n",
    "color=['r','g','b','c']\n",
    "\n",
    "nClasses = len(np.unique(train_labels))\n",
    "inputShape = train_images.shape[1:]\n",
    "nAttributes = train_att.shape[1]\n",
    "\n",
    "#Test the momentum on reliability\n",
    "\n",
    "csv_file = 'pickles/addAttributesAddChannelAll_SGD.csv'\n",
    "csv_logger = CSVLogger(csv_file, append=True)\n",
    "model_file =  'pickles/addAttributesAddChannelAll_SGD.h5'\n",
    "    \n",
    "if os.path.isfile( csv_file ):\n",
    "    previousEpochs = np.loadtxt( csv_file, delimiter=',',skiprows=1 )\n",
    "    initial_epoch = previousEpochs.shape[0]\n",
    "else:\n",
    "    initial_epoch = 0\n",
    "        \n",
    "if os.path.isfile(model_file):\n",
    "    print(\"FOUND PREVIOUS MODEL, LOADING...\")\n",
    "    model = models.load_model(model_file)\n",
    "else:\n",
    "    model = simpleCNN.getModel( inputShape, nClasses, nAttributes=0, \\\n",
    "                               momentum=0.9, finalLayer=256, learning_rate=1e-4)\n",
    "    \n",
    "nChannels = train_images.shape[-1]\n",
    "\n",
    "\n",
    "history = model.fit(train_images, train_labels, epochs=40, \n",
    "                    initial_epoch=0,\n",
    "                    validation_data=(test_images, test_labels),\n",
    "                       callbacks=csv_logger)\n",
    "model.save(model_file)\n",
    "\n"
   ]
  },
  {
   "cell_type": "code",
   "execution_count": null,
   "metadata": {},
   "outputs": [],
   "source": [
    "(train_images, train_att, train_labels), testSets = \\\n",
    "        getData(  indexFileRoot='pickles/testIndexes', testTrainSplit=0.15, nChannels=2)\n",
    "\n",
    "test_labels, test_images, test_att = None, None, None\n",
    "for i in testSets.keys():\n",
    "    if test_labels is None:\n",
    "        test_images = testSets[i]['images']\n",
    "        test_labels = testSets[i]['labels']\n",
    "    else:\n",
    "        test_labels = np.vstack((test_labels, testSets[i]['labels']))\n",
    "        test_images = np.vstack((test_images, testSets[i]['images']))\n",
    "        \n",
    "\n",
    "\n",
    "color=['r','g','b','c']\n",
    "\n",
    "nClasses = len(np.unique(train_labels))\n",
    "inputShape = train_images.shape[1:]\n",
    "nAttributes = train_att.shape[1]\n",
    "\n",
    "#Test the momentum on reliability\n",
    "\n",
    "csv_file = 'pickles/addAttributesAddChannelDepthWise_2_SGD.csv'\n",
    "csv_logger = CSVLogger(csv_file, append=True)\n",
    "model_file =  'pickles/addAttributesAddChannelDepthWise_2_SGD.h5'\n",
    "    \n",
    "if os.path.isfile( csv_file ):\n",
    "    previousEpochs = np.loadtxt( csv_file, delimiter=',',skiprows=1 )\n",
    "    initial_epoch = previousEpochs.shape[0]\n",
    "else:\n",
    "    initial_epoch = 0\n",
    "        \n",
    "if os.path.isfile(model_file):\n",
    "    print(\"FOUND PREVIOUS MODEL, LOADING...\")\n",
    "    model = models.load_model(model_file)\n",
    "else:\n",
    "    model = simpleCNN.getDepthWiseConvolution( inputShape, nClasses, nAttributes=0, \\\n",
    "                              momentum=0.9, finalLayer=256, learning_rate=1e-4)\n",
    "model.summary()\n",
    "\n",
    "nChannels = train_images.shape[-1]\n",
    "\n",
    "\n",
    "history = model.fit(train_images, train_labels, epochs=40, \n",
    "                    initial_epoch=0,\n",
    "                    validation_data=(test_images, test_labels),\n",
    "                       callbacks=csv_logger)\n",
    "model.save(model_file)\n",
    "\n"
   ]
  }
 ],
 "metadata": {
  "kernelspec": {
   "display_name": "Python 3 (ipykernel)",
   "language": "python",
   "name": "python3"
  },
  "language_info": {
   "codemirror_mode": {
    "name": "ipython",
    "version": 3
   },
   "file_extension": ".py",
   "mimetype": "text/x-python",
   "name": "python",
   "nbconvert_exporter": "python",
   "pygments_lexer": "ipython3",
   "version": "3.10.9"
  }
 },
 "nbformat": 4,
 "nbformat_minor": 4
}
