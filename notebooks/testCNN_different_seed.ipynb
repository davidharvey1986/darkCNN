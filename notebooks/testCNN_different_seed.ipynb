{
 "cells": [
  {
   "cell_type": "markdown",
   "id": "f0aa3fab-ed08-45bd-aec5-b03043c48fad",
   "metadata": {},
   "source": [
    "## Test Different Seeds"
   ]
  },
  {
   "cell_type": "code",
   "execution_count": 22,
   "id": "75d053cb-2232-47bc-a1d7-c75a09aab538",
   "metadata": {
    "tags": []
   },
   "outputs": [
    {
     "name": "stdout",
     "output_type": "stream",
     "text": [
      "The autoreload extension is already loaded. To reload it, use:\n",
      "  %reload_ext autoreload\n"
     ]
    }
   ],
   "source": [
    "%load_ext autoreload\n",
    "%autoreload 2"
   ]
  },
  {
   "cell_type": "code",
   "execution_count": 1,
   "id": "c6ff5bf5-309d-407e-920a-a89b14193ad6",
   "metadata": {
    "tags": []
   },
   "outputs": [],
   "source": [
    "from globalVariables import *\n",
    "import simpleCNNwithInception as inceptionCNN\n",
    "import simpleCNN as simpleCNN\n",
    "import simpleCNNwithInceptionRegression as regressor\n",
    "from keras.callbacks import CSVLogger\n",
    "from scipy.ndimage import rotate\n",
    "from tools import plot_confusion_matrix\n",
    "from getSIDMdata_generator_meta import get_tf_DataSet as getGenerators_meta\n",
    "from getSIDMdata_generator import get_tf_DataSet as getGenerators\n",
    "\n",
    "from glob import glob\n",
    "from tools import get_best_model,get_predictions_per_subset\n",
    "import os\n",
    "from scipy.stats import norm\n",
    "import scienceplots\n",
    "plt.style.use([\"science\", \"grid\"])"
   ]
  },
  {
   "cell_type": "code",
   "execution_count": 3,
   "id": "7b766e3e-5379-440f-98f5-389e00d3330d",
   "metadata": {
    "tags": []
   },
   "outputs": [],
   "source": [
    "model_name = \"inception\""
   ]
  },
  {
   "cell_type": "markdown",
   "id": "574aa730-9d35-4fac-ae31-ee95c0cb26cb",
   "metadata": {},
   "source": [
    "### First get the accuracy of the fiducial model using only z=0.25 clusters"
   ]
  },
  {
   "cell_type": "code",
   "execution_count": 52,
   "id": "8aed3db4-c335-4442-ad0b-ebe7db85efe5",
   "metadata": {
    "tags": []
   },
   "outputs": [
    {
     "name": "stderr",
     "output_type": "stream",
     "text": [
      "  0%|                                                                                 | 0/10 [00:00<?, ?it/s]/Users/davidharvey/Work/darkCNN/lib/python3.10/site-packages/keras/backend.py:5585: UserWarning: \"`sparse_categorical_crossentropy` received `from_logits=True`, but the `output` argument was produced by a Softmax activation and thus does not represent logits. Was this intended?\n",
      "  output, from_logits = _get_logits(\n"
     ]
    },
    {
     "name": "stdout",
     "output_type": "stream",
     "text": [
      "15/15 [==============================] - 1s 69ms/step - loss: 0.3136 - accuracy: 0.9208\n"
     ]
    },
    {
     "name": "stderr",
     "output_type": "stream",
     "text": [
      " 10%|███████▎                                                                 | 1/10 [00:09<01:28,  9.86s/it]/Users/davidharvey/Work/darkCNN/lib/python3.10/site-packages/keras/backend.py:5585: UserWarning: \"`sparse_categorical_crossentropy` received `from_logits=True`, but the `output` argument was produced by a Softmax activation and thus does not represent logits. Was this intended?\n",
      "  output, from_logits = _get_logits(\n"
     ]
    },
    {
     "name": "stdout",
     "output_type": "stream",
     "text": [
      "15/15 [==============================] - 1s 64ms/step - loss: 0.2629 - accuracy: 0.9208\n"
     ]
    },
    {
     "name": "stderr",
     "output_type": "stream",
     "text": [
      " 20%|██████████████▌                                                          | 2/10 [00:20<01:21, 10.16s/it]/Users/davidharvey/Work/darkCNN/lib/python3.10/site-packages/keras/backend.py:5585: UserWarning: \"`sparse_categorical_crossentropy` received `from_logits=True`, but the `output` argument was produced by a Softmax activation and thus does not represent logits. Was this intended?\n",
      "  output, from_logits = _get_logits(\n"
     ]
    },
    {
     "name": "stdout",
     "output_type": "stream",
     "text": [
      "15/15 [==============================] - 1s 71ms/step - loss: 0.3184 - accuracy: 0.9229\n"
     ]
    },
    {
     "name": "stderr",
     "output_type": "stream",
     "text": [
      " 30%|█████████████████████▉                                                   | 3/10 [00:30<01:10, 10.07s/it]/Users/davidharvey/Work/darkCNN/lib/python3.10/site-packages/keras/backend.py:5585: UserWarning: \"`sparse_categorical_crossentropy` received `from_logits=True`, but the `output` argument was produced by a Softmax activation and thus does not represent logits. Was this intended?\n",
      "  output, from_logits = _get_logits(\n"
     ]
    },
    {
     "name": "stdout",
     "output_type": "stream",
     "text": [
      "15/15 [==============================] - 1s 68ms/step - loss: 0.2502 - accuracy: 0.9333\n"
     ]
    },
    {
     "name": "stderr",
     "output_type": "stream",
     "text": [
      " 40%|█████████████████████████████▏                                           | 4/10 [00:40<01:01, 10.29s/it]/Users/davidharvey/Work/darkCNN/lib/python3.10/site-packages/keras/backend.py:5585: UserWarning: \"`sparse_categorical_crossentropy` received `from_logits=True`, but the `output` argument was produced by a Softmax activation and thus does not represent logits. Was this intended?\n",
      "  output, from_logits = _get_logits(\n"
     ]
    },
    {
     "name": "stdout",
     "output_type": "stream",
     "text": [
      "15/15 [==============================] - 1s 73ms/step - loss: 0.2824 - accuracy: 0.9167\n"
     ]
    },
    {
     "name": "stderr",
     "output_type": "stream",
     "text": [
      " 50%|████████████████████████████████████▌                                    | 5/10 [00:51<00:52, 10.49s/it]/Users/davidharvey/Work/darkCNN/lib/python3.10/site-packages/keras/backend.py:5585: UserWarning: \"`sparse_categorical_crossentropy` received `from_logits=True`, but the `output` argument was produced by a Softmax activation and thus does not represent logits. Was this intended?\n",
      "  output, from_logits = _get_logits(\n"
     ]
    },
    {
     "name": "stdout",
     "output_type": "stream",
     "text": [
      "15/15 [==============================] - 1s 69ms/step - loss: 0.1854 - accuracy: 0.9563\n"
     ]
    },
    {
     "name": "stderr",
     "output_type": "stream",
     "text": [
      " 60%|███████████████████████████████████████████▊                             | 6/10 [01:02<00:42, 10.55s/it]/Users/davidharvey/Work/darkCNN/lib/python3.10/site-packages/keras/backend.py:5585: UserWarning: \"`sparse_categorical_crossentropy` received `from_logits=True`, but the `output` argument was produced by a Softmax activation and thus does not represent logits. Was this intended?\n",
      "  output, from_logits = _get_logits(\n"
     ]
    },
    {
     "name": "stdout",
     "output_type": "stream",
     "text": [
      "15/15 [==============================] - 1s 70ms/step - loss: 0.3846 - accuracy: 0.8729\n"
     ]
    },
    {
     "name": "stderr",
     "output_type": "stream",
     "text": [
      " 70%|███████████████████████████████████████████████████                      | 7/10 [01:12<00:31, 10.42s/it]/Users/davidharvey/Work/darkCNN/lib/python3.10/site-packages/keras/backend.py:5585: UserWarning: \"`sparse_categorical_crossentropy` received `from_logits=True`, but the `output` argument was produced by a Softmax activation and thus does not represent logits. Was this intended?\n",
      "  output, from_logits = _get_logits(\n"
     ]
    },
    {
     "name": "stdout",
     "output_type": "stream",
     "text": [
      "15/15 [==============================] - 1s 73ms/step - loss: 0.3199 - accuracy: 0.8938\n"
     ]
    },
    {
     "name": "stderr",
     "output_type": "stream",
     "text": [
      " 80%|██████████████████████████████████████████████████████████▍              | 8/10 [01:22<00:20, 10.25s/it]/Users/davidharvey/Work/darkCNN/lib/python3.10/site-packages/keras/backend.py:5585: UserWarning: \"`sparse_categorical_crossentropy` received `from_logits=True`, but the `output` argument was produced by a Softmax activation and thus does not represent logits. Was this intended?\n",
      "  output, from_logits = _get_logits(\n"
     ]
    },
    {
     "name": "stdout",
     "output_type": "stream",
     "text": [
      "15/15 [==============================] - 1s 71ms/step - loss: 0.2282 - accuracy: 0.9271\n"
     ]
    },
    {
     "name": "stderr",
     "output_type": "stream",
     "text": [
      " 90%|█████████████████████████████████████████████████████████████████▋       | 9/10 [01:33<00:10, 10.54s/it]/Users/davidharvey/Work/darkCNN/lib/python3.10/site-packages/keras/backend.py:5585: UserWarning: \"`sparse_categorical_crossentropy` received `from_logits=True`, but the `output` argument was produced by a Softmax activation and thus does not represent logits. Was this intended?\n",
      "  output, from_logits = _get_logits(\n"
     ]
    },
    {
     "name": "stdout",
     "output_type": "stream",
     "text": [
      "15/15 [==============================] - 1s 69ms/step - loss: 0.2759 - accuracy: 0.9062\n"
     ]
    },
    {
     "name": "stderr",
     "output_type": "stream",
     "text": [
      "100%|████████████████████████████████████████████████████████████████████████| 10/10 [01:43<00:00, 10.39s/it]\n"
     ]
    }
   ],
   "source": [
    "train, test, params = getGenerators_meta(augment_data=True, simulationNames=['CDM','SIDM0.1','SIDM1'], \n",
    "                                                      channels=['total','stellar','xray'], \n",
    "                                                      allDataFile='pickles/binned_data_20.pkl',\n",
    "                                                      return_test_params=True)\n",
    "\n",
    "test_x = test[0][ params['sim'] == 'CDM+baryons'  ]\n",
    "test_y = test[1][ params['sim'] == 'CDM+baryons'  ]\n",
    "\n",
    "\n",
    "fid_accuracy = []\n",
    "\n",
    "for checkpoint_filepath in tqdm(glob(\"models/%s/*\" % model_name)):\n",
    "    model = tf.keras.models.load_model(checkpoint_filepath)\n",
    "    loss, acc = model.evaluate(test_x, test_y, verbose=1)\n",
    "    fid_accuracy.append(acc)"
   ]
  },
  {
   "cell_type": "markdown",
   "id": "53d56bce-a545-4a72-a913-860bf89b33a9",
   "metadata": {
    "tags": []
   },
   "source": [
    "#### Now get the accuracy of the new seed"
   ]
  },
  {
   "cell_type": "code",
   "execution_count": null,
   "id": "139a0ead-d843-409f-bc88-a31acf559a6b",
   "metadata": {
    "tags": []
   },
   "outputs": [],
   "source": [
    "train, test, params = getGenerators_meta(augment_data=True, simulationNames=['CDM'], \n",
    "                                                      channels=['total','stellar','xray'], \n",
    "                                                      allDataFile='pickles/binned_data_20_newseed.pkl',\n",
    "                                                      train_split=0.01, return_test_params=True)\n",
    "\n",
    "accuracy = []\n",
    "\n",
    "for checkpoint_filepath in glob(\"models/%s/*\" % model_name):\n",
    "    model = tf.keras.models.load_model(checkpoint_filepath)\n",
    "    loss, acc = model.evaluate(test[0],test[1])\n",
    "    accuracy.append(acc)"
   ]
  },
  {
   "cell_type": "markdown",
   "id": "5f92f65b-4dfc-41b5-a670-b2b0dc9fc3db",
   "metadata": {},
   "source": [
    "#### Save the two lists"
   ]
  },
  {
   "cell_type": "code",
   "execution_count": 53,
   "id": "dec7ad7d-ec9f-4c09-a2b8-a81f220800e7",
   "metadata": {
    "tags": []
   },
   "outputs": [],
   "source": [
    "filename = 'pickles/newseed.pkl'\n",
    "pkl.dump([fid_accuracy, accuracy], open(filename, 'wb'))"
   ]
  },
  {
   "cell_type": "markdown",
   "id": "930f6e3c-145b-49bb-bef3-2ad45fbafd42",
   "metadata": {},
   "source": [
    "#### Plot"
   ]
  },
  {
   "cell_type": "code",
   "execution_count": 54,
   "id": "32a7f1b0-b8fb-46ff-a9e3-b5db48af3d8d",
   "metadata": {
    "tags": []
   },
   "outputs": [
    {
     "name": "stdout",
     "output_type": "stream",
     "text": [
      "PDFCROP 1.40, 2020/06/06 - Copyright (c) 2002-2020 by Heiko Oberdiek, Oberdiek Package Support Group.\n",
      "==> 1 page written on `../plots/newseed.pdf'.\n",
      "0.9208333492279053 0.8260869383811951\n"
     ]
    },
    {
     "data": {
      "image/png": "[encoded data removed]",
      "text/plain": [
       "<Figure size 500x300 with 1 Axes>"
      ]
     },
     "metadata": {},
     "output_type": "display_data"
    }
   ],
   "source": [
    "filename = 'pickles/newseed.pkl'\n",
    "id_accuracy, accuracy = pkl.load(open(filename, 'rb'))\n",
    "bins = np.linspace(0.7,1.0,10)\n",
    "fig = plt.figure(figsize=(5,3))\n",
    "ax = plt.gca()\n",
    "ax.hist(fid_accuracy,bins=bins, alpha=0.5, density=True, label='Fiducial Seed')\n",
    "ax.hist(accuracy,bins=bins, alpha=0.5, density=True, label='New Seed')\n",
    "ax.legend(loc=2)\n",
    "ax.set_ylabel('Probability Density')\n",
    "ax.set_xlabel('Model Accuracy')\n",
    "plot_file = \"../plots/newseed.pdf\"\n",
    "plt.savefig(plot_file)\n",
    "os.system(\"pdfcrop %s %s\" % (plot_file, plot_file))\n",
    "print(np.median(fid_accuracy), np.median(accuracy))"
   ]
  },
  {
   "cell_type": "code",
   "execution_count": 33,
   "id": "1fdfb77e-e317-49a4-aaca-6711c3559384",
   "metadata": {
    "tags": []
   },
   "outputs": [
    {
     "name": "stdout",
     "output_type": "stream",
     "text": [
      "Found Model\n",
      "Found Model\n",
      "Found Model\n",
      "Found Model\n",
      "Found Model\n",
      "Found Model\n",
      "Found Model\n",
      "Found Model\n",
      "Found Model\n",
      "Found Model\n"
     ]
    }
   ],
   "source": [
    "prob_test_new_seed = [] # A record of the probabilities predicted for seed CDM test set\n",
    "test_name = 'CDM'\n",
    "\n",
    "for checkpoint_filepath in glob('models/%s/*' % model_name):\n",
    "  \n",
    "    model = get_best_model( train, test, model_name=model_name, checkpoint_filepath=checkpoint_filepath)\n",
    "    \n",
    "    \n",
    "    train, test = getGenerators(augment_data=True, simulationNames=[test_name], train_split=0.01, \n",
    "                                                      channels=['total','stellar','xray'], \n",
    "                                                      allDataFile='pickles/binned_data_20_newseed.pkl', random_state=i)\n",
    "    \n",
    "    prob_test_new_seed.append(model.predict( test[0], verbose=0 ))\n",
    "    \n",
    "prob_test_new_seed = np.array(prob_test_new_seed)\n",
    "\n"
   ]
  },
  {
   "cell_type": "code",
   "execution_count": null,
   "id": "8f8dd50a-5659-4c47-814b-67a53c061755",
   "metadata": {
    "tags": []
   },
   "outputs": [],
   "source": [
    "prob_test_new_seed = np.array(prob_test_new_seed)\n"
   ]
  },
  {
   "cell_type": "code",
   "execution_count": null,
   "id": "8d2a64ac-0226-41e3-886d-c15a5355412e",
   "metadata": {
    "tags": []
   },
   "outputs": [],
   "source": [
    "model_name = 'inception'\n",
    "prob_test_diff_bar = [] # A record of the probabilities predicted for seed CDM test set\n",
    "test_name = 'CDM_hi'\n",
    "\n",
    "for checkpoint_filepath in glob('models/%s/*' % model_name):\n",
    "  \n",
    "    model = get_best_model( train, test, model_name=model_name, checkpoint_filepath=checkpoint_filepath)\n",
    "    \n",
    "    \n",
    "    train, test = getGenerators(augment_data=True, simulationNames=[test_name], train_split=0.01, \n",
    "                                                      channels=['total','stellar','xray'], \n",
    "                                                      allDataFile='pickles/binned_data_20.pkl', random_state=i)\n",
    "    \n",
    "    prob_test_diff_bar.append(model.predict( test[0], verbose=0 ))\n",
    "    \n",
    "prob_test_diff_bar = np.array(prob_test_diff_bar)\n",
    "\n"
   ]
  },
  {
   "cell_type": "code",
   "execution_count": null,
   "id": "2c566504-d491-44da-9da5-ea6cc340e846",
   "metadata": {
    "tags": []
   },
   "outputs": [],
   "source": [
    "prob_test_fid = [] # A record of the probabilities predicted for seed CDM test set\n",
    "test_name = 'CDM'\n",
    "\n",
    "for checkpoint_filepath in glob('models/%s/*' % model_name):\n",
    "  \n",
    "    model = get_best_model( train, test, model_name=model_name, checkpoint_filepath=checkpoint_filepath)\n",
    "    \n",
    "    \n",
    "    train, test = getGenerators(augment_data=True, simulationNames=[test_name], train_split=0.01, \n",
    "                                                      channels=['total','stellar','xray'], \n",
    "                                                      allDataFile='pickles/binned_data_20.pkl', random_state=i)\n",
    "    \n",
    "    prob_test_fid.append(model.predict( test[0], verbose=0 ))\n",
    "    \n",
    "prob_test_fid = np.array(prob_test_fid)\n",
    "\n"
   ]
  },
  {
   "cell_type": "code",
   "execution_count": null,
   "id": "117de97b-ae7a-4850-81f4-b3ed08526753",
   "metadata": {
    "tags": []
   },
   "outputs": [],
   "source": [
    "c = ['r','b','g','c','purple']\n",
    "plt.figure(figsize=(4,3))\n",
    "names = ['Fiducial','Different AGN','Different Seed']\n",
    "for i, prob_test in [prob_test_fid, prob_test_diff_bar,prob_test_new_seed]:\n",
    "    prediction = get_predictions_per_subset( prob_test, 10, cross_sections=[0,0.,0.1,1.0], return_weights=False)\n",
    "    ax = plt.gca()\n",
    "\n",
    "    \n",
    "    mean = np.median(prediction)\n",
    "    std = np.std(prediction)#/np.sqrt(len(prediction))\n",
    "    x = np.linspace(-0.1,0.5,1000)\n",
    "    pdf = norm.pdf(x, mean, std)\n",
    "    ax.plot(x, pdf, color=c[i])\n",
    "    if i == 0:\n",
    "        ylims = ax.get_ylim()\n",
    "    ax.plot([mean-std,mean-std],[0,ylims[1]*1.1],'--', color=c[i])\n",
    "    #ax.plot([mean,mean],[0,ylims[1]*1.1],'--', color=c[i])\n",
    "    #ax.plot([mean+std,mean+std],[0,ylims[1]*1.1],'--', color=c[i])\n",
    "    ax.fill_between( x[ (x > mean-std) & (x < mean+std) ], \n",
    "                    np.zeros(len(x[ (x > mean-std) & (x < mean+std) ])),\n",
    "                    pdf[ (x > mean-std) & (x < mean+std) ], color=c[i], alpha=0.1)\n",
    "    ax.plot( [mean-std,mean-std],[0,norm.pdf(mean-std, mean, std)], '-',color=c[i], label=names[i] )\n",
    "    ax.plot( [mean+std,mean+std],[0,norm.pdf(mean+std, mean, std)], '-',color=c[i])\n",
    "\n",
    "#ax.set_ylim(0,12)\n",
    "ax.set_xlim(-0.02,0.1)\n",
    "#ax.set_xscale('log')\n",
    "ylim = ax.get_ylim()\n",
    "#ax.plot([0.1,0.1],[0,ylim[1]*1.1],'k-',label='Blind Truth')\n",
    "#ax.plot([1,1],[0,ylim[1]*1.1],'k-',label='Blind Truth')\n",
    "ax.set_ylim(0,100)\n",
    "ax.legend(loc=1)\n",
    "ax.set_xlabel(r'$\\sigma_{\\rm DM}/m$ [cm$^2$/g]')\n",
    "ax.set_ylabel(r'$p(\\sigma_{\\rm DM}/m)$')\n",
    "\n",
    "plt.savefig(\"../plots/dm_models_different_seed.pdf\")\n"
   ]
  },
  {
   "cell_type": "code",
   "execution_count": null,
   "id": "e4328af2-2596-4671-b3f1-411408a528c4",
   "metadata": {},
   "outputs": [],
   "source": []
  }
 ],
 "metadata": {
  "kernelspec": {
   "display_name": "Python 3 (ipykernel)",
   "language": "python",
   "name": "python3"
  },
  "language_info": {
   "codemirror_mode": {
    "name": "ipython",
    "version": 3
   },
   "file_extension": ".py",
   "mimetype": "text/x-python",
   "name": "python",
   "nbconvert_exporter": "python",
   "pygments_lexer": "ipython3",
   "version": "3.10.9"
  }
 },
 "nbformat": 4,
 "nbformat_minor": 5
}
