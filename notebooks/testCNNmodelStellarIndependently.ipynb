{
 "cells": [
  {
   "cell_type": "code",
   "execution_count": null,
   "metadata": {
    "tags": []
   },
   "outputs": [],
   "source": [
    "%load_ext autoreload\n",
    "%autoreload 2"
   ]
  },
  {
   "cell_type": "code",
   "execution_count": null,
   "metadata": {
    "tags": []
   },
   "outputs": [],
   "source": [
    "from globalVariables import *\n",
    "import simpleCNNwithInception as inceptionCNN\n",
    "import simpleCNN as simpleCNN\n",
    "import simpleCNNwithInceptionRegression as regressor\n",
    "from keras.callbacks import CSVLogger\n",
    "from scipy.ndimage import rotate"
   ]
  },
  {
   "cell_type": "markdown",
   "metadata": {},
   "source": [
    "Objectives\n",
    "----------\n",
    "1. To see if transfer learning the DMO simulations before training on the bayrons improves it\n",
    "\n",
    "Conclusions\n",
    "-----------\n",
    "\n"
   ]
  },
  {
   "cell_type": "markdown",
   "metadata": {},
   "source": [
    "#### 1. Get the fiducial for total and stellar"
   ]
  },
  {
   "cell_type": "code",
   "execution_count": null,
   "metadata": {
    "tags": []
   },
   "outputs": [],
   "source": [
    "fiducial_train_ds, fiducial_test_ds  = get_tf_DataSet(augment_data=True, \n",
    "                                            simulationNames=['CDM','SIDM1'], channels=['total','stellar'])\n",
    "fiducial_model_2_channel = simpleCNN.getModel_ds(fiducial_train_ds.num_classes)\n",
    "epochs=50\n",
    "history = fiducial_model_2_channel.fit(\n",
    "  x=fiducial_train_ds,\n",
    "  validation_data=fiducial_test_ds,\n",
    "  epochs=epochs\n",
    ")"
   ]
  },
  {
   "cell_type": "markdown",
   "metadata": {},
   "source": [
    "#### 2. Get the individual models"
   ]
  },
  {
   "cell_type": "code",
   "execution_count": null,
   "metadata": {
    "tags": []
   },
   "outputs": [],
   "source": [
    "fiducial_train_ds, fiducial_test_ds  = get_tf_DataSet(augment_data=True, \n",
    "                                simulationNames=['CDM','SIDM1'], channels=['total'])\n",
    "total_model = simpleCNN.getModel_ds(fiducial_train_ds.num_classes)\n",
    "epochs=50\n",
    "history = total_model.fit(\n",
    "  x=fiducial_train_ds,\n",
    "  validation_data=fiducial_test_ds,\n",
    "  epochs=epochs\n",
    ")"
   ]
  },
  {
   "cell_type": "code",
   "execution_count": null,
   "metadata": {
    "tags": []
   },
   "outputs": [],
   "source": [
    "fiducial_train_ds, fiducial_test_ds  = get_tf_DataSet(augment_data=True, \n",
    "                                simulationNames=['CDM','SIDM1'], channels=['stellar'])\n",
    "stellar_model = simpleCNN.getModel_ds(fiducial_train_ds.num_classes)\n",
    "epochs=50\n",
    "history = stellar_model.fit(\n",
    "  x=fiducial_train_ds,\n",
    "  validation_data=fiducial_test_ds,\n",
    "  epochs=epochs\n",
    ")"
   ]
  },
  {
   "cell_type": "code",
   "execution_count": 14,
   "metadata": {
    "tags": []
   },
   "outputs": [],
   "source": [
    "cat_1 = stellar_model.output\n",
    "cat_2 = total_model.output\n",
    "concat = tf.keras.layers.Concatenate()([cat_1, cat_2])"
   ]
  },
  {
   "cell_type": "code",
   "execution_count": 17,
   "metadata": {
    "tags": []
   },
   "outputs": [
    {
     "data": {
      "text/plain": [
       "<KerasTensor: shape=(None, 4) dtype=float32 (created by layer 'concatenate_2')>"
      ]
     },
     "execution_count": 17,
     "metadata": {},
     "output_type": "execute_result"
    }
   ],
   "source": [
    "concat"
   ]
  },
  {
   "cell_type": "markdown",
   "metadata": {},
   "source": [
    "#### Results"
   ]
  },
  {
   "cell_type": "code",
   "execution_count": null,
   "metadata": {
    "tags": []
   },
   "outputs": [],
   "source": [
    "plt.figure(figsize=(7,7))\n",
    "\n",
    "models =[fiducial_model, transfer_model, fiducial_model_2_channel, transfer_model_2_channel]\n",
    "names = ['fid','transfer','fid_2','transfer_2']\n",
    "c = ['r','b','g','c','y','k']\n",
    "for i, iModel in enumerate(models):\n",
    "    plt.plot(iModel.history.epoch, iModel.history.history['val_accuracy'], label=names[i], c=c[i])\n",
    "    #plt.plot(iModel.history.epoch, [np.max(iModel.history.history['val_accuracy'])]*len(iModel.history.epoch), c=c[i])\n",
    "\n",
    "plt.legend()"
   ]
  },
  {
   "cell_type": "code",
   "execution_count": null,
   "metadata": {},
   "outputs": [],
   "source": []
  }
 ],
 "metadata": {
  "kernelspec": {
   "display_name": "Python 3 (ipykernel)",
   "language": "python",
   "name": "python3"
  },
  "language_info": {
   "codemirror_mode": {
    "name": "ipython",
    "version": 3
   },
   "file_extension": ".py",
   "mimetype": "text/x-python",
   "name": "python",
   "nbconvert_exporter": "python",
   "pygments_lexer": "ipython3",
   "version": "3.10.9"
  }
 },
 "nbformat": 4,
 "nbformat_minor": 4
}
